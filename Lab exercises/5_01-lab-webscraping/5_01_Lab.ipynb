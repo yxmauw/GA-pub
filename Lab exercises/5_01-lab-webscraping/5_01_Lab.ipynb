{
 "cells": [
  {
   "cell_type": "code",
   "execution_count": 1,
   "metadata": {},
   "outputs": [],
   "source": [
    "# Import libaries\n",
    "from bs4 import BeautifulSoup\n",
    "import requests\n",
    "import pandas as pd\n",
    "import numpy as np"
   ]
  },
  {
   "cell_type": "code",
   "execution_count": 2,
   "metadata": {},
   "outputs": [],
   "source": [
    "# target webpage\n",
    "url = 'https://pages.git.generalassemb.ly/rldaggie/for-scraping/'"
   ]
  },
  {
   "cell_type": "code",
   "execution_count": 3,
   "metadata": {},
   "outputs": [],
   "source": [
    "# Establishing the connection to the web page:\n",
    "response = requests.get(url)"
   ]
  },
  {
   "cell_type": "code",
   "execution_count": 4,
   "metadata": {},
   "outputs": [
    {
     "name": "stdout",
     "output_type": "stream",
     "text": [
      "200\n"
     ]
    }
   ],
   "source": [
    "print(response.status_code)"
   ]
  },
  {
   "cell_type": "code",
   "execution_count": 5,
   "metadata": {},
   "outputs": [],
   "source": [
    "# Pull the HTML string out of requests and convert it to a Python string.\n",
    "html = response.text"
   ]
  },
  {
   "cell_type": "markdown",
   "metadata": {},
   "source": [
    "### Step 1: Create a soup object from the home page"
   ]
  },
  {
   "cell_type": "code",
   "execution_count": 6,
   "metadata": {},
   "outputs": [],
   "source": [
    "soup = BeautifulSoup(html, 'lxml')"
   ]
  },
  {
   "cell_type": "markdown",
   "metadata": {},
   "source": [
    "### Step 2: Scrape the home page soup for every restaurant\n",
    "\n",
    "Note: Your best bet is to create a list of dictionaries, one for each restaurant. Each dictionary contains the restaurant's name and path from the `href`. The result of your scrape should look something like this:\n",
    "\n",
    "```python\n",
    "restaurants = [\n",
    "    {'name': 'A&W Restaurants', 'href': 'restaurants/1.html'}, \n",
    "    {'name': \"Applebee's\", 'href': 'restaurants/2.html'},\n",
    "    ...\n",
    "]\n",
    "```"
   ]
  },
  {
   "cell_type": "code",
   "execution_count": 7,
   "metadata": {},
   "outputs": [
    {
     "data": {
      "text/plain": [
       "[{'name': 'A&W Restaurants', 'href': 'restaurants/1.html'},\n",
       " {'name': \"Applebee's\", 'href': 'restaurants/2.html'},\n",
       " {'name': \"Arby's\", 'href': 'restaurants/3.html'}]"
      ]
     },
     "execution_count": 7,
     "metadata": {},
     "output_type": "execute_result"
    }
   ],
   "source": [
    "# This code collects the restaurant names and urls from homepage\n",
    "\n",
    "# List to store results\n",
    "restaurants = []\n",
    "\n",
    "# Get all the <td>... elements\n",
    "all_td = soup.find_all('td')\n",
    "for element in all_td:\n",
    "    # start a dictionary to store this item's data\n",
    "    result = {}\n",
    "    \n",
    "    # get the title and full url\n",
    "    a_href = element.find('a')\n",
    "    if a_href:\n",
    "        result['name'] = a_href.text   # element text\n",
    "        result['href'] = a_href['href'] # href link\n",
    "        \n",
    "    # only store \"full\" rows of data\n",
    "    if len(result) == 2:\n",
    "        restaurants.append(result)\n",
    "        \n",
    "restaurants[:3]"
   ]
  },
  {
   "cell_type": "markdown",
   "metadata": {},
   "source": [
    "### Step 3: Using the `href`, scrape each restaurant's page and create a single list of food dictionaries.\n",
    "\n",
    "Your list of foods should look something like this:\n",
    "```python\n",
    "foods = [\n",
    "    {\n",
    "        'calories': '0',\n",
    "        'carbs': '0',\n",
    "        'category': 'Drinks',\n",
    "        'fat': '0',\n",
    "        'name': 'A&W® Diet Root Beer',\n",
    "        'restaurant': 'A&W Restaurants'\n",
    "    },\n",
    "    {\n",
    "        'calories': '0',\n",
    "        'carbs': '0',\n",
    "        'category': 'Drinks',\n",
    "        'fat': '0',\n",
    "        'name': 'A&W® Diet Root Beer',\n",
    "        'restaurant': 'A&W Restaurants'\n",
    "    },\n",
    "    ...\n",
    "]\n",
    "```\n",
    "\n",
    "**Note**: Remove extra white space from each category"
   ]
  },
  {
   "cell_type": "code",
   "execution_count": 8,
   "metadata": {},
   "outputs": [],
   "source": [
    "# get the list of full urls to scrape through\n",
    "def restaurant_fulllinks():\n",
    "    new_list = []\n",
    "    for item in restaurants:\n",
    "        each_dict = {}\n",
    "        each_dict['name'] = item['name']\n",
    "        each_dict['href'] = 'https://pages.git.generalassemb.ly/rldaggie/for-scraping/' + item['href']\n",
    "        if len(each_dict) == 2:\n",
    "            new_list.append(each_dict)\n",
    "    return new_list"
   ]
  },
  {
   "cell_type": "code",
   "execution_count": 9,
   "metadata": {},
   "outputs": [],
   "source": [
    "# function for getting a list of each key\n",
    "def each_food(st_range, all_td):\n",
    "    new_list = []\n",
    "    for i in range(st_range, len(all_td), 5):\n",
    "        for name in all_td:\n",
    "            new_list.append(all_td[i].text)\n",
    "            break\n",
    "    return new_list\n",
    "\n",
    "# for 'name', st_range==0\n",
    "# for 'category', st_range==1\n",
    "# for 'calories', st_range==2\n",
    "# for 'fat', st_range==3\n",
    "# for 'carbs', st_range==4"
   ]
  },
  {
   "cell_type": "code",
   "execution_count": 10,
   "metadata": {},
   "outputs": [],
   "source": [
    "# This code collects the info from each restaurant page\n",
    "def get_food():\n",
    "    # List to store results\n",
    "    foods = []\n",
    "    \n",
    "    # loop through each restaurant url\n",
    "    for item in restaurant_fulllinks():\n",
    "        response = requests.get(item['href'])\n",
    "        html = response.text\n",
    "        soup = BeautifulSoup(html, 'lxml')\n",
    "        \n",
    "        # Get all the <td class=\"title\"... elements\n",
    "        all_td = soup.find_all('td')\n",
    "        for i in range(0, len(all_td), 5):\n",
    "        # start a dictionary to store this item's data\n",
    "            result = {} \n",
    "            # build each item dictionary\n",
    "            for a in each_food(i, all_td):\n",
    "                result['name'] = a # 'name': value\n",
    "                break\n",
    "            for b in each_food(i+1, all_td): \n",
    "                result['category'] = b # 'category': value\n",
    "                break\n",
    "            for c in each_food(i+2, all_td): \n",
    "                result['calories'] = c # 'calories': value\n",
    "                break\n",
    "            for d in each_food(i+3, all_td):\n",
    "                result['fat'] = d # 'fat': value\n",
    "                break\n",
    "            for e in each_food(i+4, all_td):\n",
    "                result['carbs'] = e # 'carbs' : value\n",
    "                break\n",
    "            result['restaurant'] = item['name']\n",
    "            # only store \"full\" rows of data\n",
    "            if len(result) == 6:\n",
    "                foods.append(result)\n",
    "            \n",
    "    return foods"
   ]
  },
  {
   "cell_type": "code",
   "execution_count": 11,
   "metadata": {},
   "outputs": [
    {
     "name": "stdout",
     "output_type": "stream",
     "text": [
      "start time: 24/07/2022, 15:03\n",
      "CPU times: total: 6.59 s\n",
      "Wall time: 1min 5s\n"
     ]
    }
   ],
   "source": [
    "%%time\n",
    "import time\n",
    "named_tuple = time.localtime() # get start_time\n",
    "time_string = time.strftime(\"%d/%m/%Y, %H:%M\", named_tuple) # format time print\n",
    "print(f'start time: {time_string}')\n",
    "\n",
    "# initiate function\n",
    "foods = get_food()"
   ]
  },
  {
   "cell_type": "code",
   "execution_count": 12,
   "metadata": {},
   "outputs": [
    {
     "data": {
      "text/plain": [
       "[{'name': 'Original Bacon Double Cheeseburger',\n",
       "  'category': 'Burgers',\n",
       "  'calories': '760',\n",
       "  'fat': '45',\n",
       "  'carbs': '45',\n",
       "  'restaurant': 'A&W Restaurants'},\n",
       " {'name': 'Coney (Chili) Dog',\n",
       "  'category': 'Entrees',\n",
       "  'calories': '340',\n",
       "  'fat': '20',\n",
       "  'carbs': '26',\n",
       "  'restaurant': 'A&W Restaurants'}]"
      ]
     },
     "execution_count": 12,
     "metadata": {},
     "output_type": "execute_result"
    }
   ],
   "source": [
    "foods[:2]"
   ]
  },
  {
   "cell_type": "code",
   "execution_count": 13,
   "metadata": {},
   "outputs": [
    {
     "data": {
      "text/plain": [
       "5131"
      ]
     },
     "execution_count": 13,
     "metadata": {},
     "output_type": "execute_result"
    }
   ],
   "source": [
    "len(foods) # 5131 datapoints"
   ]
  },
  {
   "cell_type": "markdown",
   "metadata": {},
   "source": [
    "### Step 4: Create a pandas DataFrame from your list of foods\n",
    "\n",
    "**Note**: Your DataFrame should have 5,131 rows"
   ]
  },
  {
   "cell_type": "code",
   "execution_count": 14,
   "metadata": {},
   "outputs": [],
   "source": [
    "df = pd.DataFrame(foods) # convert to pandas dataframe"
   ]
  },
  {
   "cell_type": "code",
   "execution_count": 15,
   "metadata": {},
   "outputs": [
    {
     "data": {
      "text/plain": [
       "(5131, 6)"
      ]
     },
     "execution_count": 15,
     "metadata": {},
     "output_type": "execute_result"
    }
   ],
   "source": [
    "df.shape"
   ]
  },
  {
   "cell_type": "code",
   "execution_count": 16,
   "metadata": {},
   "outputs": [
    {
     "data": {
      "text/html": [
       "<div>\n",
       "<style scoped>\n",
       "    .dataframe tbody tr th:only-of-type {\n",
       "        vertical-align: middle;\n",
       "    }\n",
       "\n",
       "    .dataframe tbody tr th {\n",
       "        vertical-align: top;\n",
       "    }\n",
       "\n",
       "    .dataframe thead th {\n",
       "        text-align: right;\n",
       "    }\n",
       "</style>\n",
       "<table border=\"1\" class=\"dataframe\">\n",
       "  <thead>\n",
       "    <tr style=\"text-align: right;\">\n",
       "      <th></th>\n",
       "      <th>name</th>\n",
       "      <th>category</th>\n",
       "      <th>calories</th>\n",
       "      <th>fat</th>\n",
       "      <th>carbs</th>\n",
       "      <th>restaurant</th>\n",
       "    </tr>\n",
       "  </thead>\n",
       "  <tbody>\n",
       "    <tr>\n",
       "      <th>0</th>\n",
       "      <td>Original Bacon Double Cheeseburger</td>\n",
       "      <td>Burgers</td>\n",
       "      <td>760</td>\n",
       "      <td>45</td>\n",
       "      <td>45</td>\n",
       "      <td>A&amp;W Restaurants</td>\n",
       "    </tr>\n",
       "    <tr>\n",
       "      <th>1</th>\n",
       "      <td>Coney (Chili) Dog</td>\n",
       "      <td>Entrees</td>\n",
       "      <td>340</td>\n",
       "      <td>20</td>\n",
       "      <td>26</td>\n",
       "      <td>A&amp;W Restaurants</td>\n",
       "    </tr>\n",
       "    <tr>\n",
       "      <th>2</th>\n",
       "      <td>Chili Fries</td>\n",
       "      <td>French Fries</td>\n",
       "      <td>370</td>\n",
       "      <td>15</td>\n",
       "      <td>49</td>\n",
       "      <td>A&amp;W Restaurants</td>\n",
       "    </tr>\n",
       "  </tbody>\n",
       "</table>\n",
       "</div>"
      ],
      "text/plain": [
       "                                 name      category calories fat carbs  \\\n",
       "0  Original Bacon Double Cheeseburger       Burgers      760  45    45   \n",
       "1                   Coney (Chili) Dog       Entrees      340  20    26   \n",
       "2                         Chili Fries  French Fries      370  15    49   \n",
       "\n",
       "        restaurant  \n",
       "0  A&W Restaurants  \n",
       "1  A&W Restaurants  \n",
       "2  A&W Restaurants  "
      ]
     },
     "execution_count": 16,
     "metadata": {},
     "output_type": "execute_result"
    }
   ],
   "source": [
    "df.head(3)"
   ]
  },
  {
   "cell_type": "markdown",
   "metadata": {},
   "source": [
    "### Step 5: Export to csv\n",
    "\n",
    "**Note:** Don't export the index column from your DataFrame"
   ]
  },
  {
   "cell_type": "code",
   "execution_count": 17,
   "metadata": {},
   "outputs": [],
   "source": [
    "df.to_csv('foods.csv',index=False) "
   ]
  },
  {
   "cell_type": "code",
   "execution_count": null,
   "metadata": {},
   "outputs": [],
   "source": []
  }
 ],
 "metadata": {
  "kernelspec": {
   "display_name": "Python 3 (ipykernel)",
   "language": "python",
   "name": "python3"
  },
  "language_info": {
   "codemirror_mode": {
    "name": "ipython",
    "version": 3
   },
   "file_extension": ".py",
   "mimetype": "text/x-python",
   "name": "python",
   "nbconvert_exporter": "python",
   "pygments_lexer": "ipython3",
   "version": "3.9.12"
  }
 },
 "nbformat": 4,
 "nbformat_minor": 2
}
