{
 "cells": [
  {
   "cell_type": "code",
   "execution_count": 1,
   "id": "90e36b9a",
   "metadata": {},
   "outputs": [],
   "source": [
    "import matplotlib.pyplot as plt\n",
    "import numpy as np\n",
    "import pandas as pd\n",
    "\n",
    "%matplotlib inline"
   ]
  },
  {
   "cell_type": "code",
   "execution_count": 2,
   "id": "9edc0b6b",
   "metadata": {},
   "outputs": [],
   "source": [
    "from nltk.tokenize import RegexpTokenizer\n",
    "from nltk.stem import WordNetLemmatizer\n",
    "from nltk.corpus import stopwords\n",
    "from sklearn.feature_extraction.text import CountVectorizer, TfidfVectorizer\n",
    "from wordcloud import WordCloud\n",
    "import re"
   ]
  },
  {
   "cell_type": "code",
   "execution_count": 7,
   "id": "0c1acac8",
   "metadata": {},
   "outputs": [
    {
     "data": {
      "text/html": [
       "<div>\n",
       "<style scoped>\n",
       "    .dataframe tbody tr th:only-of-type {\n",
       "        vertical-align: middle;\n",
       "    }\n",
       "\n",
       "    .dataframe tbody tr th {\n",
       "        vertical-align: top;\n",
       "    }\n",
       "\n",
       "    .dataframe thead th {\n",
       "        text-align: right;\n",
       "    }\n",
       "</style>\n",
       "<table border=\"1\" class=\"dataframe\">\n",
       "  <thead>\n",
       "    <tr style=\"text-align: right;\">\n",
       "      <th></th>\n",
       "      <th>epoch_time</th>\n",
       "      <th>author</th>\n",
       "      <th>title</th>\n",
       "      <th>post</th>\n",
       "      <th>subreddit</th>\n",
       "      <th>full_post</th>\n",
       "    </tr>\n",
       "  </thead>\n",
       "  <tbody>\n",
       "    <tr>\n",
       "      <th>0</th>\n",
       "      <td>1657980098</td>\n",
       "      <td>DarkUpquark</td>\n",
       "      <td>Watched \"Helstrom\" on hulu</td>\n",
       "      <td>Missed that it actually made it to air in 2020...</td>\n",
       "      <td>1</td>\n",
       "      <td>Watched \"Helstrom\" on hulu Missed that it actu...</td>\n",
       "    </tr>\n",
       "    <tr>\n",
       "      <th>1</th>\n",
       "      <td>1657974418</td>\n",
       "      <td>CEO_of_Redd1t</td>\n",
       "      <td>Explaining why the MCU is Earth-616 now in the...</td>\n",
       "      <td>So there's been a lot of discussion lately abo...</td>\n",
       "      <td>1</td>\n",
       "      <td>Explaining why the MCU is Earth-616 now in the...</td>\n",
       "    </tr>\n",
       "    <tr>\n",
       "      <th>2</th>\n",
       "      <td>1657963597</td>\n",
       "      <td>Short-Step-6704</td>\n",
       "      <td>what should i watch first?</td>\n",
       "      <td>Guys i've never seen any movie from marvel.. s...</td>\n",
       "      <td>1</td>\n",
       "      <td>what should i watch first? Guys i've never see...</td>\n",
       "    </tr>\n",
       "  </tbody>\n",
       "</table>\n",
       "</div>"
      ],
      "text/plain": [
       "   epoch_time           author  \\\n",
       "0  1657980098      DarkUpquark   \n",
       "1  1657974418    CEO_of_Redd1t   \n",
       "2  1657963597  Short-Step-6704   \n",
       "\n",
       "                                               title  \\\n",
       "0                         Watched \"Helstrom\" on hulu   \n",
       "1  Explaining why the MCU is Earth-616 now in the...   \n",
       "2                         what should i watch first?   \n",
       "\n",
       "                                                post  subreddit  \\\n",
       "0  Missed that it actually made it to air in 2020...          1   \n",
       "1  So there's been a lot of discussion lately abo...          1   \n",
       "2  Guys i've never seen any movie from marvel.. s...          1   \n",
       "\n",
       "                                           full_post  \n",
       "0  Watched \"Helstrom\" on hulu Missed that it actu...  \n",
       "1  Explaining why the MCU is Earth-616 now in the...  \n",
       "2  what should i watch first? Guys i've never see...  "
      ]
     },
     "execution_count": 7,
     "metadata": {},
     "output_type": "execute_result"
    }
   ],
   "source": [
    "df = pd.read_csv('./data/tts.csv')\n",
    "df.head(3)"
   ]
  },
  {
   "cell_type": "code",
   "execution_count": 4,
   "id": "5979041d",
   "metadata": {},
   "outputs": [],
   "source": [
    "def lemmatize_join(text):\n",
    "    tokenizer = RegexpTokenizer('[a-z]+', gaps=False) # instantiate tokenizer\n",
    "    lemmer = WordNetLemmatizer() # instantiate lemmatizer\n",
    "    return ' '.join([lemmer.lemmatize(w) for w in tokenizer.tokenize(text.lower())]) "
   ]
  },
  {
   "cell_type": "code",
   "execution_count": 8,
   "id": "3771c004",
   "metadata": {},
   "outputs": [],
   "source": [
    "df_lem = df['full_post'].apply(lemmatize_join)"
   ]
  },
  {
   "cell_type": "code",
   "execution_count": 9,
   "id": "323a5717",
   "metadata": {},
   "outputs": [],
   "source": [
    "# instantiate word vectorizer\n",
    "cvec = CountVectorizer(lowercase=False, \n",
    "                       max_df=0.6, \n",
    "                       max_features=1000,\n",
    "                       min_df=3,\n",
    "                       ngram_range=(1,2),\n",
    "                       stop_words='english',\n",
    "                       strip_accents='unicode')"
   ]
  },
  {
   "cell_type": "code",
   "execution_count": 10,
   "id": "2a053dc3",
   "metadata": {},
   "outputs": [],
   "source": [
    "# Fit our CountVectorizer on the training data and transform training data.\n",
    "df_cvec = pd.DataFrame(cvec.fit_transform(df_lem).todense(),\n",
    "                           columns=cvec.get_feature_names_out())"
   ]
  },
  {
   "cell_type": "code",
   "execution_count": 11,
   "id": "20fcd832",
   "metadata": {},
   "outputs": [
    {
     "data": {
      "text/plain": [
       "[11, 12, 13, 14, 22, 30, 59, 66, 94, 100]"
      ]
     },
     "execution_count": 11,
     "metadata": {},
     "output_type": "execute_result"
    }
   ],
   "source": [
    "df.index[df_cvec['amp']==1].tolist()[:10] # get first 10 indices with `propname`"
   ]
  },
  {
   "cell_type": "code",
   "execution_count": 13,
   "id": "9caabcaa",
   "metadata": {},
   "outputs": [],
   "source": [
    "pd.options.display.max_colwidth=100 # expand display column width"
   ]
  },
  {
   "cell_type": "code",
   "execution_count": 14,
   "id": "3b4182a9",
   "metadata": {},
   "outputs": [
    {
     "data": {
      "text/html": [
       "<div>\n",
       "<style scoped>\n",
       "    .dataframe tbody tr th:only-of-type {\n",
       "        vertical-align: middle;\n",
       "    }\n",
       "\n",
       "    .dataframe tbody tr th {\n",
       "        vertical-align: top;\n",
       "    }\n",
       "\n",
       "    .dataframe thead th {\n",
       "        text-align: right;\n",
       "    }\n",
       "</style>\n",
       "<table border=\"1\" class=\"dataframe\">\n",
       "  <thead>\n",
       "    <tr style=\"text-align: right;\">\n",
       "      <th></th>\n",
       "      <th>full_post</th>\n",
       "    </tr>\n",
       "  </thead>\n",
       "  <tbody>\n",
       "    <tr>\n",
       "      <th>11</th>\n",
       "      <td>X-Men comics Hello everyone,\\n\\nSo after many years without reading X-Men comics I want to jump ...</td>\n",
       "    </tr>\n",
       "    <tr>\n",
       "      <th>12</th>\n",
       "      <td>Does owning &amp;amp; controlling all 6 infinity stones make you nigh-omnipotent? What other limitat...</td>\n",
       "    </tr>\n",
       "    <tr>\n",
       "      <th>13</th>\n",
       "      <td>DK Ebooks So there are several DK Marvel ebooks on sale for $1.99 each.\\nWhich ones are necessar...</td>\n",
       "    </tr>\n",
       "    <tr>\n",
       "      <th>14</th>\n",
       "      <td>Trying to get into the current X-Men runs (comics) where do I start? I want to start reading the...</td>\n",
       "    </tr>\n",
       "    <tr>\n",
       "      <th>22</th>\n",
       "      <td>MCU heroes ranked by wealth I will forget a few, and I'm assuming Endgame doesn't give someone p...</td>\n",
       "    </tr>\n",
       "    <tr>\n",
       "      <th>30</th>\n",
       "      <td>Is Dottie actually Emma Frost? After the Ms.Marvel reveal, I started thinking about some of the ...</td>\n",
       "    </tr>\n",
       "    <tr>\n",
       "      <th>59</th>\n",
       "      <td>(Thor Spoilers)A slight change to the ending of Love &amp;amp; Thunder…. So I didn’t love the movie ...</td>\n",
       "    </tr>\n",
       "    <tr>\n",
       "      <th>66</th>\n",
       "      <td>I have a unpopular opinion about Hulk that should be common knowledge. I’m tired of hearing this...</td>\n",
       "    </tr>\n",
       "    <tr>\n",
       "      <th>94</th>\n",
       "      <td>Is Thor as Comedic in the comics as he is in the MCU? After watching Thor: Love &amp;amp; Thunder, w...</td>\n",
       "    </tr>\n",
       "    <tr>\n",
       "      <th>100</th>\n",
       "      <td>[SPOILER] The Marvel Cinematic Universe Just Introduced [SPOILERS] https://www.ign.com/articles/...</td>\n",
       "    </tr>\n",
       "  </tbody>\n",
       "</table>\n",
       "</div>"
      ],
      "text/plain": [
       "                                                                                               full_post\n",
       "11   X-Men comics Hello everyone,\\n\\nSo after many years without reading X-Men comics I want to jump ...\n",
       "12   Does owning &amp; controlling all 6 infinity stones make you nigh-omnipotent? What other limitat...\n",
       "13   DK Ebooks So there are several DK Marvel ebooks on sale for $1.99 each.\\nWhich ones are necessar...\n",
       "14   Trying to get into the current X-Men runs (comics) where do I start? I want to start reading the...\n",
       "22   MCU heroes ranked by wealth I will forget a few, and I'm assuming Endgame doesn't give someone p...\n",
       "30   Is Dottie actually Emma Frost? After the Ms.Marvel reveal, I started thinking about some of the ...\n",
       "59   (Thor Spoilers)A slight change to the ending of Love &amp; Thunder…. So I didn’t love the movie ...\n",
       "66   I have a unpopular opinion about Hulk that should be common knowledge. I’m tired of hearing this...\n",
       "94   Is Thor as Comedic in the comics as he is in the MCU? After watching Thor: Love &amp; Thunder, w...\n",
       "100  [SPOILER] The Marvel Cinematic Universe Just Introduced [SPOILERS] https://www.ign.com/articles/..."
      ]
     },
     "execution_count": 14,
     "metadata": {},
     "output_type": "execute_result"
    }
   ],
   "source": [
    "# show the first 10 statuses in dataframe\n",
    "df.iloc[df.index[df_cvec['amp']==1].tolist()[:10]][['full_post']] "
   ]
  },
  {
   "cell_type": "markdown",
   "id": "39277208",
   "metadata": {},
   "source": [
    "&amp is the HTML code behind the symbol & (an ampersand)"
   ]
  },
  {
   "cell_type": "code",
   "execution_count": null,
   "id": "9ffa312c",
   "metadata": {},
   "outputs": [],
   "source": []
  }
 ],
 "metadata": {
  "kernelspec": {
   "display_name": "Python 3 (ipykernel)",
   "language": "python",
   "name": "python3"
  },
  "language_info": {
   "codemirror_mode": {
    "name": "ipython",
    "version": 3
   },
   "file_extension": ".py",
   "mimetype": "text/x-python",
   "name": "python",
   "nbconvert_exporter": "python",
   "pygments_lexer": "ipython3",
   "version": "3.9.12"
  }
 },
 "nbformat": 4,
 "nbformat_minor": 5
}
