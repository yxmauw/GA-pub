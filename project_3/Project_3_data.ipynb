{
 "cells": [
  {
   "cell_type": "markdown",
   "metadata": {},
   "source": [
    "<img src=\"http://imgur.com/1ZcRyrc.png\" style=\"float: left; margin: 20px; height: 55px\">\n",
    "\n",
    "# Project 3: NLP subreddit post classifier (datascrape)"
   ]
  },
  {
   "cell_type": "markdown",
   "metadata": {},
   "source": [
    "## Problem Statement:"
   ]
  },
  {
   "cell_type": "markdown",
   "metadata": {},
   "source": [
    "For this project, I wish to train a Natural Language Processing classifier to help differentiate reddit posts between [`Marvel`](https://www.reddit.com/r/Marvel/) and [`DCcomics`](https://www.reddit.com/r/DCcomics/) subreddits. This is a binary classification problem. <br><br>\n",
    "First, I plan to preview a post from each subreddit, so that I can shortlist which fields would be common between both subreddits, and which fields have differentiating information."
   ]
  },
  {
   "cell_type": "markdown",
   "metadata": {},
   "source": [
    "### Contents:\n",
    "* [Preview `Marvel`](#Preview-Marvel-subreddit-post:)\n",
    "* [Preview `DCcomics`](#Preview-DCcomics-subreddit-post:)\n",
    "* [Time format conversion](#Convert-human-readable-time-to-epoch-time:)\n",
    "* [`Marvel` data](#Marvel-data:)<br>[data cleaning](#Check-for-null-values:)\n",
    "* [`DCcomics` data](#DCcomics-data:)<br>[data cleaning](#Check-for-null-values:)\n",
    "* [Combined data](#Combined-data)"
   ]
  },
  {
   "cell_type": "markdown",
   "metadata": {},
   "source": [
    "### Datasets:\n",
    "1. [`marvel.csv`](./data/marvel.csv)\n",
    "1. [`DCcomics.csv`](./data/DCcomics.csv)"
   ]
  },
  {
   "cell_type": "markdown",
   "metadata": {},
   "source": [
    "##### Guide from [Primer Video](https://www.youtube.com/watch?v=AcrjEWsMi_E)"
   ]
  },
  {
   "cell_type": "code",
   "execution_count": 1,
   "metadata": {},
   "outputs": [],
   "source": [
    "import requests\n",
    "\n",
    "import pandas as pd\n",
    "import requests\n",
    "import urllib\n",
    "import time\n",
    "import json\n",
    "from datetime import datetime\n",
    "\n",
    "import re\n",
    "import numpy as np"
   ]
  },
  {
   "cell_type": "markdown",
   "metadata": {},
   "source": [
    "##### Instantiate [PushShift API](https://github.com/pushshift/api)"
   ]
  },
  {
   "cell_type": "code",
   "execution_count": 2,
   "metadata": {},
   "outputs": [],
   "source": [
    "url = 'https://api.pushshift.io/reddit/search/submission'"
   ]
  },
  {
   "cell_type": "markdown",
   "metadata": {},
   "source": [
    "##### Preview `Marvel` subreddit post: "
   ]
  },
  {
   "cell_type": "code",
   "execution_count": 3,
   "metadata": {},
   "outputs": [],
   "source": [
    "# set parameters for Pushshift API url\n",
    "params = {\n",
    "    'subreddit':'marvel',\n",
    "    'size':10 # the API limits maximum 100 posts for each pull\n",
    "}"
   ]
  },
  {
   "cell_type": "code",
   "execution_count": 4,
   "metadata": {},
   "outputs": [],
   "source": [
    "# get response content\n",
    "res = requests.get(url, params)"
   ]
  },
  {
   "cell_type": "code",
   "execution_count": 5,
   "metadata": {},
   "outputs": [
    {
     "data": {
      "text/plain": [
       "200"
      ]
     },
     "execution_count": 5,
     "metadata": {},
     "output_type": "execute_result"
    }
   ],
   "source": [
    "# check if the url is working properly\n",
    "res.status_code"
   ]
  },
  {
   "cell_type": "code",
   "execution_count": 6,
   "metadata": {},
   "outputs": [],
   "source": [
    "# json decoding of data from url\n",
    "data = res.json()"
   ]
  },
  {
   "cell_type": "code",
   "execution_count": 7,
   "metadata": {},
   "outputs": [],
   "source": [
    "# isolate the key 'data' from all the data in the url\n",
    "posts = data['data']"
   ]
  },
  {
   "cell_type": "code",
   "execution_count": 8,
   "metadata": {},
   "outputs": [
    {
     "data": {
      "text/plain": [
       "{'all_awardings': [],\n",
       " 'allow_live_comments': False,\n",
       " 'author': 'Commercial-Mix-2633',\n",
       " 'author_flair_css_class': None,\n",
       " 'author_flair_richtext': [],\n",
       " 'author_flair_text': None,\n",
       " 'author_flair_type': 'text',\n",
       " 'author_fullname': 't2_lw6ivc8b',\n",
       " 'author_is_blocked': False,\n",
       " 'author_patreon_flair': False,\n",
       " 'author_premium': False,\n",
       " 'awarders': [],\n",
       " 'can_mod_post': False,\n",
       " 'contest_mode': False,\n",
       " 'created_utc': 1658198244,\n",
       " 'domain': 'i.redd.it',\n",
       " 'full_link': 'https://www.reddit.com/r/Marvel/comments/w2hh67/what_would_your_lineup_for_the_midnight_sons_be/',\n",
       " 'gildings': {},\n",
       " 'id': 'w2hh67',\n",
       " 'is_created_from_ads_ui': False,\n",
       " 'is_crosspostable': True,\n",
       " 'is_meta': False,\n",
       " 'is_original_content': False,\n",
       " 'is_reddit_media_domain': True,\n",
       " 'is_robot_indexable': True,\n",
       " 'is_self': False,\n",
       " 'is_video': False,\n",
       " 'link_flair_background_color': '#cc3600',\n",
       " 'link_flair_css_class': 'comics',\n",
       " 'link_flair_richtext': [{'e': 'text', 't': 'Comics '}],\n",
       " 'link_flair_template_id': '4cd2464c-0af9-11e4-adf3-12313b0e95bd',\n",
       " 'link_flair_text': 'Comics ',\n",
       " 'link_flair_text_color': 'light',\n",
       " 'link_flair_type': 'richtext',\n",
       " 'locked': False,\n",
       " 'media_only': False,\n",
       " 'no_follow': True,\n",
       " 'num_comments': 0,\n",
       " 'num_crossposts': 0,\n",
       " 'over_18': False,\n",
       " 'parent_whitelist_status': 'all_ads',\n",
       " 'permalink': '/r/Marvel/comments/w2hh67/what_would_your_lineup_for_the_midnight_sons_be/',\n",
       " 'pinned': False,\n",
       " 'post_hint': 'image',\n",
       " 'preview': {'enabled': True,\n",
       "  'images': [{'id': 'rj_FmKxxlyk_6gYouU4BVaLmqJAVQD28cBQW4qgM2vM',\n",
       "    'resolutions': [{'height': 165,\n",
       "      'url': 'https://preview.redd.it/4dydz5v5tfc91.jpg?width=108&amp;crop=smart&amp;auto=webp&amp;s=9a7cc31a1c3b24792557bc0dcb46624582c19d2d',\n",
       "      'width': 108},\n",
       "     {'height': 330,\n",
       "      'url': 'https://preview.redd.it/4dydz5v5tfc91.jpg?width=216&amp;crop=smart&amp;auto=webp&amp;s=b0b8fb66b6a99beef3f5766e50dee750c0360622',\n",
       "      'width': 216},\n",
       "     {'height': 489,\n",
       "      'url': 'https://preview.redd.it/4dydz5v5tfc91.jpg?width=320&amp;crop=smart&amp;auto=webp&amp;s=3163c334c77628c63d56c173fbea74704c4f36e2',\n",
       "      'width': 320},\n",
       "     {'height': 979,\n",
       "      'url': 'https://preview.redd.it/4dydz5v5tfc91.jpg?width=640&amp;crop=smart&amp;auto=webp&amp;s=f9898857c75809a24d6646be0e0cfb250928eeae',\n",
       "      'width': 640}],\n",
       "    'source': {'height': 1200,\n",
       "     'url': 'https://preview.redd.it/4dydz5v5tfc91.jpg?auto=webp&amp;s=2ded83ad9ea4ec05e628f9bb3c02636adaa83335',\n",
       "     'width': 784},\n",
       "    'variants': {}}]},\n",
       " 'pwls': 6,\n",
       " 'retrieved_on': 1658198254,\n",
       " 'score': 1,\n",
       " 'selftext': '',\n",
       " 'send_replies': True,\n",
       " 'spoiler': False,\n",
       " 'stickied': False,\n",
       " 'subreddit': 'Marvel',\n",
       " 'subreddit_id': 't5_2r40o',\n",
       " 'subreddit_subscribers': 1794867,\n",
       " 'subreddit_type': 'public',\n",
       " 'thumbnail': 'https://b.thumbs.redditmedia.com/CiLNQj89_T-qiSodjsBmVm-ddy0wkOJKQTwFyFlUQ_E.jpg',\n",
       " 'thumbnail_height': 140,\n",
       " 'thumbnail_width': 140,\n",
       " 'title': 'What would your lineup for The Midnight Sons be?',\n",
       " 'total_awards_received': 0,\n",
       " 'treatment_tags': [],\n",
       " 'upvote_ratio': 1.0,\n",
       " 'url': 'https://i.redd.it/4dydz5v5tfc91.jpg',\n",
       " 'url_overridden_by_dest': 'https://i.redd.it/4dydz5v5tfc91.jpg',\n",
       " 'whitelist_status': 'all_ads',\n",
       " 'wls': 6}"
      ]
     },
     "execution_count": 8,
     "metadata": {},
     "output_type": "execute_result"
    }
   ],
   "source": [
    "# to see what column is important to help with the project\n",
    "posts[0]"
   ]
  },
  {
   "cell_type": "markdown",
   "metadata": {},
   "source": [
    "##### Preview `DCcomics` subreddit post: "
   ]
  },
  {
   "cell_type": "code",
   "execution_count": 9,
   "metadata": {},
   "outputs": [],
   "source": [
    "# define parameters for PushShift API\n",
    "params = {\n",
    "    'subreddit':'DCcomics',\n",
    "    'size':10 # the API limits maximum 100 posts for each pull\n",
    "}"
   ]
  },
  {
   "cell_type": "code",
   "execution_count": 10,
   "metadata": {},
   "outputs": [],
   "source": [
    "# get response\n",
    "res = requests.get(url, params)"
   ]
  },
  {
   "cell_type": "code",
   "execution_count": 11,
   "metadata": {},
   "outputs": [
    {
     "data": {
      "text/plain": [
       "200"
      ]
     },
     "execution_count": 11,
     "metadata": {},
     "output_type": "execute_result"
    }
   ],
   "source": [
    "# check if the url is working properly\n",
    "res.status_code"
   ]
  },
  {
   "cell_type": "code",
   "execution_count": 12,
   "metadata": {},
   "outputs": [],
   "source": [
    "# json decoding of data from url\n",
    "data = res.json()"
   ]
  },
  {
   "cell_type": "code",
   "execution_count": 13,
   "metadata": {},
   "outputs": [],
   "source": [
    "# isolate the key 'data' from all the data in the url\n",
    "posts = data['data']"
   ]
  },
  {
   "cell_type": "code",
   "execution_count": 14,
   "metadata": {},
   "outputs": [
    {
     "data": {
      "text/plain": [
       "{'all_awardings': [],\n",
       " 'allow_live_comments': False,\n",
       " 'author': 'AbelofAurelia',\n",
       " 'author_flair_background_color': '#59ac44',\n",
       " 'author_flair_css_class': None,\n",
       " 'author_flair_richtext': [{'e': 'text', 't': 'Harlivy '},\n",
       "  {'a': ':HarleyQuinn:',\n",
       "   'e': 'emoji',\n",
       "   'u': 'https://emoji.redditmedia.com/2erwj7e9j9x21_t5_2qlmm/HarleyQuinn'}],\n",
       " 'author_flair_template_id': 'e01b2748-a7e3-11e9-96bd-0e55bf9e0bee',\n",
       " 'author_flair_text': 'Harlivy :HarleyQuinn:',\n",
       " 'author_flair_text_color': 'dark',\n",
       " 'author_flair_type': 'richtext',\n",
       " 'author_fullname': 't2_bgmm7scu',\n",
       " 'author_is_blocked': False,\n",
       " 'author_patreon_flair': False,\n",
       " 'author_premium': False,\n",
       " 'awarders': [],\n",
       " 'can_mod_post': False,\n",
       " 'contest_mode': False,\n",
       " 'created_utc': 1658199408,\n",
       " 'domain': 'i.redd.it',\n",
       " 'full_link': 'https://www.reddit.com/r/DCcomics/comments/w2hvin/reminder_this_is_not_the_real_batman_spoiler_dark/',\n",
       " 'gildings': {},\n",
       " 'id': 'w2hvin',\n",
       " 'is_created_from_ads_ui': False,\n",
       " 'is_crosspostable': False,\n",
       " 'is_meta': False,\n",
       " 'is_original_content': False,\n",
       " 'is_reddit_media_domain': True,\n",
       " 'is_robot_indexable': False,\n",
       " 'is_self': False,\n",
       " 'is_video': False,\n",
       " 'link_flair_background_color': '#965ba5',\n",
       " 'link_flair_richtext': [{'e': 'text', 't': 'Comics'}],\n",
       " 'link_flair_template_id': 'e5aca02e-07a8-11e3-838a-12313d21c6e5',\n",
       " 'link_flair_text': 'Comics',\n",
       " 'link_flair_text_color': 'light',\n",
       " 'link_flair_type': 'richtext',\n",
       " 'locked': False,\n",
       " 'media_only': False,\n",
       " 'no_follow': True,\n",
       " 'num_comments': 1,\n",
       " 'num_crossposts': 0,\n",
       " 'over_18': False,\n",
       " 'parent_whitelist_status': 'all_ads',\n",
       " 'permalink': '/r/DCcomics/comments/w2hvin/reminder_this_is_not_the_real_batman_spoiler_dark/',\n",
       " 'pinned': False,\n",
       " 'post_hint': 'image',\n",
       " 'preview': {'enabled': True,\n",
       "  'images': [{'id': 'zR_V-a6EnOEA4-NX2I2lBMbSM65dbKO5-s9a5K7dKOc',\n",
       "    'resolutions': [{'height': 100,\n",
       "      'url': 'https://preview.redd.it/pyrnwcynwfc91.jpg?width=108&amp;crop=smart&amp;auto=webp&amp;s=a44e27dbce417fb2a31c428accc037e2840b11dd',\n",
       "      'width': 108},\n",
       "     {'height': 201,\n",
       "      'url': 'https://preview.redd.it/pyrnwcynwfc91.jpg?width=216&amp;crop=smart&amp;auto=webp&amp;s=c22198c912d1f7d443042441fc56726da271cff6',\n",
       "      'width': 216},\n",
       "     {'height': 298,\n",
       "      'url': 'https://preview.redd.it/pyrnwcynwfc91.jpg?width=320&amp;crop=smart&amp;auto=webp&amp;s=9c1bf01f478b52cbf72c4f5ac5ccee7f33713853',\n",
       "      'width': 320},\n",
       "     {'height': 596,\n",
       "      'url': 'https://preview.redd.it/pyrnwcynwfc91.jpg?width=640&amp;crop=smart&amp;auto=webp&amp;s=f82eebc6e8799377c9dd61ceb68fb3c83fedf1d5',\n",
       "      'width': 640}],\n",
       "    'source': {'height': 699,\n",
       "     'url': 'https://preview.redd.it/pyrnwcynwfc91.jpg?auto=webp&amp;s=f280cb8a7050781f5a0a2a2356d1c402ba160f34',\n",
       "     'width': 750},\n",
       "    'variants': {'obfuscated': {'resolutions': [{'height': 100,\n",
       "        'url': 'https://preview.redd.it/pyrnwcynwfc91.jpg?width=108&amp;crop=smart&amp;blur=10&amp;format=pjpg&amp;auto=webp&amp;s=fa48f0cb33959537bf9abdc01a15ff2cd0718542',\n",
       "        'width': 108},\n",
       "       {'height': 201,\n",
       "        'url': 'https://preview.redd.it/pyrnwcynwfc91.jpg?width=216&amp;crop=smart&amp;blur=21&amp;format=pjpg&amp;auto=webp&amp;s=e907132ea984206964d8275c51bf6692e335e834',\n",
       "        'width': 216},\n",
       "       {'height': 298,\n",
       "        'url': 'https://preview.redd.it/pyrnwcynwfc91.jpg?width=320&amp;crop=smart&amp;blur=32&amp;format=pjpg&amp;auto=webp&amp;s=080476a9ff6f38db750cc899ea29db0840d4ef50',\n",
       "        'width': 320},\n",
       "       {'height': 596,\n",
       "        'url': 'https://preview.redd.it/pyrnwcynwfc91.jpg?width=640&amp;crop=smart&amp;blur=40&amp;format=pjpg&amp;auto=webp&amp;s=50df1d7a51aa8583b74ec91254795e372fd00463',\n",
       "        'width': 640}],\n",
       "      'source': {'height': 699,\n",
       "       'url': 'https://preview.redd.it/pyrnwcynwfc91.jpg?blur=40&amp;format=pjpg&amp;auto=webp&amp;s=622d3a888fc68c8a8e7d53f44acf2c1080454faa',\n",
       "       'width': 750}}}}]},\n",
       " 'pwls': 6,\n",
       " 'removed_by_category': 'moderator',\n",
       " 'retrieved_on': 1658199418,\n",
       " 'score': 1,\n",
       " 'selftext': '',\n",
       " 'send_replies': True,\n",
       " 'spoiler': True,\n",
       " 'stickied': False,\n",
       " 'subreddit': 'DCcomics',\n",
       " 'subreddit_id': 't5_2qlmm',\n",
       " 'subreddit_subscribers': 731553,\n",
       " 'subreddit_type': 'public',\n",
       " 'thumbnail': 'spoiler',\n",
       " 'thumbnail_height': 130,\n",
       " 'thumbnail_width': 140,\n",
       " 'title': 'Reminder: This is Not the Real Batman [Spoiler: Dark Crisis Young Justice #2]',\n",
       " 'total_awards_received': 0,\n",
       " 'treatment_tags': [],\n",
       " 'upvote_ratio': 1.0,\n",
       " 'url': 'https://i.redd.it/pyrnwcynwfc91.jpg',\n",
       " 'url_overridden_by_dest': 'https://i.redd.it/pyrnwcynwfc91.jpg',\n",
       " 'whitelist_status': 'all_ads',\n",
       " 'wls': 6}"
      ]
     },
     "execution_count": 14,
     "metadata": {},
     "output_type": "execute_result"
    }
   ],
   "source": [
    "# to see what column is important to help with the project\n",
    "posts[0]"
   ]
  },
  {
   "cell_type": "raw",
   "metadata": {},
   "source": [
    "# aim 1000 posts for each subreddit\n",
    "# when finalised data pull, to format into dataframe\n",
    "len(posts)\n",
    "df = pd.DataFrame(posts)\n",
    "df.head(3)"
   ]
  },
  {
   "cell_type": "markdown",
   "metadata": {},
   "source": [
    "##### Convert human readable time to epoch time:\n",
    "\n",
    "* [Reference](https://www.javatpoint.com/python-epoch-to-datetime) "
   ]
  },
  {
   "cell_type": "code",
   "execution_count": 15,
   "metadata": {},
   "outputs": [
    {
     "name": "stdout",
     "output_type": "stream",
     "text": [
      "epoch time: 1650124800.0\n",
      "present time: 1657987200.0\n"
     ]
    }
   ],
   "source": [
    "# to get the date I want as min_time\n",
    "# using the strptime() function  \n",
    "obj_1 = datetime.strptime( '17-4-2022 00:00:00', '%d-%m-%Y %H:%M:%S')   \n",
    "# realised I need to fix my max_time to get reproducible results\n",
    "obj_2 = datetime.strptime( '17-7-2022 00:00:00', '%d-%m-%Y %H:%M:%S')    \n",
    "epoch_time = obj_1.timestamp() \n",
    "now_time = obj_2.timestamp()\n",
    "print(\"epoch time:\", epoch_time)  \n",
    "print('present time:', now_time)"
   ]
  },
  {
   "cell_type": "markdown",
   "metadata": {},
   "source": [
    "#### Function to loop PushShift API to get 1000 posts in a single run:\n",
    "\n",
    "__References:__\n",
    "1. [Watchful1](https://github.com/Watchful1/Sketchpad/blob/master/postDownloader.py)\n",
    "1. [StackOverFlow](https://stackoverflow.com/questions/66783488/code-efficiency-performance-improvement-in-pushshift-reddit-web-scraping-loop)"
   ]
  },
  {
   "cell_type": "markdown",
   "metadata": {},
   "source": [
    "On my previous pulls, there were `[deleted]` and `np.nan` values under `author` and `post` features. They seem to signify deleted entries. So I edited the function below to remove these datapoints during data extraction."
   ]
  },
  {
   "cell_type": "code",
   "execution_count": 16,
   "metadata": {},
   "outputs": [],
   "source": [
    "def get_data(object_type='submission', subreddit='', max_time=None, min_time=epoch_time):\n",
    "    # start from current time if not specified\n",
    "    if max_time is None:\n",
    "        max_time = int(now_time)\n",
    "\n",
    "    # generate filter string\n",
    "    if subreddit != '': \n",
    "        filter_string = f\"subreddit={subreddit}\"\n",
    "        \n",
    "    url_format = \"https://api.pushshift.io/reddit/search/{}/?size=100&sort=desc&{}&before={}\"\n",
    "\n",
    "    before = max_time\n",
    "    df = pd.DataFrame()\n",
    "    \n",
    "    while before > min_time:\n",
    "        url = url_format.format(object_type, filter_string, before)\n",
    "        resp = requests.get(url)\n",
    "\n",
    "        # convert records to flat table format\n",
    "        dfi = pd.json_normalize(json.loads(resp.text)['data'])\n",
    "        \n",
    "        if object_type == 'submission':\n",
    "            dfi = dfi.rename(columns={'created_utc': 'epoch_time', \n",
    "                                      'selftext': 'post'})\n",
    "            dfi = dfi[dfi['post'].ne('')] # excludes blank posts\n",
    "            df = pd.concat([df, dfi[['epoch_time','author','title','post','subreddit']]])\n",
    "            # To exclude posts that have been removed by moderator\n",
    "            # preliminary data cleaning\n",
    "            df_no_removed = df.loc[(df['post']!='[removed]')&\n",
    "                                   (df['author']!='[deleted]')&\n",
    "                                   (df['post'].notna()), :]\n",
    "            # To extract around 1000 posts to reduce loading time\n",
    "            if len(df_no_removed) > 1000:\n",
    "                break\n",
    "        \n",
    "        # so that not fetch duplicates\n",
    "        # reset `before` to the earliest comment/post in the results\n",
    "        # next time we call requests.get(...) we will only get comments/posts before\n",
    "        before = dfi['epoch_time'].min()\n",
    "\n",
    "        # if needed\n",
    "        time.sleep(3)\n",
    "        \n",
    "    return df_no_removed"
   ]
  },
  {
   "cell_type": "markdown",
   "metadata": {},
   "source": [
    "### `Marvel` data:\n",
    "---"
   ]
  },
  {
   "cell_type": "code",
   "execution_count": 17,
   "metadata": {},
   "outputs": [
    {
     "name": "stdout",
     "output_type": "stream",
     "text": [
      "CPU times: total: 2.06 s\n",
      "Wall time: 6min 9s\n"
     ]
    }
   ],
   "source": [
    "%%time\n",
    "\n",
    "# pull data from 'Marvel' subreddit\n",
    "marvel_df = get_data(object_type='submission', subreddit='marvel', max_time=None, min_time=epoch_time)"
   ]
  },
  {
   "cell_type": "code",
   "execution_count": 18,
   "metadata": {},
   "outputs": [
    {
     "data": {
      "text/html": [
       "<div>\n",
       "<style scoped>\n",
       "    .dataframe tbody tr th:only-of-type {\n",
       "        vertical-align: middle;\n",
       "    }\n",
       "\n",
       "    .dataframe tbody tr th {\n",
       "        vertical-align: top;\n",
       "    }\n",
       "\n",
       "    .dataframe thead th {\n",
       "        text-align: right;\n",
       "    }\n",
       "</style>\n",
       "<table border=\"1\" class=\"dataframe\">\n",
       "  <thead>\n",
       "    <tr style=\"text-align: right;\">\n",
       "      <th></th>\n",
       "      <th>epoch_time</th>\n",
       "      <th>author</th>\n",
       "      <th>title</th>\n",
       "      <th>post</th>\n",
       "      <th>subreddit</th>\n",
       "    </tr>\n",
       "  </thead>\n",
       "  <tbody>\n",
       "    <tr>\n",
       "      <th>15</th>\n",
       "      <td>1657980098</td>\n",
       "      <td>DarkUpquark</td>\n",
       "      <td>Watched \"Helstrom\" on hulu</td>\n",
       "      <td>Missed that it actually made it to air in 2020...</td>\n",
       "      <td>Marvel</td>\n",
       "    </tr>\n",
       "    <tr>\n",
       "      <th>20</th>\n",
       "      <td>1657974418</td>\n",
       "      <td>CEO_of_Redd1t</td>\n",
       "      <td>Explaining why the MCU is Earth-616 now in the...</td>\n",
       "      <td>So there's been a lot of discussion lately abo...</td>\n",
       "      <td>Marvel</td>\n",
       "    </tr>\n",
       "    <tr>\n",
       "      <th>28</th>\n",
       "      <td>1657963597</td>\n",
       "      <td>Short-Step-6704</td>\n",
       "      <td>what should i watch first?</td>\n",
       "      <td>Guys i've never seen any movie from marvel.. s...</td>\n",
       "      <td>Marvel</td>\n",
       "    </tr>\n",
       "  </tbody>\n",
       "</table>\n",
       "</div>"
      ],
      "text/plain": [
       "    epoch_time           author  \\\n",
       "15  1657980098      DarkUpquark   \n",
       "20  1657974418    CEO_of_Redd1t   \n",
       "28  1657963597  Short-Step-6704   \n",
       "\n",
       "                                                title  \\\n",
       "15                         Watched \"Helstrom\" on hulu   \n",
       "20  Explaining why the MCU is Earth-616 now in the...   \n",
       "28                         what should i watch first?   \n",
       "\n",
       "                                                 post subreddit  \n",
       "15  Missed that it actually made it to air in 2020...    Marvel  \n",
       "20  So there's been a lot of discussion lately abo...    Marvel  \n",
       "28  Guys i've never seen any movie from marvel.. s...    Marvel  "
      ]
     },
     "execution_count": 18,
     "metadata": {},
     "output_type": "execute_result"
    }
   ],
   "source": [
    "marvel_df.head(3)"
   ]
  },
  {
   "cell_type": "code",
   "execution_count": 19,
   "metadata": {},
   "outputs": [
    {
     "data": {
      "text/plain": [
       "(1008, 5)"
      ]
     },
     "execution_count": 19,
     "metadata": {},
     "output_type": "execute_result"
    }
   ],
   "source": [
    "# 1008 datapoints\n",
    "marvel_df.shape"
   ]
  },
  {
   "cell_type": "code",
   "execution_count": 20,
   "metadata": {},
   "outputs": [
    {
     "data": {
      "text/html": [
       "<div>\n",
       "<style scoped>\n",
       "    .dataframe tbody tr th:only-of-type {\n",
       "        vertical-align: middle;\n",
       "    }\n",
       "\n",
       "    .dataframe tbody tr th {\n",
       "        vertical-align: top;\n",
       "    }\n",
       "\n",
       "    .dataframe thead th {\n",
       "        text-align: right;\n",
       "    }\n",
       "</style>\n",
       "<table border=\"1\" class=\"dataframe\">\n",
       "  <thead>\n",
       "    <tr style=\"text-align: right;\">\n",
       "      <th></th>\n",
       "      <th>epoch_time</th>\n",
       "      <th>author</th>\n",
       "      <th>title</th>\n",
       "      <th>post</th>\n",
       "      <th>subreddit</th>\n",
       "    </tr>\n",
       "  </thead>\n",
       "  <tbody>\n",
       "    <tr>\n",
       "      <th>0</th>\n",
       "      <td>1657980098</td>\n",
       "      <td>DarkUpquark</td>\n",
       "      <td>Watched \"Helstrom\" on hulu</td>\n",
       "      <td>Missed that it actually made it to air in 2020...</td>\n",
       "      <td>Marvel</td>\n",
       "    </tr>\n",
       "    <tr>\n",
       "      <th>1</th>\n",
       "      <td>1657974418</td>\n",
       "      <td>CEO_of_Redd1t</td>\n",
       "      <td>Explaining why the MCU is Earth-616 now in the...</td>\n",
       "      <td>So there's been a lot of discussion lately abo...</td>\n",
       "      <td>Marvel</td>\n",
       "    </tr>\n",
       "    <tr>\n",
       "      <th>2</th>\n",
       "      <td>1657963597</td>\n",
       "      <td>Short-Step-6704</td>\n",
       "      <td>what should i watch first?</td>\n",
       "      <td>Guys i've never seen any movie from marvel.. s...</td>\n",
       "      <td>Marvel</td>\n",
       "    </tr>\n",
       "  </tbody>\n",
       "</table>\n",
       "</div>"
      ],
      "text/plain": [
       "   epoch_time           author  \\\n",
       "0  1657980098      DarkUpquark   \n",
       "1  1657974418    CEO_of_Redd1t   \n",
       "2  1657963597  Short-Step-6704   \n",
       "\n",
       "                                               title  \\\n",
       "0                         Watched \"Helstrom\" on hulu   \n",
       "1  Explaining why the MCU is Earth-616 now in the...   \n",
       "2                         what should i watch first?   \n",
       "\n",
       "                                                post subreddit  \n",
       "0  Missed that it actually made it to air in 2020...    Marvel  \n",
       "1  So there's been a lot of discussion lately abo...    Marvel  \n",
       "2  Guys i've never seen any movie from marvel.. s...    Marvel  "
      ]
     },
     "execution_count": 20,
     "metadata": {},
     "output_type": "execute_result"
    }
   ],
   "source": [
    "marvel_df.reset_index(drop=True, inplace=True)\n",
    "marvel_df.head(3)"
   ]
  },
  {
   "cell_type": "markdown",
   "metadata": {},
   "source": [
    "##### Check for null values:"
   ]
  },
  {
   "cell_type": "code",
   "execution_count": 21,
   "metadata": {},
   "outputs": [
    {
     "data": {
      "text/plain": [
       "epoch_time    0\n",
       "author        0\n",
       "title         0\n",
       "post          0\n",
       "subreddit     0\n",
       "dtype: int64"
      ]
     },
     "execution_count": 21,
     "metadata": {},
     "output_type": "execute_result"
    }
   ],
   "source": [
    "marvel_df.isnull().sum()"
   ]
  },
  {
   "cell_type": "markdown",
   "metadata": {},
   "source": [
    "##### Function to find values in square brackets / other null data:"
   ]
  },
  {
   "cell_type": "code",
   "execution_count": 22,
   "metadata": {},
   "outputs": [],
   "source": [
    "def sq_brkets(data):\n",
    "    cols = ['author', 'title', 'post']\n",
    "    missing_dict = {} \n",
    "    for col in cols:   \n",
    "        # make new key for each column under study\n",
    "        # find all words in squared brackets that might represent 'removed' or 'deleted' entries\n",
    "        missing_dict[col] = [x for x in data[col].str.findall('\\[\\w+\\]') if x]\n",
    "    return missing_dict"
   ]
  },
  {
   "cell_type": "code",
   "execution_count": 23,
   "metadata": {},
   "outputs": [
    {
     "data": {
      "text/plain": [
       "{'author': [],\n",
       " 'title': [['[endgame]'],\n",
       "  ['[Spoilers]'],\n",
       "  ['[Comics]'],\n",
       "  ['[SPOILER]', '[SPOILERS]'],\n",
       "  ['[Moonknight]'],\n",
       "  ['[Theory]']],\n",
       " 'post': [['[here]', '[here]'],\n",
       "  ['[Spotify]', '[Amazon]'],\n",
       "  ['[UNFINISHED]', '[UNFINISHED]']]}"
      ]
     },
     "execution_count": 23,
     "metadata": {},
     "output_type": "execute_result"
    }
   ],
   "source": [
    "# checking if there any '[removed]' or '[deleted]' entries in the data pulled\n",
    "sq_brkets(marvel_df)"
   ]
  },
  {
   "cell_type": "markdown",
   "metadata": {},
   "source": [
    "There are no `[removed]` or `[deleted]` entries left in the data pulled."
   ]
  },
  {
   "cell_type": "code",
   "execution_count": 24,
   "metadata": {},
   "outputs": [],
   "source": [
    "# export data to csv\n",
    "marvel_df.to_csv('data/marvel.csv', index=False)"
   ]
  },
  {
   "cell_type": "markdown",
   "metadata": {},
   "source": [
    "### `DCcomics` data:\n",
    "---"
   ]
  },
  {
   "cell_type": "markdown",
   "metadata": {},
   "source": [
    "##### Reference of `min_time` and `max_time` last used for `marvel_df`:"
   ]
  },
  {
   "cell_type": "raw",
   "metadata": {},
   "source": [
    "# to get the date I want as min_time\n",
    "# using the strptime() function  \n",
    "obj_1 = datetime.strptime( '17-4-2022 00:00:00', '%d-%m-%Y %H:%M:%S')    \n",
    "# realised I need to fix my max_time to get reproducible results\n",
    "obj_2 = datetime.strptime( '17-7-2022 00:00:00', '%d-%m-%Y %H:%M:%S')    \n",
    "epoch_time = obj_1.timestamp() \n",
    "now_time = obj_2.timestamp()\n",
    "print(\"epoch time:\", epoch_time)  \n",
    "print('present time:', now_time)"
   ]
  },
  {
   "cell_type": "code",
   "execution_count": 25,
   "metadata": {},
   "outputs": [
    {
     "name": "stdout",
     "output_type": "stream",
     "text": [
      "CPU times: total: 1.36 s\n",
      "Wall time: 4min 40s\n"
     ]
    }
   ],
   "source": [
    "%%time\n",
    "\n",
    "# pull data from 'DCcomics' subreddit\n",
    "dcomics_df = get_data(object_type='submission', subreddit='DCcomics', max_time=None, min_time=epoch_time)"
   ]
  },
  {
   "cell_type": "code",
   "execution_count": 26,
   "metadata": {},
   "outputs": [
    {
     "data": {
      "text/html": [
       "<div>\n",
       "<style scoped>\n",
       "    .dataframe tbody tr th:only-of-type {\n",
       "        vertical-align: middle;\n",
       "    }\n",
       "\n",
       "    .dataframe tbody tr th {\n",
       "        vertical-align: top;\n",
       "    }\n",
       "\n",
       "    .dataframe thead th {\n",
       "        text-align: right;\n",
       "    }\n",
       "</style>\n",
       "<table border=\"1\" class=\"dataframe\">\n",
       "  <thead>\n",
       "    <tr style=\"text-align: right;\">\n",
       "      <th></th>\n",
       "      <th>epoch_time</th>\n",
       "      <th>author</th>\n",
       "      <th>title</th>\n",
       "      <th>post</th>\n",
       "      <th>subreddit</th>\n",
       "    </tr>\n",
       "  </thead>\n",
       "  <tbody>\n",
       "    <tr>\n",
       "      <th>2</th>\n",
       "      <td>1657986458</td>\n",
       "      <td>das_cthulu</td>\n",
       "      <td>How fast is wonder woman compared to Superman ...</td>\n",
       "      <td>What the title says.</td>\n",
       "      <td>DCcomics</td>\n",
       "    </tr>\n",
       "    <tr>\n",
       "      <th>3</th>\n",
       "      <td>1657985374</td>\n",
       "      <td>nightwing612</td>\n",
       "      <td>Excluding Linda Park, who is your best/favorit...</td>\n",
       "      <td>Some of those romances did not happen in comic...</td>\n",
       "      <td>DCcomics</td>\n",
       "    </tr>\n",
       "    <tr>\n",
       "      <th>4</th>\n",
       "      <td>1657984632</td>\n",
       "      <td>LilBe</td>\n",
       "      <td>Which Injustice graphic novels are a must-have?</td>\n",
       "      <td>So I want to start reading the Injustice books...</td>\n",
       "      <td>DCcomics</td>\n",
       "    </tr>\n",
       "  </tbody>\n",
       "</table>\n",
       "</div>"
      ],
      "text/plain": [
       "   epoch_time        author  \\\n",
       "2  1657986458    das_cthulu   \n",
       "3  1657985374  nightwing612   \n",
       "4  1657984632         LilBe   \n",
       "\n",
       "                                               title  \\\n",
       "2  How fast is wonder woman compared to Superman ...   \n",
       "3  Excluding Linda Park, who is your best/favorit...   \n",
       "4    Which Injustice graphic novels are a must-have?   \n",
       "\n",
       "                                                post subreddit  \n",
       "2                               What the title says.  DCcomics  \n",
       "3  Some of those romances did not happen in comic...  DCcomics  \n",
       "4  So I want to start reading the Injustice books...  DCcomics  "
      ]
     },
     "execution_count": 26,
     "metadata": {},
     "output_type": "execute_result"
    }
   ],
   "source": [
    "dcomics_df.head(3)"
   ]
  },
  {
   "cell_type": "code",
   "execution_count": 27,
   "metadata": {},
   "outputs": [
    {
     "data": {
      "text/plain": [
       "(1010, 5)"
      ]
     },
     "execution_count": 27,
     "metadata": {},
     "output_type": "execute_result"
    }
   ],
   "source": [
    "dcomics_df.shape\n",
    "# there are 1010 data points"
   ]
  },
  {
   "cell_type": "code",
   "execution_count": 28,
   "metadata": {},
   "outputs": [
    {
     "data": {
      "text/html": [
       "<div>\n",
       "<style scoped>\n",
       "    .dataframe tbody tr th:only-of-type {\n",
       "        vertical-align: middle;\n",
       "    }\n",
       "\n",
       "    .dataframe tbody tr th {\n",
       "        vertical-align: top;\n",
       "    }\n",
       "\n",
       "    .dataframe thead th {\n",
       "        text-align: right;\n",
       "    }\n",
       "</style>\n",
       "<table border=\"1\" class=\"dataframe\">\n",
       "  <thead>\n",
       "    <tr style=\"text-align: right;\">\n",
       "      <th></th>\n",
       "      <th>epoch_time</th>\n",
       "      <th>author</th>\n",
       "      <th>title</th>\n",
       "      <th>post</th>\n",
       "      <th>subreddit</th>\n",
       "    </tr>\n",
       "  </thead>\n",
       "  <tbody>\n",
       "    <tr>\n",
       "      <th>0</th>\n",
       "      <td>1657986458</td>\n",
       "      <td>das_cthulu</td>\n",
       "      <td>How fast is wonder woman compared to Superman ...</td>\n",
       "      <td>What the title says.</td>\n",
       "      <td>DCcomics</td>\n",
       "    </tr>\n",
       "    <tr>\n",
       "      <th>1</th>\n",
       "      <td>1657985374</td>\n",
       "      <td>nightwing612</td>\n",
       "      <td>Excluding Linda Park, who is your best/favorit...</td>\n",
       "      <td>Some of those romances did not happen in comic...</td>\n",
       "      <td>DCcomics</td>\n",
       "    </tr>\n",
       "    <tr>\n",
       "      <th>2</th>\n",
       "      <td>1657984632</td>\n",
       "      <td>LilBe</td>\n",
       "      <td>Which Injustice graphic novels are a must-have?</td>\n",
       "      <td>So I want to start reading the Injustice books...</td>\n",
       "      <td>DCcomics</td>\n",
       "    </tr>\n",
       "  </tbody>\n",
       "</table>\n",
       "</div>"
      ],
      "text/plain": [
       "   epoch_time        author  \\\n",
       "0  1657986458    das_cthulu   \n",
       "1  1657985374  nightwing612   \n",
       "2  1657984632         LilBe   \n",
       "\n",
       "                                               title  \\\n",
       "0  How fast is wonder woman compared to Superman ...   \n",
       "1  Excluding Linda Park, who is your best/favorit...   \n",
       "2    Which Injustice graphic novels are a must-have?   \n",
       "\n",
       "                                                post subreddit  \n",
       "0                               What the title says.  DCcomics  \n",
       "1  Some of those romances did not happen in comic...  DCcomics  \n",
       "2  So I want to start reading the Injustice books...  DCcomics  "
      ]
     },
     "execution_count": 28,
     "metadata": {},
     "output_type": "execute_result"
    }
   ],
   "source": [
    "dcomics_df.reset_index(drop=True, inplace=True)\n",
    "dcomics_df.head(3)"
   ]
  },
  {
   "cell_type": "markdown",
   "metadata": {},
   "source": [
    "##### Check for null values:"
   ]
  },
  {
   "cell_type": "code",
   "execution_count": 29,
   "metadata": {},
   "outputs": [
    {
     "data": {
      "text/plain": [
       "epoch_time    0\n",
       "author        0\n",
       "title         0\n",
       "post          0\n",
       "subreddit     0\n",
       "dtype: int64"
      ]
     },
     "execution_count": 29,
     "metadata": {},
     "output_type": "execute_result"
    }
   ],
   "source": [
    "dcomics_df.isnull().sum()"
   ]
  },
  {
   "cell_type": "code",
   "execution_count": 30,
   "metadata": {},
   "outputs": [
    {
     "data": {
      "text/plain": [
       "{'author': [],\n",
       " 'title': [['[Discussion]'],\n",
       "  ['[Discussion]'],\n",
       "  ['[Anime]', '[Manga]'],\n",
       "  ['[Other]'],\n",
       "  ['[Discussion]'],\n",
       "  ['[Discussion]'],\n",
       "  ['[Discussion]'],\n",
       "  ['[Discussion]'],\n",
       "  ['[Discussion]'],\n",
       "  ['[Discussion]'],\n",
       "  ['[Discussion]'],\n",
       "  ['[Other]'],\n",
       "  ['[Discussion]'],\n",
       "  ['[Discussion]'],\n",
       "  ['[Other]'],\n",
       "  ['[Discussion]'],\n",
       "  ['[Other]'],\n",
       "  ['[Other]'],\n",
       "  ['[Discussion]'],\n",
       "  ['[Discussion]'],\n",
       "  ['[Other]'],\n",
       "  ['[Discussion]'],\n",
       "  ['[Discussion]'],\n",
       "  ['[Discussion]'],\n",
       "  ['[Discussion]'],\n",
       "  ['[Other]'],\n",
       "  ['[Question]'],\n",
       "  ['[Discussion]'],\n",
       "  ['[Discussion]'],\n",
       "  ['[Poll]'],\n",
       "  ['[Discussion]'],\n",
       "  ['[Discussion]'],\n",
       "  ['[Discussion]'],\n",
       "  ['[Discussion]'],\n",
       "  ['[Discussion]'],\n",
       "  ['[Discussion]'],\n",
       "  ['[Cosplay]'],\n",
       "  ['[Artwork]'],\n",
       "  ['[Discussion]'],\n",
       "  ['[poll]'],\n",
       "  ['[Discussion]'],\n",
       "  ['[Discussion]'],\n",
       "  ['[Poll]'],\n",
       "  ['[Discussion]'],\n",
       "  ['[COVER]'],\n",
       "  ['[Discussion]'],\n",
       "  ['[Cover]'],\n",
       "  ['[Discussion]'],\n",
       "  ['[Discussion]'],\n",
       "  ['[Discussion]'],\n",
       "  ['[Discussion]'],\n",
       "  ['[Other]'],\n",
       "  ['[Discussion]'],\n",
       "  ['[ArtWork]']],\n",
       " 'post': [['[Anime]', '[Manga]'],\n",
       "  ['[Anime]', '[Manga]'],\n",
       "  ['[removed]'],\n",
       "  ['[removed]'],\n",
       "  ['[removed]'],\n",
       "  ['[removed]'],\n",
       "  ['[removed]'],\n",
       "  ['[removed]'],\n",
       "  ['[Batman]', '[Brainiac]', '[Metron]'],\n",
       "  ['[img]'],\n",
       "  ['[HC]', '[Amazon]'],\n",
       "  ['[removed]'],\n",
       "  ['[removed]'],\n",
       "  ['[removed]'],\n",
       "  ['[removed]'],\n",
       "  ['[removed]'],\n",
       "  ['[Amazon]'],\n",
       "  ['[Spotify]', '[Amazon]'],\n",
       "  ['[removed]'],\n",
       "  ['[removed]'],\n",
       "  ['[here]']]}"
      ]
     },
     "execution_count": 30,
     "metadata": {},
     "output_type": "execute_result"
    }
   ],
   "source": [
    "# find if there are any more deleted entries\n",
    "sq_brkets(dcomics_df)"
   ]
  },
  {
   "cell_type": "code",
   "execution_count": 31,
   "metadata": {},
   "outputs": [
    {
     "data": {
      "text/html": [
       "<div>\n",
       "<style scoped>\n",
       "    .dataframe tbody tr th:only-of-type {\n",
       "        vertical-align: middle;\n",
       "    }\n",
       "\n",
       "    .dataframe tbody tr th {\n",
       "        vertical-align: top;\n",
       "    }\n",
       "\n",
       "    .dataframe thead th {\n",
       "        text-align: right;\n",
       "    }\n",
       "</style>\n",
       "<table border=\"1\" class=\"dataframe\">\n",
       "  <thead>\n",
       "    <tr style=\"text-align: right;\">\n",
       "      <th></th>\n",
       "      <th>epoch_time</th>\n",
       "      <th>author</th>\n",
       "      <th>title</th>\n",
       "      <th>post</th>\n",
       "      <th>subreddit</th>\n",
       "    </tr>\n",
       "  </thead>\n",
       "  <tbody>\n",
       "  </tbody>\n",
       "</table>\n",
       "</div>"
      ],
      "text/plain": [
       "Empty DataFrame\n",
       "Columns: [epoch_time, author, title, post, subreddit]\n",
       "Index: []"
      ]
     },
     "execution_count": 31,
     "metadata": {},
     "output_type": "execute_result"
    }
   ],
   "source": [
    "# isolate what posts has been '[removed]'\n",
    "dcomics_df.loc[dcomics_df['post']=='[removed]',:]"
   ]
  },
  {
   "cell_type": "markdown",
   "metadata": {},
   "source": [
    "It seems that `post`==`[removed]` entries left in `dcomics_df` are likely portions of content that were removed, and not the entire `post`. Therefore, there are no `[deleted]` or `[removed]` entries for me to drop from `dcomics_df`. "
   ]
  },
  {
   "cell_type": "code",
   "execution_count": 32,
   "metadata": {},
   "outputs": [],
   "source": [
    "# export csv file\n",
    "dcomics_df.to_csv('data/DCcomics.csv', index=False)"
   ]
  },
  {
   "cell_type": "markdown",
   "metadata": {},
   "source": [
    "#### Combined data\n",
    "---"
   ]
  },
  {
   "cell_type": "code",
   "execution_count": 33,
   "metadata": {},
   "outputs": [],
   "source": [
    "combined_df = pd.concat([marvel_df, dcomics_df], axis=0, ignore_index=True)"
   ]
  },
  {
   "cell_type": "code",
   "execution_count": 34,
   "metadata": {},
   "outputs": [
    {
     "data": {
      "text/plain": [
       "(2018, 5)"
      ]
     },
     "execution_count": 34,
     "metadata": {},
     "output_type": "execute_result"
    }
   ],
   "source": [
    "# check concat correct. 1008 'Marvel' rows + 1010 'Dcomics' rows\n",
    "combined_df.shape"
   ]
  },
  {
   "cell_type": "code",
   "execution_count": 35,
   "metadata": {},
   "outputs": [
    {
     "data": {
      "text/html": [
       "<div>\n",
       "<style scoped>\n",
       "    .dataframe tbody tr th:only-of-type {\n",
       "        vertical-align: middle;\n",
       "    }\n",
       "\n",
       "    .dataframe tbody tr th {\n",
       "        vertical-align: top;\n",
       "    }\n",
       "\n",
       "    .dataframe thead th {\n",
       "        text-align: right;\n",
       "    }\n",
       "</style>\n",
       "<table border=\"1\" class=\"dataframe\">\n",
       "  <thead>\n",
       "    <tr style=\"text-align: right;\">\n",
       "      <th></th>\n",
       "      <th>epoch_time</th>\n",
       "      <th>author</th>\n",
       "      <th>title</th>\n",
       "      <th>post</th>\n",
       "      <th>subreddit</th>\n",
       "    </tr>\n",
       "  </thead>\n",
       "  <tbody>\n",
       "    <tr>\n",
       "      <th>0</th>\n",
       "      <td>1657980098</td>\n",
       "      <td>DarkUpquark</td>\n",
       "      <td>Watched \"Helstrom\" on hulu</td>\n",
       "      <td>Missed that it actually made it to air in 2020...</td>\n",
       "      <td>Marvel</td>\n",
       "    </tr>\n",
       "    <tr>\n",
       "      <th>1</th>\n",
       "      <td>1657974418</td>\n",
       "      <td>CEO_of_Redd1t</td>\n",
       "      <td>Explaining why the MCU is Earth-616 now in the...</td>\n",
       "      <td>So there's been a lot of discussion lately abo...</td>\n",
       "      <td>Marvel</td>\n",
       "    </tr>\n",
       "    <tr>\n",
       "      <th>2</th>\n",
       "      <td>1657963597</td>\n",
       "      <td>Short-Step-6704</td>\n",
       "      <td>what should i watch first?</td>\n",
       "      <td>Guys i've never seen any movie from marvel.. s...</td>\n",
       "      <td>Marvel</td>\n",
       "    </tr>\n",
       "  </tbody>\n",
       "</table>\n",
       "</div>"
      ],
      "text/plain": [
       "   epoch_time           author  \\\n",
       "0  1657980098      DarkUpquark   \n",
       "1  1657974418    CEO_of_Redd1t   \n",
       "2  1657963597  Short-Step-6704   \n",
       "\n",
       "                                               title  \\\n",
       "0                         Watched \"Helstrom\" on hulu   \n",
       "1  Explaining why the MCU is Earth-616 now in the...   \n",
       "2                         what should i watch first?   \n",
       "\n",
       "                                                post subreddit  \n",
       "0  Missed that it actually made it to air in 2020...    Marvel  \n",
       "1  So there's been a lot of discussion lately abo...    Marvel  \n",
       "2  Guys i've never seen any movie from marvel.. s...    Marvel  "
      ]
     },
     "execution_count": 35,
     "metadata": {},
     "output_type": "execute_result"
    }
   ],
   "source": [
    "# check indices correct\n",
    "combined_df.head(3)"
   ]
  },
  {
   "cell_type": "code",
   "execution_count": 36,
   "metadata": {},
   "outputs": [
    {
     "data": {
      "text/html": [
       "<div>\n",
       "<style scoped>\n",
       "    .dataframe tbody tr th:only-of-type {\n",
       "        vertical-align: middle;\n",
       "    }\n",
       "\n",
       "    .dataframe tbody tr th {\n",
       "        vertical-align: top;\n",
       "    }\n",
       "\n",
       "    .dataframe thead th {\n",
       "        text-align: right;\n",
       "    }\n",
       "</style>\n",
       "<table border=\"1\" class=\"dataframe\">\n",
       "  <thead>\n",
       "    <tr style=\"text-align: right;\">\n",
       "      <th></th>\n",
       "      <th>epoch_time</th>\n",
       "      <th>author</th>\n",
       "      <th>title</th>\n",
       "      <th>post</th>\n",
       "      <th>subreddit</th>\n",
       "    </tr>\n",
       "  </thead>\n",
       "  <tbody>\n",
       "    <tr>\n",
       "      <th>2015</th>\n",
       "      <td>1655084464</td>\n",
       "      <td>JustNormal141</td>\n",
       "      <td>What happened to Wally west before Dc rebirth?</td>\n",
       "      <td>I know that everyone doesn’t remember him but ...</td>\n",
       "      <td>DCcomics</td>\n",
       "    </tr>\n",
       "    <tr>\n",
       "      <th>2016</th>\n",
       "      <td>1655083740</td>\n",
       "      <td>komayeda1</td>\n",
       "      <td>Do we take canon a bit too seriously here?</td>\n",
       "      <td>In a world where continuity is a jumbled mess ...</td>\n",
       "      <td>DCcomics</td>\n",
       "    </tr>\n",
       "    <tr>\n",
       "      <th>2017</th>\n",
       "      <td>1655082493</td>\n",
       "      <td>JadeBladeGamer22</td>\n",
       "      <td>When is \"Static: Season Two\" coming out?</td>\n",
       "      <td>It was said that Static Season Two was slated ...</td>\n",
       "      <td>DCcomics</td>\n",
       "    </tr>\n",
       "  </tbody>\n",
       "</table>\n",
       "</div>"
      ],
      "text/plain": [
       "      epoch_time            author  \\\n",
       "2015  1655084464     JustNormal141   \n",
       "2016  1655083740         komayeda1   \n",
       "2017  1655082493  JadeBladeGamer22   \n",
       "\n",
       "                                               title  \\\n",
       "2015  What happened to Wally west before Dc rebirth?   \n",
       "2016      Do we take canon a bit too seriously here?   \n",
       "2017        When is \"Static: Season Two\" coming out?   \n",
       "\n",
       "                                                   post subreddit  \n",
       "2015  I know that everyone doesn’t remember him but ...  DCcomics  \n",
       "2016  In a world where continuity is a jumbled mess ...  DCcomics  \n",
       "2017  It was said that Static Season Two was slated ...  DCcomics  "
      ]
     },
     "execution_count": 36,
     "metadata": {},
     "output_type": "execute_result"
    }
   ],
   "source": [
    "# check indices\n",
    "combined_df.tail(3)"
   ]
  },
  {
   "cell_type": "code",
   "execution_count": 37,
   "metadata": {},
   "outputs": [],
   "source": [
    "# export data to csv\n",
    "combined_df.to_csv('data/combined.csv', index=False)"
   ]
  },
  {
   "cell_type": "code",
   "execution_count": null,
   "metadata": {},
   "outputs": [],
   "source": []
  }
 ],
 "metadata": {
  "kernelspec": {
   "display_name": "Python 3 (ipykernel)",
   "language": "python",
   "name": "python3"
  },
  "language_info": {
   "codemirror_mode": {
    "name": "ipython",
    "version": 3
   },
   "file_extension": ".py",
   "mimetype": "text/x-python",
   "name": "python",
   "nbconvert_exporter": "python",
   "pygments_lexer": "ipython3",
   "version": "3.9.12"
  },
  "vscode": {
   "interpreter": {
    "hash": "76a4e8201b102759e2ae0212776fc83bffa9712acfadf7fdbfb266b9e6c48ced"
   }
  }
 },
 "nbformat": 4,
 "nbformat_minor": 2
}
