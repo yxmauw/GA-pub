{
 "cells": [
  {
   "cell_type": "markdown",
   "id": "9ac07380",
   "metadata": {},
   "source": [
    "<img src=\"http://imgur.com/1ZcRyrc.png\" style=\"float: left; margin: 20px; height: 55px\">\n",
    "\n",
    "# Project 3: NLP subreddit post classifier \n",
    "(wrong class evaluation)"
   ]
  },
  {
   "cell_type": "markdown",
   "id": "f998bf82",
   "metadata": {},
   "source": [
    "## Problem Statement:\n",
    "---\n",
    "\n",
    "For this project, I wish to train a Natural Language Processing classifier to help differentiate reddit posts between [`Marvel`](https://www.reddit.com/r/Marvel/) and [`DCcomics`](https://www.reddit.com/r/DCcomics/) subreddits. This is a binary classification problem. \n",
    "\n",
    "In [`Project_3_data.ipynb`](./Project_3_data.ipynb), I have webscraped my desired data from 2 subreddits, [`Marvel`](https://www.reddit.com/r/Marvel/) and [`DCcomics`](https://www.reddit.com/r/DCcomics/) respectively. Please refer to [`Project_3_data.ipynb`](./Project_3_data.ipynb) for more details on how the data was extracted.\n",
    "\n",
    "In [`Project_3_ML.ipynb`](./Project_3_ML.ipynb), I have transformed my text data with word vectorizors using `CountVectorizer` and `TfidfVectorizer`, and trained 2 classification models, **`Random Forest Classifier`** and **`Multinomial Naive Bayes`** classifier. Please refer to [`Project_3_ML.ipynb`](./Project_3_ML.ipynb) for more details on how the data was used.\n",
    "\n",
    "Now, I wish to further investigate about the `post`s that the respective classifiers got wrong."
   ]
  },
  {
   "cell_type": "markdown",
   "id": "5ede076a",
   "metadata": {},
   "source": [
    "### Contents:\n",
    "\n",
    "1. [Imported libraries](#Imports:)\n",
    "1. [Text normalisation](#Tokenizing-and-Lemmatizing)\n",
    "1. [Count Vectorization](#Count-Vectorization)\n",
    "1. [Choose a row to study](#Choose-a-row-in-Z_misclass_cvec-to-find-out-word-features)"
   ]
  },
  {
   "cell_type": "markdown",
   "id": "d635c233",
   "metadata": {},
   "source": [
    "#### Imports:"
   ]
  },
  {
   "cell_type": "code",
   "execution_count": 1,
   "id": "ec5bf822",
   "metadata": {},
   "outputs": [],
   "source": [
    "import matplotlib.pyplot as plt\n",
    "import numpy as np\n",
    "import pandas as pd\n",
    "import seaborn as sns\n",
    "\n",
    "sns.set_style('whitegrid')\n",
    "\n",
    "%config InlineBackend.figure_format = 'retina'\n",
    "%matplotlib inline"
   ]
  },
  {
   "cell_type": "code",
   "execution_count": 2,
   "id": "48de2cd7",
   "metadata": {},
   "outputs": [
    {
     "data": {
      "text/html": [
       "<div>\n",
       "<style scoped>\n",
       "    .dataframe tbody tr th:only-of-type {\n",
       "        vertical-align: middle;\n",
       "    }\n",
       "\n",
       "    .dataframe tbody tr th {\n",
       "        vertical-align: top;\n",
       "    }\n",
       "\n",
       "    .dataframe thead th {\n",
       "        text-align: right;\n",
       "    }\n",
       "</style>\n",
       "<table border=\"1\" class=\"dataframe\">\n",
       "  <thead>\n",
       "    <tr style=\"text-align: right;\">\n",
       "      <th></th>\n",
       "      <th>ability</th>\n",
       "      <th>able</th>\n",
       "      <th>absolutely</th>\n",
       "      <th>act</th>\n",
       "      <th>action</th>\n",
       "      <th>action comic</th>\n",
       "      <th>actor</th>\n",
       "      <th>actual</th>\n",
       "      <th>actually</th>\n",
       "      <th>adam</th>\n",
       "      <th>...</th>\n",
       "      <th>www youtube</th>\n",
       "      <th>yeah</th>\n",
       "      <th>year</th>\n",
       "      <th>year ago</th>\n",
       "      <th>yellow</th>\n",
       "      <th>yes</th>\n",
       "      <th>young</th>\n",
       "      <th>young justice</th>\n",
       "      <th>youtube</th>\n",
       "      <th>youtube com</th>\n",
       "    </tr>\n",
       "  </thead>\n",
       "  <tbody>\n",
       "    <tr>\n",
       "      <th>0</th>\n",
       "      <td>0</td>\n",
       "      <td>0</td>\n",
       "      <td>0</td>\n",
       "      <td>0</td>\n",
       "      <td>0</td>\n",
       "      <td>0</td>\n",
       "      <td>0</td>\n",
       "      <td>0</td>\n",
       "      <td>0</td>\n",
       "      <td>0</td>\n",
       "      <td>...</td>\n",
       "      <td>0</td>\n",
       "      <td>0</td>\n",
       "      <td>0</td>\n",
       "      <td>0</td>\n",
       "      <td>0</td>\n",
       "      <td>0</td>\n",
       "      <td>0</td>\n",
       "      <td>0</td>\n",
       "      <td>0</td>\n",
       "      <td>0</td>\n",
       "    </tr>\n",
       "    <tr>\n",
       "      <th>1</th>\n",
       "      <td>0</td>\n",
       "      <td>0</td>\n",
       "      <td>0</td>\n",
       "      <td>0</td>\n",
       "      <td>0</td>\n",
       "      <td>0</td>\n",
       "      <td>0</td>\n",
       "      <td>0</td>\n",
       "      <td>0</td>\n",
       "      <td>0</td>\n",
       "      <td>...</td>\n",
       "      <td>0</td>\n",
       "      <td>0</td>\n",
       "      <td>0</td>\n",
       "      <td>0</td>\n",
       "      <td>0</td>\n",
       "      <td>0</td>\n",
       "      <td>0</td>\n",
       "      <td>0</td>\n",
       "      <td>0</td>\n",
       "      <td>0</td>\n",
       "    </tr>\n",
       "    <tr>\n",
       "      <th>2</th>\n",
       "      <td>0</td>\n",
       "      <td>0</td>\n",
       "      <td>0</td>\n",
       "      <td>0</td>\n",
       "      <td>0</td>\n",
       "      <td>0</td>\n",
       "      <td>0</td>\n",
       "      <td>0</td>\n",
       "      <td>0</td>\n",
       "      <td>0</td>\n",
       "      <td>...</td>\n",
       "      <td>0</td>\n",
       "      <td>1</td>\n",
       "      <td>1</td>\n",
       "      <td>0</td>\n",
       "      <td>0</td>\n",
       "      <td>0</td>\n",
       "      <td>0</td>\n",
       "      <td>0</td>\n",
       "      <td>0</td>\n",
       "      <td>0</td>\n",
       "    </tr>\n",
       "  </tbody>\n",
       "</table>\n",
       "<p>3 rows × 1000 columns</p>\n",
       "</div>"
      ],
      "text/plain": [
       "   ability  able  absolutely  act  action  action comic  actor  actual  \\\n",
       "0        0     0           0    0       0             0      0       0   \n",
       "1        0     0           0    0       0             0      0       0   \n",
       "2        0     0           0    0       0             0      0       0   \n",
       "\n",
       "   actually  adam  ...  www youtube  yeah  year  year ago  yellow  yes  young  \\\n",
       "0         0     0  ...            0     0     0         0       0    0      0   \n",
       "1         0     0  ...            0     0     0         0       0    0      0   \n",
       "2         0     0  ...            0     1     1         0       0    0      0   \n",
       "\n",
       "   young justice  youtube  youtube com  \n",
       "0              0        0            0  \n",
       "1              0        0            0  \n",
       "2              0        0            0  \n",
       "\n",
       "[3 rows x 1000 columns]"
      ]
     },
     "metadata": {},
     "output_type": "display_data"
    },
    {
     "data": {
      "text/plain": [
       "(1614, 1000)"
      ]
     },
     "metadata": {},
     "output_type": "display_data"
    },
    {
     "data": {
      "text/html": [
       "<div>\n",
       "<style scoped>\n",
       "    .dataframe tbody tr th:only-of-type {\n",
       "        vertical-align: middle;\n",
       "    }\n",
       "\n",
       "    .dataframe tbody tr th {\n",
       "        vertical-align: top;\n",
       "    }\n",
       "\n",
       "    .dataframe thead th {\n",
       "        text-align: right;\n",
       "    }\n",
       "</style>\n",
       "<table border=\"1\" class=\"dataframe\">\n",
       "  <thead>\n",
       "    <tr style=\"text-align: right;\">\n",
       "      <th></th>\n",
       "      <th>Unnamed: 0</th>\n",
       "      <th>full_post</th>\n",
       "      <th>true_values</th>\n",
       "      <th>pred_probs</th>\n",
       "      <th>model</th>\n",
       "    </tr>\n",
       "  </thead>\n",
       "  <tbody>\n",
       "    <tr>\n",
       "      <th>0</th>\n",
       "      <td>1572</td>\n",
       "      <td>People who dislike/hate Damian Wayne, why? Jus...</td>\n",
       "      <td>0</td>\n",
       "      <td>0.514977</td>\n",
       "      <td>RF</td>\n",
       "    </tr>\n",
       "    <tr>\n",
       "      <th>1</th>\n",
       "      <td>1780</td>\n",
       "      <td>Why did some people die in COIE, but others di...</td>\n",
       "      <td>0</td>\n",
       "      <td>0.501310</td>\n",
       "      <td>RF</td>\n",
       "    </tr>\n",
       "    <tr>\n",
       "      <th>2</th>\n",
       "      <td>1622</td>\n",
       "      <td>if you were to raise a Kryptonian, What values...</td>\n",
       "      <td>0</td>\n",
       "      <td>0.501310</td>\n",
       "      <td>RF</td>\n",
       "    </tr>\n",
       "  </tbody>\n",
       "</table>\n",
       "</div>"
      ],
      "text/plain": [
       "   Unnamed: 0                                          full_post  true_values  \\\n",
       "0        1572  People who dislike/hate Damian Wayne, why? Jus...            0   \n",
       "1        1780  Why did some people die in COIE, but others di...            0   \n",
       "2        1622  if you were to raise a Kryptonian, What values...            0   \n",
       "\n",
       "   pred_probs model  \n",
       "0    0.514977    RF  \n",
       "1    0.501310    RF  \n",
       "2    0.501310    RF  "
      ]
     },
     "metadata": {},
     "output_type": "display_data"
    }
   ],
   "source": [
    "# import data\n",
    "model_df = pd.read_csv('./data/train_cvec.csv')\n",
    "misclass_df = pd.read_csv('./data/wrong_class.csv')\n",
    "display(model_df.head(3))\n",
    "display(model_df.shape)\n",
    "display(misclass_df.head(3))"
   ]
  },
  {
   "cell_type": "code",
   "execution_count": 3,
   "id": "4401ea5e",
   "metadata": {},
   "outputs": [
    {
     "data": {
      "text/html": [
       "<div>\n",
       "<style scoped>\n",
       "    .dataframe tbody tr th:only-of-type {\n",
       "        vertical-align: middle;\n",
       "    }\n",
       "\n",
       "    .dataframe tbody tr th {\n",
       "        vertical-align: top;\n",
       "    }\n",
       "\n",
       "    .dataframe thead th {\n",
       "        text-align: right;\n",
       "    }\n",
       "</style>\n",
       "<table border=\"1\" class=\"dataframe\">\n",
       "  <thead>\n",
       "    <tr style=\"text-align: right;\">\n",
       "      <th></th>\n",
       "      <th>index_origin</th>\n",
       "      <th>full_post</th>\n",
       "      <th>true_values</th>\n",
       "      <th>pred_probs</th>\n",
       "      <th>model</th>\n",
       "    </tr>\n",
       "  </thead>\n",
       "  <tbody>\n",
       "    <tr>\n",
       "      <th>0</th>\n",
       "      <td>1572</td>\n",
       "      <td>People who dislike/hate Damian Wayne, why? Jus...</td>\n",
       "      <td>0</td>\n",
       "      <td>0.514977</td>\n",
       "      <td>RF</td>\n",
       "    </tr>\n",
       "    <tr>\n",
       "      <th>1</th>\n",
       "      <td>1780</td>\n",
       "      <td>Why did some people die in COIE, but others di...</td>\n",
       "      <td>0</td>\n",
       "      <td>0.501310</td>\n",
       "      <td>RF</td>\n",
       "    </tr>\n",
       "    <tr>\n",
       "      <th>2</th>\n",
       "      <td>1622</td>\n",
       "      <td>if you were to raise a Kryptonian, What values...</td>\n",
       "      <td>0</td>\n",
       "      <td>0.501310</td>\n",
       "      <td>RF</td>\n",
       "    </tr>\n",
       "  </tbody>\n",
       "</table>\n",
       "</div>"
      ],
      "text/plain": [
       "   index_origin                                          full_post  \\\n",
       "0          1572  People who dislike/hate Damian Wayne, why? Jus...   \n",
       "1          1780  Why did some people die in COIE, but others di...   \n",
       "2          1622  if you were to raise a Kryptonian, What values...   \n",
       "\n",
       "   true_values  pred_probs model  \n",
       "0            0    0.514977    RF  \n",
       "1            0    0.501310    RF  \n",
       "2            0    0.501310    RF  "
      ]
     },
     "metadata": {},
     "output_type": "display_data"
    }
   ],
   "source": [
    "# rename 'Unnamed:0' column\n",
    "misclass_df.rename(columns={'Unnamed: 0':'index_origin'}, inplace=True)\n",
    "display(misclass_df.head(3))"
   ]
  },
  {
   "cell_type": "markdown",
   "id": "7c428f65",
   "metadata": {},
   "source": [
    "### Tokenizing and Lemmatizing\n",
    "---\n",
    "\n",
    "Ensure consistent preprocessing steps done for `model_df` is done for the `misclass_df`"
   ]
  },
  {
   "cell_type": "code",
   "execution_count": 4,
   "id": "19b5af76",
   "metadata": {},
   "outputs": [],
   "source": [
    "from nltk.tokenize import RegexpTokenizer\n",
    "from nltk.stem import WordNetLemmatizer\n",
    "from nltk.corpus import stopwords\n",
    "from sklearn.feature_extraction.text import CountVectorizer\n",
    "import re"
   ]
  },
  {
   "cell_type": "code",
   "execution_count": 5,
   "id": "aff90b69",
   "metadata": {},
   "outputs": [],
   "source": [
    "# function for tokenizing and lemming\n",
    "def lemmatize_join(text):\n",
    "    tokenizer = RegexpTokenizer('[a-z]+', gaps=False) # instantiate tokenizer\n",
    "    lemmer = WordNetLemmatizer() # instantiate lemmatizer\n",
    "    return ' '.join([lemmer.lemmatize(w) for w in tokenizer.tokenize(text.lower())]) \n",
    "    # lowercase, join back together with spaces so that word vectorizers can still operate \n",
    "    # on cell contents as strings"
   ]
  },
  {
   "cell_type": "code",
   "execution_count": 6,
   "id": "47a35fa8",
   "metadata": {},
   "outputs": [
    {
     "data": {
      "text/plain": [
       "0    people who dislike hate damian wayne why just ...\n",
       "1    why did some people die in coie but others did...\n",
       "Name: full_post, dtype: object"
      ]
     },
     "metadata": {},
     "output_type": "display_data"
    }
   ],
   "source": [
    "Z_misclass = misclass_df['full_post'].apply(lemmatize_join)\n",
    "display(Z_misclass[:2])"
   ]
  },
  {
   "cell_type": "raw",
   "id": "2798053b",
   "metadata": {},
   "source": []
  },
  {
   "cell_type": "markdown",
   "id": "bf9616ed",
   "metadata": {},
   "source": [
    "### Count Vectorization\n",
    "---"
   ]
  },
  {
   "cell_type": "code",
   "execution_count": 7,
   "id": "0804b212",
   "metadata": {},
   "outputs": [],
   "source": [
    "# instantiate word vectorizer\n",
    "cvec = CountVectorizer(lowercase=False, \n",
    "                       max_df=0.6, \n",
    "                       max_features=1000,\n",
    "                       min_df=3,\n",
    "                       ngram_range=(1,2),\n",
    "                       stop_words='english',\n",
    "                       strip_accents='unicode')"
   ]
  },
  {
   "cell_type": "code",
   "execution_count": 8,
   "id": "f2f58009",
   "metadata": {},
   "outputs": [
    {
     "data": {
      "text/plain": [
       "(1614, 1)"
      ]
     },
     "execution_count": 8,
     "metadata": {},
     "output_type": "execute_result"
    }
   ],
   "source": [
    "Z_train = pd.read_csv('./data/Z_train.csv') # just for fitting count vectorizer\n",
    "Z_train.shape"
   ]
  },
  {
   "cell_type": "code",
   "execution_count": 9,
   "id": "161c9eb7",
   "metadata": {},
   "outputs": [
    {
     "data": {
      "text/plain": [
       "CountVectorizer(lowercase=False, max_df=0.6, max_features=1000, min_df=3,\n",
       "                ngram_range=(1, 2), stop_words='english',\n",
       "                strip_accents='unicode')"
      ]
     },
     "execution_count": 9,
     "metadata": {},
     "output_type": "execute_result"
    }
   ],
   "source": [
    "cvec.fit(Z_train['full_post']) # unable to fit to dataframe, had to convert to pd.series"
   ]
  },
  {
   "cell_type": "code",
   "execution_count": 10,
   "id": "83256f5a",
   "metadata": {},
   "outputs": [
    {
     "data": {
      "text/plain": [
       "(74, 1000)"
      ]
     },
     "metadata": {},
     "output_type": "display_data"
    },
    {
     "data": {
      "text/html": [
       "<div>\n",
       "<style scoped>\n",
       "    .dataframe tbody tr th:only-of-type {\n",
       "        vertical-align: middle;\n",
       "    }\n",
       "\n",
       "    .dataframe tbody tr th {\n",
       "        vertical-align: top;\n",
       "    }\n",
       "\n",
       "    .dataframe thead th {\n",
       "        text-align: right;\n",
       "    }\n",
       "</style>\n",
       "<table border=\"1\" class=\"dataframe\">\n",
       "  <thead>\n",
       "    <tr style=\"text-align: right;\">\n",
       "      <th></th>\n",
       "      <th>ability</th>\n",
       "      <th>able</th>\n",
       "      <th>absolutely</th>\n",
       "      <th>act</th>\n",
       "      <th>action</th>\n",
       "      <th>action comic</th>\n",
       "      <th>actor</th>\n",
       "      <th>actual</th>\n",
       "      <th>actually</th>\n",
       "      <th>adam</th>\n",
       "      <th>...</th>\n",
       "      <th>www youtube</th>\n",
       "      <th>yeah</th>\n",
       "      <th>year</th>\n",
       "      <th>year ago</th>\n",
       "      <th>yellow</th>\n",
       "      <th>yes</th>\n",
       "      <th>young</th>\n",
       "      <th>young justice</th>\n",
       "      <th>youtube</th>\n",
       "      <th>youtube com</th>\n",
       "    </tr>\n",
       "  </thead>\n",
       "  <tbody>\n",
       "    <tr>\n",
       "      <th>0</th>\n",
       "      <td>0</td>\n",
       "      <td>0</td>\n",
       "      <td>0</td>\n",
       "      <td>0</td>\n",
       "      <td>0</td>\n",
       "      <td>0</td>\n",
       "      <td>0</td>\n",
       "      <td>0</td>\n",
       "      <td>0</td>\n",
       "      <td>0</td>\n",
       "      <td>...</td>\n",
       "      <td>0</td>\n",
       "      <td>0</td>\n",
       "      <td>0</td>\n",
       "      <td>0</td>\n",
       "      <td>0</td>\n",
       "      <td>0</td>\n",
       "      <td>0</td>\n",
       "      <td>0</td>\n",
       "      <td>0</td>\n",
       "      <td>0</td>\n",
       "    </tr>\n",
       "    <tr>\n",
       "      <th>1</th>\n",
       "      <td>0</td>\n",
       "      <td>0</td>\n",
       "      <td>0</td>\n",
       "      <td>0</td>\n",
       "      <td>0</td>\n",
       "      <td>0</td>\n",
       "      <td>0</td>\n",
       "      <td>0</td>\n",
       "      <td>0</td>\n",
       "      <td>0</td>\n",
       "      <td>...</td>\n",
       "      <td>0</td>\n",
       "      <td>0</td>\n",
       "      <td>0</td>\n",
       "      <td>0</td>\n",
       "      <td>0</td>\n",
       "      <td>0</td>\n",
       "      <td>0</td>\n",
       "      <td>0</td>\n",
       "      <td>0</td>\n",
       "      <td>0</td>\n",
       "    </tr>\n",
       "    <tr>\n",
       "      <th>2</th>\n",
       "      <td>0</td>\n",
       "      <td>0</td>\n",
       "      <td>0</td>\n",
       "      <td>0</td>\n",
       "      <td>0</td>\n",
       "      <td>0</td>\n",
       "      <td>0</td>\n",
       "      <td>0</td>\n",
       "      <td>0</td>\n",
       "      <td>0</td>\n",
       "      <td>...</td>\n",
       "      <td>0</td>\n",
       "      <td>0</td>\n",
       "      <td>0</td>\n",
       "      <td>0</td>\n",
       "      <td>0</td>\n",
       "      <td>0</td>\n",
       "      <td>0</td>\n",
       "      <td>0</td>\n",
       "      <td>0</td>\n",
       "      <td>0</td>\n",
       "    </tr>\n",
       "  </tbody>\n",
       "</table>\n",
       "<p>3 rows × 1000 columns</p>\n",
       "</div>"
      ],
      "text/plain": [
       "   ability  able  absolutely  act  action  action comic  actor  actual  \\\n",
       "0        0     0           0    0       0             0      0       0   \n",
       "1        0     0           0    0       0             0      0       0   \n",
       "2        0     0           0    0       0             0      0       0   \n",
       "\n",
       "   actually  adam  ...  www youtube  yeah  year  year ago  yellow  yes  young  \\\n",
       "0         0     0  ...            0     0     0         0       0    0      0   \n",
       "1         0     0  ...            0     0     0         0       0    0      0   \n",
       "2         0     0  ...            0     0     0         0       0    0      0   \n",
       "\n",
       "   young justice  youtube  youtube com  \n",
       "0              0        0            0  \n",
       "1              0        0            0  \n",
       "2              0        0            0  \n",
       "\n",
       "[3 rows x 1000 columns]"
      ]
     },
     "metadata": {},
     "output_type": "display_data"
    }
   ],
   "source": [
    "# no train-test-split since not planning for modelling\n",
    "# Use fitted CountVectorizer on the whole lemmatized misclass_df\n",
    "Z_misclass_cvec = pd.DataFrame(cvec.transform(Z_misclass).todense(),\n",
    "                           columns=cvec.get_feature_names_out())\n",
    "display(Z_misclass_cvec.shape) # 1000 word vocabulary from train data,\n",
    "# most features will be zero since data size is small\n",
    "display(Z_misclass_cvec.head(3))"
   ]
  },
  {
   "cell_type": "markdown",
   "id": "e4608348",
   "metadata": {},
   "source": [
    "### Choose a row in `Z_misclass_cvec` to find out word features\n",
    "---\n",
    "\n",
    "`model_df.columns` and `Z_misclass_cvec.columns` each have 1000 rows. So I decide not to print them out to save space"
   ]
  },
  {
   "cell_type": "code",
   "execution_count": 11,
   "id": "f1d71474",
   "metadata": {},
   "outputs": [],
   "source": [
    "# find out if any of the Z_misclass_cvec rows have no 1's?\n",
    "def row_all_zeros(data):\n",
    "    row_list = [] \n",
    "    for row_num in range(len(data)):\n",
    "        if data.iloc[row_num].all(0):\n",
    "            row_list.append(row_num)\n",
    "            \n",
    "    if len(row_list)==0:\n",
    "        print('No rows had all zeros.')\n",
    "        \n",
    "    return row_list        "
   ]
  },
  {
   "cell_type": "code",
   "execution_count": 12,
   "id": "fef52387",
   "metadata": {},
   "outputs": [
    {
     "name": "stdout",
     "output_type": "stream",
     "text": [
      "No rows had all zeros.\n"
     ]
    },
    {
     "data": {
      "text/plain": [
       "[]"
      ]
     },
     "execution_count": 12,
     "metadata": {},
     "output_type": "execute_result"
    }
   ],
   "source": [
    "row_all_zeros(data=Z_misclass_cvec)"
   ]
  },
  {
   "cell_type": "code",
   "execution_count": 13,
   "id": "0495777f",
   "metadata": {},
   "outputs": [],
   "source": [
    "# pick a row to study\n",
    "def features_in_row(row_num, data):\n",
    "    words = []\n",
    "    for index, i in data.iloc[row_num].eq(1).iteritems():\n",
    "        if i == True:\n",
    "            words.append(index)\n",
    "    return words"
   ]
  },
  {
   "cell_type": "code",
   "execution_count": 14,
   "id": "5eb20350",
   "metadata": {},
   "outputs": [
    {
     "data": {
      "text/plain": [
       "['comic', 'curious', 'damian', 'just', 'movie', 'specific', 'spoiler', 'wayne']"
      ]
     },
     "execution_count": 14,
     "metadata": {},
     "output_type": "execute_result"
    }
   ],
   "source": [
    "features_in_row(row_num=0, data=Z_misclass_cvec) # features in row 0"
   ]
  },
  {
   "cell_type": "markdown",
   "id": "8ecc82bd",
   "metadata": {},
   "source": [
    "From just the word features alone identified in a specific post, I am unable to identify why the classifier wrongly classified the post. I will have to use a different way, such as getting the individual weights assigned to each word feature by the classifier, that eventually when summed up resulted in a wrong classification. "
   ]
  },
  {
   "cell_type": "markdown",
   "id": "9ffee04d",
   "metadata": {},
   "source": [
    "### Sum the weights of the features in a post\n",
    "---"
   ]
  },
  {
   "cell_type": "code",
   "execution_count": 15,
   "id": "bb104730",
   "metadata": {},
   "outputs": [
    {
     "data": {
      "text/html": [
       "<div>\n",
       "<style scoped>\n",
       "    .dataframe tbody tr th:only-of-type {\n",
       "        vertical-align: middle;\n",
       "    }\n",
       "\n",
       "    .dataframe tbody tr th {\n",
       "        vertical-align: top;\n",
       "    }\n",
       "\n",
       "    .dataframe thead th {\n",
       "        text-align: right;\n",
       "    }\n",
       "</style>\n",
       "<table border=\"1\" class=\"dataframe\">\n",
       "  <thead>\n",
       "    <tr style=\"text-align: right;\">\n",
       "      <th></th>\n",
       "      <th>feature</th>\n",
       "      <th>weight</th>\n",
       "    </tr>\n",
       "  </thead>\n",
       "  <tbody>\n",
       "    <tr>\n",
       "      <th>997</th>\n",
       "      <td>young justice</td>\n",
       "      <td>0.001386</td>\n",
       "    </tr>\n",
       "    <tr>\n",
       "      <th>998</th>\n",
       "      <td>youtube</td>\n",
       "      <td>0.000000</td>\n",
       "    </tr>\n",
       "    <tr>\n",
       "      <th>999</th>\n",
       "      <td>youtube com</td>\n",
       "      <td>0.000000</td>\n",
       "    </tr>\n",
       "  </tbody>\n",
       "</table>\n",
       "</div>"
      ],
      "text/plain": [
       "           feature    weight\n",
       "997  young justice  0.001386\n",
       "998        youtube  0.000000\n",
       "999    youtube com  0.000000"
      ]
     },
     "metadata": {},
     "output_type": "display_data"
    },
    {
     "data": {
      "text/html": [
       "<div>\n",
       "<style scoped>\n",
       "    .dataframe tbody tr th:only-of-type {\n",
       "        vertical-align: middle;\n",
       "    }\n",
       "\n",
       "    .dataframe tbody tr th {\n",
       "        vertical-align: top;\n",
       "    }\n",
       "\n",
       "    .dataframe thead th {\n",
       "        text-align: right;\n",
       "    }\n",
       "</style>\n",
       "<table border=\"1\" class=\"dataframe\">\n",
       "  <thead>\n",
       "    <tr style=\"text-align: right;\">\n",
       "      <th></th>\n",
       "      <th>feature</th>\n",
       "      <th>predict_marvel</th>\n",
       "      <th>predict_Dcomics</th>\n",
       "    </tr>\n",
       "  </thead>\n",
       "  <tbody>\n",
       "    <tr>\n",
       "      <th>0</th>\n",
       "      <td>ability</td>\n",
       "      <td>0.000593</td>\n",
       "      <td>0.000556</td>\n",
       "    </tr>\n",
       "    <tr>\n",
       "      <th>1</th>\n",
       "      <td>able</td>\n",
       "      <td>0.001717</td>\n",
       "      <td>0.000915</td>\n",
       "    </tr>\n",
       "    <tr>\n",
       "      <th>2</th>\n",
       "      <td>absolutely</td>\n",
       "      <td>0.000562</td>\n",
       "      <td>0.000163</td>\n",
       "    </tr>\n",
       "  </tbody>\n",
       "</table>\n",
       "</div>"
      ],
      "text/plain": [
       "      feature  predict_marvel  predict_Dcomics\n",
       "0     ability        0.000593         0.000556\n",
       "1        able        0.001717         0.000915\n",
       "2  absolutely        0.000562         0.000163"
      ]
     },
     "metadata": {},
     "output_type": "display_data"
    }
   ],
   "source": [
    "# import feature importances for both Random forest and Multinomial NB models\n",
    "rf_feature_importances = pd.read_csv('./data/randomforest_feature_weights.csv')\n",
    "nb_feature_probs = pd.read_csv('./data/multinomialNB_feature_probs.csv')\n",
    "\n",
    "# check imports\n",
    "display(rf_feature_importances.tail(3))\n",
    "display(nb_feature_probs.head(3))"
   ]
  },
  {
   "cell_type": "code",
   "execution_count": 16,
   "id": "672e24be",
   "metadata": {},
   "outputs": [],
   "source": [
    "# going back to analysing first row classified wrongly by Random Forest as Marvel\n",
    "# find weights for each feature present in first row\n",
    "def total_weights(features, reference, weight):\n",
    "    index_list = []\n",
    "    for feature in features:\n",
    "        for index, value in reference['feature'].iteritems():\n",
    "            if value==feature:\n",
    "                index_list.append(index)\n",
    "    \n",
    "    weight_list = []\n",
    "    for num in index_list:\n",
    "        for index, value in reference[weight].iteritems():\n",
    "            if index==num:\n",
    "                weight_list.append(value)\n",
    "    return sum(weight_list)"
   ]
  },
  {
   "cell_type": "code",
   "execution_count": 17,
   "id": "da9ad0aa",
   "metadata": {},
   "outputs": [
    {
     "data": {
      "text/plain": [
       "0.01609735099328855"
      ]
     },
     "execution_count": 17,
     "metadata": {},
     "output_type": "execute_result"
    }
   ],
   "source": [
    "# analyse row 1 again, this is the total weight of the features\n",
    "# it was classified as Marvel instead of DC comics\n",
    "total_weights(features=features_in_row(row_num=0, data=Z_misclass_cvec),\n",
    "              reference=rf_feature_importances,\n",
    "              weight='weight'\n",
    "             )"
   ]
  },
  {
   "cell_type": "markdown",
   "id": "c65cffde",
   "metadata": {},
   "source": [
    "### Compare with correctly classified data\n",
    "---"
   ]
  },
  {
   "cell_type": "code",
   "execution_count": 18,
   "id": "426d2cbf",
   "metadata": {},
   "outputs": [
    {
     "data": {
      "text/plain": [
       "(734, 5)"
      ]
     },
     "metadata": {},
     "output_type": "display_data"
    },
    {
     "data": {
      "text/html": [
       "<div>\n",
       "<style scoped>\n",
       "    .dataframe tbody tr th:only-of-type {\n",
       "        vertical-align: middle;\n",
       "    }\n",
       "\n",
       "    .dataframe tbody tr th {\n",
       "        vertical-align: top;\n",
       "    }\n",
       "\n",
       "    .dataframe thead th {\n",
       "        text-align: right;\n",
       "    }\n",
       "</style>\n",
       "<table border=\"1\" class=\"dataframe\">\n",
       "  <thead>\n",
       "    <tr style=\"text-align: right;\">\n",
       "      <th></th>\n",
       "      <th>Unnamed: 0</th>\n",
       "      <th>full_post</th>\n",
       "      <th>true_values</th>\n",
       "      <th>pred_probs</th>\n",
       "      <th>model</th>\n",
       "    </tr>\n",
       "  </thead>\n",
       "  <tbody>\n",
       "    <tr>\n",
       "      <th>0</th>\n",
       "      <td>1574</td>\n",
       "      <td>People who dislike/hate Damian Wayne, why? I w...</td>\n",
       "      <td>0</td>\n",
       "      <td>0.482220</td>\n",
       "      <td>RF</td>\n",
       "    </tr>\n",
       "    <tr>\n",
       "      <th>1</th>\n",
       "      <td>1771</td>\n",
       "      <td>Is John Stewart really the “most well known Gr...</td>\n",
       "      <td>0</td>\n",
       "      <td>0.319268</td>\n",
       "      <td>RF</td>\n",
       "    </tr>\n",
       "    <tr>\n",
       "      <th>2</th>\n",
       "      <td>984</td>\n",
       "      <td>when do i read the spider-gwen annual #1? righ...</td>\n",
       "      <td>1</td>\n",
       "      <td>0.541272</td>\n",
       "      <td>RF</td>\n",
       "    </tr>\n",
       "  </tbody>\n",
       "</table>\n",
       "</div>"
      ],
      "text/plain": [
       "   Unnamed: 0                                          full_post  true_values  \\\n",
       "0        1574  People who dislike/hate Damian Wayne, why? I w...            0   \n",
       "1        1771  Is John Stewart really the “most well known Gr...            0   \n",
       "2         984  when do i read the spider-gwen annual #1? righ...            1   \n",
       "\n",
       "   pred_probs model  \n",
       "0    0.482220    RF  \n",
       "1    0.319268    RF  \n",
       "2    0.541272    RF  "
      ]
     },
     "metadata": {},
     "output_type": "display_data"
    }
   ],
   "source": [
    "# import reference of correctly classified data\n",
    "rightclass_df = pd.read_csv('./data/right_class.csv')\n",
    "\n",
    "display(rightclass_df.shape)\n",
    "display(rightclass_df.head(3))"
   ]
  },
  {
   "cell_type": "code",
   "execution_count": 19,
   "id": "ba06eda6",
   "metadata": {},
   "outputs": [
    {
     "data": {
      "text/html": [
       "<div>\n",
       "<style scoped>\n",
       "    .dataframe tbody tr th:only-of-type {\n",
       "        vertical-align: middle;\n",
       "    }\n",
       "\n",
       "    .dataframe tbody tr th {\n",
       "        vertical-align: top;\n",
       "    }\n",
       "\n",
       "    .dataframe thead th {\n",
       "        text-align: right;\n",
       "    }\n",
       "</style>\n",
       "<table border=\"1\" class=\"dataframe\">\n",
       "  <thead>\n",
       "    <tr style=\"text-align: right;\">\n",
       "      <th></th>\n",
       "      <th>index_origin</th>\n",
       "      <th>full_post</th>\n",
       "      <th>true_values</th>\n",
       "      <th>pred_probs</th>\n",
       "      <th>model</th>\n",
       "    </tr>\n",
       "  </thead>\n",
       "  <tbody>\n",
       "    <tr>\n",
       "      <th>0</th>\n",
       "      <td>1574</td>\n",
       "      <td>People who dislike/hate Damian Wayne, why? I w...</td>\n",
       "      <td>0</td>\n",
       "      <td>0.482220</td>\n",
       "      <td>RF</td>\n",
       "    </tr>\n",
       "    <tr>\n",
       "      <th>1</th>\n",
       "      <td>1771</td>\n",
       "      <td>Is John Stewart really the “most well known Gr...</td>\n",
       "      <td>0</td>\n",
       "      <td>0.319268</td>\n",
       "      <td>RF</td>\n",
       "    </tr>\n",
       "    <tr>\n",
       "      <th>2</th>\n",
       "      <td>984</td>\n",
       "      <td>when do i read the spider-gwen annual #1? righ...</td>\n",
       "      <td>1</td>\n",
       "      <td>0.541272</td>\n",
       "      <td>RF</td>\n",
       "    </tr>\n",
       "  </tbody>\n",
       "</table>\n",
       "</div>"
      ],
      "text/plain": [
       "   index_origin                                          full_post  \\\n",
       "0          1574  People who dislike/hate Damian Wayne, why? I w...   \n",
       "1          1771  Is John Stewart really the “most well known Gr...   \n",
       "2           984  when do i read the spider-gwen annual #1? righ...   \n",
       "\n",
       "   true_values  pred_probs model  \n",
       "0            0    0.482220    RF  \n",
       "1            0    0.319268    RF  \n",
       "2            1    0.541272    RF  "
      ]
     },
     "metadata": {},
     "output_type": "display_data"
    }
   ],
   "source": [
    "# rename 'Unnamed:0' column\n",
    "rightclass_df.rename(columns={'Unnamed: 0':'index_origin'}, inplace=True)\n",
    "display(rightclass_df.head(3))"
   ]
  },
  {
   "cell_type": "markdown",
   "id": "b88ce4a3",
   "metadata": {},
   "source": [
    "Notice that the post on `index_origin` **1572** in `misclass_df` and **1574** in `rightclass_df` are very similar, yet assigned different probability values. **1572** is assigned 0.514977, while **1574** is assigned 0.482220 by the same `Random Forest classifier`. These 2 posts more likely are re-posts, since the data was pulled based on epoch_time sequence. \n",
    "\n",
    "Let's see if post with index_origin **1574** has slightly different word features that allowed it to be classified correctly."
   ]
  },
  {
   "cell_type": "code",
   "execution_count": 20,
   "id": "a25497d2",
   "metadata": {},
   "outputs": [
    {
     "data": {
      "text/plain": [
       "0    people who dislike hate damian wayne why i wan...\n",
       "1    is john stewart really the most well known gre...\n",
       "Name: full_post, dtype: object"
      ]
     },
     "metadata": {},
     "output_type": "display_data"
    }
   ],
   "source": [
    "# lemmatize the correctly class\n",
    "Z_rightclass = rightclass_df['full_post'].apply(lemmatize_join)\n",
    "display(Z_rightclass[:2])"
   ]
  },
  {
   "cell_type": "code",
   "execution_count": 21,
   "id": "dd2944ba",
   "metadata": {},
   "outputs": [
    {
     "data": {
      "text/plain": [
       "(734, 1000)"
      ]
     },
     "metadata": {},
     "output_type": "display_data"
    },
    {
     "data": {
      "text/html": [
       "<div>\n",
       "<style scoped>\n",
       "    .dataframe tbody tr th:only-of-type {\n",
       "        vertical-align: middle;\n",
       "    }\n",
       "\n",
       "    .dataframe tbody tr th {\n",
       "        vertical-align: top;\n",
       "    }\n",
       "\n",
       "    .dataframe thead th {\n",
       "        text-align: right;\n",
       "    }\n",
       "</style>\n",
       "<table border=\"1\" class=\"dataframe\">\n",
       "  <thead>\n",
       "    <tr style=\"text-align: right;\">\n",
       "      <th></th>\n",
       "      <th>ability</th>\n",
       "      <th>able</th>\n",
       "      <th>absolutely</th>\n",
       "      <th>act</th>\n",
       "      <th>action</th>\n",
       "      <th>action comic</th>\n",
       "      <th>actor</th>\n",
       "      <th>actual</th>\n",
       "      <th>actually</th>\n",
       "      <th>adam</th>\n",
       "      <th>...</th>\n",
       "      <th>www youtube</th>\n",
       "      <th>yeah</th>\n",
       "      <th>year</th>\n",
       "      <th>year ago</th>\n",
       "      <th>yellow</th>\n",
       "      <th>yes</th>\n",
       "      <th>young</th>\n",
       "      <th>young justice</th>\n",
       "      <th>youtube</th>\n",
       "      <th>youtube com</th>\n",
       "    </tr>\n",
       "  </thead>\n",
       "  <tbody>\n",
       "    <tr>\n",
       "      <th>0</th>\n",
       "      <td>0</td>\n",
       "      <td>0</td>\n",
       "      <td>0</td>\n",
       "      <td>0</td>\n",
       "      <td>0</td>\n",
       "      <td>0</td>\n",
       "      <td>0</td>\n",
       "      <td>0</td>\n",
       "      <td>0</td>\n",
       "      <td>0</td>\n",
       "      <td>...</td>\n",
       "      <td>0</td>\n",
       "      <td>0</td>\n",
       "      <td>0</td>\n",
       "      <td>0</td>\n",
       "      <td>0</td>\n",
       "      <td>0</td>\n",
       "      <td>0</td>\n",
       "      <td>0</td>\n",
       "      <td>0</td>\n",
       "      <td>0</td>\n",
       "    </tr>\n",
       "    <tr>\n",
       "      <th>1</th>\n",
       "      <td>0</td>\n",
       "      <td>0</td>\n",
       "      <td>0</td>\n",
       "      <td>0</td>\n",
       "      <td>0</td>\n",
       "      <td>0</td>\n",
       "      <td>0</td>\n",
       "      <td>0</td>\n",
       "      <td>0</td>\n",
       "      <td>0</td>\n",
       "      <td>...</td>\n",
       "      <td>0</td>\n",
       "      <td>0</td>\n",
       "      <td>0</td>\n",
       "      <td>0</td>\n",
       "      <td>0</td>\n",
       "      <td>0</td>\n",
       "      <td>0</td>\n",
       "      <td>0</td>\n",
       "      <td>0</td>\n",
       "      <td>0</td>\n",
       "    </tr>\n",
       "    <tr>\n",
       "      <th>2</th>\n",
       "      <td>0</td>\n",
       "      <td>0</td>\n",
       "      <td>0</td>\n",
       "      <td>0</td>\n",
       "      <td>0</td>\n",
       "      <td>0</td>\n",
       "      <td>0</td>\n",
       "      <td>0</td>\n",
       "      <td>0</td>\n",
       "      <td>0</td>\n",
       "      <td>...</td>\n",
       "      <td>0</td>\n",
       "      <td>0</td>\n",
       "      <td>0</td>\n",
       "      <td>0</td>\n",
       "      <td>0</td>\n",
       "      <td>0</td>\n",
       "      <td>0</td>\n",
       "      <td>0</td>\n",
       "      <td>0</td>\n",
       "      <td>0</td>\n",
       "    </tr>\n",
       "  </tbody>\n",
       "</table>\n",
       "<p>3 rows × 1000 columns</p>\n",
       "</div>"
      ],
      "text/plain": [
       "   ability  able  absolutely  act  action  action comic  actor  actual  \\\n",
       "0        0     0           0    0       0             0      0       0   \n",
       "1        0     0           0    0       0             0      0       0   \n",
       "2        0     0           0    0       0             0      0       0   \n",
       "\n",
       "   actually  adam  ...  www youtube  yeah  year  year ago  yellow  yes  young  \\\n",
       "0         0     0  ...            0     0     0         0       0    0      0   \n",
       "1         0     0  ...            0     0     0         0       0    0      0   \n",
       "2         0     0  ...            0     0     0         0       0    0      0   \n",
       "\n",
       "   young justice  youtube  youtube com  \n",
       "0              0        0            0  \n",
       "1              0        0            0  \n",
       "2              0        0            0  \n",
       "\n",
       "[3 rows x 1000 columns]"
      ]
     },
     "metadata": {},
     "output_type": "display_data"
    }
   ],
   "source": [
    "# count vectorizer already fitted to original train data\n",
    "# no train-test-split since not planning for modelling\n",
    "# Use fitted CountVectorizer on the whole lemmatized misclass_df\n",
    "Z_rightclass_cvec = pd.DataFrame(cvec.transform(Z_rightclass).todense(),\n",
    "                           columns=cvec.get_feature_names_out())\n",
    "display(Z_rightclass_cvec.shape) # 1000 word vocabulary from train data,\n",
    "# most features will be zero since data size is small\n",
    "display(Z_rightclass_cvec.head(3))"
   ]
  },
  {
   "cell_type": "code",
   "execution_count": 22,
   "id": "0b4e5b5a",
   "metadata": {},
   "outputs": [
    {
     "name": "stdout",
     "output_type": "stream",
     "text": [
      "No rows had all zeros.\n"
     ]
    },
    {
     "data": {
      "text/plain": [
       "[]"
      ]
     },
     "execution_count": 22,
     "metadata": {},
     "output_type": "execute_result"
    }
   ],
   "source": [
    "# check if any rows are all zero\n",
    "row_all_zeros(data=Z_rightclass_cvec)"
   ]
  },
  {
   "cell_type": "code",
   "execution_count": 23,
   "id": "763629f2",
   "metadata": {},
   "outputs": [
    {
     "data": {
      "text/plain": [
       "['damian', 'hate', 'point', 'robin', 'understand', 'view', 'want', 'wayne']"
      ]
     },
     "execution_count": 23,
     "metadata": {},
     "output_type": "execute_result"
    }
   ],
   "source": [
    "# get the features in post index_origin 1574\n",
    "features_in_row(row_num=0, data=Z_rightclass_cvec)"
   ]
  },
  {
   "cell_type": "code",
   "execution_count": 24,
   "id": "c88841a5",
   "metadata": {},
   "outputs": [
    {
     "data": {
      "text/plain": [
       "0.0202662044502592"
      ]
     },
     "execution_count": 24,
     "metadata": {},
     "output_type": "execute_result"
    }
   ],
   "source": [
    "# analyse row 1 again, this is the total weight of the features\n",
    "# it was classified as Marvel instead of DC comics\n",
    "total_weights(features=features_in_row(row_num=0, data=Z_rightclass_cvec),\n",
    "              reference=rf_feature_importances,\n",
    "              weight='weight'\n",
    "             )"
   ]
  },
  {
   "cell_type": "markdown",
   "id": "35f755ec",
   "metadata": {},
   "source": [
    "0.0202662044502592 (assigned to index_origin **1574** by Random Forest - correct) compared with 0.01609735099328855 (assigned to index_origin **1572** by Random Forest - wrong), there is no significant difference. \n",
    "\n",
    "However there is a significant difference in the word features for both posts:\n",
    "* Both posts have `damian`, `wayne` as common features\n",
    "* Post **1572** has `comic`, `curious`, `just`, `movie`, `specific`, `spoiler` (wrongly classed)\n",
    "* Post **1574** has `hate`, `point`, `robin`, `understand`, `view`, `want` (rightly classed)\n",
    "\n",
    "From here, it is really challenging to identify the specific words that contributed to the wrong classification, and how to go about improving the model by tweaking the text inputs.\n",
    "\n",
    "With more time and further study, I would like to try using [LIME (open source package)](https://blog.insightdatascience.com/how-to-solve-90-of-nlp-problems-a-step-by-step-guide-fda605278e4e) which is a black-box explainer."
   ]
  },
  {
   "cell_type": "raw",
   "id": "72ced962",
   "metadata": {},
   "source": []
  },
  {
   "cell_type": "markdown",
   "id": "ca52adc1",
   "metadata": {},
   "source": [
    "### Study Multinomial Naive Bayes wrongly classified data\n",
    "---"
   ]
  },
  {
   "cell_type": "code",
   "execution_count": 25,
   "id": "2f4323ec",
   "metadata": {},
   "outputs": [
    {
     "data": {
      "text/html": [
       "<div>\n",
       "<style scoped>\n",
       "    .dataframe tbody tr th:only-of-type {\n",
       "        vertical-align: middle;\n",
       "    }\n",
       "\n",
       "    .dataframe tbody tr th {\n",
       "        vertical-align: top;\n",
       "    }\n",
       "\n",
       "    .dataframe thead th {\n",
       "        text-align: right;\n",
       "    }\n",
       "</style>\n",
       "<table border=\"1\" class=\"dataframe\">\n",
       "  <thead>\n",
       "    <tr style=\"text-align: right;\">\n",
       "      <th></th>\n",
       "      <th>index_origin</th>\n",
       "      <th>full_post</th>\n",
       "      <th>true_values</th>\n",
       "      <th>pred_probs</th>\n",
       "      <th>model</th>\n",
       "    </tr>\n",
       "  </thead>\n",
       "  <tbody>\n",
       "    <tr>\n",
       "      <th>71</th>\n",
       "      <td>131</td>\n",
       "      <td>Spiderman vs Batman Who got better Rogues Gall...</td>\n",
       "      <td>1</td>\n",
       "      <td>1.156167e-08</td>\n",
       "      <td>NB</td>\n",
       "    </tr>\n",
       "    <tr>\n",
       "      <th>72</th>\n",
       "      <td>799</td>\n",
       "      <td>How come marvel never had a crossover with Tat...</td>\n",
       "      <td>1</td>\n",
       "      <td>1.221143e-01</td>\n",
       "      <td>NB</td>\n",
       "    </tr>\n",
       "    <tr>\n",
       "      <th>73</th>\n",
       "      <td>1750</td>\n",
       "      <td>Batman TAS was for kids? I mean, this is not t...</td>\n",
       "      <td>0</td>\n",
       "      <td>9.247457e-01</td>\n",
       "      <td>NB</td>\n",
       "    </tr>\n",
       "  </tbody>\n",
       "</table>\n",
       "</div>"
      ],
      "text/plain": [
       "    index_origin                                          full_post  \\\n",
       "71           131  Spiderman vs Batman Who got better Rogues Gall...   \n",
       "72           799  How come marvel never had a crossover with Tat...   \n",
       "73          1750  Batman TAS was for kids? I mean, this is not t...   \n",
       "\n",
       "    true_values    pred_probs model  \n",
       "71            1  1.156167e-08    NB  \n",
       "72            1  1.221143e-01    NB  \n",
       "73            0  9.247457e-01    NB  "
      ]
     },
     "execution_count": 25,
     "metadata": {},
     "output_type": "execute_result"
    }
   ],
   "source": [
    "misclass_df.tail(3) \n",
    "# pick a datapoint to study, I pick index_origin 1750, index 73.\n",
    "# classified as Marvel, but it is actually DC comics"
   ]
  },
  {
   "cell_type": "code",
   "execution_count": 26,
   "id": "40133d3c",
   "metadata": {},
   "outputs": [
    {
     "data": {
      "text/html": [
       "<div>\n",
       "<style scoped>\n",
       "    .dataframe tbody tr th:only-of-type {\n",
       "        vertical-align: middle;\n",
       "    }\n",
       "\n",
       "    .dataframe tbody tr th {\n",
       "        vertical-align: top;\n",
       "    }\n",
       "\n",
       "    .dataframe thead th {\n",
       "        text-align: right;\n",
       "    }\n",
       "</style>\n",
       "<table border=\"1\" class=\"dataframe\">\n",
       "  <thead>\n",
       "    <tr style=\"text-align: right;\">\n",
       "      <th></th>\n",
       "      <th>feature</th>\n",
       "      <th>predict_marvel</th>\n",
       "      <th>predict_Dcomics</th>\n",
       "    </tr>\n",
       "  </thead>\n",
       "  <tbody>\n",
       "    <tr>\n",
       "      <th>0</th>\n",
       "      <td>ability</td>\n",
       "      <td>0.000593</td>\n",
       "      <td>0.000556</td>\n",
       "    </tr>\n",
       "    <tr>\n",
       "      <th>1</th>\n",
       "      <td>able</td>\n",
       "      <td>0.001717</td>\n",
       "      <td>0.000915</td>\n",
       "    </tr>\n",
       "    <tr>\n",
       "      <th>2</th>\n",
       "      <td>absolutely</td>\n",
       "      <td>0.000562</td>\n",
       "      <td>0.000163</td>\n",
       "    </tr>\n",
       "  </tbody>\n",
       "</table>\n",
       "</div>"
      ],
      "text/plain": [
       "      feature  predict_marvel  predict_Dcomics\n",
       "0     ability        0.000593         0.000556\n",
       "1        able        0.001717         0.000915\n",
       "2  absolutely        0.000562         0.000163"
      ]
     },
     "execution_count": 26,
     "metadata": {},
     "output_type": "execute_result"
    }
   ],
   "source": [
    "# reference this\n",
    "nb_feature_probs.head(3) "
   ]
  },
  {
   "cell_type": "code",
   "execution_count": 27,
   "id": "d7b507b1",
   "metadata": {},
   "outputs": [
    {
     "name": "stdout",
     "output_type": "stream",
     "text": [
      "['batman', 'cartoon', 'child', 'deal', 'example', 'having', 'hell', 'kid', 'long', 'mean', 'meant', 'real', 'saying', 'shot', 'similar', 'thing', 'think', 'wa', 'war']\n"
     ]
    }
   ],
   "source": [
    "print(features_in_row(row_num=73, data=Z_misclass_cvec)) # features in row 73\n",
    "# classified as 'Marvel' wrongly"
   ]
  },
  {
   "cell_type": "code",
   "execution_count": 28,
   "id": "689bb858",
   "metadata": {},
   "outputs": [],
   "source": [
    "# function for filtering datapoint word feature probabilities\n",
    "def point_probs(row_num, data):\n",
    "    feature_list = features_in_row(row_num=row_num, data=data)\n",
    "    new_df = nb_feature_probs[nb_feature_probs['feature'].isin(feature_list)]\n",
    "    return new_df"
   ]
  },
  {
   "cell_type": "code",
   "execution_count": 29,
   "id": "daade558",
   "metadata": {},
   "outputs": [
    {
     "data": {
      "text/html": [
       "<div>\n",
       "<style scoped>\n",
       "    .dataframe tbody tr th:only-of-type {\n",
       "        vertical-align: middle;\n",
       "    }\n",
       "\n",
       "    .dataframe tbody tr th {\n",
       "        vertical-align: top;\n",
       "    }\n",
       "\n",
       "    .dataframe thead th {\n",
       "        text-align: right;\n",
       "    }\n",
       "</style>\n",
       "<table border=\"1\" class=\"dataframe\">\n",
       "  <thead>\n",
       "    <tr style=\"text-align: right;\">\n",
       "      <th></th>\n",
       "      <th>feature</th>\n",
       "      <th>predict_marvel</th>\n",
       "      <th>predict_Dcomics</th>\n",
       "    </tr>\n",
       "  </thead>\n",
       "  <tbody>\n",
       "    <tr>\n",
       "      <th>933</th>\n",
       "      <td>wa</td>\n",
       "      <td>0.020508</td>\n",
       "      <td>0.015033</td>\n",
       "    </tr>\n",
       "    <tr>\n",
       "      <th>871</th>\n",
       "      <td>think</td>\n",
       "      <td>0.006992</td>\n",
       "      <td>0.006275</td>\n",
       "    </tr>\n",
       "    <tr>\n",
       "      <th>945</th>\n",
       "      <td>war</td>\n",
       "      <td>0.004932</td>\n",
       "      <td>0.001569</td>\n",
       "    </tr>\n",
       "    <tr>\n",
       "      <th>870</th>\n",
       "      <td>thing</td>\n",
       "      <td>0.003964</td>\n",
       "      <td>0.002778</td>\n",
       "    </tr>\n",
       "    <tr>\n",
       "      <th>583</th>\n",
       "      <td>mean</td>\n",
       "      <td>0.001967</td>\n",
       "      <td>0.001275</td>\n",
       "    </tr>\n",
       "    <tr>\n",
       "      <th>499</th>\n",
       "      <td>kid</td>\n",
       "      <td>0.001592</td>\n",
       "      <td>0.001111</td>\n",
       "    </tr>\n",
       "    <tr>\n",
       "      <th>544</th>\n",
       "      <td>long</td>\n",
       "      <td>0.001405</td>\n",
       "      <td>0.001144</td>\n",
       "    </tr>\n",
       "    <tr>\n",
       "      <th>783</th>\n",
       "      <td>similar</td>\n",
       "      <td>0.001217</td>\n",
       "      <td>0.000425</td>\n",
       "    </tr>\n",
       "    <tr>\n",
       "      <th>718</th>\n",
       "      <td>real</td>\n",
       "      <td>0.001155</td>\n",
       "      <td>0.001601</td>\n",
       "    </tr>\n",
       "    <tr>\n",
       "      <th>410</th>\n",
       "      <td>having</td>\n",
       "      <td>0.001124</td>\n",
       "      <td>0.001209</td>\n",
       "    </tr>\n",
       "    <tr>\n",
       "      <th>291</th>\n",
       "      <td>example</td>\n",
       "      <td>0.000936</td>\n",
       "      <td>0.001046</td>\n",
       "    </tr>\n",
       "    <tr>\n",
       "      <th>142</th>\n",
       "      <td>child</td>\n",
       "      <td>0.000905</td>\n",
       "      <td>0.000588</td>\n",
       "    </tr>\n",
       "    <tr>\n",
       "      <th>760</th>\n",
       "      <td>saying</td>\n",
       "      <td>0.000749</td>\n",
       "      <td>0.000523</td>\n",
       "    </tr>\n",
       "    <tr>\n",
       "      <th>417</th>\n",
       "      <td>hell</td>\n",
       "      <td>0.000687</td>\n",
       "      <td>0.000294</td>\n",
       "    </tr>\n",
       "    <tr>\n",
       "      <th>226</th>\n",
       "      <td>deal</td>\n",
       "      <td>0.000687</td>\n",
       "      <td>0.000392</td>\n",
       "    </tr>\n",
       "    <tr>\n",
       "      <th>127</th>\n",
       "      <td>cartoon</td>\n",
       "      <td>0.000562</td>\n",
       "      <td>0.000261</td>\n",
       "    </tr>\n",
       "    <tr>\n",
       "      <th>73</th>\n",
       "      <td>batman</td>\n",
       "      <td>0.000406</td>\n",
       "      <td>0.015458</td>\n",
       "    </tr>\n",
       "    <tr>\n",
       "      <th>584</th>\n",
       "      <td>meant</td>\n",
       "      <td>0.000375</td>\n",
       "      <td>0.000294</td>\n",
       "    </tr>\n",
       "    <tr>\n",
       "      <th>781</th>\n",
       "      <td>shot</td>\n",
       "      <td>0.000312</td>\n",
       "      <td>0.000523</td>\n",
       "    </tr>\n",
       "  </tbody>\n",
       "</table>\n",
       "</div>"
      ],
      "text/plain": [
       "     feature  predict_marvel  predict_Dcomics\n",
       "933       wa        0.020508         0.015033\n",
       "871    think        0.006992         0.006275\n",
       "945      war        0.004932         0.001569\n",
       "870    thing        0.003964         0.002778\n",
       "583     mean        0.001967         0.001275\n",
       "499      kid        0.001592         0.001111\n",
       "544     long        0.001405         0.001144\n",
       "783  similar        0.001217         0.000425\n",
       "718     real        0.001155         0.001601\n",
       "410   having        0.001124         0.001209\n",
       "291  example        0.000936         0.001046\n",
       "142    child        0.000905         0.000588\n",
       "760   saying        0.000749         0.000523\n",
       "417     hell        0.000687         0.000294\n",
       "226     deal        0.000687         0.000392\n",
       "127  cartoon        0.000562         0.000261\n",
       "73    batman        0.000406         0.015458\n",
       "584    meant        0.000375         0.000294\n",
       "781     shot        0.000312         0.000523"
      ]
     },
     "execution_count": 29,
     "metadata": {},
     "output_type": "execute_result"
    }
   ],
   "source": [
    "point_probs(row_num=73, data=Z_misclass_cvec).sort_values('predict_marvel', ascending=False)\n",
    "# sort based on predict_marvel column, highest contributor to lowest"
   ]
  },
  {
   "cell_type": "markdown",
   "id": "0a895187",
   "metadata": {},
   "source": [
    "Based on the above table of probabilities for the features present in post with index_origin **1750**, the top 8 words contributed to the misclassification - they are `wa`, `think`, `war`, `thing`, `mean`, `kid`, `long`, `similar` . These words are assigned a higher probability value for predicting `marvel` classification than for `DC comics`. "
   ]
  },
  {
   "cell_type": "markdown",
   "id": "95305a4e",
   "metadata": {},
   "source": [
    "With this short analysis, I learnt that it is easier to explain Multinomial NB model results and reason for misclassifications compared with explaining the same about Random Forest classifier. "
   ]
  },
  {
   "cell_type": "code",
   "execution_count": null,
   "id": "da891f4e",
   "metadata": {},
   "outputs": [],
   "source": []
  }
 ],
 "metadata": {
  "kernelspec": {
   "display_name": "Python 3 (ipykernel)",
   "language": "python",
   "name": "python3"
  },
  "language_info": {
   "codemirror_mode": {
    "name": "ipython",
    "version": 3
   },
   "file_extension": ".py",
   "mimetype": "text/x-python",
   "name": "python",
   "nbconvert_exporter": "python",
   "pygments_lexer": "ipython3",
   "version": "3.9.12"
  }
 },
 "nbformat": 4,
 "nbformat_minor": 5
}
