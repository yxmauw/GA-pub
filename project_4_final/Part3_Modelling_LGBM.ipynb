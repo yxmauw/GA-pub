{
 "cells": [
  {
   "cell_type": "markdown",
   "id": "59d337e3",
   "metadata": {},
   "source": [
    "# Import libraries"
   ]
  },
  {
   "cell_type": "code",
   "execution_count": 1,
   "id": "f6cc0b4c",
   "metadata": {
    "ExecuteTime": {
     "end_time": "2022-09-14T02:24:31.650001Z",
     "start_time": "2022-09-14T02:24:29.568766Z"
    }
   },
   "outputs": [],
   "source": [
    "#!pip install lightgbm\n",
    "#!pip install pactools\n",
    "import os\n",
    "import pickle\n",
    "import numpy as np\n",
    "import pandas as pd\n",
    "import matplotlib.pyplot as plt\n",
    "from lightgbm import LGBMClassifier\n",
    "from sklearn.preprocessing import MinMaxScaler\n",
    "from IPython.display import display, Javascript\n",
    "from imblearn.over_sampling import SMOTE\n",
    "from sklearn.model_selection import train_test_split, GridSearchCV\n",
    "from sklearn.metrics import accuracy_score, roc_curve, roc_auc_score, ConfusionMatrixDisplay, \\\n",
    "confusion_matrix, PrecisionRecallDisplay, precision_recall_curve, classification_report"
   ]
  },
  {
   "cell_type": "markdown",
   "id": "2389b58f",
   "metadata": {},
   "source": [
    "### Define Generalization function"
   ]
  },
  {
   "cell_type": "code",
   "execution_count": 2,
   "id": "f6117202",
   "metadata": {
    "ExecuteTime": {
     "end_time": "2022-09-14T02:24:31.665977Z",
     "start_time": "2022-09-14T02:24:31.650998Z"
    }
   },
   "outputs": [],
   "source": [
    "def gen_score(x,y):\n",
    "    return np.abs(((x - y) / y) * 100)"
   ]
  },
  {
   "cell_type": "markdown",
   "id": "5757853a",
   "metadata": {},
   "source": [
    "# Reading in pickle files"
   ]
  },
  {
   "cell_type": "code",
   "execution_count": 3,
   "id": "c6bc3874",
   "metadata": {
    "ExecuteTime": {
     "end_time": "2022-09-14T02:24:32.335325Z",
     "start_time": "2022-09-14T02:24:32.223538Z"
    }
   },
   "outputs": [],
   "source": [
    "# Balanced data set after SMOTE\n",
    "X_train = pd.read_pickle('./datasets/Z_train.pickle')\n",
    "y_train = pd.read_pickle('./datasets/y_train.pickle')\n",
    "X_test = pd.read_pickle('./datasets/Z_test.pickle')\n",
    "y_test = pd.read_pickle('./datasets/y_test.pickle')\n",
    "train = pd.read_csv('./datasets/train.csv')\n",
    "#Z_train_feat_eng = pd.read_pickle('./ML_data/Z_train_feat_eng.pickle')\n",
    "#Z_test_feat_eng = pd.read_pickle('./ML_data/Z_test_feat_eng.pickle')"
   ]
  },
  {
   "cell_type": "code",
   "execution_count": 4,
   "id": "ebf09c7e",
   "metadata": {
    "ExecuteTime": {
     "end_time": "2022-09-14T02:24:33.062513Z",
     "start_time": "2022-09-14T02:24:33.055536Z"
    }
   },
   "outputs": [
    {
     "name": "stdout",
     "output_type": "stream",
     "text": [
      "X_train's shape is (15822, 232)\n",
      "y_train's shape is (15822,)\n",
      "X_test's shape is (2089, 232)\n",
      "y_test's shape is (2089,)\n"
     ]
    }
   ],
   "source": [
    "print(f\"X_train's shape is {X_train.shape}\")\n",
    "print(f\"y_train's shape is {y_train.shape}\")\n",
    "print(f\"X_test's shape is {X_test.shape}\")\n",
    "print(f\"y_test's shape is {y_test.shape}\")"
   ]
  },
  {
   "cell_type": "code",
   "execution_count": 5,
   "id": "9854693e",
   "metadata": {
    "ExecuteTime": {
     "end_time": "2022-09-13T06:30:06.777596Z",
     "start_time": "2022-09-13T06:30:06.756629Z"
    }
   },
   "outputs": [
    {
     "name": "stdout",
     "output_type": "stream",
     "text": [
      "The proportion of data in y_train is \n",
      "    WnvPresent\n",
      "0         0.5\n",
      "1         0.5\n",
      "The proportion of data in y_test is \n",
      "    WnvPresent\n",
      "0    0.947343\n",
      "1    0.052657\n"
     ]
    }
   ],
   "source": [
    "# Checking the proportion in y_train, y_test data\n",
    "print('The proportion of data in y_train is','\\n', pd.DataFrame(y_train.value_counts(normalize=True)))\n",
    "print('The proportion of data in y_test is','\\n', pd.DataFrame(y_test.value_counts(normalize=True)))"
   ]
  },
  {
   "cell_type": "markdown",
   "id": "5f1f2cb0",
   "metadata": {},
   "source": [
    "# LGBM Model Training"
   ]
  },
  {
   "cell_type": "code",
   "execution_count": 6,
   "id": "846403c9",
   "metadata": {
    "ExecuteTime": {
     "end_time": "2022-09-13T06:30:12.147400Z",
     "start_time": "2022-09-13T06:30:11.851832Z"
    }
   },
   "outputs": [
    {
     "data": {
      "text/plain": [
       "0.968524838832006"
      ]
     },
     "execution_count": 6,
     "metadata": {},
     "output_type": "execute_result"
    }
   ],
   "source": [
    "lgbm = LGBMClassifier()\n",
    "lgbm.fit(X_train, y_train)\n",
    "y_train_pred = lgbm.predict(X_train)\n",
    "accuracy_score(y_train, y_train_pred)"
   ]
  },
  {
   "cell_type": "code",
   "execution_count": 7,
   "id": "81bfdb26",
   "metadata": {
    "ExecuteTime": {
     "end_time": "2022-09-13T06:30:15.228649Z",
     "start_time": "2022-09-13T06:30:15.203716Z"
    }
   },
   "outputs": [
    {
     "data": {
      "text/plain": [
       "0.9248444231689804"
      ]
     },
     "execution_count": 7,
     "metadata": {},
     "output_type": "execute_result"
    }
   ],
   "source": [
    "y_test_pred = lgbm.predict(X_test)\n",
    "accuracy_score(y_test, y_test_pred)"
   ]
  },
  {
   "cell_type": "code",
   "execution_count": 8,
   "id": "29af45b1",
   "metadata": {
    "ExecuteTime": {
     "end_time": "2022-09-13T06:30:17.653718Z",
     "start_time": "2022-09-13T06:30:17.635766Z"
    }
   },
   "outputs": [
    {
     "name": "stdout",
     "output_type": "stream",
     "text": [
      "The generalization score is 4.509994365833928\n"
     ]
    }
   ],
   "source": [
    "gen_score = gen_score(accuracy_score(y_test, y_test_pred), accuracy_score(y_train, y_train_pred))\n",
    "print(f\"The generalization score is {gen_score}\")"
   ]
  },
  {
   "cell_type": "code",
   "execution_count": 13,
   "id": "83b3e6ad",
   "metadata": {
    "ExecuteTime": {
     "end_time": "2022-09-13T06:32:14.432192Z",
     "start_time": "2022-09-13T06:32:14.412274Z"
    }
   },
   "outputs": [],
   "source": [
    "y_test_pred = lgbm.predict_proba(X_test)[:,1]"
   ]
  },
  {
   "cell_type": "code",
   "execution_count": 14,
   "id": "b0a6d321",
   "metadata": {
    "ExecuteTime": {
     "end_time": "2022-09-13T06:32:15.908012Z",
     "start_time": "2022-09-13T06:32:15.812270Z"
    }
   },
   "outputs": [
    {
     "data": {
      "image/png": "[encoded data removed]",
      "text/plain": [
       "<Figure size 576x576 with 1 Axes>"
      ]
     },
     "metadata": {
      "needs_background": "light"
     },
     "output_type": "display_data"
    }
   ],
   "source": [
    "auc = roc_auc_score(y_test, y_test_pred)\n",
    "fpr, tpr, _ = roc_curve(y_test, y_test_pred)\n",
    "plt.figure(figsize=(8, 8))\n",
    "plt.plot(fpr, tpr, label='ROC curve (area = %0.2f)' % auc)\n",
    "plt.plot([0, 1], [0, 1], 'k--')\n",
    "plt.xlim([0.0, 1.0])\n",
    "plt.ylim([0.0, 1.05])\n",
    "plt.xlabel('False Positive Rate')\n",
    "plt.ylabel('True Positive Rate')\n",
    "plt.title('Receiver operating characteristic')\n",
    "plt.legend(loc=\"lower right\")\n",
    "plt.show()"
   ]
  },
  {
   "cell_type": "code",
   "execution_count": 15,
   "id": "84f6c67c",
   "metadata": {
    "ExecuteTime": {
     "end_time": "2022-09-13T06:32:19.755039Z",
     "start_time": "2022-09-13T06:32:19.668273Z"
    }
   },
   "outputs": [
    {
     "data": {
      "image/png": "[encoded data removed]",
      "text/plain": [
       "<Figure size 720x576 with 1 Axes>"
      ]
     },
     "metadata": {
      "needs_background": "light"
     },
     "output_type": "display_data"
    }
   ],
   "source": [
    "fig, ax = plt.subplots(figsize=(10,8))\n",
    "\n",
    "precision, recall, _ = precision_recall_curve(y_test, y_test_pred)\n",
    "disp = PrecisionRecallDisplay(precision, recall)\n",
    "disp.plot(ax=ax);"
   ]
  },
  {
   "cell_type": "code",
   "execution_count": 17,
   "id": "027dea80",
   "metadata": {
    "ExecuteTime": {
     "end_time": "2022-09-13T06:32:38.910005Z",
     "start_time": "2022-09-13T06:32:38.781283Z"
    }
   },
   "outputs": [
    {
     "data": {
      "image/png": "[encoded data removed]",
      "text/plain": [
       "<Figure size 720x576 with 2 Axes>"
      ]
     },
     "metadata": {
      "needs_background": "light"
     },
     "output_type": "display_data"
    }
   ],
   "source": [
    "y_test_pred = lgbm.predict(X_test)\n",
    "\n",
    "cm = confusion_matrix(y_test, y_test_pred)\n",
    "cmp = ConfusionMatrixDisplay(cm)\n",
    "\n",
    "fig, ax = plt.subplots(figsize=(10,8))\n",
    "cmp.plot(ax=ax);"
   ]
  },
  {
   "cell_type": "code",
   "execution_count": 18,
   "id": "b62b95f6",
   "metadata": {
    "ExecuteTime": {
     "end_time": "2022-09-13T06:32:46.258874Z",
     "start_time": "2022-09-13T06:32:46.235937Z"
    }
   },
   "outputs": [
    {
     "name": "stdout",
     "output_type": "stream",
     "text": [
      "              precision    recall  f1-score   support\n",
      "\n",
      "           0       0.96      0.96      0.96      1979\n",
      "           1       0.30      0.32      0.31       110\n",
      "\n",
      "    accuracy                           0.92      2089\n",
      "   macro avg       0.63      0.64      0.63      2089\n",
      "weighted avg       0.93      0.92      0.93      2089\n",
      "\n"
     ]
    }
   ],
   "source": [
    "print(classification_report(y_test, y_test_pred))"
   ]
  },
  {
   "cell_type": "markdown",
   "id": "8155e486",
   "metadata": {
    "ExecuteTime": {
     "end_time": "2022-09-07T09:15:57.919817Z",
     "start_time": "2022-09-07T09:15:57.914834Z"
    }
   },
   "source": [
    "# LGBM (Hyperparameter Tuning)"
   ]
  },
  {
   "cell_type": "code",
   "execution_count": 19,
   "id": "6b417fbf",
   "metadata": {
    "ExecuteTime": {
     "end_time": "2022-09-13T07:22:15.962403Z",
     "start_time": "2022-09-13T06:32:54.812213Z"
    }
   },
   "outputs": [],
   "source": [
    "lgb_estimator = LGBMClassifier(objective='binary', learning_rate=0.01, )\n",
    "param_grid = {\n",
    "    'num_leaves': [5,10,15,20,25,30,35,45,50],\n",
    "    'reg_alpha': [0.1,0.2,0.3,0.4, 0.5,0.6],\n",
    "    'n_estimators': [100,200,300,400,500],\n",
    "    'max_depth': [5,10,15,20,25,30,35,45,50],\n",
    "    }\n",
    "\n",
    "gs = GridSearchCV(estimator=lgb_estimator, param_grid=param_grid, n_jobs=-1)\n",
    "lgbm_gs = gs.fit(X_train, y_train)"
   ]
  },
  {
   "cell_type": "code",
   "execution_count": 20,
   "id": "9cf86c42",
   "metadata": {
    "ExecuteTime": {
     "end_time": "2022-09-13T07:22:15.978361Z",
     "start_time": "2022-09-13T07:22:15.964398Z"
    }
   },
   "outputs": [
    {
     "data": {
      "text/plain": [
       "{'max_depth': 35, 'n_estimators': 500, 'num_leaves': 50, 'reg_alpha': 0.3}"
      ]
     },
     "execution_count": 20,
     "metadata": {},
     "output_type": "execute_result"
    }
   ],
   "source": [
    "lgbm_gs.best_params_"
   ]
  },
  {
   "cell_type": "code",
   "execution_count": 21,
   "id": "3f636a6d",
   "metadata": {
    "ExecuteTime": {
     "end_time": "2022-09-13T07:22:16.419182Z",
     "start_time": "2022-09-13T07:22:15.979359Z"
    }
   },
   "outputs": [],
   "source": [
    "#with open('./ML_data/lgbm_gs.pkl', 'wb') as f:\n",
    "#    pickle.dump(lgbm_gs, f)"
   ]
  },
  {
   "cell_type": "code",
   "execution_count": 22,
   "id": "c1630e69",
   "metadata": {
    "ExecuteTime": {
     "end_time": "2022-09-13T07:22:16.449103Z",
     "start_time": "2022-09-13T07:22:16.420180Z"
    }
   },
   "outputs": [],
   "source": [
    "#with open ('./ML_data/lgbm_gs.pkl', 'rb') as f:\n",
    "#    lgbm_gs = pickle.load(f)"
   ]
  },
  {
   "cell_type": "code",
   "execution_count": 23,
   "id": "701468df",
   "metadata": {
    "ExecuteTime": {
     "end_time": "2022-09-13T07:25:34.239182Z",
     "start_time": "2022-09-13T07:25:34.191310Z"
    }
   },
   "outputs": [],
   "source": [
    "y_test_pred = lgbm_gs.predict(X_test)"
   ]
  },
  {
   "cell_type": "code",
   "execution_count": 24,
   "id": "01827d1e",
   "metadata": {
    "ExecuteTime": {
     "end_time": "2022-09-13T07:25:35.802117Z",
     "start_time": "2022-09-13T07:25:35.694405Z"
    }
   },
   "outputs": [
    {
     "data": {
      "image/png": "[encoded data removed]",
      "text/plain": [
       "<Figure size 576x576 with 1 Axes>"
      ]
     },
     "metadata": {
      "needs_background": "light"
     },
     "output_type": "display_data"
    }
   ],
   "source": [
    "auc = roc_auc_score(y_test, y_test_pred)\n",
    "fpr, tpr, _ = roc_curve(y_test, y_test_pred)\n",
    "plt.figure(figsize=(8, 8))\n",
    "plt.plot(fpr, tpr, label='ROC curve (area = %0.2f)' % auc)\n",
    "plt.plot([0, 1], [0, 1], 'k--')\n",
    "plt.xlim([0.0, 1.0])\n",
    "plt.ylim([0.0, 1.05])\n",
    "plt.xlabel('False Positive Rate')\n",
    "plt.ylabel('True Positive Rate')\n",
    "plt.title('Receiver operating characteristic')\n",
    "plt.legend(loc=\"lower right\")\n",
    "plt.show()"
   ]
  },
  {
   "cell_type": "code",
   "execution_count": 25,
   "id": "a6e79469",
   "metadata": {
    "ExecuteTime": {
     "end_time": "2022-09-13T07:27:09.285019Z",
     "start_time": "2022-09-13T07:27:09.255100Z"
    }
   },
   "outputs": [
    {
     "data": {
      "text/html": [
       "<div>\n",
       "<style scoped>\n",
       "    .dataframe tbody tr th:only-of-type {\n",
       "        vertical-align: middle;\n",
       "    }\n",
       "\n",
       "    .dataframe tbody tr th {\n",
       "        vertical-align: top;\n",
       "    }\n",
       "\n",
       "    .dataframe thead th {\n",
       "        text-align: right;\n",
       "    }\n",
       "</style>\n",
       "<table border=\"1\" class=\"dataframe\">\n",
       "  <thead>\n",
       "    <tr style=\"text-align: right;\">\n",
       "      <th></th>\n",
       "      <th>Feature</th>\n",
       "      <th>Importance</th>\n",
       "    </tr>\n",
       "  </thead>\n",
       "  <tbody>\n",
       "    <tr>\n",
       "      <th>29</th>\n",
       "      <td>Longitude</td>\n",
       "      <td>966</td>\n",
       "    </tr>\n",
       "    <tr>\n",
       "      <th>32</th>\n",
       "      <td>spp_pipiens</td>\n",
       "      <td>867</td>\n",
       "    </tr>\n",
       "    <tr>\n",
       "      <th>26</th>\n",
       "      <td>TS</td>\n",
       "      <td>758</td>\n",
       "    </tr>\n",
       "    <tr>\n",
       "      <th>28</th>\n",
       "      <td>Latitude</td>\n",
       "      <td>711</td>\n",
       "    </tr>\n",
       "    <tr>\n",
       "      <th>27</th>\n",
       "      <td>VC</td>\n",
       "      <td>641</td>\n",
       "    </tr>\n",
       "    <tr>\n",
       "      <th>31</th>\n",
       "      <td>spp_erraticus</td>\n",
       "      <td>637</td>\n",
       "    </tr>\n",
       "    <tr>\n",
       "      <th>171</th>\n",
       "      <td>T238</td>\n",
       "      <td>616</td>\n",
       "    </tr>\n",
       "    <tr>\n",
       "      <th>158</th>\n",
       "      <td>T224</td>\n",
       "      <td>590</td>\n",
       "    </tr>\n",
       "    <tr>\n",
       "      <th>1</th>\n",
       "      <td>Day</td>\n",
       "      <td>546</td>\n",
       "    </tr>\n",
       "    <tr>\n",
       "      <th>38</th>\n",
       "      <td>T001</td>\n",
       "      <td>533</td>\n",
       "    </tr>\n",
       "  </tbody>\n",
       "</table>\n",
       "</div>"
      ],
      "text/plain": [
       "           Feature  Importance\n",
       "29       Longitude         966\n",
       "32     spp_pipiens         867\n",
       "26              TS         758\n",
       "28        Latitude         711\n",
       "27              VC         641\n",
       "31   spp_erraticus         637\n",
       "171           T238         616\n",
       "158           T224         590\n",
       "1              Day         546\n",
       "38            T001         533"
      ]
     },
     "execution_count": 25,
     "metadata": {},
     "output_type": "execute_result"
    }
   ],
   "source": [
    "df = pd.concat([pd.DataFrame(train.columns), pd.DataFrame(lgbm_gs.best_estimator_.feature_importances_)], \\\n",
    "          axis=1)\n",
    "df.columns = ['Feature', 'Importance']\n",
    "df.sort_values(by='Importance', ascending=False, inplace=True)\n",
    "df = df.head(10)\n",
    "df"
   ]
  },
  {
   "cell_type": "code",
   "execution_count": 26,
   "id": "fa2d33c2",
   "metadata": {
    "ExecuteTime": {
     "end_time": "2022-09-13T07:27:12.541916Z",
     "start_time": "2022-09-13T07:27:12.415265Z"
    }
   },
   "outputs": [
    {
     "data": {
      "image/png": "[encoded data removed]",
      "text/plain": [
       "<Figure size 800x480 with 1 Axes>"
      ]
     },
     "metadata": {
      "needs_background": "light"
     },
     "output_type": "display_data"
    }
   ],
   "source": [
    "plt.figure(figsize=(10, 6), dpi=80)\n",
    "plt.barh(df['Feature'], df['Importance'])\n",
    "plt.title('Feature Importance')\n",
    "plt.ylabel('Feature')\n",
    "plt.xlabel('Importance')\n",
    "plt.gca().invert_yaxis();"
   ]
  },
  {
   "cell_type": "markdown",
   "id": "2a92df75",
   "metadata": {},
   "source": [
    "# Converting Month, Day to Categorical"
   ]
  },
  {
   "cell_type": "code",
   "execution_count": 85,
   "id": "293d61f5",
   "metadata": {
    "ExecuteTime": {
     "end_time": "2022-09-11T04:25:07.621385Z",
     "start_time": "2022-09-11T04:25:07.606424Z"
    }
   },
   "outputs": [
    {
     "data": {
      "text/html": [
       "<div>\n",
       "<style scoped>\n",
       "    .dataframe tbody tr th:only-of-type {\n",
       "        vertical-align: middle;\n",
       "    }\n",
       "\n",
       "    .dataframe tbody tr th {\n",
       "        vertical-align: top;\n",
       "    }\n",
       "\n",
       "    .dataframe thead th {\n",
       "        text-align: right;\n",
       "    }\n",
       "</style>\n",
       "<table border=\"1\" class=\"dataframe\">\n",
       "  <thead>\n",
       "    <tr style=\"text-align: right;\">\n",
       "      <th></th>\n",
       "      <th>Month</th>\n",
       "      <th>Day</th>\n",
       "      <th>Station</th>\n",
       "      <th>Tmax</th>\n",
       "      <th>Tmin</th>\n",
       "      <th>Tavg</th>\n",
       "      <th>DewPoint</th>\n",
       "      <th>WetBulb</th>\n",
       "      <th>PrecipTotal</th>\n",
       "      <th>StnPressure</th>\n",
       "      <th>...</th>\n",
       "      <th>T218B</th>\n",
       "      <th>T065A</th>\n",
       "      <th>T002A</th>\n",
       "      <th>T200A</th>\n",
       "      <th>T002B</th>\n",
       "      <th>T090C</th>\n",
       "      <th>T090B</th>\n",
       "      <th>T234</th>\n",
       "      <th>T128A</th>\n",
       "      <th>spray</th>\n",
       "    </tr>\n",
       "  </thead>\n",
       "  <tbody>\n",
       "    <tr>\n",
       "      <th>0</th>\n",
       "      <td>5</td>\n",
       "      <td>29</td>\n",
       "      <td>1</td>\n",
       "      <td>88</td>\n",
       "      <td>60</td>\n",
       "      <td>74</td>\n",
       "      <td>58</td>\n",
       "      <td>65</td>\n",
       "      <td>0.0</td>\n",
       "      <td>29.39</td>\n",
       "      <td>...</td>\n",
       "      <td>0</td>\n",
       "      <td>0</td>\n",
       "      <td>0</td>\n",
       "      <td>0</td>\n",
       "      <td>0</td>\n",
       "      <td>0</td>\n",
       "      <td>0</td>\n",
       "      <td>0</td>\n",
       "      <td>0</td>\n",
       "      <td>0</td>\n",
       "    </tr>\n",
       "    <tr>\n",
       "      <th>1</th>\n",
       "      <td>5</td>\n",
       "      <td>29</td>\n",
       "      <td>2</td>\n",
       "      <td>88</td>\n",
       "      <td>65</td>\n",
       "      <td>77</td>\n",
       "      <td>59</td>\n",
       "      <td>66</td>\n",
       "      <td>0.0</td>\n",
       "      <td>29.44</td>\n",
       "      <td>...</td>\n",
       "      <td>0</td>\n",
       "      <td>0</td>\n",
       "      <td>0</td>\n",
       "      <td>0</td>\n",
       "      <td>0</td>\n",
       "      <td>0</td>\n",
       "      <td>0</td>\n",
       "      <td>0</td>\n",
       "      <td>0</td>\n",
       "      <td>0</td>\n",
       "    </tr>\n",
       "    <tr>\n",
       "      <th>2</th>\n",
       "      <td>5</td>\n",
       "      <td>29</td>\n",
       "      <td>2</td>\n",
       "      <td>88</td>\n",
       "      <td>65</td>\n",
       "      <td>77</td>\n",
       "      <td>59</td>\n",
       "      <td>66</td>\n",
       "      <td>0.0</td>\n",
       "      <td>29.44</td>\n",
       "      <td>...</td>\n",
       "      <td>0</td>\n",
       "      <td>0</td>\n",
       "      <td>0</td>\n",
       "      <td>0</td>\n",
       "      <td>0</td>\n",
       "      <td>0</td>\n",
       "      <td>0</td>\n",
       "      <td>0</td>\n",
       "      <td>0</td>\n",
       "      <td>0</td>\n",
       "    </tr>\n",
       "    <tr>\n",
       "      <th>3</th>\n",
       "      <td>5</td>\n",
       "      <td>29</td>\n",
       "      <td>2</td>\n",
       "      <td>88</td>\n",
       "      <td>65</td>\n",
       "      <td>77</td>\n",
       "      <td>59</td>\n",
       "      <td>66</td>\n",
       "      <td>0.0</td>\n",
       "      <td>29.44</td>\n",
       "      <td>...</td>\n",
       "      <td>0</td>\n",
       "      <td>0</td>\n",
       "      <td>0</td>\n",
       "      <td>0</td>\n",
       "      <td>0</td>\n",
       "      <td>0</td>\n",
       "      <td>0</td>\n",
       "      <td>0</td>\n",
       "      <td>0</td>\n",
       "      <td>0</td>\n",
       "    </tr>\n",
       "    <tr>\n",
       "      <th>4</th>\n",
       "      <td>5</td>\n",
       "      <td>29</td>\n",
       "      <td>2</td>\n",
       "      <td>88</td>\n",
       "      <td>65</td>\n",
       "      <td>77</td>\n",
       "      <td>59</td>\n",
       "      <td>66</td>\n",
       "      <td>0.0</td>\n",
       "      <td>29.44</td>\n",
       "      <td>...</td>\n",
       "      <td>0</td>\n",
       "      <td>0</td>\n",
       "      <td>0</td>\n",
       "      <td>0</td>\n",
       "      <td>0</td>\n",
       "      <td>0</td>\n",
       "      <td>0</td>\n",
       "      <td>0</td>\n",
       "      <td>0</td>\n",
       "      <td>0</td>\n",
       "    </tr>\n",
       "  </tbody>\n",
       "</table>\n",
       "<p>5 rows × 188 columns</p>\n",
       "</div>"
      ],
      "text/plain": [
       "   Month  Day  Station  Tmax  Tmin  Tavg  DewPoint  WetBulb  PrecipTotal  \\\n",
       "0      5   29        1    88    60    74        58       65          0.0   \n",
       "1      5   29        2    88    65    77        59       66          0.0   \n",
       "2      5   29        2    88    65    77        59       66          0.0   \n",
       "3      5   29        2    88    65    77        59       66          0.0   \n",
       "4      5   29        2    88    65    77        59       66          0.0   \n",
       "\n",
       "   StnPressure  ...  T218B  T065A  T002A  T200A  T002B  T090C  T090B  T234  \\\n",
       "0        29.39  ...      0      0      0      0      0      0      0     0   \n",
       "1        29.44  ...      0      0      0      0      0      0      0     0   \n",
       "2        29.44  ...      0      0      0      0      0      0      0     0   \n",
       "3        29.44  ...      0      0      0      0      0      0      0     0   \n",
       "4        29.44  ...      0      0      0      0      0      0      0     0   \n",
       "\n",
       "   T128A  spray  \n",
       "0      0      0  \n",
       "1      0      0  \n",
       "2      0      0  \n",
       "3      0      0  \n",
       "4      0      0  \n",
       "\n",
       "[5 rows x 188 columns]"
      ]
     },
     "execution_count": 85,
     "metadata": {},
     "output_type": "execute_result"
    }
   ],
   "source": [
    "train.head()"
   ]
  },
  {
   "cell_type": "code",
   "execution_count": 86,
   "id": "7810d889",
   "metadata": {
    "ExecuteTime": {
     "end_time": "2022-09-11T04:25:07.652706Z",
     "start_time": "2022-09-11T04:25:07.622381Z"
    }
   },
   "outputs": [
    {
     "name": "stdout",
     "output_type": "stream",
     "text": [
      "<class 'pandas.core.frame.DataFrame'>\n",
      "RangeIndex: 10441 entries, 0 to 10440\n",
      "Data columns (total 188 columns):\n",
      " #    Column           Dtype  \n",
      "---   ------           -----  \n",
      " 0    Month            object \n",
      " 1    Day              object \n",
      " 2    Station          int64  \n",
      " 3    Tmax             int64  \n",
      " 4    Tmin             int64  \n",
      " 5    Tavg             int64  \n",
      " 6    DewPoint         int64  \n",
      " 7    WetBulb          int64  \n",
      " 8    PrecipTotal      float64\n",
      " 9    StnPressure      float64\n",
      " 10   SeaLevel         float64\n",
      " 11   ResultSpeed      float64\n",
      " 12   ResultDir        int64  \n",
      " 13   AvgSpeed         float64\n",
      " 14   BC               int64  \n",
      " 15   BR               int64  \n",
      " 16   DZ               int64  \n",
      " 17   FG               int64  \n",
      " 18   FU               int64  \n",
      " 19   GR               int64  \n",
      " 20   HZ               int64  \n",
      " 21   M                int64  \n",
      " 22   MI               int64  \n",
      " 23   RA               int64  \n",
      " 24   SN               int64  \n",
      " 25   SQ               int64  \n",
      " 26   TS               int64  \n",
      " 27   VC               int64  \n",
      " 28   Latitude         float64\n",
      " 29   Longitude        float64\n",
      " 30   WnvPresent       int64  \n",
      " 31   spp_erraticus    int64  \n",
      " 32   spp_pipiens      int64  \n",
      " 33   spp_restuans     int64  \n",
      " 34   spp_salinarius   int64  \n",
      " 35   spp_tarsalis     int64  \n",
      " 36   spp_territans    int64  \n",
      " 37   spp_unspecified  int64  \n",
      " 38   T001             int64  \n",
      " 39   T002             int64  \n",
      " 40   T003             int64  \n",
      " 41   T004             int64  \n",
      " 42   T005             int64  \n",
      " 43   T006             int64  \n",
      " 44   T007             int64  \n",
      " 45   T008             int64  \n",
      " 46   T009             int64  \n",
      " 47   T011             int64  \n",
      " 48   T012             int64  \n",
      " 49   T013             int64  \n",
      " 50   T014             int64  \n",
      " 51   T015             int64  \n",
      " 52   T016             int64  \n",
      " 53   T017             int64  \n",
      " 54   T018             int64  \n",
      " 55   T019             int64  \n",
      " 56   T025             int64  \n",
      " 57   T027             int64  \n",
      " 58   T028             int64  \n",
      " 59   T030             int64  \n",
      " 60   T031             int64  \n",
      " 61   T033             int64  \n",
      " 62   T034             int64  \n",
      " 63   T035             int64  \n",
      " 64   T036             int64  \n",
      " 65   T037             int64  \n",
      " 66   T039             int64  \n",
      " 67   T040             int64  \n",
      " 68   T043             int64  \n",
      " 69   T044             int64  \n",
      " 70   T045             int64  \n",
      " 71   T046             int64  \n",
      " 72   T047             int64  \n",
      " 73   T048             int64  \n",
      " 74   T049             int64  \n",
      " 75   T050             int64  \n",
      " 76   T051             int64  \n",
      " 77   T054             int64  \n",
      " 78   T054C            int64  \n",
      " 79   T060             int64  \n",
      " 80   T061             int64  \n",
      " 81   T062             int64  \n",
      " 82   T063             int64  \n",
      " 83   T065             int64  \n",
      " 84   T066             int64  \n",
      " 85   T067             int64  \n",
      " 86   T069             int64  \n",
      " 87   T070             int64  \n",
      " 88   T071             int64  \n",
      " 89   T072             int64  \n",
      " 90   T073             int64  \n",
      " 91   T074             int64  \n",
      " 92   T075             int64  \n",
      " 93   T076             int64  \n",
      " 94   T077             int64  \n",
      " 95   T078             int64  \n",
      " 96   T079             int64  \n",
      " 97   T080             int64  \n",
      " 98   T081             int64  \n",
      " 99   T082             int64  \n",
      " 100  T083             int64  \n",
      " 101  T084             int64  \n",
      " 102  T085             int64  \n",
      " 103  T086             int64  \n",
      " 104  T088             int64  \n",
      " 105  T089             int64  \n",
      " 106  T090             int64  \n",
      " 107  T091             int64  \n",
      " 108  T092             int64  \n",
      " 109  T094             int64  \n",
      " 110  T094B            int64  \n",
      " 111  T095             int64  \n",
      " 112  T096             int64  \n",
      " 113  T097             int64  \n",
      " 114  T099             int64  \n",
      " 115  T100             int64  \n",
      " 116  T102             int64  \n",
      " 117  T103             int64  \n",
      " 118  T107             int64  \n",
      " 119  T114             int64  \n",
      " 120  T115             int64  \n",
      " 121  T128             int64  \n",
      " 122  T129             int64  \n",
      " 123  T135             int64  \n",
      " 124  T138             int64  \n",
      " 125  T141             int64  \n",
      " 126  T142             int64  \n",
      " 127  T143             int64  \n",
      " 128  T144             int64  \n",
      " 129  T145             int64  \n",
      " 130  T146             int64  \n",
      " 131  T147             int64  \n",
      " 132  T148             int64  \n",
      " 133  T149             int64  \n",
      " 134  T150             int64  \n",
      " 135  T151             int64  \n",
      " 136  T152             int64  \n",
      " 137  T153             int64  \n",
      " 138  T154             int64  \n",
      " 139  T155             int64  \n",
      " 140  T156             int64  \n",
      " 141  T157             int64  \n",
      " 142  T158             int64  \n",
      " 143  T159             int64  \n",
      " 144  T160             int64  \n",
      " 145  T161             int64  \n",
      " 146  T162             int64  \n",
      " 147  T200             int64  \n",
      " 148  T206             int64  \n",
      " 149  T209             int64  \n",
      " 150  T212             int64  \n",
      " 151  T215             int64  \n",
      " 152  T218             int64  \n",
      " 153  T219             int64  \n",
      " 154  T220             int64  \n",
      " 155  T221             int64  \n",
      " 156  T222             int64  \n",
      " 157  T223             int64  \n",
      " 158  T224             int64  \n",
      " 159  T225             int64  \n",
      " 160  T226             int64  \n",
      " 161  T227             int64  \n",
      " 162  T228             int64  \n",
      " 163  T229             int64  \n",
      " 164  T230             int64  \n",
      " 165  T231             int64  \n",
      " 166  T232             int64  \n",
      " 167  T233             int64  \n",
      " 168  T235             int64  \n",
      " 169  T236             int64  \n",
      " 170  T237             int64  \n",
      " 171  T238             int64  \n",
      " 172  T900             int64  \n",
      " 173  T903             int64  \n",
      " 174  T200B            int64  \n",
      " 175  T218C            int64  \n",
      " 176  T090A            int64  \n",
      " 177  T218A            int64  \n",
      " 178  T218B            int64  \n",
      " 179  T065A            int64  \n",
      " 180  T002A            int64  \n",
      " 181  T200A            int64  \n",
      " 182  T002B            int64  \n",
      " 183  T090C            int64  \n",
      " 184  T090B            int64  \n",
      " 185  T234             int64  \n",
      " 186  T128A            int64  \n",
      " 187  spray            int64  \n",
      "dtypes: float64(7), int64(179), object(2)\n",
      "memory usage: 15.0+ MB\n"
     ]
    }
   ],
   "source": [
    "train[['Month', 'Day']] = train[['Month', 'Day']].astype(str)\n",
    "train.info(verbose=True)"
   ]
  },
  {
   "cell_type": "code",
   "execution_count": 87,
   "id": "0b616c84",
   "metadata": {
    "ExecuteTime": {
     "end_time": "2022-09-11T04:25:07.684620Z",
     "start_time": "2022-09-11T04:25:07.654678Z"
    }
   },
   "outputs": [
    {
     "data": {
      "text/html": [
       "<div>\n",
       "<style scoped>\n",
       "    .dataframe tbody tr th:only-of-type {\n",
       "        vertical-align: middle;\n",
       "    }\n",
       "\n",
       "    .dataframe tbody tr th {\n",
       "        vertical-align: top;\n",
       "    }\n",
       "\n",
       "    .dataframe thead th {\n",
       "        text-align: right;\n",
       "    }\n",
       "</style>\n",
       "<table border=\"1\" class=\"dataframe\">\n",
       "  <thead>\n",
       "    <tr style=\"text-align: right;\">\n",
       "      <th></th>\n",
       "      <th>Month_10</th>\n",
       "      <th>Month_5</th>\n",
       "      <th>Month_6</th>\n",
       "      <th>Month_7</th>\n",
       "      <th>Month_8</th>\n",
       "      <th>Month_9</th>\n",
       "      <th>Day_1</th>\n",
       "      <th>Day_10</th>\n",
       "      <th>Day_11</th>\n",
       "      <th>Day_12</th>\n",
       "      <th>...</th>\n",
       "      <th>T218B</th>\n",
       "      <th>T065A</th>\n",
       "      <th>T002A</th>\n",
       "      <th>T200A</th>\n",
       "      <th>T002B</th>\n",
       "      <th>T090C</th>\n",
       "      <th>T090B</th>\n",
       "      <th>T234</th>\n",
       "      <th>T128A</th>\n",
       "      <th>spray</th>\n",
       "    </tr>\n",
       "  </thead>\n",
       "  <tbody>\n",
       "    <tr>\n",
       "      <th>0</th>\n",
       "      <td>0</td>\n",
       "      <td>1</td>\n",
       "      <td>0</td>\n",
       "      <td>0</td>\n",
       "      <td>0</td>\n",
       "      <td>0</td>\n",
       "      <td>0</td>\n",
       "      <td>0</td>\n",
       "      <td>0</td>\n",
       "      <td>0</td>\n",
       "      <td>...</td>\n",
       "      <td>0</td>\n",
       "      <td>0</td>\n",
       "      <td>0</td>\n",
       "      <td>0</td>\n",
       "      <td>0</td>\n",
       "      <td>0</td>\n",
       "      <td>0</td>\n",
       "      <td>0</td>\n",
       "      <td>0</td>\n",
       "      <td>0</td>\n",
       "    </tr>\n",
       "    <tr>\n",
       "      <th>1</th>\n",
       "      <td>0</td>\n",
       "      <td>1</td>\n",
       "      <td>0</td>\n",
       "      <td>0</td>\n",
       "      <td>0</td>\n",
       "      <td>0</td>\n",
       "      <td>0</td>\n",
       "      <td>0</td>\n",
       "      <td>0</td>\n",
       "      <td>0</td>\n",
       "      <td>...</td>\n",
       "      <td>0</td>\n",
       "      <td>0</td>\n",
       "      <td>0</td>\n",
       "      <td>0</td>\n",
       "      <td>0</td>\n",
       "      <td>0</td>\n",
       "      <td>0</td>\n",
       "      <td>0</td>\n",
       "      <td>0</td>\n",
       "      <td>0</td>\n",
       "    </tr>\n",
       "    <tr>\n",
       "      <th>2</th>\n",
       "      <td>0</td>\n",
       "      <td>1</td>\n",
       "      <td>0</td>\n",
       "      <td>0</td>\n",
       "      <td>0</td>\n",
       "      <td>0</td>\n",
       "      <td>0</td>\n",
       "      <td>0</td>\n",
       "      <td>0</td>\n",
       "      <td>0</td>\n",
       "      <td>...</td>\n",
       "      <td>0</td>\n",
       "      <td>0</td>\n",
       "      <td>0</td>\n",
       "      <td>0</td>\n",
       "      <td>0</td>\n",
       "      <td>0</td>\n",
       "      <td>0</td>\n",
       "      <td>0</td>\n",
       "      <td>0</td>\n",
       "      <td>0</td>\n",
       "    </tr>\n",
       "    <tr>\n",
       "      <th>3</th>\n",
       "      <td>0</td>\n",
       "      <td>1</td>\n",
       "      <td>0</td>\n",
       "      <td>0</td>\n",
       "      <td>0</td>\n",
       "      <td>0</td>\n",
       "      <td>0</td>\n",
       "      <td>0</td>\n",
       "      <td>0</td>\n",
       "      <td>0</td>\n",
       "      <td>...</td>\n",
       "      <td>0</td>\n",
       "      <td>0</td>\n",
       "      <td>0</td>\n",
       "      <td>0</td>\n",
       "      <td>0</td>\n",
       "      <td>0</td>\n",
       "      <td>0</td>\n",
       "      <td>0</td>\n",
       "      <td>0</td>\n",
       "      <td>0</td>\n",
       "    </tr>\n",
       "    <tr>\n",
       "      <th>4</th>\n",
       "      <td>0</td>\n",
       "      <td>1</td>\n",
       "      <td>0</td>\n",
       "      <td>0</td>\n",
       "      <td>0</td>\n",
       "      <td>0</td>\n",
       "      <td>0</td>\n",
       "      <td>0</td>\n",
       "      <td>0</td>\n",
       "      <td>0</td>\n",
       "      <td>...</td>\n",
       "      <td>0</td>\n",
       "      <td>0</td>\n",
       "      <td>0</td>\n",
       "      <td>0</td>\n",
       "      <td>0</td>\n",
       "      <td>0</td>\n",
       "      <td>0</td>\n",
       "      <td>0</td>\n",
       "      <td>0</td>\n",
       "      <td>0</td>\n",
       "    </tr>\n",
       "  </tbody>\n",
       "</table>\n",
       "<p>5 rows × 222 columns</p>\n",
       "</div>"
      ],
      "text/plain": [
       "   Month_10  Month_5  Month_6  Month_7  Month_8  Month_9  Day_1  Day_10  \\\n",
       "0         0        1        0        0        0        0      0       0   \n",
       "1         0        1        0        0        0        0      0       0   \n",
       "2         0        1        0        0        0        0      0       0   \n",
       "3         0        1        0        0        0        0      0       0   \n",
       "4         0        1        0        0        0        0      0       0   \n",
       "\n",
       "   Day_11  Day_12  ...  T218B  T065A  T002A  T200A  T002B  T090C  T090B  T234  \\\n",
       "0       0       0  ...      0      0      0      0      0      0      0     0   \n",
       "1       0       0  ...      0      0      0      0      0      0      0     0   \n",
       "2       0       0  ...      0      0      0      0      0      0      0     0   \n",
       "3       0       0  ...      0      0      0      0      0      0      0     0   \n",
       "4       0       0  ...      0      0      0      0      0      0      0     0   \n",
       "\n",
       "   T128A  spray  \n",
       "0      0      0  \n",
       "1      0      0  \n",
       "2      0      0  \n",
       "3      0      0  \n",
       "4      0      0  \n",
       "\n",
       "[5 rows x 222 columns]"
      ]
     },
     "execution_count": 87,
     "metadata": {},
     "output_type": "execute_result"
    }
   ],
   "source": [
    "train = pd.concat([pd.get_dummies(train[['Month', 'Day']]), train.drop(['Month', 'Day'], axis=1)], axis=1)\n",
    "train.head()"
   ]
  },
  {
   "cell_type": "markdown",
   "id": "410ef393",
   "metadata": {},
   "source": [
    "# Define X, Y"
   ]
  },
  {
   "cell_type": "code",
   "execution_count": 88,
   "id": "b9d15e22",
   "metadata": {
    "ExecuteTime": {
     "end_time": "2022-09-11T04:25:07.715516Z",
     "start_time": "2022-09-11T04:25:07.686593Z"
    }
   },
   "outputs": [],
   "source": [
    "X = train.drop('spray', axis=1)\n",
    "y = train['spray']"
   ]
  },
  {
   "cell_type": "markdown",
   "id": "c268ab7d",
   "metadata": {},
   "source": [
    "# Checking Data Imbalance"
   ]
  },
  {
   "cell_type": "code",
   "execution_count": 89,
   "id": "99c1271a",
   "metadata": {
    "ExecuteTime": {
     "end_time": "2022-09-11T04:25:07.731484Z",
     "start_time": "2022-09-11T04:25:07.716513Z"
    }
   },
   "outputs": [
    {
     "data": {
      "text/plain": [
       "0    0.894646\n",
       "1    0.105354\n",
       "Name: spray, dtype: float64"
      ]
     },
     "execution_count": 89,
     "metadata": {},
     "output_type": "execute_result"
    }
   ],
   "source": [
    "y.value_counts(normalize=True)"
   ]
  },
  {
   "cell_type": "markdown",
   "id": "853f0235",
   "metadata": {},
   "source": [
    "# Train, Test Split"
   ]
  },
  {
   "cell_type": "code",
   "execution_count": 90,
   "id": "9d3ee0f8",
   "metadata": {
    "ExecuteTime": {
     "end_time": "2022-09-11T04:25:07.763035Z",
     "start_time": "2022-09-11T04:25:07.732481Z"
    }
   },
   "outputs": [],
   "source": [
    "X_train, X_test, y_train, y_test = train_test_split(X, y, test_size=0.33, random_state=42)"
   ]
  },
  {
   "cell_type": "markdown",
   "id": "bcae18f5",
   "metadata": {},
   "source": [
    "# SMOTE Training Data"
   ]
  },
  {
   "cell_type": "code",
   "execution_count": 91,
   "id": "494240b5",
   "metadata": {
    "ExecuteTime": {
     "end_time": "2022-09-11T04:25:07.903658Z",
     "start_time": "2022-09-11T04:25:07.764031Z"
    }
   },
   "outputs": [],
   "source": [
    "smote = SMOTE()\n",
    "X_train, y_train = smote.fit_resample(X_train, y_train)"
   ]
  },
  {
   "cell_type": "markdown",
   "id": "d7361bcd",
   "metadata": {},
   "source": [
    "# Normalizing"
   ]
  },
  {
   "cell_type": "code",
   "execution_count": 92,
   "id": "e09519f0",
   "metadata": {
    "ExecuteTime": {
     "end_time": "2022-09-11T04:25:07.966576Z",
     "start_time": "2022-09-11T04:25:07.904656Z"
    }
   },
   "outputs": [],
   "source": [
    "mms = MinMaxScaler()\n",
    "X_train = mms.fit_transform(X_train)\n",
    "X_test = mms.transform(X_test)"
   ]
  },
  {
   "cell_type": "markdown",
   "id": "0f361bde",
   "metadata": {},
   "source": [
    "# LGBM (Hyperparameter Tuning)"
   ]
  },
  {
   "cell_type": "code",
   "execution_count": 93,
   "id": "e21f7bc3",
   "metadata": {
    "ExecuteTime": {
     "end_time": "2022-09-11T04:42:38.353200Z",
     "start_time": "2022-09-11T04:25:07.967546Z"
    }
   },
   "outputs": [],
   "source": [
    "lgb_estimator = LGBMClassifier(objective='binary', learning_rate=0.01, )\n",
    "param_grid = {\n",
    "    'num_leaves': [5,10,15,20,25,30,35,45,50],\n",
    "    'reg_alpha': [0.1,0.2,0.3,0.4, 0.5,0.6],\n",
    "    'n_estimators': [100,200,300,400,500],\n",
    "    'max_depth': [5,10,15,20,25,30,35,45,50],\n",
    "    }\n",
    "\n",
    "gs = GridSearchCV(estimator=lgb_estimator, param_grid=param_grid, n_jobs=-1)\n",
    "lgbm_gs_train = gs.fit(X_train, y_train)"
   ]
  },
  {
   "cell_type": "code",
   "execution_count": 94,
   "id": "662ea71c",
   "metadata": {
    "ExecuteTime": {
     "end_time": "2022-09-11T04:42:38.369158Z",
     "start_time": "2022-09-11T04:42:38.355196Z"
    }
   },
   "outputs": [
    {
     "data": {
      "text/plain": [
       "{'max_depth': 25, 'n_estimators': 500, 'num_leaves': 50, 'reg_alpha': 0.2}"
      ]
     },
     "execution_count": 94,
     "metadata": {},
     "output_type": "execute_result"
    }
   ],
   "source": [
    "lgbm_gs_train.best_params_"
   ]
  },
  {
   "cell_type": "code",
   "execution_count": 95,
   "id": "06df83a4",
   "metadata": {
    "ExecuteTime": {
     "end_time": "2022-09-11T04:42:38.432988Z",
     "start_time": "2022-09-11T04:42:38.371153Z"
    }
   },
   "outputs": [],
   "source": [
    "with open('./ML_data/lgbm_gs_train.pkl', 'wb') as f:\n",
    "    pickle.dump(lgbm_gs_train, f)"
   ]
  },
  {
   "cell_type": "code",
   "execution_count": 10,
   "id": "bb699476",
   "metadata": {
    "ExecuteTime": {
     "end_time": "2022-09-14T02:26:22.259775Z",
     "start_time": "2022-09-14T02:26:22.230853Z"
    }
   },
   "outputs": [],
   "source": [
    "with open ('./ML_data/lgbm_gs_train.pkl', 'rb') as f:\n",
    "    lgbm_gs_train = pickle.load(f)"
   ]
  },
  {
   "cell_type": "code",
   "execution_count": 100,
   "id": "5c29ce91",
   "metadata": {
    "ExecuteTime": {
     "end_time": "2022-09-11T04:44:02.144285Z",
     "start_time": "2022-09-11T04:44:02.095416Z"
    }
   },
   "outputs": [],
   "source": [
    "y_test_pred = lgbm_gs_train.predict_proba(X_test)[:, 1]\n",
    "fpr, tpr, _ = roc_curve(y_test, y_test_pred)"
   ]
  },
  {
   "cell_type": "code",
   "execution_count": 98,
   "id": "e260877b",
   "metadata": {
    "ExecuteTime": {
     "end_time": "2022-09-11T04:42:38.604532Z",
     "start_time": "2022-09-11T04:42:38.496817Z"
    }
   },
   "outputs": [
    {
     "data": {
      "image/png": "[encoded data removed]",
      "text/plain": [
       "<Figure size 576x576 with 1 Axes>"
      ]
     },
     "metadata": {
      "needs_background": "light"
     },
     "output_type": "display_data"
    }
   ],
   "source": [
    "fpr, tpr, _ = roc_curve(y_test, y_test_pred)\n",
    "plt.figure(figsize=(8, 8))\n",
    "plt.plot(fpr, tpr, label='ROC curve (area = %0.2f)' % auc)\n",
    "plt.plot([0, 1], [0, 1], 'k--')\n",
    "plt.xlim([0.0, 1.0])\n",
    "plt.ylim([0.0, 1.05])\n",
    "plt.xlabel('False Positive Rate')\n",
    "plt.ylabel('True Positive Rate')\n",
    "plt.title('Receiver operating characteristic')\n",
    "plt.legend(loc=\"lower right\")\n",
    "plt.show()"
   ]
  },
  {
   "cell_type": "code",
   "execution_count": 7,
   "id": "7cc34942",
   "metadata": {
    "ExecuteTime": {
     "end_time": "2022-09-14T02:25:43.567065Z",
     "start_time": "2022-09-14T02:25:43.560085Z"
    }
   },
   "outputs": [],
   "source": [
    "with open ('./assets/feature.pickle', 'rb') as f:\n",
    "    feature = pickle.load(f)"
   ]
  },
  {
   "cell_type": "code",
   "execution_count": 11,
   "id": "616ebc17",
   "metadata": {
    "ExecuteTime": {
     "end_time": "2022-09-14T02:26:25.071092Z",
     "start_time": "2022-09-14T02:26:25.047136Z"
    }
   },
   "outputs": [
    {
     "data": {
      "text/html": [
       "<div>\n",
       "<style scoped>\n",
       "    .dataframe tbody tr th:only-of-type {\n",
       "        vertical-align: middle;\n",
       "    }\n",
       "\n",
       "    .dataframe tbody tr th {\n",
       "        vertical-align: top;\n",
       "    }\n",
       "\n",
       "    .dataframe thead th {\n",
       "        text-align: right;\n",
       "    }\n",
       "</style>\n",
       "<table border=\"1\" class=\"dataframe\">\n",
       "  <thead>\n",
       "    <tr style=\"text-align: right;\">\n",
       "      <th></th>\n",
       "      <th>Feature</th>\n",
       "      <th>Importance</th>\n",
       "    </tr>\n",
       "  </thead>\n",
       "  <tbody>\n",
       "    <tr>\n",
       "      <th>62</th>\n",
       "      <td>T035</td>\n",
       "      <td>6242.0</td>\n",
       "    </tr>\n",
       "    <tr>\n",
       "      <th>63</th>\n",
       "      <td>T036</td>\n",
       "      <td>4781.0</td>\n",
       "    </tr>\n",
       "    <tr>\n",
       "      <th>37</th>\n",
       "      <td>T001</td>\n",
       "      <td>1440.0</td>\n",
       "    </tr>\n",
       "    <tr>\n",
       "      <th>44</th>\n",
       "      <td>T008</td>\n",
       "      <td>714.0</td>\n",
       "    </tr>\n",
       "    <tr>\n",
       "      <th>46</th>\n",
       "      <td>T011</td>\n",
       "      <td>660.0</td>\n",
       "    </tr>\n",
       "    <tr>\n",
       "      <th>47</th>\n",
       "      <td>T012</td>\n",
       "      <td>599.0</td>\n",
       "    </tr>\n",
       "    <tr>\n",
       "      <th>45</th>\n",
       "      <td>T009</td>\n",
       "      <td>588.0</td>\n",
       "    </tr>\n",
       "    <tr>\n",
       "      <th>39</th>\n",
       "      <td>T003</td>\n",
       "      <td>520.0</td>\n",
       "    </tr>\n",
       "    <tr>\n",
       "      <th>4</th>\n",
       "      <td>DewPoint</td>\n",
       "      <td>501.0</td>\n",
       "    </tr>\n",
       "    <tr>\n",
       "      <th>33</th>\n",
       "      <td>spp_salinarius</td>\n",
       "      <td>475.0</td>\n",
       "    </tr>\n",
       "  </tbody>\n",
       "</table>\n",
       "</div>"
      ],
      "text/plain": [
       "           Feature  Importance\n",
       "62            T035      6242.0\n",
       "63            T036      4781.0\n",
       "37            T001      1440.0\n",
       "44            T008       714.0\n",
       "46            T011       660.0\n",
       "47            T012       599.0\n",
       "45            T009       588.0\n",
       "39            T003       520.0\n",
       "4         DewPoint       501.0\n",
       "33  spp_salinarius       475.0"
      ]
     },
     "execution_count": 11,
     "metadata": {},
     "output_type": "execute_result"
    }
   ],
   "source": [
    "df = pd.concat([pd.DataFrame(feature), pd.DataFrame(lgbm_gs_train.best_estimator_.feature_importances_)], \\\n",
    "          axis=1)\n",
    "df.columns = ['Feature', 'Importance']\n",
    "df.sort_values(by='Importance', ascending=False, inplace=True)\n",
    "df = df.head(10)\n",
    "df"
   ]
  },
  {
   "cell_type": "code",
   "execution_count": 12,
   "id": "ad190902",
   "metadata": {
    "ExecuteTime": {
     "end_time": "2022-09-14T02:26:45.535086Z",
     "start_time": "2022-09-14T02:26:45.352035Z"
    }
   },
   "outputs": [
    {
     "data": {
      "image/png": "[encoded data removed]",
      "text/plain": [
       "<Figure size 800x480 with 1 Axes>"
      ]
     },
     "metadata": {
      "needs_background": "light"
     },
     "output_type": "display_data"
    }
   ],
   "source": [
    "plt.figure(figsize=(10, 6), dpi=80)\n",
    "plt.barh(df['Feature'], df['Importance'])\n",
    "plt.title('Feature Importance')\n",
    "plt.ylabel('Feature')\n",
    "plt.xlabel('Importance')\n",
    "plt.gca().invert_yaxis();"
   ]
  }
 ],
 "metadata": {
  "kernelspec": {
   "display_name": "Python 3.9.7 ('base')",
   "language": "python",
   "name": "python3"
  },
  "language_info": {
   "codemirror_mode": {
    "name": "ipython",
    "version": 3
   },
   "file_extension": ".py",
   "mimetype": "text/x-python",
   "name": "python",
   "nbconvert_exporter": "python",
   "pygments_lexer": "ipython3",
   "version": "3.9.7"
  },
  "vscode": {
   "interpreter": {
    "hash": "49e11d300c81e7b6f6d8423a858ce6950d0920d47d699a698a7b373e1d968c6a"
   }
  }
 },
 "nbformat": 4,
 "nbformat_minor": 5
}
