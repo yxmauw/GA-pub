{
 "cells": [
  {
   "cell_type": "markdown",
   "id": "4e0acab9",
   "metadata": {},
   "source": [
    "## Project 1 notes\n",
    "---\n",
    "Kept for future reference. Not great format for current dataset variables "
   ]
  },
  {
   "cell_type": "raw",
   "id": "cb74d1b0",
   "metadata": {},
   "source": [
    "figure, axes = plt.subplots(1, 2, figsize=(5,15))\n",
    "ax2= filtered_sat19.plot.barh(x='IntendedCollegeMajor',\\\n",
    "               y='TestTakers', ax=axes[0])\n",
    "ax2.set_title('TestTakers')\n",
    "ax3= filtered_sat19.plot.barh(x='IntendedCollegeMajor',\\\n",
    "               y='Total', ax=axes[1])\n",
    "ax3.set_title('Total');\n",
    "</details>"
   ]
  },
  {
   "cell_type": "markdown",
   "id": "e5d094b5",
   "metadata": {},
   "source": [
    "**_For rounding purposes:_**"
   ]
  },
  {
   "cell_type": "raw",
   "id": "f1bfc1d3",
   "metadata": {},
   "source": [
    "## for rounding purposes\n",
    "\n",
    "round_2d = {'Participation_mean': 2,\n",
    "            'EBRW_mean': 2,\n",
    "            'Math_mean': 2,\n",
    "            'Total_mean': 2\n",
    "           }\n",
    "\n",
    "sat_combined4 = sat_combined3.round(round_2d)\n",
    "sat_combined4.head()"
   ]
  },
  {
   "cell_type": "markdown",
   "id": "ff394db6",
   "metadata": {},
   "source": [
    "**For converting data types:_**"
   ]
  },
  {
   "cell_type": "raw",
   "id": "ea05ffad",
   "metadata": {},
   "source": [
    "convert_dict = {'EBRW_18': 'int64',\n",
    "                'EBRW_17': 'int64',\n",
    "                'Math_18': 'int64',\n",
    "                'Math_17': 'int64',\n",
    "                'Total_18': 'int64',\n",
    "                'Total_17': 'int64'\n",
    "               }\n",
    "\n",
    "sat_combined3 = sat_combined2.astype(convert_dict)\n",
    "sat_combined3.head()"
   ]
  },
  {
   "cell_type": "markdown",
   "id": "55f86681",
   "metadata": {},
   "source": [
    "**_Masking for heatmaps:_**"
   ]
  },
  {
   "cell_type": "raw",
   "id": "c9025b8b",
   "metadata": {},
   "source": [
    "plt.figure(figsize = (8,4))\n",
    "\n",
    "# Get correlation of variables.\n",
    "corr = mean_sat.corr()\n",
    "\n",
    "# Set up mask to be \"True\" in the upper triangle.\n",
    "mask = np.zeros_like(corr)\n",
    "mask[np.triu_indices_from(mask)] = True\n",
    "\n",
    "sns.heatmap(corr, cmap=sns.diverging_palette(145, 300, s=60, as_cmap=True), mask=mask, annot = True)\n",
    "plt.title('Correlation Heatmap of SAT mean scores dataset', fontsize=16);"
   ]
  },
  {
   "cell_type": "markdown",
   "id": "a16e7628",
   "metadata": {},
   "source": [
    "**_Pairplot:_**"
   ]
  },
  {
   "cell_type": "raw",
   "id": "3be528d5",
   "metadata": {},
   "source": [
    "# visualising the correlation using seaborn pairplot\n",
    "sns.pairplot(mean_sat, corner=True)\n",
    "plt.suptitle('Pairplot of relationships between SAT scores and participation rate', y=1.03, fontsize=15);"
   ]
  },
  {
   "cell_type": "markdown",
   "id": "4e9fa69f",
   "metadata": {},
   "source": [
    "**_Scatterplot:_**"
   ]
  },
  {
   "cell_type": "raw",
   "id": "16cd9817",
   "metadata": {},
   "source": [
    "# set figure size\n",
    "plt.figure(figsize=(5,5))\n",
    "\n",
    "# plot datapoints using matplotlib 2D graph\n",
    "plt.plot(sat_act_income_df['ACT_Pptn_17'], sat_act_income_df['SAT_Pptn_17'],'go', label='2017')\n",
    "plt.plot(sat_act_income_df['ACT_Pptn_18'], sat_act_income_df['SAT_Pptn_18'],'m^', label='2018')\n",
    "plt.plot(sat_act_income_df['ACT_Pptn_19'], sat_act_income_df['SAT_Pptn_19'],'bx', label='2019')\n",
    "\n",
    "# assign legend and legend title\n",
    "plt.legend(loc='upper right', title='Year')\n",
    "\n",
    "# trendline using any x,y pair\n",
    "z = np.polyfit(sat_act_income_df['ACT_Pptn_19'], sat_act_income_df['SAT_Pptn_19'], 1)\n",
    "p = np.poly1d(z)\n",
    "plt.plot(sat_act_income_df['ACT_Pptn_19'],p(sat_act_income_df['ACT_Pptn_19']),\"y:\")\n",
    "\n",
    "# assign chart title\n",
    "plt.title('ACT vs SAT participation rate', fontsize=15)\n",
    "\n",
    "# label axes\n",
    "plt.xlabel('ACT participation rate')\n",
    "plt.ylabel('SAT participation rate');"
   ]
  },
  {
   "cell_type": "markdown",
   "id": "722eddc4",
   "metadata": {},
   "source": [
    "**_Using loc to replace values in columns, need to use with conditions:_**"
   ]
  },
  {
   "cell_type": "raw",
   "id": "fe51a4b8",
   "metadata": {},
   "source": [
    "act_combined.loc[(act_combined['State'] == 'District Of Columbia'), \"State\"] = 'District of Columbia'"
   ]
  },
  {
   "cell_type": "markdown",
   "id": "a5500d87",
   "metadata": {},
   "source": [
    "**Correlation matrix but sorted**"
   ]
  },
  {
   "cell_type": "raw",
   "id": "2bd91d64",
   "metadata": {},
   "source": [
    "'''\n",
    "Did pandas correlation matrix, but it is was very difficult to read with 39x39 \n",
    "numerical features comparison. So I decided it was easier to sort by correlation strength\n",
    "in a list. \n",
    "I excluded the top 39 results since they were correlation values of the same feature against \n",
    "same feature, so no valuable insight from there. \n",
    "Even so, the list is still long.\n",
    "'''\n",
    "train_df.corr().abs().unstack().sort_values(ascending=False)[39:]"
   ]
  },
  {
   "cell_type": "markdown",
   "id": "403ab2b6",
   "metadata": {},
   "source": [
    "**coef table from model**"
   ]
  },
  {
   "cell_type": "raw",
   "id": "91a54822",
   "metadata": {},
   "source": [
    "coef_table = pd.DataFrame(list(X_train.columns)).copy()\n",
    "coef_table.insert(len(coef_table.columns),\"Coefs\",regressor.coef_.transpose())"
   ]
  },
  {
   "cell_type": "markdown",
   "id": "4ed1ff24",
   "metadata": {},
   "source": [
    "_**To reference inf value in loop python**_"
   ]
  },
  {
   "cell_type": "raw",
   "id": "4cd70ff8",
   "metadata": {},
   "source": [
    "if x == float('inf'):\n",
    "     drop_list.append(y)"
   ]
  }
 ],
 "metadata": {
  "kernelspec": {
   "display_name": "Python 3 (ipykernel)",
   "language": "python",
   "name": "python3"
  },
  "language_info": {
   "codemirror_mode": {
    "name": "ipython",
    "version": 3
   },
   "file_extension": ".py",
   "mimetype": "text/x-python",
   "name": "python",
   "nbconvert_exporter": "python",
   "pygments_lexer": "ipython3",
   "version": "3.9.12"
  }
 },
 "nbformat": 4,
 "nbformat_minor": 5
}
