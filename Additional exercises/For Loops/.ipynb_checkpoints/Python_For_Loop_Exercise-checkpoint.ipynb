{
 "cells": [
  {
   "cell_type": "markdown",
   "metadata": {},
   "source": [
    "# Python For-Loop Exercises\n",
    "\n",
    "Some scenarios where for-loops is useful."
   ]
  },
  {
   "cell_type": "markdown",
   "metadata": {},
   "source": [
    "### Reverse dictionary lookup\n",
    "\n",
    "* We sometimes want to flip the key-value pair in a dictionary, so in the new dictionary, the value becomes the new key, and the key becomes the new value.  \n",
    "* Write a function, reverse_dict, which accepts a dictionary and does this flip.   \n",
    "* Assume that the values in the original dictionary are unique from each other."
   ]
  },
  {
   "cell_type": "code",
   "execution_count": 1,
   "metadata": {},
   "outputs": [],
   "source": [
    "def reverse_dict(dict):\n",
    "    dict2 = {}\n",
    "    for key, value in dict.items():\n",
    "        dict2[dict[key]] = key # assigns new values\n",
    "    return dict2"
   ]
  },
  {
   "cell_type": "code",
   "execution_count": null,
   "metadata": {},
   "outputs": [],
   "source": [
    "def reverse_dict(d):\n",
    "    return {value:key for key,value in dict.items()}"
   ]
  },
  {
   "cell_type": "code",
   "execution_count": 2,
   "metadata": {},
   "outputs": [
    {
     "name": "stdout",
     "output_type": "stream",
     "text": [
      "{'lamb': 1, 24: 'A001'}\n"
     ]
    }
   ],
   "source": [
    "orig_dict = {1: 'lamb', 'A001': 24}\n",
    "print(reverse_dict(orig_dict))"
   ]
  },
  {
   "cell_type": "markdown",
   "metadata": {},
   "source": [
    "### Find the smallest number.\n",
    "\n",
    "* For a given list of values (eg. int, floats), we often want to find the smallest value.\n",
    "* Write a function, smallest_value, that accepts a list of numbers, and returns the smallest number in the list."
   ]
  },
  {
   "cell_type": "code",
   "execution_count": 3,
   "metadata": {},
   "outputs": [],
   "source": [
    "def smallest_value(array):\n",
    "    return min(array)"
   ]
  },
  {
   "cell_type": "code",
   "execution_count": 4,
   "metadata": {},
   "outputs": [
    {
     "name": "stdout",
     "output_type": "stream",
     "text": [
      "2\n"
     ]
    }
   ],
   "source": [
    "a = [2,5,88]\n",
    "print(smallest_value(a))"
   ]
  },
  {
   "cell_type": "markdown",
   "metadata": {},
   "source": [
    "### Find n smallest values\n",
    "\n",
    "* Now that we've got a function that finds the smallest number, we will expand on this.\n",
    "* For a given list of values (eg. int, floats), we often want to find the n smallest values.\n",
    "* Write a function, smallest_values, that accepts a list of numbers, and a parameter n. \n",
    "* The function accepts a list of numbers, and returns another list of the n smallest number."
   ]
  },
  {
   "cell_type": "markdown",
   "metadata": {},
   "source": [
    "<font color=red>\n",
    "    *Function solution without for_loop*\n",
    "    <br>\n",
    "    <br>\n",
    "    def smallest_values(array, choices):\n",
    "    <br>\n",
    "    >new_array = sorted(array)\n",
    "    <br>\n",
    "    >small_lst = new_array[:choices]\n",
    "    <br>\n",
    "    >big_lst = new_array[choices:len(array)]\n",
    "    <br>\n",
    "    >return small_lst\n",
    "    <br> \n",
    "</font>"
   ]
  },
  {
   "cell_type": "code",
   "execution_count": 5,
   "metadata": {},
   "outputs": [],
   "source": [
    "def smallest_values(array, choices): \n",
    "    small_lst = []\n",
    "    for i in range(choices):\n",
    "        if len(array) == 0:\n",
    "            break\n",
    "        else:\n",
    "            min_num = min(array)\n",
    "        for n in array:\n",
    "            if len(small_lst) == choices:\n",
    "                break\n",
    "            if n == min_num:\n",
    "                j = array.index(n)\n",
    "                array.pop(j)\n",
    "                small_lst.append(n)\n",
    "                min_num = n\n",
    "    return small_lst"
   ]
  },
  {
   "cell_type": "code",
   "execution_count": 6,
   "metadata": {},
   "outputs": [
    {
     "name": "stdout",
     "output_type": "stream",
     "text": [
      "[2, 2, 5, 5]\n"
     ]
    }
   ],
   "source": [
    "b = [5,2,5,2,5,7,8]\n",
    "print(smallest_values(b, 4))"
   ]
  },
  {
   "cell_type": "code",
   "execution_count": 7,
   "metadata": {},
   "outputs": [
    {
     "name": "stdout",
     "output_type": "stream",
     "text": [
      "[2, 2, 5, 5, 5, 7, 8]\n"
     ]
    }
   ],
   "source": [
    "c = [5,2,5,2,5,7,8]\n",
    "print(smallest_values(c,len(c))) #creates a sorted list"
   ]
  },
  {
   "cell_type": "markdown",
   "metadata": {},
   "source": [
    "### Count the characters\n",
    "\n",
    "* Write a function, count_char, that accepts a string and counts the number of times each character appears in the string.  \n",
    "* The function returns a dictionary with the character as key, and the number of time it appears as the value.\n",
    "* (Optional) You may wish to use with defaultdict, which should return 0 if the character is not available."
   ]
  },
  {
   "cell_type": "code",
   "execution_count": 8,
   "metadata": {},
   "outputs": [],
   "source": [
    "def count_char(string):\n",
    "    dict = {char:0 for char in string}\n",
    "    for key, value in dict.items():\n",
    "        for char in string:\n",
    "            if char == key:\n",
    "                dict[key] += 1\n",
    "    return dict     "
   ]
  },
  {
   "cell_type": "code",
   "execution_count": 9,
   "metadata": {},
   "outputs": [
    {
     "name": "stdout",
     "output_type": "stream",
     "text": [
      "h 1\n",
      "i 1\n",
      "p 2\n",
      "o 1\n"
     ]
    }
   ],
   "source": [
    "# copy of test for my own testing\n",
    "x = count_char(\"hippo\")\n",
    "for k,v in x.items():\n",
    "    print(k,v)"
   ]
  },
  {
   "cell_type": "code",
   "execution_count": 10,
   "metadata": {},
   "outputs": [
    {
     "name": "stdout",
     "output_type": "stream",
     "text": [
      "h 1\n",
      "i 1\n",
      "p 2\n",
      "o 1\n"
     ]
    }
   ],
   "source": [
    "# test provided by exercise\n",
    "x = count_char(\"hippo\") \n",
    "for k,v in x.items():\n",
    "    print(k,v)"
   ]
  },
  {
   "cell_type": "code",
   "execution_count": 1,
   "metadata": {},
   "outputs": [],
   "source": [
    "from collections import defaultdict\n",
    "def count_char2(s):\n",
    "    result = defaultdict(lambda:0)\n",
    "    for c in s:\n",
    "        result[c] +=1\n",
    "    return result"
   ]
  },
  {
   "cell_type": "code",
   "execution_count": 2,
   "metadata": {},
   "outputs": [
    {
     "name": "stdout",
     "output_type": "stream",
     "text": [
      "h 1\n",
      "i 1\n",
      "p 2\n",
      "o 1\n"
     ]
    }
   ],
   "source": [
    "x = count_char2(\"hippo\")\n",
    "for k,v in x.items():\n",
    "    print(k,v)"
   ]
  },
  {
   "cell_type": "code",
   "execution_count": null,
   "metadata": {},
   "outputs": [],
   "source": []
  }
 ],
 "metadata": {
  "kernelspec": {
   "display_name": "Python 3 (ipykernel)",
   "language": "python",
   "name": "python3"
  },
  "language_info": {
   "codemirror_mode": {
    "name": "ipython",
    "version": 3
   },
   "file_extension": ".py",
   "mimetype": "text/x-python",
   "name": "python",
   "nbconvert_exporter": "python",
   "pygments_lexer": "ipython3",
   "version": "3.9.12"
  }
 },
 "nbformat": 4,
 "nbformat_minor": 4
}
