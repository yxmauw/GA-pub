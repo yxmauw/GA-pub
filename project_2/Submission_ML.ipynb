{
 "cells": [
  {
   "cell_type": "markdown",
   "id": "04e469c5",
   "metadata": {},
   "source": [
    "<img src=\"http://imgur.com/1ZcRyrc.png\" style=\"float: left; margin: 20px; height: 55px\">\n",
    "\n",
    "# Project 2: Ames Housing sale price (Part 2 of 2)"
   ]
  },
  {
   "cell_type": "markdown",
   "id": "649e6f2c",
   "metadata": {},
   "source": [
    "## Problem Statement:"
   ]
  },
  {
   "cell_type": "markdown",
   "id": "6c9a8166",
   "metadata": {},
   "source": [
    "Create a regression model based on the _**Ames Housing Dataset**_. This model will predict the price of a house at sale. <br><br>\n",
    "Using this model, I would develop a web application where homeowners who wish to sell their property can use to find out what `SalePrice` to sell their property for. The website will have specific fields for visitors to fill and submit details about their property. Using our proprietary machine learning algorithm, the website will generate an estimate visitors can use as reference to quote their property `SalePrice`. <br><br>\n",
    "**Target audience:** Property listing Proptech companies e.g. PropertyGuru, OhMyHome, SRX"
   ]
  },
  {
   "cell_type": "markdown",
   "id": "d773a254",
   "metadata": {},
   "source": [
    "### Contents:\n",
    "* [Background](#Background)\n",
    "* [Data Dictionary](#Data-Dictionary)\n",
    "* [Data Import & Validation](#Data-Import-and-Validation)  \n",
    "* [Feature selection](#Feature-selection-based-on-correlation-with-SalePrice)\n",
    "* [Train-Test-Split](#Train-test-split:)\n",
    "* [Imputation of `Lot Frontage`](#Imputation-of-train-set:)\n",
    "* [GridSearchCV](#GridSearch-CV)\n",
    "* [Algorithm](#LassoCV)\n",
    "* [Multicollinearity](#Multicollinearity-check:)\n",
    "* [Kaggle Submission](#Kaggle-Submission-preparation)\n",
    "* [Business case](#Business-case-for-project-2)\n",
    "* [Summary](#Limitations,-Recommendations-and-Conclusion)"
   ]
  },
  {
   "cell_type": "markdown",
   "id": "aa9517a3",
   "metadata": {},
   "source": [
    "## Background\n",
    "---"
   ]
  },
  {
   "cell_type": "markdown",
   "id": "0b7fd3de",
   "metadata": {},
   "source": [
    "Project 2 involves using a well-known _**Ames housing data**_ to create a regression model that predicts the price of houses in Ames, IA. The Ames Housing Dataset is an exceptionally detailed and robust dataset with over 75 features relating to houses. I am allowed to use any and all features that are present in this dataset. <br><br> This is also a [Kaggle challenge](https://www.kaggle.com/competitions/dsi-us-11-project-2-regression-challenge/overview), so I would need to make at least one submission towards this regression challenge. Kaggle leaderboard standings will be determined by root mean squared error (`RMSE`).\n",
    "\n",
    "### Data provided\n",
    "There are 3 datasets included in the [`datasets`](datasets/) folder for this project.\n",
    "* [`sample_sub_reg.csv`](datasets/sample_sub_reg.csv): An example of a correctly formatted submission for this challenge (with a random number provided as predictions for `SalePrice`). My submission to Kaggle must match this format\n",
    "* [`test.csv`](datasets/test.csv): Contains the test data for my model. This data is fed into my regression model to make predictions. Target variable (`SalePrice`) is excluded from this data.\n",
    "* [`train.csv`](datasets/train.csv): Contains all of the training data for my model. \n",
    "\n",
    "### Goal\n",
    "To predict the Sale Price for each house. For each Id in the test set, I must predict the value of the SalePrice."
   ]
  },
  {
   "cell_type": "markdown",
   "id": "1e2391be",
   "metadata": {},
   "source": [
    "## Data Dictionary\n",
    "---\n",
    "[Link](http://jse.amstat.org/v19n3/decock/DataDocumentation.txt)"
   ]
  },
  {
   "cell_type": "markdown",
   "id": "1c07a0a2",
   "metadata": {},
   "source": [
    "## Data Import and Validation\n",
    "---"
   ]
  },
  {
   "cell_type": "code",
   "execution_count": 1,
   "id": "af35b445",
   "metadata": {},
   "outputs": [],
   "source": [
    "# import modules for data manipulation\n",
    "import numpy as np\n",
    "import pandas as pd\n",
    "from scipy import stats\n",
    "import statsmodels.api as sm\n",
    "import seaborn as sns\n",
    "import matplotlib.pyplot as plt\n",
    "\n",
    "sns.set_style('whitegrid')\n",
    "\n",
    "%config InlineBackend.figure_format = 'retina'\n",
    "%matplotlib inline"
   ]
  },
  {
   "cell_type": "code",
   "execution_count": 2,
   "id": "0f744eff",
   "metadata": {},
   "outputs": [],
   "source": [
    "# load data\n",
    "train_df = pd.read_csv('model_data.csv')"
   ]
  },
  {
   "cell_type": "code",
   "execution_count": 3,
   "id": "025af09a",
   "metadata": {},
   "outputs": [
    {
     "data": {
      "text/html": [
       "<div>\n",
       "<style scoped>\n",
       "    .dataframe tbody tr th:only-of-type {\n",
       "        vertical-align: middle;\n",
       "    }\n",
       "\n",
       "    .dataframe tbody tr th {\n",
       "        vertical-align: top;\n",
       "    }\n",
       "\n",
       "    .dataframe thead th {\n",
       "        text-align: right;\n",
       "    }\n",
       "</style>\n",
       "<table border=\"1\" class=\"dataframe\">\n",
       "  <thead>\n",
       "    <tr style=\"text-align: right;\">\n",
       "      <th></th>\n",
       "      <th>Id</th>\n",
       "      <th>PID</th>\n",
       "      <th>MS SubClass</th>\n",
       "      <th>Lot Frontage</th>\n",
       "      <th>Lot Area</th>\n",
       "      <th>Alley</th>\n",
       "      <th>Lot Shape</th>\n",
       "      <th>Utilities</th>\n",
       "      <th>Land Slope</th>\n",
       "      <th>Overall Qual</th>\n",
       "      <th>...</th>\n",
       "      <th>htg_other</th>\n",
       "      <th>htg_nan</th>\n",
       "      <th>grge_t_Attchd</th>\n",
       "      <th>grge_t_Detchd</th>\n",
       "      <th>grge_t_other</th>\n",
       "      <th>grge_t_nan</th>\n",
       "      <th>sle_t_Con</th>\n",
       "      <th>sle_t_Oth</th>\n",
       "      <th>sle_t_WD</th>\n",
       "      <th>sle_t_nan</th>\n",
       "    </tr>\n",
       "  </thead>\n",
       "  <tbody>\n",
       "    <tr>\n",
       "      <th>0</th>\n",
       "      <td>109</td>\n",
       "      <td>533352170</td>\n",
       "      <td>60</td>\n",
       "      <td>NaN</td>\n",
       "      <td>13517</td>\n",
       "      <td>0</td>\n",
       "      <td>3</td>\n",
       "      <td>4</td>\n",
       "      <td>3</td>\n",
       "      <td>6</td>\n",
       "      <td>...</td>\n",
       "      <td>0</td>\n",
       "      <td>0</td>\n",
       "      <td>1</td>\n",
       "      <td>0</td>\n",
       "      <td>0</td>\n",
       "      <td>0</td>\n",
       "      <td>0</td>\n",
       "      <td>0</td>\n",
       "      <td>1</td>\n",
       "      <td>0</td>\n",
       "    </tr>\n",
       "    <tr>\n",
       "      <th>1</th>\n",
       "      <td>544</td>\n",
       "      <td>531379050</td>\n",
       "      <td>60</td>\n",
       "      <td>43.0</td>\n",
       "      <td>11492</td>\n",
       "      <td>0</td>\n",
       "      <td>3</td>\n",
       "      <td>4</td>\n",
       "      <td>3</td>\n",
       "      <td>7</td>\n",
       "      <td>...</td>\n",
       "      <td>0</td>\n",
       "      <td>0</td>\n",
       "      <td>1</td>\n",
       "      <td>0</td>\n",
       "      <td>0</td>\n",
       "      <td>0</td>\n",
       "      <td>0</td>\n",
       "      <td>0</td>\n",
       "      <td>1</td>\n",
       "      <td>0</td>\n",
       "    </tr>\n",
       "    <tr>\n",
       "      <th>2</th>\n",
       "      <td>153</td>\n",
       "      <td>535304180</td>\n",
       "      <td>20</td>\n",
       "      <td>68.0</td>\n",
       "      <td>7922</td>\n",
       "      <td>0</td>\n",
       "      <td>4</td>\n",
       "      <td>4</td>\n",
       "      <td>3</td>\n",
       "      <td>5</td>\n",
       "      <td>...</td>\n",
       "      <td>0</td>\n",
       "      <td>0</td>\n",
       "      <td>0</td>\n",
       "      <td>1</td>\n",
       "      <td>0</td>\n",
       "      <td>0</td>\n",
       "      <td>0</td>\n",
       "      <td>0</td>\n",
       "      <td>1</td>\n",
       "      <td>0</td>\n",
       "    </tr>\n",
       "  </tbody>\n",
       "</table>\n",
       "<p>3 rows × 138 columns</p>\n",
       "</div>"
      ],
      "text/plain": [
       "    Id        PID  MS SubClass  Lot Frontage  Lot Area  Alley  Lot Shape  \\\n",
       "0  109  533352170           60           NaN     13517      0          3   \n",
       "1  544  531379050           60          43.0     11492      0          3   \n",
       "2  153  535304180           20          68.0      7922      0          4   \n",
       "\n",
       "   Utilities  Land Slope  Overall Qual  ...  htg_other  htg_nan  \\\n",
       "0          4           3             6  ...          0        0   \n",
       "1          4           3             7  ...          0        0   \n",
       "2          4           3             5  ...          0        0   \n",
       "\n",
       "   grge_t_Attchd  grge_t_Detchd  grge_t_other  grge_t_nan  sle_t_Con  \\\n",
       "0              1              0             0           0          0   \n",
       "1              1              0             0           0          0   \n",
       "2              0              1             0           0          0   \n",
       "\n",
       "   sle_t_Oth  sle_t_WD  sle_t_nan  \n",
       "0          0         1          0  \n",
       "1          0         1          0  \n",
       "2          0         1          0  \n",
       "\n",
       "[3 rows x 138 columns]"
      ]
     },
     "execution_count": 3,
     "metadata": {},
     "output_type": "execute_result"
    }
   ],
   "source": [
    "train_df.head(3)"
   ]
  },
  {
   "cell_type": "code",
   "execution_count": 4,
   "id": "42d9e7e0",
   "metadata": {},
   "outputs": [
    {
     "data": {
      "text/plain": [
       "(1994, 138)"
      ]
     },
     "execution_count": 4,
     "metadata": {},
     "output_type": "execute_result"
    }
   ],
   "source": [
    "train_df.shape"
   ]
  },
  {
   "cell_type": "markdown",
   "id": "22495a2c",
   "metadata": {},
   "source": [
    "## Feature selection based on correlation with `SalePrice`\n",
    "---"
   ]
  },
  {
   "cell_type": "markdown",
   "id": "ee91239a",
   "metadata": {},
   "source": [
    "__Contents:__\n",
    "1. [Correlation series based on `SalePrice`](#corr_mat)\n",
    "1. Statistical significance of correlation\n",
    "    * [Part One](#Statistical-significance-of-correlation:)\n",
    "    * [Part Two](#Statistical-significance-of-correlation-(cont'd):)"
   ]
  },
  {
   "cell_type": "markdown",
   "id": "230777d1",
   "metadata": {},
   "source": [
    "##### corr_mat"
   ]
  },
  {
   "cell_type": "code",
   "execution_count": 5,
   "id": "5af4261f",
   "metadata": {},
   "outputs": [
    {
     "data": {
      "text/plain": [
       "SalePrice         1.000000\n",
       "Overall Qual      0.807923\n",
       "Exter Qual        0.717032\n",
       "Gr Liv Area       0.710122\n",
       "Kitchen Qual      0.688820\n",
       "Total Bsmt SF     0.656232\n",
       "Garage Area       0.653884\n",
       "Garage Cars       0.653081\n",
       "1st Flr SF        0.640068\n",
       "Bsmt Qual         0.624507\n",
       "Year Built        0.599428\n",
       "Garage Finish     0.567438\n",
       "Year Remod/Add    0.556784\n",
       "fdn_PConc         0.548383\n",
       "Fireplace Qu      0.535294\n",
       "Full Bath         0.534058\n",
       "Mas Vnr Area      0.527027\n",
       "TotRms AbvGrd     0.492471\n",
       "Name: SalePrice, dtype: float64"
      ]
     },
     "execution_count": 5,
     "metadata": {},
     "output_type": "execute_result"
    }
   ],
   "source": [
    "# correlation list in relation to SalePrice\n",
    "corr_mat = train_df.corr().SalePrice.sort_values(ascending=False)\n",
    "corr_mat.head(18)"
   ]
  },
  {
   "cell_type": "code",
   "execution_count": 6,
   "id": "da7ea90b",
   "metadata": {},
   "outputs": [],
   "source": [
    "# function to distill out the features based on high correlation with `SalePrice`\n",
    "def corr_list(series, threshold):\n",
    "    lst = []\n",
    "    for index, value in series.items():\n",
    "        if value > threshold:\n",
    "            lst.append(index)\n",
    "            \n",
    "    for item in lst:\n",
    "        if item == 'SalePrice':\n",
    "            lst.remove(item)\n",
    "    return lst"
   ]
  },
  {
   "cell_type": "code",
   "execution_count": 7,
   "id": "2df42903",
   "metadata": {
    "scrolled": false
   },
   "outputs": [],
   "source": [
    "corr_05 = corr_list(corr_mat, threshold=0.5)"
   ]
  },
  {
   "cell_type": "code",
   "execution_count": 8,
   "id": "0cae2e2c",
   "metadata": {},
   "outputs": [
    {
     "data": {
      "text/plain": [
       "16"
      ]
     },
     "execution_count": 8,
     "metadata": {},
     "output_type": "execute_result"
    }
   ],
   "source": [
    "len(corr_05)"
   ]
  },
  {
   "cell_type": "code",
   "execution_count": 9,
   "id": "96e289d3",
   "metadata": {},
   "outputs": [
    {
     "name": "stdout",
     "output_type": "stream",
     "text": [
      "['Overall Qual', 'Exter Qual', 'Gr Liv Area', 'Kitchen Qual', 'Total Bsmt SF', 'Garage Area', 'Garage Cars', '1st Flr SF', 'Bsmt Qual', 'Year Built', 'Garage Finish', 'Year Remod/Add', 'fdn_PConc', 'Fireplace Qu', 'Full Bath', 'Mas Vnr Area']\n"
     ]
    }
   ],
   "source": [
    "print(corr_05)"
   ]
  },
  {
   "cell_type": "markdown",
   "id": "eb1f49c8",
   "metadata": {},
   "source": [
    "I decided to use 0.5 as a correlation threshold to select features that are strongly related to `SalePrice`. This also results in a manageable number of features to fit into my model. There have been other ways of feature selection I have tried (e.g. Lasso model, variation inflation factor scores) but this one seems to result in the best performing model for me. "
   ]
  },
  {
   "cell_type": "markdown",
   "id": "052b2577",
   "metadata": {},
   "source": [
    "##### Statistical significance of correlation:"
   ]
  },
  {
   "cell_type": "markdown",
   "id": "5d8c1d1e",
   "metadata": {},
   "source": [
    "[Correlation reference](https://stackoverflow.com/questions/41075098/how-to-get-the-p-value-in-a-variable-from-olsresults-in-python)"
   ]
  },
  {
   "cell_type": "code",
   "execution_count": 10,
   "id": "58b79033",
   "metadata": {},
   "outputs": [],
   "source": [
    "# calling function to make a list of features from the above correlation pd.Series\n",
    "# using 0.3 correlation strength as a threshold to include more features for testing\n",
    "# some strongly correlated features with `SalePrice` may not be statistically significant\n",
    "corr_03 = corr_list(corr_mat, threshold=0.3)"
   ]
  },
  {
   "cell_type": "code",
   "execution_count": 11,
   "id": "d650d215",
   "metadata": {},
   "outputs": [],
   "source": [
    "# need to test for statistical significance\n",
    "X = train_df[corr_03]\n",
    "y = train_df['SalePrice']"
   ]
  },
  {
   "cell_type": "raw",
   "id": "aafcb773",
   "metadata": {},
   "source": [
    "X = sm.add_constant(X, prepend=True)\n",
    "model = sm.OLS(y, X).fit()\n",
    "\n",
    "d = {}\n",
    "for i in X.columns.tolist():\n",
    "    d[f'{i}'] = model_ols.pvalues[i]\n",
    "\n",
    "df_pvalue= pd.DataFrame(d.items(), columns=['var_name', 'p-value']).sort_values(by = 'p-value').reset_index(drop=True)"
   ]
  },
  {
   "cell_type": "raw",
   "id": "8d3d0e79",
   "metadata": {},
   "source": [
    "df_pvalue.head(20)"
   ]
  },
  {
   "cell_type": "code",
   "execution_count": 12,
   "id": "35157ac0",
   "metadata": {},
   "outputs": [
    {
     "data": {
      "text/plain": [
       "Lot Frontage     318\n",
       "Overall Qual       0\n",
       "TotRms AbvGrd      0\n",
       "dtype: int64"
      ]
     },
     "execution_count": 12,
     "metadata": {},
     "output_type": "execute_result"
    }
   ],
   "source": [
    "X.isnull().sum().sort_values(ascending=False)[:3] \n",
    "# X has null values that OLS model cannot accept"
   ]
  },
  {
   "cell_type": "markdown",
   "id": "09e7dd6a",
   "metadata": {},
   "source": [
    "When I attempted to perform the test for statistical signficance of the correlation between features and `SalePrice`, the test threw an error that X still have null values that needed to be dealt with. So I had to put this test aside until I performed the train-test-split, which is the next step."
   ]
  },
  {
   "cell_type": "markdown",
   "id": "5063520b",
   "metadata": {},
   "source": [
    "## Train-test-split:\n",
    "---"
   ]
  },
  {
   "cell_type": "code",
   "execution_count": 13,
   "id": "ceb5dd83",
   "metadata": {},
   "outputs": [],
   "source": [
    "# import modules\n",
    "from sklearn.model_selection import train_test_split\n",
    "from sklearn.preprocessing import StandardScaler"
   ]
  },
  {
   "cell_type": "code",
   "execution_count": 14,
   "id": "0996e90f",
   "metadata": {},
   "outputs": [],
   "source": [
    "# Create X and y\n",
    "'''\n",
    "I would also drop `Id` and `PID` features since they seem to be just serial numbers, \n",
    "and are not meaningful in real world setting for predicting sale price\n",
    "'''\n",
    "X = train_df.drop(columns=['SalePrice','Id','PID'])\n",
    "y = train_df['SalePrice']"
   ]
  },
  {
   "cell_type": "code",
   "execution_count": 15,
   "id": "f14d377e",
   "metadata": {},
   "outputs": [],
   "source": [
    "# create train-test-split sets\n",
    "# since this is not a classification problem, y cannot be stratified\n",
    "X_train, X_test, y_train, y_test = train_test_split(X, y, test_size=0.3, random_state=42)"
   ]
  },
  {
   "cell_type": "code",
   "execution_count": 16,
   "id": "26ff0e81",
   "metadata": {},
   "outputs": [
    {
     "data": {
      "text/plain": [
       "Lot Frontage    235\n",
       "bdg_t_twnhs       0\n",
       "cdn_1_nan         0\n",
       "dtype: int64"
      ]
     },
     "execution_count": 16,
     "metadata": {},
     "output_type": "execute_result"
    }
   ],
   "source": [
    "# check X_train for null values, since `Lot Frontage` is not yet imputed\n",
    "X_train.isnull().sum().sort_values(ascending=False)[:3]"
   ]
  },
  {
   "cell_type": "markdown",
   "id": "88c6a6d2",
   "metadata": {},
   "source": [
    "## Imputation of train set:\n",
    "---"
   ]
  },
  {
   "cell_type": "markdown",
   "id": "718a2427",
   "metadata": {},
   "source": [
    "KNN imputation will impute all missing values in a dataframe. <br><br>\n",
    "I have ensured that all other null values in other features have been dealt with, leaving only `Lot Frontage` to be imputed as I wish to keep imputation at the minimum. Sometimes imputed data can exaggerate any bias already present.<br><br>\n",
    "`Lot Frontage` has a sizable portion of missing values that makes dropping rows sacrificing sizable amount of limited data, but yet not sizable enough (< 50%) that would make imputation impossible or likely inaccurate.<br><br> "
   ]
  },
  {
   "cell_type": "markdown",
   "id": "e4f87b86",
   "metadata": {},
   "source": [
    "### imp_X_train"
   ]
  },
  {
   "cell_type": "code",
   "execution_count": 17,
   "id": "74d86a64",
   "metadata": {},
   "outputs": [],
   "source": [
    "# import imputer from sklearn module\n",
    "from sklearn.impute import KNNImputer"
   ]
  },
  {
   "cell_type": "code",
   "execution_count": 18,
   "id": "da9be153",
   "metadata": {},
   "outputs": [],
   "source": [
    "# instantiate imputer\n",
    "imp = KNNImputer()"
   ]
  },
  {
   "cell_type": "code",
   "execution_count": 19,
   "id": "1467c9d0",
   "metadata": {},
   "outputs": [],
   "source": [
    "'''\n",
    "fit only X_train, transform both X_train and X_test\n",
    "create new dataframe variable with the imputed `Lot Frontage` values\n",
    "'''\n",
    "imp_X_train = imp.fit_transform(X_train)\n",
    "imp_X_test = imp.transform(X_test)"
   ]
  },
  {
   "cell_type": "code",
   "execution_count": 20,
   "id": "c852dcf1",
   "metadata": {},
   "outputs": [],
   "source": [
    "imp_X_train = pd.DataFrame(imp_X_train, columns=X_train.columns)\n",
    "imp_X_test = pd.DataFrame(imp_X_test, columns=X_test.columns)"
   ]
  },
  {
   "cell_type": "code",
   "execution_count": 21,
   "id": "9375778b",
   "metadata": {},
   "outputs": [
    {
     "name": "stdout",
     "output_type": "stream",
     "text": [
      "== imp_X_train ===\n",
      "MS SubClass     0\n",
      "cdn_1_street    0\n",
      "rf_s_other      0\n",
      "dtype: int64\n",
      "\n",
      "=== imp_X_test ===\n",
      "MS SubClass     0\n",
      "cdn_1_street    0\n",
      "rf_s_other      0\n",
      "dtype: int64\n"
     ]
    }
   ],
   "source": [
    "# no null values left after imputation\n",
    "print(' imp_X_train '.center(18, \"=\"))\n",
    "print(imp_X_train.isnull().sum().sort_values(ascending=False)[:3])\n",
    "print()\n",
    "print(' imp_X_test '.center(18, '='))\n",
    "print(imp_X_test.isnull().sum().sort_values(ascending=False)[:3])"
   ]
  },
  {
   "cell_type": "markdown",
   "id": "e5584370",
   "metadata": {},
   "source": [
    "##### Statistical significance of correlation (cont'd):"
   ]
  },
  {
   "cell_type": "markdown",
   "id": "7a36f6da",
   "metadata": {},
   "source": [
    "Now that missing values in `Lot Frontage` has been imputed, I will join the `imp_X_train` with `y_train` into a new dataframe to calculate the statistical significance of correlation between features and `SalePrice`."
   ]
  },
  {
   "cell_type": "code",
   "execution_count": 22,
   "id": "d1e4ca0d",
   "metadata": {},
   "outputs": [
    {
     "data": {
      "text/plain": [
       "(1395, 135)"
      ]
     },
     "execution_count": 22,
     "metadata": {},
     "output_type": "execute_result"
    }
   ],
   "source": [
    "imp_X_train.shape"
   ]
  },
  {
   "cell_type": "code",
   "execution_count": 23,
   "id": "707aaabb",
   "metadata": {},
   "outputs": [
    {
     "data": {
      "text/html": [
       "<div>\n",
       "<style scoped>\n",
       "    .dataframe tbody tr th:only-of-type {\n",
       "        vertical-align: middle;\n",
       "    }\n",
       "\n",
       "    .dataframe tbody tr th {\n",
       "        vertical-align: top;\n",
       "    }\n",
       "\n",
       "    .dataframe thead th {\n",
       "        text-align: right;\n",
       "    }\n",
       "</style>\n",
       "<table border=\"1\" class=\"dataframe\">\n",
       "  <thead>\n",
       "    <tr style=\"text-align: right;\">\n",
       "      <th></th>\n",
       "      <th>MS SubClass</th>\n",
       "      <th>Lot Frontage</th>\n",
       "      <th>Lot Area</th>\n",
       "      <th>Alley</th>\n",
       "      <th>Lot Shape</th>\n",
       "      <th>Utilities</th>\n",
       "      <th>Land Slope</th>\n",
       "      <th>Overall Qual</th>\n",
       "      <th>Overall Cond</th>\n",
       "      <th>Year Built</th>\n",
       "      <th>...</th>\n",
       "      <th>htg_other</th>\n",
       "      <th>htg_nan</th>\n",
       "      <th>grge_t_Attchd</th>\n",
       "      <th>grge_t_Detchd</th>\n",
       "      <th>grge_t_other</th>\n",
       "      <th>grge_t_nan</th>\n",
       "      <th>sle_t_Con</th>\n",
       "      <th>sle_t_Oth</th>\n",
       "      <th>sle_t_WD</th>\n",
       "      <th>sle_t_nan</th>\n",
       "    </tr>\n",
       "  </thead>\n",
       "  <tbody>\n",
       "    <tr>\n",
       "      <th>0</th>\n",
       "      <td>160.0</td>\n",
       "      <td>24.0</td>\n",
       "      <td>2645.0</td>\n",
       "      <td>1.0</td>\n",
       "      <td>4.0</td>\n",
       "      <td>4.0</td>\n",
       "      <td>3.0</td>\n",
       "      <td>8.0</td>\n",
       "      <td>5.0</td>\n",
       "      <td>1999.0</td>\n",
       "      <td>...</td>\n",
       "      <td>0.0</td>\n",
       "      <td>0.0</td>\n",
       "      <td>0.0</td>\n",
       "      <td>1.0</td>\n",
       "      <td>0.0</td>\n",
       "      <td>0.0</td>\n",
       "      <td>0.0</td>\n",
       "      <td>0.0</td>\n",
       "      <td>1.0</td>\n",
       "      <td>0.0</td>\n",
       "    </tr>\n",
       "    <tr>\n",
       "      <th>1</th>\n",
       "      <td>90.0</td>\n",
       "      <td>70.0</td>\n",
       "      <td>8267.0</td>\n",
       "      <td>0.0</td>\n",
       "      <td>4.0</td>\n",
       "      <td>4.0</td>\n",
       "      <td>3.0</td>\n",
       "      <td>5.0</td>\n",
       "      <td>5.0</td>\n",
       "      <td>1958.0</td>\n",
       "      <td>...</td>\n",
       "      <td>0.0</td>\n",
       "      <td>0.0</td>\n",
       "      <td>1.0</td>\n",
       "      <td>0.0</td>\n",
       "      <td>0.0</td>\n",
       "      <td>0.0</td>\n",
       "      <td>0.0</td>\n",
       "      <td>0.0</td>\n",
       "      <td>1.0</td>\n",
       "      <td>0.0</td>\n",
       "    </tr>\n",
       "    <tr>\n",
       "      <th>2</th>\n",
       "      <td>20.0</td>\n",
       "      <td>80.0</td>\n",
       "      <td>9600.0</td>\n",
       "      <td>0.0</td>\n",
       "      <td>4.0</td>\n",
       "      <td>4.0</td>\n",
       "      <td>3.0</td>\n",
       "      <td>5.0</td>\n",
       "      <td>6.0</td>\n",
       "      <td>1955.0</td>\n",
       "      <td>...</td>\n",
       "      <td>0.0</td>\n",
       "      <td>0.0</td>\n",
       "      <td>1.0</td>\n",
       "      <td>0.0</td>\n",
       "      <td>0.0</td>\n",
       "      <td>0.0</td>\n",
       "      <td>0.0</td>\n",
       "      <td>0.0</td>\n",
       "      <td>1.0</td>\n",
       "      <td>0.0</td>\n",
       "    </tr>\n",
       "  </tbody>\n",
       "</table>\n",
       "<p>3 rows × 135 columns</p>\n",
       "</div>"
      ],
      "text/plain": [
       "   MS SubClass  Lot Frontage  Lot Area  Alley  Lot Shape  Utilities  \\\n",
       "0        160.0          24.0    2645.0    1.0        4.0        4.0   \n",
       "1         90.0          70.0    8267.0    0.0        4.0        4.0   \n",
       "2         20.0          80.0    9600.0    0.0        4.0        4.0   \n",
       "\n",
       "   Land Slope  Overall Qual  Overall Cond  Year Built  ...  htg_other  \\\n",
       "0         3.0           8.0           5.0      1999.0  ...        0.0   \n",
       "1         3.0           5.0           5.0      1958.0  ...        0.0   \n",
       "2         3.0           5.0           6.0      1955.0  ...        0.0   \n",
       "\n",
       "   htg_nan  grge_t_Attchd  grge_t_Detchd  grge_t_other  grge_t_nan  sle_t_Con  \\\n",
       "0      0.0            0.0            1.0           0.0         0.0        0.0   \n",
       "1      0.0            1.0            0.0           0.0         0.0        0.0   \n",
       "2      0.0            1.0            0.0           0.0         0.0        0.0   \n",
       "\n",
       "   sle_t_Oth  sle_t_WD  sle_t_nan  \n",
       "0        0.0       1.0        0.0  \n",
       "1        0.0       1.0        0.0  \n",
       "2        0.0       1.0        0.0  \n",
       "\n",
       "[3 rows x 135 columns]"
      ]
     },
     "execution_count": 23,
     "metadata": {},
     "output_type": "execute_result"
    }
   ],
   "source": [
    "imp_X_train.head(3)"
   ]
  },
  {
   "cell_type": "code",
   "execution_count": 24,
   "id": "00e13ce6",
   "metadata": {},
   "outputs": [
    {
     "data": {
      "text/plain": [
       "(1395,)"
      ]
     },
     "execution_count": 24,
     "metadata": {},
     "output_type": "execute_result"
    }
   ],
   "source": [
    "y_train.shape"
   ]
  },
  {
   "cell_type": "code",
   "execution_count": 25,
   "id": "2a4a3f79",
   "metadata": {},
   "outputs": [
    {
     "data": {
      "text/plain": [
       "557     174000\n",
       "694     135000\n",
       "1718    144000\n",
       "Name: SalePrice, dtype: int64"
      ]
     },
     "execution_count": 25,
     "metadata": {},
     "output_type": "execute_result"
    }
   ],
   "source": [
    "y_train.head(3) \n",
    "# notice that y_train indices are not the same as imp_X_train"
   ]
  },
  {
   "cell_type": "code",
   "execution_count": 26,
   "id": "a77e486b",
   "metadata": {},
   "outputs": [],
   "source": [
    "y_train.reset_index(drop=True, inplace=True) \n",
    "# reseting y_train indices to match imp_X_train, so that concat is done correctly"
   ]
  },
  {
   "cell_type": "code",
   "execution_count": 27,
   "id": "d2cf7e01",
   "metadata": {},
   "outputs": [],
   "source": [
    "# join imp_X_train with y_train to get dataframe to draw correlation\n",
    "train_set = pd.concat([imp_X_train,y_train], axis=1)"
   ]
  },
  {
   "cell_type": "code",
   "execution_count": 28,
   "id": "892c9d7f",
   "metadata": {},
   "outputs": [
    {
     "data": {
      "text/plain": [
       "(1395, 136)"
      ]
     },
     "execution_count": 28,
     "metadata": {},
     "output_type": "execute_result"
    }
   ],
   "source": [
    "train_set.shape"
   ]
  },
  {
   "cell_type": "code",
   "execution_count": 29,
   "id": "01451261",
   "metadata": {},
   "outputs": [
    {
     "data": {
      "text/plain": [
       "SalePrice         1.000000\n",
       "Overall Qual      0.807963\n",
       "Exter Qual        0.729809\n",
       "Gr Liv Area       0.694234\n",
       "Kitchen Qual      0.683729\n",
       "Total Bsmt SF     0.651156\n",
       "Garage Area       0.640613\n",
       "Garage Cars       0.639331\n",
       "1st Flr SF        0.634253\n",
       "Bsmt Qual         0.625028\n",
       "Year Built        0.602364\n",
       "Garage Finish     0.564189\n",
       "Year Remod/Add    0.554525\n",
       "fdn_PConc         0.539754\n",
       "Fireplace Qu      0.528699\n",
       "Full Bath         0.524639\n",
       "Mas Vnr Area      0.510781\n",
       "grge_t_Attchd     0.493517\n",
       "Name: SalePrice, dtype: float64"
      ]
     },
     "execution_count": 29,
     "metadata": {},
     "output_type": "execute_result"
    }
   ],
   "source": [
    "corr_mat2 = train_set.corr().SalePrice.sort_values(ascending=False)\n",
    "corr_mat2.head(18) \n",
    "# notice there is a slight change in rankings after splitting of data,\n",
    "# and imputation, but not by alot"
   ]
  },
  {
   "cell_type": "code",
   "execution_count": 30,
   "id": "6373f5b4",
   "metadata": {},
   "outputs": [
    {
     "name": "stdout",
     "output_type": "stream",
     "text": [
      "['Overall Qual', 'Exter Qual', 'Gr Liv Area', 'Kitchen Qual', 'Total Bsmt SF', 'Garage Area', 'Garage Cars', '1st Flr SF', 'Bsmt Qual', 'Year Built', 'Garage Finish', 'Year Remod/Add', 'fdn_PConc', 'Fireplace Qu', 'Full Bath', 'Mas Vnr Area', 'TotRms AbvGrd', 'grge_t_Attchd', 'have_fireplace', 'Heating QC', 'Fireplaces', 'BsmtFin SF 1', 'Bsmt Exposure', 'Lot Frontage', 'ex_1_VinylSd', 'BsmtFin Type 1', 'ex_2_VinylSd', 'Wood Deck SF', 'mvt_Stone', 'Lot Area', 'Open Porch SF']\n"
     ]
    }
   ],
   "source": [
    "print(corr_03)"
   ]
  },
  {
   "cell_type": "code",
   "execution_count": 31,
   "id": "56e6edb9",
   "metadata": {},
   "outputs": [],
   "source": [
    "# testing for statistical significance\n",
    "X = train_set[corr_03]\n",
    "y = train_set['SalePrice']\n",
    "\n",
    "X = sm.add_constant(X, prepend=True)\n",
    "model_ols = sm.OLS(y, X).fit()\n",
    "\n",
    "d = {}\n",
    "for i in X.columns.tolist():\n",
    "    d[f'{i}'] = model_ols.pvalues[i]\n",
    "\n",
    "df_pvalue= pd.DataFrame(d.items(), columns=['var_name', 'p-value']).sort_values(by = 'p-value').reset_index(drop=True)"
   ]
  },
  {
   "cell_type": "code",
   "execution_count": 32,
   "id": "c724f97f",
   "metadata": {
    "scrolled": false
   },
   "outputs": [
    {
     "data": {
      "text/html": [
       "<div>\n",
       "<style scoped>\n",
       "    .dataframe tbody tr th:only-of-type {\n",
       "        vertical-align: middle;\n",
       "    }\n",
       "\n",
       "    .dataframe tbody tr th {\n",
       "        vertical-align: top;\n",
       "    }\n",
       "\n",
       "    .dataframe thead th {\n",
       "        text-align: right;\n",
       "    }\n",
       "</style>\n",
       "<table border=\"1\" class=\"dataframe\">\n",
       "  <thead>\n",
       "    <tr style=\"text-align: right;\">\n",
       "      <th></th>\n",
       "      <th>var_name</th>\n",
       "      <th>p-value</th>\n",
       "    </tr>\n",
       "  </thead>\n",
       "  <tbody>\n",
       "    <tr>\n",
       "      <th>0</th>\n",
       "      <td>Gr Liv Area</td>\n",
       "      <td>2.014785e-36</td>\n",
       "    </tr>\n",
       "    <tr>\n",
       "      <th>1</th>\n",
       "      <td>Overall Qual</td>\n",
       "      <td>6.826009e-33</td>\n",
       "    </tr>\n",
       "    <tr>\n",
       "      <th>2</th>\n",
       "      <td>BsmtFin SF 1</td>\n",
       "      <td>7.298597e-20</td>\n",
       "    </tr>\n",
       "    <tr>\n",
       "      <th>3</th>\n",
       "      <td>Mas Vnr Area</td>\n",
       "      <td>1.823239e-13</td>\n",
       "    </tr>\n",
       "    <tr>\n",
       "      <th>4</th>\n",
       "      <td>Exter Qual</td>\n",
       "      <td>1.140672e-12</td>\n",
       "    </tr>\n",
       "    <tr>\n",
       "      <th>5</th>\n",
       "      <td>const</td>\n",
       "      <td>4.225537e-10</td>\n",
       "    </tr>\n",
       "    <tr>\n",
       "      <th>6</th>\n",
       "      <td>Lot Area</td>\n",
       "      <td>1.020260e-09</td>\n",
       "    </tr>\n",
       "    <tr>\n",
       "      <th>7</th>\n",
       "      <td>Bsmt Exposure</td>\n",
       "      <td>2.340634e-07</td>\n",
       "    </tr>\n",
       "    <tr>\n",
       "      <th>8</th>\n",
       "      <td>Kitchen Qual</td>\n",
       "      <td>3.749946e-06</td>\n",
       "    </tr>\n",
       "    <tr>\n",
       "      <th>9</th>\n",
       "      <td>Fireplace Qu</td>\n",
       "      <td>1.422094e-05</td>\n",
       "    </tr>\n",
       "    <tr>\n",
       "      <th>10</th>\n",
       "      <td>mvt_Stone</td>\n",
       "      <td>7.814422e-05</td>\n",
       "    </tr>\n",
       "    <tr>\n",
       "      <th>11</th>\n",
       "      <td>have_fireplace</td>\n",
       "      <td>1.342048e-04</td>\n",
       "    </tr>\n",
       "    <tr>\n",
       "      <th>12</th>\n",
       "      <td>Year Remod/Add</td>\n",
       "      <td>5.291646e-04</td>\n",
       "    </tr>\n",
       "    <tr>\n",
       "      <th>13</th>\n",
       "      <td>Year Built</td>\n",
       "      <td>1.140172e-03</td>\n",
       "    </tr>\n",
       "    <tr>\n",
       "      <th>14</th>\n",
       "      <td>Total Bsmt SF</td>\n",
       "      <td>3.468623e-03</td>\n",
       "    </tr>\n",
       "    <tr>\n",
       "      <th>15</th>\n",
       "      <td>Lot Frontage</td>\n",
       "      <td>4.513932e-03</td>\n",
       "    </tr>\n",
       "    <tr>\n",
       "      <th>16</th>\n",
       "      <td>Garage Area</td>\n",
       "      <td>5.061382e-03</td>\n",
       "    </tr>\n",
       "    <tr>\n",
       "      <th>17</th>\n",
       "      <td>1st Flr SF</td>\n",
       "      <td>1.373087e-02</td>\n",
       "    </tr>\n",
       "    <tr>\n",
       "      <th>18</th>\n",
       "      <td>Fireplaces</td>\n",
       "      <td>1.805625e-02</td>\n",
       "    </tr>\n",
       "    <tr>\n",
       "      <th>19</th>\n",
       "      <td>Full Bath</td>\n",
       "      <td>2.166972e-02</td>\n",
       "    </tr>\n",
       "    <tr>\n",
       "      <th>20</th>\n",
       "      <td>BsmtFin Type 1</td>\n",
       "      <td>3.743010e-02</td>\n",
       "    </tr>\n",
       "    <tr>\n",
       "      <th>21</th>\n",
       "      <td>fdn_PConc</td>\n",
       "      <td>1.274972e-01</td>\n",
       "    </tr>\n",
       "  </tbody>\n",
       "</table>\n",
       "</div>"
      ],
      "text/plain": [
       "          var_name       p-value\n",
       "0      Gr Liv Area  2.014785e-36\n",
       "1     Overall Qual  6.826009e-33\n",
       "2     BsmtFin SF 1  7.298597e-20\n",
       "3     Mas Vnr Area  1.823239e-13\n",
       "4       Exter Qual  1.140672e-12\n",
       "5            const  4.225537e-10\n",
       "6         Lot Area  1.020260e-09\n",
       "7    Bsmt Exposure  2.340634e-07\n",
       "8     Kitchen Qual  3.749946e-06\n",
       "9     Fireplace Qu  1.422094e-05\n",
       "10       mvt_Stone  7.814422e-05\n",
       "11  have_fireplace  1.342048e-04\n",
       "12  Year Remod/Add  5.291646e-04\n",
       "13      Year Built  1.140172e-03\n",
       "14   Total Bsmt SF  3.468623e-03\n",
       "15    Lot Frontage  4.513932e-03\n",
       "16     Garage Area  5.061382e-03\n",
       "17      1st Flr SF  1.373087e-02\n",
       "18      Fireplaces  1.805625e-02\n",
       "19       Full Bath  2.166972e-02\n",
       "20  BsmtFin Type 1  3.743010e-02\n",
       "21       fdn_PConc  1.274972e-01"
      ]
     },
     "execution_count": 32,
     "metadata": {},
     "output_type": "execute_result"
    }
   ],
   "source": [
    "df_pvalue.head(22)"
   ]
  },
  {
   "cell_type": "code",
   "execution_count": 33,
   "id": "4fbdaef0",
   "metadata": {},
   "outputs": [],
   "source": [
    "'''\n",
    "constructed function to distill the features that\n",
    "had statistically significant correlation with `SalePrice` i.e p-value <0.05\n",
    "''' \n",
    "def pvalue_list(df):\n",
    "    lst = []\n",
    "    for feature, pvalue in zip(df['var_name'],df['p-value']):\n",
    "        if pvalue < 0.05:\n",
    "            lst.append(feature)\n",
    "    for item in lst:\n",
    "        if item == 'const':\n",
    "            lst.remove(item)\n",
    "    return lst"
   ]
  },
  {
   "cell_type": "code",
   "execution_count": 34,
   "id": "c2b71f0a",
   "metadata": {
    "scrolled": true
   },
   "outputs": [
    {
     "name": "stdout",
     "output_type": "stream",
     "text": [
      "['Gr Liv Area', 'Overall Qual', 'BsmtFin SF 1', 'Mas Vnr Area', 'Exter Qual', 'Lot Area', 'Bsmt Exposure', 'Kitchen Qual', 'Fireplace Qu', 'mvt_Stone', 'have_fireplace', 'Year Remod/Add', 'Year Built', 'Total Bsmt SF', 'Lot Frontage', 'Garage Area', '1st Flr SF', 'Fireplaces', 'Full Bath', 'BsmtFin Type 1']\n"
     ]
    }
   ],
   "source": [
    "print(pvalue_list(df_pvalue))"
   ]
  },
  {
   "cell_type": "code",
   "execution_count": 35,
   "id": "2489ddeb",
   "metadata": {},
   "outputs": [
    {
     "data": {
      "text/plain": [
       "20"
      ]
     },
     "execution_count": 35,
     "metadata": {},
     "output_type": "execute_result"
    }
   ],
   "source": [
    "len(pvalue_list(df_pvalue))"
   ]
  },
  {
   "cell_type": "code",
   "execution_count": 36,
   "id": "1e9327d5",
   "metadata": {},
   "outputs": [],
   "source": [
    "feat_20 = pvalue_list(df_pvalue)"
   ]
  },
  {
   "cell_type": "markdown",
   "id": "a834ae1c",
   "metadata": {},
   "source": [
    "I decided to use this method for feature selection as it provided me the best performing linear model compared to other methods such as VIF or lasso regularisation to help me narrow down the list of useful features."
   ]
  },
  {
   "cell_type": "markdown",
   "id": "ce828440",
   "metadata": {},
   "source": [
    "**This function is to extract the features that were excluded to give the final 20:**"
   ]
  },
  {
   "cell_type": "code",
   "execution_count": 37,
   "id": "04f0678f",
   "metadata": {
    "scrolled": true
   },
   "outputs": [],
   "source": [
    "list_1 = train_df.columns.tolist()"
   ]
  },
  {
   "cell_type": "code",
   "execution_count": 38,
   "id": "e20f6d3b",
   "metadata": {},
   "outputs": [],
   "source": [
    "def removal_list():\n",
    "    lst = []\n",
    "    for x in list_1:\n",
    "        if x not in feat_20:\n",
    "            lst.append(x)\n",
    "    return lst"
   ]
  },
  {
   "cell_type": "code",
   "execution_count": 39,
   "id": "30fef648",
   "metadata": {},
   "outputs": [
    {
     "name": "stdout",
     "output_type": "stream",
     "text": [
      "['Id', 'PID', 'MS SubClass', 'Alley', 'Lot Shape', 'Utilities', 'Land Slope', 'Overall Cond', 'Exter Cond', 'Bsmt Qual', 'Bsmt Cond', 'BsmtFin Type 2', 'BsmtFin SF 2', 'Bsmt Unf SF', 'Heating QC', 'Central Air', 'Electrical', '2nd Flr SF', 'Low Qual Fin SF', 'Bsmt Full Bath', 'Bsmt Half Bath', 'Half Bath', 'Bedroom AbvGr', 'Kitchen AbvGr', 'TotRms AbvGrd', 'Functional', 'Garage Finish', 'Garage Cars', 'Garage Qual', 'Garage Cond', 'Paved Drive', 'Wood Deck SF', 'Open Porch SF', 'Enclosed Porch', '3Ssn Porch', 'Screen Porch', 'Pool Area', 'Pool QC', 'Fence', 'Misc Feature', 'Misc Val', 'Mo Sold', 'Yr Sold', 'SalePrice', 'have_bsmt', 'have_garage', 'have_pool', 'have_fence', 'msz_RL', 'msz_R_others', 'msz_others', 'msz_nan', 'st_Grvl', 'st_Pave', 'st_nan', 'ld_c_Lvl', 'ld_c_unLvl', 'ld_c_nan', 'lt_c_Corner', 'lt_c_Inside', 'lt_c_others', 'lt_c_nan', 'nbrhd_pc_50010', 'nbrhd_pc_50011', 'nbrhd_pc_50014', 'nbrhd_nan', 'cdn_1_Norm', 'cdn_1_feature', 'cdn_1_rail', 'cdn_1_street', 'cdn_1_nan', 'cdn_2_Norm', 'cdn_2_other', 'cdn_2_nan', 'bdg_t_Duplex', 'bdg_t_fam', 'bdg_t_twnhs', 'bdg_t_nan', 'hse_s_1story', 'hse_s_2story', 'hse_s_split', 'hse_s_nan', 'rf_s_Gable', 'rf_s_other', 'rf_s_nan', 'rf_m_CompShg', 'rf_m_other', 'rf_m_nan', 'ex_1_MetalSd', 'ex_1_VinylSd', 'ex_1_cement', 'ex_1_other', 'ex_1_wood', 'ex_1_nan', 'ex_2_MetalSd', 'ex_2_VinylSd', 'ex_2_cement', 'ex_2_other', 'ex_2_wood', 'ex_2_nan', 'mvt_None', 'mvt_brick', 'mvt_nan', 'fdn_CBlock', 'fdn_PConc', 'fdn_other', 'fdn_nan', 'htg_GasA', 'htg_other', 'htg_nan', 'grge_t_Attchd', 'grge_t_Detchd', 'grge_t_other', 'grge_t_nan', 'sle_t_Con', 'sle_t_Oth', 'sle_t_WD', 'sle_t_nan']\n"
     ]
    },
    {
     "data": {
      "text/plain": [
       "118"
      ]
     },
     "execution_count": 39,
     "metadata": {},
     "output_type": "execute_result"
    }
   ],
   "source": [
    "print(removal_list())\n",
    "len(removal_list())"
   ]
  },
  {
   "cell_type": "markdown",
   "id": "b7b481f2",
   "metadata": {},
   "source": [
    "## GridSearch CV\n",
    "---"
   ]
  },
  {
   "cell_type": "markdown",
   "id": "0fc2dbc2",
   "metadata": {},
   "source": [
    "[GridSearch + Pipeline multiple models reference](https://ryan-reilly.medium.com/gridsearch-pipelines-of-multiple-models-on-multiclass-classification-e9124b6ea2e3)"
   ]
  },
  {
   "cell_type": "markdown",
   "id": "fe840873",
   "metadata": {},
   "source": [
    "_**Isolate columns desired in X_train**_"
   ]
  },
  {
   "cell_type": "code",
   "execution_count": 40,
   "id": "4435fd96",
   "metadata": {},
   "outputs": [],
   "source": [
    "X_train_20 = imp_X_train[feat_20]\n",
    "X_test_20 = imp_X_test[feat_20]"
   ]
  },
  {
   "cell_type": "markdown",
   "id": "ab23de56",
   "metadata": {},
   "source": [
    "_**Checking range of values for each feature selected for model**_"
   ]
  },
  {
   "cell_type": "code",
   "execution_count": 41,
   "id": "127eb007",
   "metadata": {},
   "outputs": [
    {
     "data": {
      "text/html": [
       "<div>\n",
       "<style scoped>\n",
       "    .dataframe tbody tr th:only-of-type {\n",
       "        vertical-align: middle;\n",
       "    }\n",
       "\n",
       "    .dataframe tbody tr th {\n",
       "        vertical-align: top;\n",
       "    }\n",
       "\n",
       "    .dataframe thead th {\n",
       "        text-align: right;\n",
       "    }\n",
       "</style>\n",
       "<table border=\"1\" class=\"dataframe\">\n",
       "  <thead>\n",
       "    <tr style=\"text-align: right;\">\n",
       "      <th></th>\n",
       "      <th>count</th>\n",
       "      <th>mean</th>\n",
       "      <th>std</th>\n",
       "      <th>min</th>\n",
       "      <th>25%</th>\n",
       "      <th>50%</th>\n",
       "      <th>75%</th>\n",
       "      <th>max</th>\n",
       "    </tr>\n",
       "  </thead>\n",
       "  <tbody>\n",
       "    <tr>\n",
       "      <th>Gr Liv Area</th>\n",
       "      <td>1395.0</td>\n",
       "      <td>1483.713262</td>\n",
       "      <td>455.669035</td>\n",
       "      <td>334.0</td>\n",
       "      <td>1137.5</td>\n",
       "      <td>1440.0</td>\n",
       "      <td>1717.5</td>\n",
       "      <td>3395.0</td>\n",
       "    </tr>\n",
       "    <tr>\n",
       "      <th>Overall Qual</th>\n",
       "      <td>1395.0</td>\n",
       "      <td>6.090323</td>\n",
       "      <td>1.377369</td>\n",
       "      <td>1.0</td>\n",
       "      <td>5.0</td>\n",
       "      <td>6.0</td>\n",
       "      <td>7.0</td>\n",
       "      <td>10.0</td>\n",
       "    </tr>\n",
       "    <tr>\n",
       "      <th>BsmtFin SF 1</th>\n",
       "      <td>1395.0</td>\n",
       "      <td>428.553405</td>\n",
       "      <td>436.751209</td>\n",
       "      <td>0.0</td>\n",
       "      <td>0.0</td>\n",
       "      <td>353.0</td>\n",
       "      <td>718.0</td>\n",
       "      <td>2188.0</td>\n",
       "    </tr>\n",
       "    <tr>\n",
       "      <th>Mas Vnr Area</th>\n",
       "      <td>1395.0</td>\n",
       "      <td>96.497491</td>\n",
       "      <td>163.640902</td>\n",
       "      <td>0.0</td>\n",
       "      <td>0.0</td>\n",
       "      <td>0.0</td>\n",
       "      <td>162.0</td>\n",
       "      <td>1129.0</td>\n",
       "    </tr>\n",
       "    <tr>\n",
       "      <th>Exter Qual</th>\n",
       "      <td>1395.0</td>\n",
       "      <td>3.393548</td>\n",
       "      <td>0.591027</td>\n",
       "      <td>2.0</td>\n",
       "      <td>3.0</td>\n",
       "      <td>3.0</td>\n",
       "      <td>4.0</td>\n",
       "      <td>5.0</td>\n",
       "    </tr>\n",
       "    <tr>\n",
       "      <th>Lot Area</th>\n",
       "      <td>1395.0</td>\n",
       "      <td>9815.307527</td>\n",
       "      <td>4965.590436</td>\n",
       "      <td>1300.0</td>\n",
       "      <td>7474.0</td>\n",
       "      <td>9399.0</td>\n",
       "      <td>11500.0</td>\n",
       "      <td>70761.0</td>\n",
       "    </tr>\n",
       "    <tr>\n",
       "      <th>Bsmt Exposure</th>\n",
       "      <td>1395.0</td>\n",
       "      <td>1.612903</td>\n",
       "      <td>1.070328</td>\n",
       "      <td>0.0</td>\n",
       "      <td>1.0</td>\n",
       "      <td>1.0</td>\n",
       "      <td>2.0</td>\n",
       "      <td>4.0</td>\n",
       "    </tr>\n",
       "    <tr>\n",
       "      <th>Kitchen Qual</th>\n",
       "      <td>1395.0</td>\n",
       "      <td>3.501792</td>\n",
       "      <td>0.658650</td>\n",
       "      <td>2.0</td>\n",
       "      <td>3.0</td>\n",
       "      <td>3.0</td>\n",
       "      <td>4.0</td>\n",
       "      <td>5.0</td>\n",
       "    </tr>\n",
       "    <tr>\n",
       "      <th>Fireplace Qu</th>\n",
       "      <td>1395.0</td>\n",
       "      <td>1.706810</td>\n",
       "      <td>1.797313</td>\n",
       "      <td>0.0</td>\n",
       "      <td>0.0</td>\n",
       "      <td>0.0</td>\n",
       "      <td>4.0</td>\n",
       "      <td>5.0</td>\n",
       "    </tr>\n",
       "    <tr>\n",
       "      <th>mvt_Stone</th>\n",
       "      <td>1395.0</td>\n",
       "      <td>0.083154</td>\n",
       "      <td>0.276214</td>\n",
       "      <td>0.0</td>\n",
       "      <td>0.0</td>\n",
       "      <td>0.0</td>\n",
       "      <td>0.0</td>\n",
       "      <td>1.0</td>\n",
       "    </tr>\n",
       "    <tr>\n",
       "      <th>have_fireplace</th>\n",
       "      <td>1395.0</td>\n",
       "      <td>0.498925</td>\n",
       "      <td>0.500178</td>\n",
       "      <td>0.0</td>\n",
       "      <td>0.0</td>\n",
       "      <td>0.0</td>\n",
       "      <td>1.0</td>\n",
       "      <td>1.0</td>\n",
       "    </tr>\n",
       "    <tr>\n",
       "      <th>Year Remod/Add</th>\n",
       "      <td>1395.0</td>\n",
       "      <td>1984.200000</td>\n",
       "      <td>20.889152</td>\n",
       "      <td>1950.0</td>\n",
       "      <td>1965.0</td>\n",
       "      <td>1993.0</td>\n",
       "      <td>2004.0</td>\n",
       "      <td>2010.0</td>\n",
       "    </tr>\n",
       "    <tr>\n",
       "      <th>Year Built</th>\n",
       "      <td>1395.0</td>\n",
       "      <td>1971.835842</td>\n",
       "      <td>29.954765</td>\n",
       "      <td>1875.0</td>\n",
       "      <td>1954.0</td>\n",
       "      <td>1975.0</td>\n",
       "      <td>2001.0</td>\n",
       "      <td>2009.0</td>\n",
       "    </tr>\n",
       "    <tr>\n",
       "      <th>Total Bsmt SF</th>\n",
       "      <td>1395.0</td>\n",
       "      <td>1049.406452</td>\n",
       "      <td>416.908106</td>\n",
       "      <td>0.0</td>\n",
       "      <td>796.0</td>\n",
       "      <td>992.0</td>\n",
       "      <td>1325.5</td>\n",
       "      <td>3200.0</td>\n",
       "    </tr>\n",
       "    <tr>\n",
       "      <th>Lot Frontage</th>\n",
       "      <td>1395.0</td>\n",
       "      <td>69.412043</td>\n",
       "      <td>20.811700</td>\n",
       "      <td>21.0</td>\n",
       "      <td>60.0</td>\n",
       "      <td>70.0</td>\n",
       "      <td>80.0</td>\n",
       "      <td>200.0</td>\n",
       "    </tr>\n",
       "    <tr>\n",
       "      <th>Garage Area</th>\n",
       "      <td>1395.0</td>\n",
       "      <td>470.042294</td>\n",
       "      <td>218.057053</td>\n",
       "      <td>0.0</td>\n",
       "      <td>316.5</td>\n",
       "      <td>478.0</td>\n",
       "      <td>576.0</td>\n",
       "      <td>1356.0</td>\n",
       "    </tr>\n",
       "    <tr>\n",
       "      <th>1st Flr SF</th>\n",
       "      <td>1395.0</td>\n",
       "      <td>1158.142652</td>\n",
       "      <td>367.273096</td>\n",
       "      <td>334.0</td>\n",
       "      <td>885.0</td>\n",
       "      <td>1092.0</td>\n",
       "      <td>1393.5</td>\n",
       "      <td>3228.0</td>\n",
       "    </tr>\n",
       "    <tr>\n",
       "      <th>Fireplaces</th>\n",
       "      <td>1395.0</td>\n",
       "      <td>0.553405</td>\n",
       "      <td>0.599361</td>\n",
       "      <td>0.0</td>\n",
       "      <td>0.0</td>\n",
       "      <td>0.0</td>\n",
       "      <td>1.0</td>\n",
       "      <td>3.0</td>\n",
       "    </tr>\n",
       "    <tr>\n",
       "      <th>Full Bath</th>\n",
       "      <td>1395.0</td>\n",
       "      <td>1.574194</td>\n",
       "      <td>0.539056</td>\n",
       "      <td>0.0</td>\n",
       "      <td>1.0</td>\n",
       "      <td>2.0</td>\n",
       "      <td>2.0</td>\n",
       "      <td>3.0</td>\n",
       "    </tr>\n",
       "    <tr>\n",
       "      <th>BsmtFin Type 1</th>\n",
       "      <td>1395.0</td>\n",
       "      <td>3.525448</td>\n",
       "      <td>2.121125</td>\n",
       "      <td>0.0</td>\n",
       "      <td>1.0</td>\n",
       "      <td>4.0</td>\n",
       "      <td>6.0</td>\n",
       "      <td>6.0</td>\n",
       "    </tr>\n",
       "  </tbody>\n",
       "</table>\n",
       "</div>"
      ],
      "text/plain": [
       "                 count         mean          std     min     25%     50%  \\\n",
       "Gr Liv Area     1395.0  1483.713262   455.669035   334.0  1137.5  1440.0   \n",
       "Overall Qual    1395.0     6.090323     1.377369     1.0     5.0     6.0   \n",
       "BsmtFin SF 1    1395.0   428.553405   436.751209     0.0     0.0   353.0   \n",
       "Mas Vnr Area    1395.0    96.497491   163.640902     0.0     0.0     0.0   \n",
       "Exter Qual      1395.0     3.393548     0.591027     2.0     3.0     3.0   \n",
       "Lot Area        1395.0  9815.307527  4965.590436  1300.0  7474.0  9399.0   \n",
       "Bsmt Exposure   1395.0     1.612903     1.070328     0.0     1.0     1.0   \n",
       "Kitchen Qual    1395.0     3.501792     0.658650     2.0     3.0     3.0   \n",
       "Fireplace Qu    1395.0     1.706810     1.797313     0.0     0.0     0.0   \n",
       "mvt_Stone       1395.0     0.083154     0.276214     0.0     0.0     0.0   \n",
       "have_fireplace  1395.0     0.498925     0.500178     0.0     0.0     0.0   \n",
       "Year Remod/Add  1395.0  1984.200000    20.889152  1950.0  1965.0  1993.0   \n",
       "Year Built      1395.0  1971.835842    29.954765  1875.0  1954.0  1975.0   \n",
       "Total Bsmt SF   1395.0  1049.406452   416.908106     0.0   796.0   992.0   \n",
       "Lot Frontage    1395.0    69.412043    20.811700    21.0    60.0    70.0   \n",
       "Garage Area     1395.0   470.042294   218.057053     0.0   316.5   478.0   \n",
       "1st Flr SF      1395.0  1158.142652   367.273096   334.0   885.0  1092.0   \n",
       "Fireplaces      1395.0     0.553405     0.599361     0.0     0.0     0.0   \n",
       "Full Bath       1395.0     1.574194     0.539056     0.0     1.0     2.0   \n",
       "BsmtFin Type 1  1395.0     3.525448     2.121125     0.0     1.0     4.0   \n",
       "\n",
       "                    75%      max  \n",
       "Gr Liv Area      1717.5   3395.0  \n",
       "Overall Qual        7.0     10.0  \n",
       "BsmtFin SF 1      718.0   2188.0  \n",
       "Mas Vnr Area      162.0   1129.0  \n",
       "Exter Qual          4.0      5.0  \n",
       "Lot Area        11500.0  70761.0  \n",
       "Bsmt Exposure       2.0      4.0  \n",
       "Kitchen Qual        4.0      5.0  \n",
       "Fireplace Qu        4.0      5.0  \n",
       "mvt_Stone           0.0      1.0  \n",
       "have_fireplace      1.0      1.0  \n",
       "Year Remod/Add   2004.0   2010.0  \n",
       "Year Built       2001.0   2009.0  \n",
       "Total Bsmt SF    1325.5   3200.0  \n",
       "Lot Frontage       80.0    200.0  \n",
       "Garage Area       576.0   1356.0  \n",
       "1st Flr SF       1393.5   3228.0  \n",
       "Fireplaces          1.0      3.0  \n",
       "Full Bath           2.0      3.0  \n",
       "BsmtFin Type 1      6.0      6.0  "
      ]
     },
     "execution_count": 41,
     "metadata": {},
     "output_type": "execute_result"
    }
   ],
   "source": [
    "X_train_20.describe().T"
   ]
  },
  {
   "cell_type": "markdown",
   "id": "1de7c24f",
   "metadata": {},
   "source": [
    "_**Instantiate Pipeline for GridSearchCV, built-in standardisation**_"
   ]
  },
  {
   "cell_type": "code",
   "execution_count": 42,
   "id": "9d2eb8fa",
   "metadata": {},
   "outputs": [],
   "source": [
    "from sklearn.pipeline import Pipeline\n",
    "\n",
    "from sklearn.linear_model import LinearRegression, Lasso, Ridge, ElasticNet"
   ]
  },
  {
   "cell_type": "code",
   "execution_count": 43,
   "id": "8fdb2563",
   "metadata": {},
   "outputs": [],
   "source": [
    "# Instantiate a StandardScaler + LR pipeline.\n",
    "pipe1 = Pipeline([\n",
    "    ('ss', StandardScaler()),\n",
    "    ('lr', LinearRegression())\n",
    "])\n",
    "\n",
    "# Instantiate a StandardScaler + Ridge pipeline.\n",
    "pipe2 = Pipeline([\n",
    "    ('ss', StandardScaler()),\n",
    "    ('ridge', Ridge())\n",
    "])\n",
    "\n",
    "# Instantiate a StandardScaler + LASSO pipeline.\n",
    "pipe3 = Pipeline([\n",
    "    ('ss', StandardScaler()),\n",
    "    ('lasso', Lasso())\n",
    "])\n",
    "\n",
    "# Instantiate a StandardScaler + ElasticNet pipeline.\n",
    "pipe4 = Pipeline([\n",
    "    ('ss', StandardScaler()),\n",
    "    ('enet', ElasticNet())\n",
    "])"
   ]
  },
  {
   "cell_type": "code",
   "execution_count": 44,
   "id": "ed68eb0f",
   "metadata": {},
   "outputs": [],
   "source": [
    "# Create dictionary of hyperparameters.\n",
    "enet_ratio = [.5,.8,.9,.95]\n",
    "n_neighbors = [3,5,10]\n",
    "alpha_l = [1.,10.,100.,500.,1000.]\n",
    "\n",
    "pipe1_params = {'lr__fit_intercept': [True, False],\n",
    "                'lr__positive': [True, False]\n",
    "               }\n",
    "\n",
    "pipe2_params = {'ridge__alpha': alpha_l\n",
    "               }\n",
    "\n",
    "pipe3_params = {'lasso__alpha': alpha_l,\n",
    "                'lasso__max_iter': [10000, 50000]\n",
    "               }\n",
    "\n",
    "pipe4_params = {'enet__alpha': alpha_l,\n",
    "                'enet__l1_ratio': enet_ratio\n",
    "               }"
   ]
  },
  {
   "cell_type": "markdown",
   "id": "a2372534",
   "metadata": {},
   "source": [
    "_**Instantiate GridSearchCV**_"
   ]
  },
  {
   "cell_type": "code",
   "execution_count": 45,
   "id": "12186c77",
   "metadata": {},
   "outputs": [],
   "source": [
    "from sklearn.model_selection import GridSearchCV"
   ]
  },
  {
   "cell_type": "code",
   "execution_count": 46,
   "id": "b93fadd2",
   "metadata": {},
   "outputs": [],
   "source": [
    "cv_ct = 5\n",
    "score = 'neg_root_mean_squared_error'\n",
    "\n",
    "pipe1_gs = GridSearchCV(pipe1,\n",
    "                       pipe1_params,\n",
    "                       cv=cv_ct,\n",
    "                       scoring=score,\n",
    "                       verbose=1\n",
    "                       )\n",
    "\n",
    "pipe2_gs = GridSearchCV(pipe2,\n",
    "                       pipe2_params,\n",
    "                       cv=cv_ct,\n",
    "                       scoring=score,\n",
    "                       verbose=1\n",
    "                       )\n",
    "\n",
    "pipe3_gs = GridSearchCV(pipe3,\n",
    "                       pipe3_params,\n",
    "                       cv=cv_ct,\n",
    "                       scoring=score,\n",
    "                       verbose=1\n",
    "                       )\n",
    "\n",
    "pipe4_gs = GridSearchCV(pipe4,\n",
    "                       pipe4_params,\n",
    "                       cv=cv_ct,\n",
    "                       scoring=score,\n",
    "                       verbose=1\n",
    "                       )"
   ]
  },
  {
   "cell_type": "markdown",
   "id": "f15dc9f5",
   "metadata": {},
   "source": [
    "_**Fit models from GridSearchCV pipeline**_"
   ]
  },
  {
   "cell_type": "code",
   "execution_count": 47,
   "id": "7f884ab9",
   "metadata": {},
   "outputs": [
    {
     "name": "stdout",
     "output_type": "stream",
     "text": [
      "Fitting 5 folds for each of 4 candidates, totalling 20 fits\n",
      "Fitting 5 folds for each of 5 candidates, totalling 25 fits\n",
      "Fitting 5 folds for each of 10 candidates, totalling 50 fits\n",
      "Fitting 5 folds for each of 20 candidates, totalling 100 fits\n"
     ]
    }
   ],
   "source": [
    "# combine the grids to loop through\n",
    "grids = [pipe1_gs, pipe2_gs, pipe3_gs, pipe4_gs]\n",
    "\n",
    "for pipe in grids:\n",
    "    pipe.fit(X_train_20,y_train)"
   ]
  },
  {
   "cell_type": "markdown",
   "id": "58c11117",
   "metadata": {},
   "source": [
    "_**Evaluate models**_"
   ]
  },
  {
   "cell_type": "code",
   "execution_count": 48,
   "id": "b3d30985",
   "metadata": {},
   "outputs": [],
   "source": [
    "from sklearn.metrics import mean_squared_error"
   ]
  },
  {
   "cell_type": "code",
   "execution_count": 49,
   "id": "76bd23f2",
   "metadata": {},
   "outputs": [
    {
     "name": "stdout",
     "output_type": "stream",
     "text": [
      "y_bar rmse: 75639.33151208214\n",
      "Linear regression train rmse: -25733.930633227472\n",
      "Linear regression test rmse: -25591.2380529381\n",
      "Linear regression %_diff rmse: 0.5544919752955557 %\n",
      "Linear regression Best Params: {'lr__fit_intercept': True, 'lr__positive': False}\n",
      "\n",
      "y_bar rmse: 75639.33151208214\n",
      "Ridge regression train rmse: -25740.51050681656\n",
      "Ridge regression test rmse: -25568.350841051164\n",
      "Ridge regression %_diff rmse: 0.6688277053394344 %\n",
      "Ridge regression Best Params: {'ridge__alpha': 10.0}\n",
      "\n",
      "y_bar rmse: 75639.33151208214\n",
      "Lasso regression train rmse: -25733.932248351328\n",
      "Lasso regression test rmse: -25590.46026412011\n",
      "Lasso regression %_diff rmse: 0.5575206417993523 %\n",
      "Lasso regression Best Params: {'lasso__alpha': 1.0, 'lasso__max_iter': 10000}\n",
      "\n",
      "y_bar rmse: 75639.33151208214\n",
      "ElasticNet regression train rmse: -25858.738261323208\n",
      "ElasticNet regression test rmse: -25577.663324275418\n",
      "ElasticNet regression %_diff rmse: 1.0869630768806386 %\n",
      "ElasticNet regression Best Params: {'enet__alpha': 1.0, 'enet__l1_ratio': 0.95}\n",
      "\n"
     ]
    }
   ],
   "source": [
    "y_bar = np.repeat(np.mean(y_train),(len(y_train)))\n",
    "y_bar_rmse = mean_squared_error(y_train, y_bar, squared=False)\n",
    "\n",
    "grid_dict = {0: 'Linear regression', 1: 'Ridge regression',\n",
    "            2: 'Lasso regression', 3: 'ElasticNet regression'}\n",
    "\n",
    "for i, model in enumerate(grids):\n",
    "    print(f'y_bar rmse: {y_bar_rmse}')\n",
    "    print(f'{grid_dict[i]} train rmse: {model.score(X_train_20, y_train)}')\n",
    "    print(f'{grid_dict[i]} test rmse: {model.score(X_test_20, y_test)}')\n",
    "    print(f'{grid_dict[i]} %_diff rmse: {((model.score(X_train_20, y_train)-model.score(X_test_20, y_test))*100)/model.score(X_train_20, y_train)} %')\n",
    "    print(f'{grid_dict[i]} Best Params: {model.best_params_}')\n",
    "    print()"
   ]
  },
  {
   "cell_type": "markdown",
   "id": "71423a42",
   "metadata": {},
   "source": [
    "All my models via GridSearchCV are performing better than baseline despite poor absolute `RMSE` scores. All the models also have good generalisation since the `% diff rsme` scores are all < 5%. I will choose the model with the **best test rmse** for fine tuning. That would be the **Ridge model**."
   ]
  },
  {
   "cell_type": "code",
   "execution_count": 50,
   "id": "79bca387",
   "metadata": {},
   "outputs": [],
   "source": [
    "# function for graphical comparison of predictions vs. actual\n",
    "def sns_plt(model,x_data,y_data,title):\n",
    "    sns.set(rc = {'figure.figsize':(5,5)})\n",
    "    p = sns.regplot(x=model.predict(x_data), y=y_data, marker='.',\n",
    "               scatter_kws={\"color\": \"steelblue\"}, line_kws={\"color\": \"peru\"})\n",
    "    p.set_xlabel(\"predictions\", fontsize = 12)\n",
    "    p.set_ylabel(\"actual\", fontsize = 12)\n",
    "    plt.title(title, fontsize=15);\n",
    "    plt.xticks([0,100000,200000,300000,400000],[0,'100k','200k','300k','400k'])\n",
    "    plt.yticks([0,100000,200000,300000,400000,500000,600000],[0,'100k','200k','300k','400k','500k','600k']);"
   ]
  },
  {
   "cell_type": "code",
   "execution_count": 51,
   "id": "912e5367",
   "metadata": {},
   "outputs": [
    {
     "data": {
      "image/png": "[encoded data removed]",
      "text/plain": [
       "<Figure size 360x360 with 1 Axes>"
      ]
     },
     "metadata": {
      "image/png": {
       "height": 338,
       "width": 345
      }
     },
     "output_type": "display_data"
    }
   ],
   "source": [
    "title = 'Ridge model prediction vs actual SalePrice'\n",
    "sns_plt(model=pipe2_gs, x_data=X_test_20, y_data=y_test, title=title)"
   ]
  },
  {
   "cell_type": "markdown",
   "id": "9b8ce1fe",
   "metadata": {},
   "source": [
    "Using the 20 features with the highest correlation to `SalePrice`, my first model shows relatively good accuracy for predicting house `SalePrice` \\\\$400k and below. There is a good linear relationship between the actual and predicted values below \\\\$400k. "
   ]
  },
  {
   "cell_type": "markdown",
   "id": "72ab4f17",
   "metadata": {},
   "source": [
    "## RidgeCV\n",
    "---"
   ]
  },
  {
   "cell_type": "markdown",
   "id": "fd3974e4",
   "metadata": {},
   "source": [
    "_**Fine tuning Ridge model**_"
   ]
  },
  {
   "cell_type": "code",
   "execution_count": 52,
   "id": "ec71e2e8",
   "metadata": {},
   "outputs": [],
   "source": [
    "from sklearn.linear_model import RidgeCV"
   ]
  },
  {
   "cell_type": "markdown",
   "id": "21d45588",
   "metadata": {},
   "source": [
    "_**Construct Ridge instantiate function**_"
   ]
  },
  {
   "cell_type": "code",
   "execution_count": 53,
   "id": "1d2b28be",
   "metadata": {},
   "outputs": [],
   "source": [
    "def ridge_cv(train, test):\n",
    "    ss = StandardScaler()  # standardise X_train, X_test\n",
    "    Z_train = ss.fit_transform(train)\n",
    "    Z_test = ss.transform(test) \n",
    "    \n",
    "    ######## Ridge cv model ########\n",
    "    r_alphas = np.logspace(0,5,100) # list of alphas to check\n",
    "    ridge_cv = RidgeCV(alphas=r_alphas, cv=5, scoring='neg_root_mean_squared_error')\n",
    "    ridge_cv.fit(Z_train, y_train)\n",
    "    \n",
    "    ########\n",
    "    return ridge_cv"
   ]
  },
  {
   "cell_type": "code",
   "execution_count": 54,
   "id": "1e4a9429",
   "metadata": {},
   "outputs": [
    {
     "data": {
      "text/plain": [
       "6.42807311728432"
      ]
     },
     "execution_count": 54,
     "metadata": {},
     "output_type": "execute_result"
    }
   ],
   "source": [
    "# lasso cv best alpha value\n",
    "ridge_cv(X_train_20, X_test_20).alpha_"
   ]
  },
  {
   "cell_type": "markdown",
   "id": "1d17bca8",
   "metadata": {},
   "source": [
    "##### Evaluate RidgeCV model:"
   ]
  },
  {
   "cell_type": "code",
   "execution_count": 55,
   "id": "a37231c8",
   "metadata": {},
   "outputs": [],
   "source": [
    "# Constructed function for Ridge model evaluation metrics\n",
    "def ridge_metrics(model, train, test): \n",
    "    y_train_pred = model.predict(train)\n",
    "    y_test_pred = model.predict(test)\n",
    "\n",
    "    y_bar = np.repeat(np.mean(y_train),(len(y_train)))\n",
    "    y_bar_rmse = mean_squared_error(y_train, y_bar, squared=False)\n",
    "\n",
    "    rmse_train = model.score(train, y_train)\n",
    "    # mean_squared_error(y_train, y_train_pred, squared=False)\n",
    "    rmse_test = model.score(test, y_test)\n",
    "    # mean_squared_error(y_test, y_test_pred, squared=False)\n",
    "    perc_diff = (rmse_train - rmse_test)/rmse_train * 100\n",
    "\n",
    "    print(f'y_bar rmse: {y_bar_rmse}')\n",
    "    print(f'Train rmse: {rmse_train}')\n",
    "    print(f'Test rmse: {rmse_test}')\n",
    "    print(f'perc_diff: {perc_diff} %')"
   ]
  },
  {
   "cell_type": "code",
   "execution_count": 56,
   "id": "3b2d4658",
   "metadata": {},
   "outputs": [
    {
     "name": "stdout",
     "output_type": "stream",
     "text": [
      "y_bar rmse: 75639.33151208214\n",
      "Train rmse: -2776583.662183867\n",
      "Test rmse: -2700431.7261218876\n",
      "perc_diff: 2.7426487124858854 %\n"
     ]
    },
    {
     "name": "stderr",
     "output_type": "stream",
     "text": [
      "C:\\Users\\Maybelle\\anaconda3\\lib\\site-packages\\sklearn\\base.py:443: UserWarning: X has feature names, but RidgeCV was fitted without feature names\n",
      "  warnings.warn(\n",
      "C:\\Users\\Maybelle\\anaconda3\\lib\\site-packages\\sklearn\\base.py:443: UserWarning: X has feature names, but RidgeCV was fitted without feature names\n",
      "  warnings.warn(\n",
      "C:\\Users\\Maybelle\\anaconda3\\lib\\site-packages\\sklearn\\base.py:443: UserWarning: X has feature names, but RidgeCV was fitted without feature names\n",
      "  warnings.warn(\n",
      "C:\\Users\\Maybelle\\anaconda3\\lib\\site-packages\\sklearn\\base.py:443: UserWarning: X has feature names, but RidgeCV was fitted without feature names\n",
      "  warnings.warn(\n"
     ]
    }
   ],
   "source": [
    "model = ridge_cv(X_train_20, X_test_20)\n",
    "\n",
    "ridge_metrics(model, X_train_20, X_test_20)"
   ]
  },
  {
   "cell_type": "markdown",
   "id": "c00e8bc8",
   "metadata": {},
   "source": [
    "Surprisingly, this RidgeCV model has a significantly worse performance than my GridSearchCV Ridge model. This model also is worse performing than baseline. I will choose the GridSearchCV Ridge model **`pipe2_gs`** for making predictions on the [test.csv](./datasets/test.csv)."
   ]
  },
  {
   "cell_type": "markdown",
   "id": "f95dcb6a",
   "metadata": {},
   "source": [
    "##  Multicollinearity check:\n",
    "---"
   ]
  },
  {
   "cell_type": "markdown",
   "id": "3d4b14a1",
   "metadata": {},
   "source": [
    "Initially, I used `Variance Inflation Factors`(VIF) to help with feature selection. However it resulted in the exclusion of many features that were highly correlated with `SalePrice` and an eventual poor performing model.<br><br> \n",
    "However it is still important to examine the multicollinearity between the features that have been used for the Ridge model **`pipe2_gs`** I have chosen to use on [test.csv](./datasets/test.csv)."
   ]
  },
  {
   "cell_type": "markdown",
   "id": "4a55edc6",
   "metadata": {},
   "source": [
    "My references are:\n",
    "* [Multicollinearity in regression](https://statisticsbyjim.com/regression/multicollinearity-in-regression-analysis/)\n",
    "* [VIF](https://statisticsbyjim.com/regression/variance-inflation-factors/)\n",
    "* [Multicollinearity with VIF](https://www.geeksforgeeks.org/detecting-multicollinearity-with-vif-python/)\n",
    "* [Add constant in VIF calculation](https://stackoverflow.com/questions/42658379/variance-inflation-factor-in-python)"
   ]
  },
  {
   "cell_type": "code",
   "execution_count": 57,
   "id": "cdaf28b2",
   "metadata": {},
   "outputs": [],
   "source": [
    "from statsmodels.stats.outliers_influence import variance_inflation_factor"
   ]
  },
  {
   "cell_type": "code",
   "execution_count": 58,
   "id": "f42d4a8d",
   "metadata": {},
   "outputs": [],
   "source": [
    "'''\n",
    "to show all columns for null values assessment. \n",
    "Default only showed top 5 and bottom 5 columns\n",
    "''' \n",
    "pd.options.display.min_rows = 20"
   ]
  },
  {
   "cell_type": "code",
   "execution_count": 59,
   "id": "b5adde19",
   "metadata": {},
   "outputs": [],
   "source": [
    "def vif_scores(df):\n",
    "    X = df.assign(const=1) # add a constant\n",
    "    \n",
    "    vif_data = pd.DataFrame()  # initiate VIF dataframe\n",
    "    vif_data[\"feature\"] = X.columns\n",
    "    \n",
    "    vif_data[\"vif\"] = sorted([  # sort to show values with highest VIF scores\n",
    "        variance_inflation_factor(X.values, i) # calculate VIF for each feature\n",
    "        for i in range(len(X.columns))], reverse=True) \n",
    "    \n",
    "    return vif_data"
   ]
  },
  {
   "cell_type": "code",
   "execution_count": 60,
   "id": "d89437a1",
   "metadata": {},
   "outputs": [],
   "source": [
    "vif_df = vif_scores(X_train_20)"
   ]
  },
  {
   "cell_type": "code",
   "execution_count": 61,
   "id": "6db56aad",
   "metadata": {},
   "outputs": [
    {
     "name": "stdout",
     "output_type": "stream",
     "text": [
      "           feature           vif\n",
      "0      Gr Liv Area  20486.869948\n",
      "1     Overall Qual     17.869798\n",
      "2     BsmtFin SF 1     12.615395\n",
      "3     Mas Vnr Area      7.695555\n",
      "4       Exter Qual      3.592153\n",
      "5         Lot Area      3.457068\n",
      "6    Bsmt Exposure      3.397382\n",
      "7     Kitchen Qual      3.233269\n",
      "8     Fireplace Qu      2.647413\n",
      "9        mvt_Stone      2.642132\n",
      "10  have_fireplace      2.585894\n",
      "11  Year Remod/Add      2.581521\n",
      "12      Year Built      2.362629\n",
      "13   Total Bsmt SF      2.171844\n",
      "14    Lot Frontage      2.124630\n",
      "15     Garage Area      1.888327\n",
      "16      1st Flr SF      1.682331\n",
      "17      Fireplaces      1.648372\n",
      "18       Full Bath      1.374341\n",
      "19  BsmtFin Type 1      1.373617\n",
      "20           const      1.231542\n"
     ]
    }
   ],
   "source": [
    "print(vif_df)"
   ]
  },
  {
   "cell_type": "markdown",
   "id": "83e4b2c1",
   "metadata": {},
   "source": [
    "There is high multicollinearity between `Overall Qual`,`Gr Liv Area`,`BsmtFin SF 1` and the other features used in my model. I am also aware that `Overall Qual` and `Gr Liv Area` are the most correlated features to `SalePrice`, so removing them from my model would reduce the performance significantly. Because of that, I will let them remain in my model."
   ]
  },
  {
   "cell_type": "code",
   "execution_count": 62,
   "id": "ba6067a4",
   "metadata": {},
   "outputs": [
    {
     "data": {
      "text/html": [
       "<div>\n",
       "<style scoped>\n",
       "    .dataframe tbody tr th:only-of-type {\n",
       "        vertical-align: middle;\n",
       "    }\n",
       "\n",
       "    .dataframe tbody tr th {\n",
       "        vertical-align: top;\n",
       "    }\n",
       "\n",
       "    .dataframe thead th {\n",
       "        text-align: right;\n",
       "    }\n",
       "</style>\n",
       "<table border=\"1\" class=\"dataframe\">\n",
       "  <thead>\n",
       "    <tr style=\"text-align: right;\">\n",
       "      <th></th>\n",
       "      <th>Gr Liv Area</th>\n",
       "      <th>Overall Qual</th>\n",
       "      <th>BsmtFin SF 1</th>\n",
       "      <th>Mas Vnr Area</th>\n",
       "      <th>Exter Qual</th>\n",
       "      <th>Lot Area</th>\n",
       "      <th>Bsmt Exposure</th>\n",
       "      <th>Kitchen Qual</th>\n",
       "      <th>Fireplace Qu</th>\n",
       "      <th>mvt_Stone</th>\n",
       "      <th>have_fireplace</th>\n",
       "      <th>Year Remod/Add</th>\n",
       "      <th>Year Built</th>\n",
       "      <th>Total Bsmt SF</th>\n",
       "      <th>Lot Frontage</th>\n",
       "      <th>Garage Area</th>\n",
       "      <th>1st Flr SF</th>\n",
       "      <th>Fireplaces</th>\n",
       "      <th>Full Bath</th>\n",
       "      <th>BsmtFin Type 1</th>\n",
       "    </tr>\n",
       "  </thead>\n",
       "  <tbody>\n",
       "    <tr>\n",
       "      <th>0</th>\n",
       "      <td>1441.0</td>\n",
       "      <td>8.0</td>\n",
       "      <td>0.0</td>\n",
       "      <td>456.0</td>\n",
       "      <td>4.0</td>\n",
       "      <td>2645.0</td>\n",
       "      <td>1.0</td>\n",
       "      <td>4.0</td>\n",
       "      <td>0.0</td>\n",
       "      <td>0.0</td>\n",
       "      <td>0.0</td>\n",
       "      <td>2000.0</td>\n",
       "      <td>1999.0</td>\n",
       "      <td>776.0</td>\n",
       "      <td>24.0</td>\n",
       "      <td>492.0</td>\n",
       "      <td>764.0</td>\n",
       "      <td>0.0</td>\n",
       "      <td>2.0</td>\n",
       "      <td>1.0</td>\n",
       "    </tr>\n",
       "    <tr>\n",
       "      <th>1</th>\n",
       "      <td>1604.0</td>\n",
       "      <td>5.0</td>\n",
       "      <td>0.0</td>\n",
       "      <td>0.0</td>\n",
       "      <td>3.0</td>\n",
       "      <td>8267.0</td>\n",
       "      <td>1.0</td>\n",
       "      <td>3.0</td>\n",
       "      <td>0.0</td>\n",
       "      <td>0.0</td>\n",
       "      <td>0.0</td>\n",
       "      <td>1958.0</td>\n",
       "      <td>1958.0</td>\n",
       "      <td>1604.0</td>\n",
       "      <td>70.0</td>\n",
       "      <td>576.0</td>\n",
       "      <td>1604.0</td>\n",
       "      <td>0.0</td>\n",
       "      <td>2.0</td>\n",
       "      <td>1.0</td>\n",
       "    </tr>\n",
       "    <tr>\n",
       "      <th>2</th>\n",
       "      <td>1150.0</td>\n",
       "      <td>5.0</td>\n",
       "      <td>368.0</td>\n",
       "      <td>176.0</td>\n",
       "      <td>3.0</td>\n",
       "      <td>9600.0</td>\n",
       "      <td>1.0</td>\n",
       "      <td>3.0</td>\n",
       "      <td>0.0</td>\n",
       "      <td>0.0</td>\n",
       "      <td>0.0</td>\n",
       "      <td>1955.0</td>\n",
       "      <td>1955.0</td>\n",
       "      <td>1078.0</td>\n",
       "      <td>80.0</td>\n",
       "      <td>288.0</td>\n",
       "      <td>1150.0</td>\n",
       "      <td>0.0</td>\n",
       "      <td>1.0</td>\n",
       "      <td>4.0</td>\n",
       "    </tr>\n",
       "  </tbody>\n",
       "</table>\n",
       "</div>"
      ],
      "text/plain": [
       "   Gr Liv Area  Overall Qual  BsmtFin SF 1  Mas Vnr Area  Exter Qual  \\\n",
       "0       1441.0           8.0           0.0         456.0         4.0   \n",
       "1       1604.0           5.0           0.0           0.0         3.0   \n",
       "2       1150.0           5.0         368.0         176.0         3.0   \n",
       "\n",
       "   Lot Area  Bsmt Exposure  Kitchen Qual  Fireplace Qu  mvt_Stone  \\\n",
       "0    2645.0            1.0           4.0           0.0        0.0   \n",
       "1    8267.0            1.0           3.0           0.0        0.0   \n",
       "2    9600.0            1.0           3.0           0.0        0.0   \n",
       "\n",
       "   have_fireplace  Year Remod/Add  Year Built  Total Bsmt SF  Lot Frontage  \\\n",
       "0             0.0          2000.0      1999.0          776.0          24.0   \n",
       "1             0.0          1958.0      1958.0         1604.0          70.0   \n",
       "2             0.0          1955.0      1955.0         1078.0          80.0   \n",
       "\n",
       "   Garage Area  1st Flr SF  Fireplaces  Full Bath  BsmtFin Type 1  \n",
       "0        492.0       764.0         0.0        2.0             1.0  \n",
       "1        576.0      1604.0         0.0        2.0             1.0  \n",
       "2        288.0      1150.0         0.0        1.0             4.0  "
      ]
     },
     "execution_count": 62,
     "metadata": {},
     "output_type": "execute_result"
    }
   ],
   "source": [
    "# imp_X_train + y_train = train_set\n",
    "train_set[feat_20].head(3)"
   ]
  },
  {
   "cell_type": "code",
   "execution_count": 63,
   "id": "6a85775d",
   "metadata": {},
   "outputs": [],
   "source": [
    "# Create correlation matrix from train data excluding `SalePrice`\n",
    "def corr_heatmap(df, size):  \n",
    "    corr_df = df.corr()\n",
    "\n",
    "    # Show only correlations greater than 0.5\n",
    "    corr = corr_df[abs(corr_df) >= 0.5]\n",
    "\n",
    "    # apply masking\n",
    "    mask = np.zeros_like(corr)\n",
    "    mask[np.triu_indices_from(mask)] = True\n",
    "\n",
    "    # Plot correlation heatmap\n",
    "    plt.figure(figsize=size)\n",
    "    sns.heatmap(corr,\n",
    "                annot=True,\n",
    "                fmt='.1f',\n",
    "                cmap='GnBu',\n",
    "                mask=mask,\n",
    "                vmin=0.5,\n",
    "                vmax=1)\n",
    "    title = plt.title('Correlation Heatmap')"
   ]
  },
  {
   "cell_type": "code",
   "execution_count": 64,
   "id": "1bd3acaa",
   "metadata": {},
   "outputs": [
    {
     "data": {
      "image/png": "[encoded data removed]",
      "text/plain": [
       "<Figure size 720x360 with 2 Axes>"
      ]
     },
     "metadata": {
      "image/png": {
       "height": 394,
       "width": 619
      }
     },
     "output_type": "display_data"
    }
   ],
   "source": [
    "corr_heatmap(df=train_set[feat_20], size=(10,5))"
   ]
  },
  {
   "cell_type": "markdown",
   "id": "c5dd43f8",
   "metadata": {},
   "source": [
    "There is multicollinearity between many features. The features with highest correlations are:\n",
    "* `Fireplace Qu` and `Fireplaces` and `have_fireplace`\n",
    "* `Total Bsmt SF` and `1st Flr SF`"
   ]
  },
  {
   "cell_type": "code",
   "execution_count": 65,
   "id": "f0192e79",
   "metadata": {},
   "outputs": [
    {
     "data": {
      "text/plain": [
       "SalePrice         1.000000\n",
       "Overall Qual      0.807963\n",
       "Exter Qual        0.729809\n",
       "Gr Liv Area       0.694234\n",
       "Kitchen Qual      0.683729\n",
       "Total Bsmt SF     0.651156\n",
       "Garage Area       0.640613\n",
       "Garage Cars       0.639331\n",
       "1st Flr SF        0.634253\n",
       "Bsmt Qual         0.625028\n",
       "Year Built        0.602364\n",
       "Garage Finish     0.564189\n",
       "Year Remod/Add    0.554525\n",
       "fdn_PConc         0.539754\n",
       "Fireplace Qu      0.528699\n",
       "Full Bath         0.524639\n",
       "Mas Vnr Area      0.510781\n",
       "grge_t_Attchd     0.493517\n",
       "Fireplaces        0.480549\n",
       "Name: SalePrice, dtype: float64"
      ]
     },
     "execution_count": 65,
     "metadata": {},
     "output_type": "execute_result"
    }
   ],
   "source": [
    "corr_train = train_set.corr().SalePrice.sort_values(ascending=False)\n",
    "corr_train.head(19)"
   ]
  },
  {
   "cell_type": "markdown",
   "id": "b7a3c5bb",
   "metadata": {},
   "source": [
    "The features with the highest correlations with `SalePrice` also tend to share multicollinearity with each other. Multicollinearity usually have a negative impact on prediction models, I attempted to reduce multicollinearity by removing the following features...\n",
    "* `BsmtFin SF 1`\n",
    "* `Fireplaces`  \n",
    "* `have_fireplace` \n",
    "\n",
    "based on them having lower correlation scores with `SalePrice` compared to `Fireplace Qu`. `BsmtFin SF 1` is removed due to high VIF score. I am reluctant to drop `1st Flr SF` due to its relatively high correlation with `SalePrice`. If I drop too many features, it will compromise on the model performance significantly. I am also dropping `Lot Frontage` because this feature had a high percentage of missing values and might introduce additional bias to model from imputation. <br><br> This resulted in a slightly poorer performing model but maintained a good level of generalisation with `RSME` percentage difference between train and test sets of <5%. Hence I would move forward with the 16 features in `X_train_16`."
   ]
  },
  {
   "cell_type": "code",
   "execution_count": 66,
   "id": "cd933755",
   "metadata": {},
   "outputs": [],
   "source": [
    "X_train_16 = X_train_20.drop(columns=['BsmtFin SF 1','Fireplaces','have_fireplace','Lot Frontage'])\n",
    "X_test_16 = X_test_20.drop(columns=['BsmtFin SF 1','Fireplaces','have_fireplace','Lot Frontage'])"
   ]
  },
  {
   "cell_type": "code",
   "execution_count": 67,
   "id": "73837a01",
   "metadata": {},
   "outputs": [],
   "source": [
    "# Instantiate a StandardScaler + LR pipeline.\n",
    "pipe5 = Pipeline([\n",
    "    ('ss', StandardScaler()),\n",
    "    ('lr', LinearRegression())\n",
    "])\n",
    "\n",
    "# Instantiate a StandardScaler + Ridge pipeline.\n",
    "pipe6 = Pipeline([\n",
    "    ('ss', StandardScaler()),\n",
    "    ('ridge', Ridge())\n",
    "])\n",
    "\n",
    "# Instantiate a StandardScaler + LASSO pipeline.\n",
    "pipe7 = Pipeline([\n",
    "    ('ss', StandardScaler()),\n",
    "    ('lasso', Lasso())\n",
    "])\n",
    "\n",
    "# Instantiate a StandardScaler + ElasticNet pipeline.\n",
    "pipe8 = Pipeline([\n",
    "    ('ss', StandardScaler()),\n",
    "    ('enet', ElasticNet())\n",
    "])"
   ]
  },
  {
   "cell_type": "code",
   "execution_count": 68,
   "id": "de6a65f1",
   "metadata": {},
   "outputs": [],
   "source": [
    "# Create dictionary of hyperparameters.\n",
    "enet_ratio = [.5,.8,.9,.95]\n",
    "n_neighbors = [3,5,10]\n",
    "alpha_l = [1.,10.,100.,500.,1000.]\n",
    "\n",
    "pipe5_params = {'lr__fit_intercept': [True, False],\n",
    "                'lr__positive': [True, False]\n",
    "               }\n",
    "\n",
    "pipe6_params = {'ridge__alpha': alpha_l\n",
    "               }\n",
    "\n",
    "pipe7_params = {'lasso__alpha': alpha_l,\n",
    "                'lasso__max_iter': [10000, 50000]\n",
    "               }\n",
    "\n",
    "pipe8_params = {'enet__alpha': alpha_l,\n",
    "                'enet__l1_ratio': enet_ratio\n",
    "               }"
   ]
  },
  {
   "cell_type": "markdown",
   "id": "c36721e9",
   "metadata": {},
   "source": [
    "_**Instantiate GridSearchCV**_"
   ]
  },
  {
   "cell_type": "code",
   "execution_count": 69,
   "id": "4b199992",
   "metadata": {},
   "outputs": [],
   "source": [
    "from sklearn.model_selection import GridSearchCV"
   ]
  },
  {
   "cell_type": "code",
   "execution_count": 70,
   "id": "f1f2b173",
   "metadata": {},
   "outputs": [],
   "source": [
    "cv_ct = 5\n",
    "score = 'neg_root_mean_squared_error'\n",
    "\n",
    "pipe5_gs = GridSearchCV(pipe5,\n",
    "                       pipe5_params,\n",
    "                       cv=cv_ct,\n",
    "                       scoring=score,\n",
    "                       verbose=1\n",
    "                       )\n",
    "\n",
    "pipe6_gs = GridSearchCV(pipe6,\n",
    "                       pipe6_params,\n",
    "                       cv=cv_ct,\n",
    "                       scoring=score,\n",
    "                       verbose=1\n",
    "                       )\n",
    "\n",
    "pipe7_gs = GridSearchCV(pipe7,\n",
    "                       pipe7_params,\n",
    "                       cv=cv_ct,\n",
    "                       scoring=score,\n",
    "                       verbose=1\n",
    "                       )\n",
    "\n",
    "pipe8_gs = GridSearchCV(pipe8,\n",
    "                       pipe8_params,\n",
    "                       cv=cv_ct,\n",
    "                       scoring=score,\n",
    "                       verbose=1\n",
    "                       )"
   ]
  },
  {
   "cell_type": "markdown",
   "id": "be7f1102",
   "metadata": {},
   "source": [
    "_**Fit models from GridSearchCV pipeline**_"
   ]
  },
  {
   "cell_type": "code",
   "execution_count": 71,
   "id": "810dcfac",
   "metadata": {},
   "outputs": [
    {
     "name": "stdout",
     "output_type": "stream",
     "text": [
      "Fitting 5 folds for each of 4 candidates, totalling 20 fits\n",
      "Fitting 5 folds for each of 5 candidates, totalling 25 fits\n",
      "Fitting 5 folds for each of 10 candidates, totalling 50 fits\n",
      "Fitting 5 folds for each of 20 candidates, totalling 100 fits\n"
     ]
    }
   ],
   "source": [
    "# combine the grids to loop through\n",
    "grids = [pipe5_gs, pipe6_gs, pipe7_gs, pipe8_gs]\n",
    "\n",
    "for pipe in grids:\n",
    "    pipe.fit(X_train_16,y_train)"
   ]
  },
  {
   "cell_type": "markdown",
   "id": "338c39fc",
   "metadata": {},
   "source": [
    "_**Evaluate models**_"
   ]
  },
  {
   "cell_type": "code",
   "execution_count": 72,
   "id": "de167ef6",
   "metadata": {},
   "outputs": [],
   "source": [
    "from sklearn.metrics import mean_squared_error"
   ]
  },
  {
   "cell_type": "code",
   "execution_count": 73,
   "id": "617ae88e",
   "metadata": {},
   "outputs": [
    {
     "name": "stdout",
     "output_type": "stream",
     "text": [
      "y_bar rmse: 75639.33151208214\n",
      "Linear regression train rmse: -26765.703031092587\n",
      "Linear regression test rmse: -26676.536266571886\n",
      "Linear regression %_diff rmse: 0.3331381373286568 %\n",
      "Linear regression Best Params: {'lr__fit_intercept': True, 'lr__positive': False}\n",
      "\n",
      "y_bar rmse: 75639.33151208214\n",
      "Ridge regression train rmse: -26766.963445522935\n",
      "Ridge regression test rmse: -26666.102720741696\n",
      "Ridge regression %_diff rmse: 0.37681048500893644 %\n",
      "Ridge regression Best Params: {'ridge__alpha': 10.0}\n",
      "\n",
      "y_bar rmse: 75639.33151208214\n",
      "Lasso regression train rmse: -26765.70321835631\n",
      "Lasso regression test rmse: -26676.403472444876\n",
      "Lasso regression %_diff rmse: 0.33363497003206305 %\n",
      "Lasso regression Best Params: {'lasso__alpha': 1.0, 'lasso__max_iter': 10000}\n",
      "\n",
      "y_bar rmse: 75639.33151208214\n",
      "ElasticNet regression train rmse: -26814.12399508294\n",
      "ElasticNet regression test rmse: -26652.05110676893\n",
      "ElasticNet regression %_diff rmse: 0.6044310391931176 %\n",
      "ElasticNet regression Best Params: {'enet__alpha': 1.0, 'enet__l1_ratio': 0.95}\n",
      "\n"
     ]
    }
   ],
   "source": [
    "y_bar = np.repeat(np.mean(y_train),(len(y_train)))\n",
    "y_bar_rmse = mean_squared_error(y_train, y_bar, squared=False)\n",
    "\n",
    "grid_dict = {0: 'Linear regression', 1: 'Ridge regression',\n",
    "            2: 'Lasso regression', 3: 'ElasticNet regression'}\n",
    "\n",
    "for i, model in enumerate(grids):\n",
    "    print(f'y_bar rmse: {y_bar_rmse}')\n",
    "    print(f'{grid_dict[i]} train rmse: {model.score(X_train_16, y_train)}')\n",
    "    print(f'{grid_dict[i]} test rmse: {model.score(X_test_16, y_test)}')\n",
    "    print(f'{grid_dict[i]} %_diff rmse: {((model.score(X_train_16, y_train)-model.score(X_test_16, y_test))*100)/model.score(X_train_16, y_train)} %')\n",
    "    print(f'{grid_dict[i]} Best Params: {model.best_params_}')\n",
    "    print()"
   ]
  },
  {
   "cell_type": "code",
   "execution_count": 74,
   "id": "8345c2bb",
   "metadata": {},
   "outputs": [
    {
     "data": {
      "image/png": "[encoded data removed]",
      "text/plain": [
       "<Figure size 360x360 with 1 Axes>"
      ]
     },
     "metadata": {
      "image/png": {
       "height": 338,
       "width": 342
      }
     },
     "output_type": "display_data"
    }
   ],
   "source": [
    "title = 'ElasticNet prediction vs. actual SalePrice'\n",
    "sns_plt(model=pipe8_gs, x_data=X_train_16, y_data=y_train, title=title)"
   ]
  },
  {
   "cell_type": "markdown",
   "id": "b1587dae",
   "metadata": {},
   "source": [
    "After dropping 4 features that have high multicollinearity VIF scores and high correlation scores, the general performance metrics have dropped slightly, which is expected since features are removed. The models still have good generalisation of <5% `RMSE` difference. <br><br>\n",
    "This time, it is ElasticNet model **`pipe8_gs`** that has the best `test RMSE` scores. I will attempt to finetune the ElasticNet model below."
   ]
  },
  {
   "cell_type": "markdown",
   "id": "160ecf30",
   "metadata": {},
   "source": [
    "## ElasticNetCV\n",
    "---"
   ]
  },
  {
   "cell_type": "markdown",
   "id": "5643f9b0",
   "metadata": {},
   "source": [
    "_**Fine tuning ElasticNet model**_"
   ]
  },
  {
   "cell_type": "code",
   "execution_count": 75,
   "id": "c9e7c860",
   "metadata": {},
   "outputs": [],
   "source": [
    "pipe_enet = Pipeline([\n",
    "    ('ss', StandardScaler()),\n",
    "    ('enet', ElasticNet())\n",
    "])"
   ]
  },
  {
   "cell_type": "code",
   "execution_count": 76,
   "id": "5705fba9",
   "metadata": {},
   "outputs": [],
   "source": [
    "# Create dictionary of hyperparameters.\n",
    "enet_ratio = np.linspace(0.5, 1.0, 100)\n",
    "alpha_l = np.linspace(0.5, 1.0, 10)\n",
    "\n",
    "pipe_enet_params = {'enet__alpha': alpha_l,\n",
    "                    'enet__l1_ratio': enet_ratio\n",
    "                   }"
   ]
  },
  {
   "cell_type": "markdown",
   "id": "e44be9b9",
   "metadata": {},
   "source": [
    "_**Instantiate GridSearchCV**_"
   ]
  },
  {
   "cell_type": "code",
   "execution_count": 77,
   "id": "b46db8ba",
   "metadata": {},
   "outputs": [],
   "source": [
    "cv_ct = 5\n",
    "score = 'neg_root_mean_squared_error'\n",
    "\n",
    "pipe_enet_gs = GridSearchCV(pipe_enet,\n",
    "                       pipe_enet_params,\n",
    "                       cv=cv_ct,\n",
    "                       scoring=score,\n",
    "                       verbose=1\n",
    "                       )"
   ]
  },
  {
   "cell_type": "markdown",
   "id": "b0f08003",
   "metadata": {},
   "source": [
    "_**Fit models from GridSearchCV pipeline**_"
   ]
  },
  {
   "cell_type": "code",
   "execution_count": 78,
   "id": "cc83b4df",
   "metadata": {},
   "outputs": [
    {
     "name": "stdout",
     "output_type": "stream",
     "text": [
      "Fitting 5 folds for each of 1000 candidates, totalling 5000 fits\n"
     ]
    },
    {
     "data": {
      "text/plain": [
       "GridSearchCV(cv=5,\n",
       "             estimator=Pipeline(steps=[('ss', StandardScaler()),\n",
       "                                       ('enet', ElasticNet())]),\n",
       "             param_grid={'enet__alpha': array([0.5       , 0.55555556, 0.61111111, 0.66666667, 0.72222222,\n",
       "       0.77777778, 0.83333333, 0.88888889, 0.94444444, 1.        ]),\n",
       "                         'enet__l1_ratio': array([0.5       , 0.50505051, 0.51010101, 0.51515152, 0.52020202,\n",
       "       0.52525253, 0.53030303, 0.53535354, 0.54040404, 0.54545455,\n",
       "       0...\n",
       "       0.85353535, 0.85858586, 0.86363636, 0.86868687, 0.87373737,\n",
       "       0.87878788, 0.88383838, 0.88888889, 0.89393939, 0.8989899 ,\n",
       "       0.9040404 , 0.90909091, 0.91414141, 0.91919192, 0.92424242,\n",
       "       0.92929293, 0.93434343, 0.93939394, 0.94444444, 0.94949495,\n",
       "       0.95454545, 0.95959596, 0.96464646, 0.96969697, 0.97474747,\n",
       "       0.97979798, 0.98484848, 0.98989899, 0.99494949, 1.        ])},\n",
       "             scoring='neg_root_mean_squared_error', verbose=1)"
      ]
     },
     "execution_count": 78,
     "metadata": {},
     "output_type": "execute_result"
    }
   ],
   "source": [
    "pipe_enet_gs.fit(X_train_16,y_train)"
   ]
  },
  {
   "cell_type": "markdown",
   "id": "f38cdaf2",
   "metadata": {},
   "source": [
    "_**Evaluate model**_"
   ]
  },
  {
   "cell_type": "code",
   "execution_count": 79,
   "id": "a33eb6c0",
   "metadata": {},
   "outputs": [
    {
     "name": "stdout",
     "output_type": "stream",
     "text": [
      "y_bar rmse: 75639.33151208214\n",
      "ElasticNet train rmse: -26767.02204581697\n",
      "ElasticNet test rmse: -26665.865402276253\n",
      "ElasticNet %_diff rmse: 0.37791519492743425 %\n",
      "ElasticNet Best Params: {'enet__alpha': 0.7222222222222222, 'enet__l1_ratio': 0.98989898989899}\n",
      "\n"
     ]
    }
   ],
   "source": [
    "y_bar = np.repeat(np.mean(y_train),(len(y_train)))\n",
    "y_bar_rmse = mean_squared_error(y_train, y_bar, squared=False)\n",
    "\n",
    "print(f'y_bar rmse: {y_bar_rmse}')\n",
    "print(f'ElasticNet train rmse: {pipe_enet_gs.score(X_train_16, y_train)}')\n",
    "print(f'ElasticNet test rmse: {pipe_enet_gs.score(X_test_16, y_test)}')\n",
    "print(f'ElasticNet %_diff rmse: {((pipe_enet_gs.score(X_train_16, y_train)-pipe_enet_gs.score(X_test_16, y_test))*100)/pipe_enet_gs.score(X_train_16, y_train)} %')\n",
    "print(f'ElasticNet Best Params: {pipe_enet_gs.best_params_}')\n",
    "print()"
   ]
  },
  {
   "cell_type": "markdown",
   "id": "79880bd7",
   "metadata": {},
   "source": [
    "##### Reference `pipe8_gs` performance metrics: "
   ]
  },
  {
   "cell_type": "raw",
   "id": "5927905d",
   "metadata": {},
   "source": [
    "y_bar rmse: 75639.33151208214\n",
    "ElasticNet regression train rmse: -26814.12399508294\n",
    "ElasticNet regression test rmse: -26652.05110676893\n",
    "ElasticNet regression %_diff rmse: 0.6044310391931176 %\n",
    "ElasticNet regression Best Params: {'enet__alpha': 1.0, 'enet__l1_ratio': 0.95}"
   ]
  },
  {
   "cell_type": "markdown",
   "id": "894dbd1f",
   "metadata": {},
   "source": [
    "Fine tuning the ElasticNet model using GridSearchCV resulted in a model that achieved a better `train rmse` score but a slightly worse `test rmse` score. Therefore, I will use the ElasticNet model **`pipe8_gs`** from the previous GridSearchCV for [test.csv](./datasets/test.csv) predictions."
   ]
  },
  {
   "cell_type": "code",
   "execution_count": 80,
   "id": "51fcb003",
   "metadata": {
    "scrolled": true
   },
   "outputs": [
    {
     "data": {
      "image/png": "[encoded data removed]",
      "text/plain": [
       "<Figure size 360x360 with 1 Axes>"
      ]
     },
     "metadata": {
      "image/png": {
       "height": 338,
       "width": 373
      }
     },
     "output_type": "display_data"
    }
   ],
   "source": [
    "title = 'Finetuned ElasticNet prediction vs actual SalePrice'\n",
    "sns_plt(model=pipe_enet_gs, x_data=X_train_16, y_data=y_train, title=title)"
   ]
  },
  {
   "cell_type": "markdown",
   "id": "0483a148",
   "metadata": {},
   "source": [
    "My model does not work well to predict `SalePrice` above \\\\$400k."
   ]
  },
  {
   "cell_type": "markdown",
   "id": "273bb612",
   "metadata": {},
   "source": [
    "## Kaggle Submission preparation\n",
    "---"
   ]
  },
  {
   "cell_type": "markdown",
   "id": "0a831330",
   "metadata": {},
   "source": [
    "**Contents:**\n",
    "* [Original test set](#test_df)\n",
    "* [Dummified test set](#test_dum)\n",
    "* [Features isolated and imputed test set](#imp_test)\n",
    "* [Make predictions](#Make-predictions-using-ElasticNet-Model-from-GridSearchCV)"
   ]
  },
  {
   "cell_type": "markdown",
   "id": "9a4652ae",
   "metadata": {},
   "source": [
    "### test_df"
   ]
  },
  {
   "cell_type": "markdown",
   "id": "085c8463",
   "metadata": {},
   "source": [
    "_Import [test.csv](./datasets/test.csv)_"
   ]
  },
  {
   "cell_type": "code",
   "execution_count": 81,
   "id": "48565dd3",
   "metadata": {},
   "outputs": [],
   "source": [
    "# use test.csv to generate predictions for submission\n",
    "test_df = pd.read_csv('./datasets/test.csv')"
   ]
  },
  {
   "cell_type": "code",
   "execution_count": 82,
   "id": "35bf7c96",
   "metadata": {},
   "outputs": [
    {
     "data": {
      "text/html": [
       "<div>\n",
       "<style scoped>\n",
       "    .dataframe tbody tr th:only-of-type {\n",
       "        vertical-align: middle;\n",
       "    }\n",
       "\n",
       "    .dataframe tbody tr th {\n",
       "        vertical-align: top;\n",
       "    }\n",
       "\n",
       "    .dataframe thead th {\n",
       "        text-align: right;\n",
       "    }\n",
       "</style>\n",
       "<table border=\"1\" class=\"dataframe\">\n",
       "  <thead>\n",
       "    <tr style=\"text-align: right;\">\n",
       "      <th></th>\n",
       "      <th>Id</th>\n",
       "      <th>PID</th>\n",
       "      <th>MS SubClass</th>\n",
       "      <th>MS Zoning</th>\n",
       "      <th>Lot Frontage</th>\n",
       "      <th>Lot Area</th>\n",
       "      <th>Street</th>\n",
       "      <th>Alley</th>\n",
       "      <th>Lot Shape</th>\n",
       "      <th>Land Contour</th>\n",
       "      <th>...</th>\n",
       "      <th>3Ssn Porch</th>\n",
       "      <th>Screen Porch</th>\n",
       "      <th>Pool Area</th>\n",
       "      <th>Pool QC</th>\n",
       "      <th>Fence</th>\n",
       "      <th>Misc Feature</th>\n",
       "      <th>Misc Val</th>\n",
       "      <th>Mo Sold</th>\n",
       "      <th>Yr Sold</th>\n",
       "      <th>Sale Type</th>\n",
       "    </tr>\n",
       "  </thead>\n",
       "  <tbody>\n",
       "    <tr>\n",
       "      <th>0</th>\n",
       "      <td>2658</td>\n",
       "      <td>902301120</td>\n",
       "      <td>190</td>\n",
       "      <td>RM</td>\n",
       "      <td>69.0</td>\n",
       "      <td>9142</td>\n",
       "      <td>Pave</td>\n",
       "      <td>Grvl</td>\n",
       "      <td>Reg</td>\n",
       "      <td>Lvl</td>\n",
       "      <td>...</td>\n",
       "      <td>0</td>\n",
       "      <td>0</td>\n",
       "      <td>0</td>\n",
       "      <td>NaN</td>\n",
       "      <td>NaN</td>\n",
       "      <td>NaN</td>\n",
       "      <td>0</td>\n",
       "      <td>4</td>\n",
       "      <td>2006</td>\n",
       "      <td>WD</td>\n",
       "    </tr>\n",
       "    <tr>\n",
       "      <th>1</th>\n",
       "      <td>2718</td>\n",
       "      <td>905108090</td>\n",
       "      <td>90</td>\n",
       "      <td>RL</td>\n",
       "      <td>NaN</td>\n",
       "      <td>9662</td>\n",
       "      <td>Pave</td>\n",
       "      <td>NaN</td>\n",
       "      <td>IR1</td>\n",
       "      <td>Lvl</td>\n",
       "      <td>...</td>\n",
       "      <td>0</td>\n",
       "      <td>0</td>\n",
       "      <td>0</td>\n",
       "      <td>NaN</td>\n",
       "      <td>NaN</td>\n",
       "      <td>NaN</td>\n",
       "      <td>0</td>\n",
       "      <td>8</td>\n",
       "      <td>2006</td>\n",
       "      <td>WD</td>\n",
       "    </tr>\n",
       "    <tr>\n",
       "      <th>2</th>\n",
       "      <td>2414</td>\n",
       "      <td>528218130</td>\n",
       "      <td>60</td>\n",
       "      <td>RL</td>\n",
       "      <td>58.0</td>\n",
       "      <td>17104</td>\n",
       "      <td>Pave</td>\n",
       "      <td>NaN</td>\n",
       "      <td>IR1</td>\n",
       "      <td>Lvl</td>\n",
       "      <td>...</td>\n",
       "      <td>0</td>\n",
       "      <td>0</td>\n",
       "      <td>0</td>\n",
       "      <td>NaN</td>\n",
       "      <td>NaN</td>\n",
       "      <td>NaN</td>\n",
       "      <td>0</td>\n",
       "      <td>9</td>\n",
       "      <td>2006</td>\n",
       "      <td>New</td>\n",
       "    </tr>\n",
       "  </tbody>\n",
       "</table>\n",
       "<p>3 rows × 80 columns</p>\n",
       "</div>"
      ],
      "text/plain": [
       "     Id        PID  MS SubClass MS Zoning  Lot Frontage  Lot Area Street  \\\n",
       "0  2658  902301120          190        RM          69.0      9142   Pave   \n",
       "1  2718  905108090           90        RL           NaN      9662   Pave   \n",
       "2  2414  528218130           60        RL          58.0     17104   Pave   \n",
       "\n",
       "  Alley Lot Shape Land Contour  ... 3Ssn Porch Screen Porch Pool Area Pool QC  \\\n",
       "0  Grvl       Reg          Lvl  ...          0            0         0     NaN   \n",
       "1   NaN       IR1          Lvl  ...          0            0         0     NaN   \n",
       "2   NaN       IR1          Lvl  ...          0            0         0     NaN   \n",
       "\n",
       "  Fence Misc Feature Misc Val Mo Sold  Yr Sold  Sale Type  \n",
       "0   NaN          NaN        0       4     2006        WD   \n",
       "1   NaN          NaN        0       8     2006        WD   \n",
       "2   NaN          NaN        0       9     2006        New  \n",
       "\n",
       "[3 rows x 80 columns]"
      ]
     },
     "execution_count": 82,
     "metadata": {},
     "output_type": "execute_result"
    }
   ],
   "source": [
    "test_df.head(3)"
   ]
  },
  {
   "cell_type": "markdown",
   "id": "f15afc33",
   "metadata": {},
   "source": [
    "_Dummify test_df and resolve any null values before getting prediction values because of model restrictions_"
   ]
  },
  {
   "cell_type": "code",
   "execution_count": 83,
   "id": "37f7d6ac",
   "metadata": {},
   "outputs": [
    {
     "name": "stdout",
     "output_type": "stream",
     "text": [
      "['Gr Liv Area', 'Overall Qual', 'Mas Vnr Area', 'Exter Qual', 'Lot Area', 'Bsmt Exposure', 'Kitchen Qual', 'Fireplace Qu', 'mvt_Stone', 'Year Remod/Add', 'Year Built', 'Total Bsmt SF', 'Garage Area', '1st Flr SF', 'Full Bath', 'BsmtFin Type 1']\n"
     ]
    },
    {
     "data": {
      "text/plain": [
       "16"
      ]
     },
     "execution_count": 83,
     "metadata": {},
     "output_type": "execute_result"
    }
   ],
   "source": [
    "'''\n",
    "Final features to isolate in test set so that model can accept test data to make predictions\n",
    "'''\n",
    "print(X_train_16.columns.tolist())\n",
    "len(X_train_16.columns.tolist())"
   ]
  },
  {
   "cell_type": "markdown",
   "id": "96a54323",
   "metadata": {},
   "source": [
    "Need to group and label the categorical values the same way I did for the training data. Features to focus on are `Exter Qual`, `Bsmt Exposure`, `Kitchen Qual`, `Fireplace Qu`, `mvt_Stone`,`BsmtFin Type 1`."
   ]
  },
  {
   "cell_type": "markdown",
   "id": "e458e827",
   "metadata": {},
   "source": [
    "##### Instantiate functions used for ordinal encoding of training data:"
   ]
  },
  {
   "cell_type": "code",
   "execution_count": 84,
   "id": "f39ef2fb",
   "metadata": {},
   "outputs": [],
   "source": [
    "def int_rank3(df,col,var_no):\n",
    "    return df[col].replace({'GLQ':6, 'ALQ':5, 'BLQ':4, 'Rec':3, 'LwQ':2, 'Unf':1, var_no:0}, inplace=True)"
   ]
  },
  {
   "cell_type": "code",
   "execution_count": 85,
   "id": "1780c793",
   "metadata": {},
   "outputs": [],
   "source": [
    "def int_rank1(df,col):\n",
    "    return df[col].replace({'Ex':5, 'Gd':4, 'TA':3, 'Fa':2, 'Po':1}, inplace=True)"
   ]
  },
  {
   "cell_type": "code",
   "execution_count": 86,
   "id": "b092b86e",
   "metadata": {},
   "outputs": [],
   "source": [
    "def int_rank2(df,col,var_no):\n",
    "    return df[col].replace({'Ex':5, 'Gd':4, 'TA':3, 'Fa':2, 'Po':1, var_no:0}, inplace=True)"
   ]
  },
  {
   "cell_type": "markdown",
   "id": "a3dd42be",
   "metadata": {},
   "source": [
    "##### Apply functions:"
   ]
  },
  {
   "cell_type": "code",
   "execution_count": 87,
   "id": "58fd0656",
   "metadata": {},
   "outputs": [],
   "source": [
    "# BsmtFin Type 1\n",
    "int_rank3(test_df,col='BsmtFin Type 1',var_no=np.nan)"
   ]
  },
  {
   "cell_type": "code",
   "execution_count": 88,
   "id": "45f43620",
   "metadata": {},
   "outputs": [],
   "source": [
    "#Bsmt Exposure\n",
    "test_df['Bsmt Exposure'].replace({'Gd':4, 'Av':3, 'Mn':2, 'No':1, np.nan:0}, inplace=True)"
   ]
  },
  {
   "cell_type": "code",
   "execution_count": 89,
   "id": "dbd110a7",
   "metadata": {},
   "outputs": [
    {
     "data": {
      "text/plain": [
       "other      548\n",
       "BrkFace    250\n",
       "Stone       80\n",
       "Name: Mas Vnr Type, dtype: int64"
      ]
     },
     "execution_count": 89,
     "metadata": {},
     "output_type": "execute_result"
    }
   ],
   "source": [
    "#mvt_Stone\n",
    "test_df['Mas Vnr Type'].replace({'BrkCmn':'other', np.nan:'other',\n",
    "                                  'None':'other', 'CBlock':'other'\n",
    "                              }, inplace=True)\n",
    "# check changes\n",
    "test_df['Mas Vnr Type'].value_counts()"
   ]
  },
  {
   "cell_type": "code",
   "execution_count": 90,
   "id": "7a956cc0",
   "metadata": {},
   "outputs": [],
   "source": [
    "# label encode these categorical features to ordinal numerical values\n",
    "int_rank1(test_df, col='Exter Qual')\n",
    "int_rank1(test_df, col='Kitchen Qual')\n",
    "int_rank2(test_df,col='Fireplace Qu',var_no=np.nan)"
   ]
  },
  {
   "cell_type": "markdown",
   "id": "3f57f031",
   "metadata": {},
   "source": [
    "### test_dum"
   ]
  },
  {
   "cell_type": "markdown",
   "id": "0febd3b1",
   "metadata": {},
   "source": [
    "Dummify the desired categorical features in the test set."
   ]
  },
  {
   "cell_type": "code",
   "execution_count": 91,
   "id": "87a499b5",
   "metadata": {
    "scrolled": true
   },
   "outputs": [
    {
     "data": {
      "text/html": [
       "<div>\n",
       "<style scoped>\n",
       "    .dataframe tbody tr th:only-of-type {\n",
       "        vertical-align: middle;\n",
       "    }\n",
       "\n",
       "    .dataframe tbody tr th {\n",
       "        vertical-align: top;\n",
       "    }\n",
       "\n",
       "    .dataframe thead th {\n",
       "        text-align: right;\n",
       "    }\n",
       "</style>\n",
       "<table border=\"1\" class=\"dataframe\">\n",
       "  <thead>\n",
       "    <tr style=\"text-align: right;\">\n",
       "      <th></th>\n",
       "      <th>Id</th>\n",
       "      <th>PID</th>\n",
       "      <th>MS SubClass</th>\n",
       "      <th>MS Zoning</th>\n",
       "      <th>Lot Frontage</th>\n",
       "      <th>Lot Area</th>\n",
       "      <th>Street</th>\n",
       "      <th>Alley</th>\n",
       "      <th>Lot Shape</th>\n",
       "      <th>Land Contour</th>\n",
       "      <th>...</th>\n",
       "      <th>Fence</th>\n",
       "      <th>Misc Feature</th>\n",
       "      <th>Misc Val</th>\n",
       "      <th>Mo Sold</th>\n",
       "      <th>Yr Sold</th>\n",
       "      <th>Sale Type</th>\n",
       "      <th>mvt_BrkFace</th>\n",
       "      <th>mvt_Stone</th>\n",
       "      <th>mvt_other</th>\n",
       "      <th>mvt_nan</th>\n",
       "    </tr>\n",
       "  </thead>\n",
       "  <tbody>\n",
       "    <tr>\n",
       "      <th>0</th>\n",
       "      <td>2658</td>\n",
       "      <td>902301120</td>\n",
       "      <td>190</td>\n",
       "      <td>RM</td>\n",
       "      <td>69.0</td>\n",
       "      <td>9142</td>\n",
       "      <td>Pave</td>\n",
       "      <td>Grvl</td>\n",
       "      <td>Reg</td>\n",
       "      <td>Lvl</td>\n",
       "      <td>...</td>\n",
       "      <td>NaN</td>\n",
       "      <td>NaN</td>\n",
       "      <td>0</td>\n",
       "      <td>4</td>\n",
       "      <td>2006</td>\n",
       "      <td>WD</td>\n",
       "      <td>0</td>\n",
       "      <td>0</td>\n",
       "      <td>1</td>\n",
       "      <td>0</td>\n",
       "    </tr>\n",
       "    <tr>\n",
       "      <th>1</th>\n",
       "      <td>2718</td>\n",
       "      <td>905108090</td>\n",
       "      <td>90</td>\n",
       "      <td>RL</td>\n",
       "      <td>NaN</td>\n",
       "      <td>9662</td>\n",
       "      <td>Pave</td>\n",
       "      <td>NaN</td>\n",
       "      <td>IR1</td>\n",
       "      <td>Lvl</td>\n",
       "      <td>...</td>\n",
       "      <td>NaN</td>\n",
       "      <td>NaN</td>\n",
       "      <td>0</td>\n",
       "      <td>8</td>\n",
       "      <td>2006</td>\n",
       "      <td>WD</td>\n",
       "      <td>0</td>\n",
       "      <td>0</td>\n",
       "      <td>1</td>\n",
       "      <td>0</td>\n",
       "    </tr>\n",
       "    <tr>\n",
       "      <th>2</th>\n",
       "      <td>2414</td>\n",
       "      <td>528218130</td>\n",
       "      <td>60</td>\n",
       "      <td>RL</td>\n",
       "      <td>58.0</td>\n",
       "      <td>17104</td>\n",
       "      <td>Pave</td>\n",
       "      <td>NaN</td>\n",
       "      <td>IR1</td>\n",
       "      <td>Lvl</td>\n",
       "      <td>...</td>\n",
       "      <td>NaN</td>\n",
       "      <td>NaN</td>\n",
       "      <td>0</td>\n",
       "      <td>9</td>\n",
       "      <td>2006</td>\n",
       "      <td>New</td>\n",
       "      <td>0</td>\n",
       "      <td>0</td>\n",
       "      <td>1</td>\n",
       "      <td>0</td>\n",
       "    </tr>\n",
       "  </tbody>\n",
       "</table>\n",
       "<p>3 rows × 83 columns</p>\n",
       "</div>"
      ],
      "text/plain": [
       "     Id        PID  MS SubClass MS Zoning  Lot Frontage  Lot Area Street  \\\n",
       "0  2658  902301120          190        RM          69.0      9142   Pave   \n",
       "1  2718  905108090           90        RL           NaN      9662   Pave   \n",
       "2  2414  528218130           60        RL          58.0     17104   Pave   \n",
       "\n",
       "  Alley Lot Shape Land Contour  ... Fence Misc Feature Misc Val Mo Sold  \\\n",
       "0  Grvl       Reg          Lvl  ...   NaN          NaN        0       4   \n",
       "1   NaN       IR1          Lvl  ...   NaN          NaN        0       8   \n",
       "2   NaN       IR1          Lvl  ...   NaN          NaN        0       9   \n",
       "\n",
       "  Yr Sold Sale Type mvt_BrkFace mvt_Stone  mvt_other  mvt_nan  \n",
       "0    2006       WD            0         0          1        0  \n",
       "1    2006       WD            0         0          1        0  \n",
       "2    2006       New           0         0          1        0  \n",
       "\n",
       "[3 rows x 83 columns]"
      ]
     },
     "execution_count": 91,
     "metadata": {},
     "output_type": "execute_result"
    }
   ],
   "source": [
    "prefix_dict = {'Mas Vnr Type': 'mvt'}\n",
    "\n",
    "columns_list = ['Mas Vnr Type']\n",
    "\n",
    "test_dum = pd.get_dummies(data=test_df, prefix=prefix_dict, dummy_na=True, columns=columns_list)\n",
    "test_dum.head(3)"
   ]
  },
  {
   "cell_type": "code",
   "execution_count": 92,
   "id": "ccaaed2c",
   "metadata": {},
   "outputs": [],
   "source": [
    "test_select = test_dum[X_train_16.columns.tolist()]"
   ]
  },
  {
   "cell_type": "code",
   "execution_count": 93,
   "id": "786f3bde",
   "metadata": {
    "scrolled": false
   },
   "outputs": [
    {
     "data": {
      "text/plain": [
       "Mas Vnr Area    1\n",
       "Gr Liv Area     0\n",
       "Overall Qual    0\n",
       "dtype: int64"
      ]
     },
     "execution_count": 93,
     "metadata": {},
     "output_type": "execute_result"
    }
   ],
   "source": [
    "# check for null values\n",
    "test_select.isnull().sum().sort_values(ascending=False)[:3]"
   ]
  },
  {
   "cell_type": "markdown",
   "id": "614e9840",
   "metadata": {},
   "source": [
    "### imp_test"
   ]
  },
  {
   "cell_type": "markdown",
   "id": "5e3b873d",
   "metadata": {},
   "source": [
    "I am not allowed to drop any rows. So I will have to do KNN imputation for the missing value in `Mas Vnr Area` in `test_select`."
   ]
  },
  {
   "cell_type": "code",
   "execution_count": 94,
   "id": "a0f35dc1",
   "metadata": {},
   "outputs": [],
   "source": [
    "# instantiate KNN imputer\n",
    "imp = KNNImputer()"
   ]
  },
  {
   "cell_type": "code",
   "execution_count": 95,
   "id": "65ef3734",
   "metadata": {},
   "outputs": [],
   "source": [
    "# use KNNImputer fitted on X_train_16, transform test set (matched features)\n",
    "imp_16 = imp.fit(X_train_16)\n",
    "imp_test = imp_16.transform(test_select)"
   ]
  },
  {
   "cell_type": "code",
   "execution_count": 96,
   "id": "1d6cde0e",
   "metadata": {},
   "outputs": [],
   "source": [
    "# convert to dataframe format\n",
    "imp_test = pd.DataFrame(imp_test, columns=test_select.columns)"
   ]
  },
  {
   "cell_type": "code",
   "execution_count": 97,
   "id": "4acf9367",
   "metadata": {
    "scrolled": false
   },
   "outputs": [
    {
     "data": {
      "text/plain": [
       "Gr Liv Area     0\n",
       "Overall Qual    0\n",
       "Mas Vnr Area    0\n",
       "dtype: int64"
      ]
     },
     "execution_count": 97,
     "metadata": {},
     "output_type": "execute_result"
    }
   ],
   "source": [
    "# relook at what null values that are left \n",
    "imp_test.isnull().sum().sort_values(ascending=False)[:3]"
   ]
  },
  {
   "cell_type": "code",
   "execution_count": 98,
   "id": "78383c35",
   "metadata": {},
   "outputs": [
    {
     "data": {
      "text/plain": [
       "(878, 16)"
      ]
     },
     "execution_count": 98,
     "metadata": {},
     "output_type": "execute_result"
    }
   ],
   "source": [
    "imp_test.shape"
   ]
  },
  {
   "cell_type": "markdown",
   "id": "43d090bc",
   "metadata": {},
   "source": [
    "### Make predictions using ElasticNet Model from GridSearchCV"
   ]
  },
  {
   "cell_type": "code",
   "execution_count": 99,
   "id": "4e43ba03",
   "metadata": {},
   "outputs": [
    {
     "data": {
      "text/plain": [
       "878"
      ]
     },
     "execution_count": 99,
     "metadata": {},
     "output_type": "execute_result"
    }
   ],
   "source": [
    "# generate predictions using the GridsearchCV ElasticNet model fitted on the training set\n",
    "test_pred = pipe8_gs.predict(imp_test)\n",
    "len(test_pred)"
   ]
  },
  {
   "cell_type": "code",
   "execution_count": 100,
   "id": "032d1627",
   "metadata": {},
   "outputs": [
    {
     "data": {
      "text/html": [
       "<div>\n",
       "<style scoped>\n",
       "    .dataframe tbody tr th:only-of-type {\n",
       "        vertical-align: middle;\n",
       "    }\n",
       "\n",
       "    .dataframe tbody tr th {\n",
       "        vertical-align: top;\n",
       "    }\n",
       "\n",
       "    .dataframe thead th {\n",
       "        text-align: right;\n",
       "    }\n",
       "</style>\n",
       "<table border=\"1\" class=\"dataframe\">\n",
       "  <thead>\n",
       "    <tr style=\"text-align: right;\">\n",
       "      <th></th>\n",
       "      <th>Id</th>\n",
       "    </tr>\n",
       "  </thead>\n",
       "  <tbody>\n",
       "    <tr>\n",
       "      <th>0</th>\n",
       "      <td>2658</td>\n",
       "    </tr>\n",
       "    <tr>\n",
       "      <th>1</th>\n",
       "      <td>2718</td>\n",
       "    </tr>\n",
       "    <tr>\n",
       "      <th>2</th>\n",
       "      <td>2414</td>\n",
       "    </tr>\n",
       "  </tbody>\n",
       "</table>\n",
       "</div>"
      ],
      "text/plain": [
       "     Id\n",
       "0  2658\n",
       "1  2718\n",
       "2  2414"
      ]
     },
     "execution_count": 100,
     "metadata": {},
     "output_type": "execute_result"
    }
   ],
   "source": [
    "# isolate `Id` column from test_df\n",
    "test_final = test_df[['Id']]\n",
    "test_final.head(3)"
   ]
  },
  {
   "cell_type": "code",
   "execution_count": 101,
   "id": "0bd48bd1",
   "metadata": {},
   "outputs": [
    {
     "name": "stderr",
     "output_type": "stream",
     "text": [
      "C:\\Users\\Maybelle\\AppData\\Local\\Temp\\ipykernel_19744\\2170739544.py:5: SettingWithCopyWarning: \n",
      "A value is trying to be set on a copy of a slice from a DataFrame.\n",
      "Try using .loc[row_indexer,col_indexer] = value instead\n",
      "\n",
      "See the caveats in the documentation: https://pandas.pydata.org/pandas-docs/stable/user_guide/indexing.html#returning-a-view-versus-a-copy\n",
      "  test_final['SalePrice'] = test_pred\n"
     ]
    },
    {
     "data": {
      "text/html": [
       "<div>\n",
       "<style scoped>\n",
       "    .dataframe tbody tr th:only-of-type {\n",
       "        vertical-align: middle;\n",
       "    }\n",
       "\n",
       "    .dataframe tbody tr th {\n",
       "        vertical-align: top;\n",
       "    }\n",
       "\n",
       "    .dataframe thead th {\n",
       "        text-align: right;\n",
       "    }\n",
       "</style>\n",
       "<table border=\"1\" class=\"dataframe\">\n",
       "  <thead>\n",
       "    <tr style=\"text-align: right;\">\n",
       "      <th></th>\n",
       "      <th>Id</th>\n",
       "      <th>SalePrice</th>\n",
       "    </tr>\n",
       "  </thead>\n",
       "  <tbody>\n",
       "    <tr>\n",
       "      <th>0</th>\n",
       "      <td>2658</td>\n",
       "      <td>136381.044108</td>\n",
       "    </tr>\n",
       "    <tr>\n",
       "      <th>1</th>\n",
       "      <td>2718</td>\n",
       "      <td>185275.599532</td>\n",
       "    </tr>\n",
       "    <tr>\n",
       "      <th>2</th>\n",
       "      <td>2414</td>\n",
       "      <td>221235.124658</td>\n",
       "    </tr>\n",
       "  </tbody>\n",
       "</table>\n",
       "</div>"
      ],
      "text/plain": [
       "     Id      SalePrice\n",
       "0  2658  136381.044108\n",
       "1  2718  185275.599532\n",
       "2  2414  221235.124658"
      ]
     },
     "execution_count": 101,
     "metadata": {},
     "output_type": "execute_result"
    }
   ],
   "source": [
    "'''\n",
    "predictions are in a list format. \n",
    "Need to make new column to input prediction values \n",
    "'''\n",
    "test_final['SalePrice'] = test_pred\n",
    "test_final.head(3)"
   ]
  },
  {
   "cell_type": "code",
   "execution_count": 102,
   "id": "1044532d",
   "metadata": {},
   "outputs": [],
   "source": [
    "# Export file for submission\n",
    "test_final.to_csv('./kaggle_submission.csv', index=False)"
   ]
  },
  {
   "cell_type": "markdown",
   "id": "3c7f8383",
   "metadata": {},
   "source": [
    ">**User:** yxmauw <br>\n",
    "**Kaggle score achieved:** 34012.46876 <br>\n",
    "**Private score:** 27865.38616"
   ]
  },
  {
   "cell_type": "markdown",
   "id": "e167fb7d",
   "metadata": {},
   "source": [
    "## Business case for project 2\n",
    "---"
   ]
  },
  {
   "cell_type": "markdown",
   "id": "739801c2",
   "metadata": {},
   "source": [
    "To develop a web application where homeowners who wish to sell their property can use to find out what `SalePrice` to sell their property for. The webpage will have specific fields for visitors to fill and submit details about their property. Using our proprietary machine learning algorithm, the application will generate an estimate visitors can use as reference to quote their property `SalePrice`. "
   ]
  },
  {
   "cell_type": "markdown",
   "id": "34694d4c",
   "metadata": {},
   "source": [
    "__Steps taken:__\n",
    "1. [Find common features](#Find-common-features-used-in-all-group-members'-models:)\n",
    "1. [Find group model](#Group-work-model:)\n",
    "1. [Polynomial feature engineering](#Polynomial-feature-engineering-to-see-if-it-makes-pipe8_gs-model-more-accurate)\n",
    "1. [Evaluate model for deployment](#Evaluate-model-performance-for-deployment:) <br>\n",
    "[Multicollinearity check](#Evaluate-for-Multicollinearity:)\n",
    "1. [Set up web application](#Set-up-data-file-for-model-training-in-Streamlit-web-application:)"
   ]
  },
  {
   "cell_type": "markdown",
   "id": "49b65445",
   "metadata": {},
   "source": [
    "##### Find common features used in all group members' models:"
   ]
  },
  {
   "cell_type": "code",
   "execution_count": 103,
   "id": "e160eece",
   "metadata": {
    "scrolled": true
   },
   "outputs": [
    {
     "name": "stdout",
     "output_type": "stream",
     "text": [
      "['Gr Liv Area', 'Overall Qual', 'Mas Vnr Area', 'Exter Qual', 'Lot Area', 'Bsmt Exposure', 'Kitchen Qual', 'Fireplace Qu', 'mvt_Stone', 'Year Remod/Add', 'Year Built', 'Total Bsmt SF', 'Garage Area', '1st Flr SF', 'Full Bath', 'BsmtFin Type 1']\n"
     ]
    }
   ],
   "source": [
    "my_list = X_train_16.columns.tolist()\n",
    "print(my_list)"
   ]
  },
  {
   "cell_type": "code",
   "execution_count": 104,
   "id": "5eabfa83",
   "metadata": {},
   "outputs": [],
   "source": [
    "tiek_leong_features = ['MS Zoning', 'Wood Deck SF', 'Garage Finish', 'Exterior 1st',\n",
    "                       'Bsmt Full Bath', 'TotRms AbvGrd', 'Lot Frontage', 'Fireplace Qu',\n",
    "                       'Neighborhood', 'Lot Area', 'Garage Area', 'Bsmt Exposure',\n",
    "                       'Overall Cond', 'Kitchen Qual', 'Exter Qual', 'Mas Vnr Area',\n",
    "                       'Total Bsmt SF', 'Year Built', 'BsmtFin SF 1', '1st Flr SF',\n",
    "                       '2nd Flr SF', 'Gr Liv Area', 'Overall Qual']"
   ]
  },
  {
   "cell_type": "code",
   "execution_count": 105,
   "id": "a33e6ebf",
   "metadata": {},
   "outputs": [],
   "source": [
    "anand_features = ['Overall Qual','Gr Liv Area','Total Bsmt SF',  \n",
    "                   'Garage Area','Year Built','Year Remod/Add','fdn_PConc', \n",
    "                   'Mas Vnr Area','Fireplaces','bsmtfin_type_1_gq']"
   ]
  },
  {
   "cell_type": "markdown",
   "id": "461f6948",
   "metadata": {},
   "source": [
    "To refine the features for our machine learning algorithm, we find the features that are present in all 3 group members final model feature selection."
   ]
  },
  {
   "cell_type": "code",
   "execution_count": 106,
   "id": "749e7008",
   "metadata": {},
   "outputs": [],
   "source": [
    "def common_features(lst_1, lst_2, lst_3):\n",
    "    lst = []\n",
    "    for x in lst_1:\n",
    "        for y in lst_2:\n",
    "            for z in lst_3:\n",
    "                if x==y==z:\n",
    "                    lst.append(x)\n",
    "    return lst"
   ]
  },
  {
   "cell_type": "code",
   "execution_count": 107,
   "id": "17b27997",
   "metadata": {},
   "outputs": [
    {
     "name": "stdout",
     "output_type": "stream",
     "text": [
      "['Gr Liv Area', 'Overall Qual', 'Mas Vnr Area', 'Year Built', 'Total Bsmt SF', 'Garage Area']\n"
     ]
    }
   ],
   "source": [
    "com_list = common_features(my_list, tiek_leong_features, anand_features)\n",
    "print(com_list)"
   ]
  },
  {
   "cell_type": "markdown",
   "id": "1be58810",
   "metadata": {},
   "source": [
    "There are 6 features that are common across all 3 group members final model feature selection. \n",
    "However, 1 out of the 6 features is quite subjective for visitors to fill in on the website. Therefore, I decided that for any new data from the website, `Overall Qual` will be imputed based on KNNImputer fitted on training data and fed to the algorithm to generate a prediction."
   ]
  },
  {
   "cell_type": "markdown",
   "id": "3d93d518",
   "metadata": {},
   "source": [
    "##### Group work model:"
   ]
  },
  {
   "cell_type": "code",
   "execution_count": 108,
   "id": "85255759",
   "metadata": {},
   "outputs": [],
   "source": [
    "grp_X_train = imp_X_train[com_list]\n",
    "grp_X_test = imp_X_test[com_list]"
   ]
  },
  {
   "cell_type": "code",
   "execution_count": 109,
   "id": "87522120",
   "metadata": {},
   "outputs": [],
   "source": [
    "# Instantiate a StandardScaler + LR pipeline.\n",
    "pipe9 = Pipeline([\n",
    "    ('ss', StandardScaler()),\n",
    "    ('lr', LinearRegression())\n",
    "])\n",
    "\n",
    "# Instantiate a StandardScaler + Ridge pipeline.\n",
    "pipe10 = Pipeline([\n",
    "    ('ss', StandardScaler()),\n",
    "    ('ridge', Ridge())\n",
    "])\n",
    "\n",
    "# Instantiate a StandardScaler + LASSO pipeline.\n",
    "pipe11 = Pipeline([\n",
    "    ('ss', StandardScaler()),\n",
    "    ('lasso', Lasso())\n",
    "])\n",
    "\n",
    "# Instantiate a StandardScaler + ElasticNet pipeline.\n",
    "pipe12 = Pipeline([\n",
    "    ('ss', StandardScaler()),\n",
    "    ('enet', ElasticNet())\n",
    "])"
   ]
  },
  {
   "cell_type": "code",
   "execution_count": 110,
   "id": "82199239",
   "metadata": {},
   "outputs": [],
   "source": [
    "# Create dictionary of hyperparameters.\n",
    "enet_ratio = [.5,.8,.9,.95]\n",
    "n_neighbors = [3,5,10]\n",
    "alpha_l = [1.,10.,100.,500.,1000.]\n",
    "\n",
    "pipe9_params = {'lr__fit_intercept': [True, False],\n",
    "                'lr__positive': [True, False]\n",
    "               }\n",
    "\n",
    "pipe10_params = {'ridge__alpha': alpha_l\n",
    "               }\n",
    "\n",
    "pipe11_params = {'lasso__alpha': alpha_l,\n",
    "                'lasso__max_iter': [10000, 50000]\n",
    "               }\n",
    "\n",
    "pipe12_params = {'enet__alpha': alpha_l,\n",
    "                'enet__l1_ratio': enet_ratio\n",
    "               }"
   ]
  },
  {
   "cell_type": "code",
   "execution_count": 111,
   "id": "0684f27f",
   "metadata": {},
   "outputs": [],
   "source": [
    "cv_ct = 5\n",
    "score = 'neg_root_mean_squared_error'\n",
    "\n",
    "pipe9_gs = GridSearchCV(pipe9,\n",
    "                       pipe9_params,\n",
    "                       cv=cv_ct,\n",
    "                       scoring=score,\n",
    "                       verbose=1\n",
    "                       )\n",
    "\n",
    "pipe10_gs = GridSearchCV(pipe10,\n",
    "                       pipe10_params,\n",
    "                       cv=cv_ct,\n",
    "                       scoring=score,\n",
    "                       verbose=1\n",
    "                       )\n",
    "\n",
    "pipe11_gs = GridSearchCV(pipe11,\n",
    "                       pipe11_params,\n",
    "                       cv=cv_ct,\n",
    "                       scoring=score,\n",
    "                       verbose=1\n",
    "                       )\n",
    "\n",
    "pipe12_gs = GridSearchCV(pipe12,\n",
    "                       pipe12_params,\n",
    "                       cv=cv_ct,\n",
    "                       scoring=score,\n",
    "                       verbose=1\n",
    "                       )"
   ]
  },
  {
   "cell_type": "code",
   "execution_count": 112,
   "id": "a9647749",
   "metadata": {},
   "outputs": [
    {
     "name": "stdout",
     "output_type": "stream",
     "text": [
      "Fitting 5 folds for each of 4 candidates, totalling 20 fits\n",
      "Fitting 5 folds for each of 5 candidates, totalling 25 fits\n",
      "Fitting 5 folds for each of 10 candidates, totalling 50 fits\n",
      "Fitting 5 folds for each of 20 candidates, totalling 100 fits\n"
     ]
    }
   ],
   "source": [
    "# combine the grids to loop through\n",
    "grids = [pipe9_gs, pipe10_gs, pipe11_gs, pipe12_gs]\n",
    "\n",
    "for pipe in grids:\n",
    "    pipe.fit(grp_X_train,y_train)"
   ]
  },
  {
   "cell_type": "markdown",
   "id": "667c8068",
   "metadata": {},
   "source": [
    "_**Evaluate models**_"
   ]
  },
  {
   "cell_type": "code",
   "execution_count": 113,
   "id": "ef6a065b",
   "metadata": {},
   "outputs": [],
   "source": [
    "from sklearn.metrics import mean_squared_error, mean_absolute_error"
   ]
  },
  {
   "cell_type": "code",
   "execution_count": 114,
   "id": "0a4c9aeb",
   "metadata": {},
   "outputs": [
    {
     "name": "stdout",
     "output_type": "stream",
     "text": [
      "y_bar rmse: 75639.33151208214\n",
      "Linear regression train mae: 22695.410599127823\n",
      "Linear regression test mae: 23191.803844300954\n",
      "Linear regression train rmse: -31226.91644214323\n",
      "Linear regression test rmse: -30879.880640007053\n",
      "Linear regression %_diff rmse: 1.111335481295946 %\n",
      "Linear regression Best Params: {'lr__fit_intercept': True, 'lr__positive': True}\n",
      "\n",
      "y_bar rmse: 75639.33151208214\n",
      "Ridge regression train mae: 22665.42227295901\n",
      "Ridge regression test mae: 23147.405502301244\n",
      "Ridge regression train rmse: -31227.645944263808\n",
      "Ridge regression test rmse: -30850.786708804808\n",
      "Ridge regression %_diff rmse: 1.206812822624003 %\n",
      "Ridge regression Best Params: {'ridge__alpha': 10.0}\n",
      "\n",
      "y_bar rmse: 75639.33151208214\n",
      "Lasso regression train mae: 22676.892668025976\n",
      "Lasso regression test mae: 23165.361614715126\n",
      "Lasso regression train rmse: -31227.237925192356\n",
      "Lasso regression test rmse: -30864.621227045707\n",
      "Lasso regression %_diff rmse: 1.1612192503715164 %\n",
      "Lasso regression Best Params: {'lasso__alpha': 100.0, 'lasso__max_iter': 10000}\n",
      "\n",
      "y_bar rmse: 75639.33151208214\n",
      "ElasticNet regression train mae: 22507.44988845677\n",
      "ElasticNet regression test mae: 22909.838005546077\n",
      "ElasticNet regression train rmse: -31259.231762269705\n",
      "ElasticNet regression test rmse: -30717.920879449506\n",
      "ElasticNet regression %_diff rmse: 1.731683257403554 %\n",
      "ElasticNet regression Best Params: {'enet__alpha': 1.0, 'enet__l1_ratio': 0.95}\n",
      "\n"
     ]
    }
   ],
   "source": [
    "y_bar = np.repeat(np.mean(y_train),(len(y_train)))\n",
    "y_bar_rmse = mean_squared_error(y_train, y_bar, squared=False)\n",
    "\n",
    "grid_dict = {0: 'Linear regression', 1: 'Ridge regression',\n",
    "            2: 'Lasso regression', 3: 'ElasticNet regression'}\n",
    "\n",
    "for i, model in enumerate(grids):\n",
    "    print(f'y_bar rmse: {y_bar_rmse}')\n",
    "    print(f'{grid_dict[i]} train mae: {mean_absolute_error(y_train, model.predict(grp_X_train))}')\n",
    "    print(f'{grid_dict[i]} test mae: {mean_absolute_error(y_test, model.predict(grp_X_test))}')\n",
    "    print(f'{grid_dict[i]} train rmse: {model.score(grp_X_train, y_train)}')\n",
    "    print(f'{grid_dict[i]} test rmse: {model.score(grp_X_test, y_test)}')\n",
    "    print(f'{grid_dict[i]} %_diff rmse: {((model.score(grp_X_train, y_train)-model.score(grp_X_test, y_test))*100)/model.score(grp_X_train, y_train)} %')\n",
    "    print(f'{grid_dict[i]} Best Params: {model.best_params_}')\n",
    "    print()"
   ]
  },
  {
   "cell_type": "markdown",
   "id": "450d55ab",
   "metadata": {},
   "source": [
    "For the ease of interpretation by users of the website, we will be using mean absolute error(MAE) as the range of error to include in our `SalePrice` predictions when displaying the `SalePrice` quote to users. \n",
    "\n",
    "Therefore, the best linear model based on lowest MAE score is `ElasticNet`, which I will attempt to fine tune, before deploying to the web application."
   ]
  },
  {
   "cell_type": "markdown",
   "id": "c04f404e",
   "metadata": {},
   "source": [
    "#### Finetune ElasticNet model `pipe12_gs` for deployment: "
   ]
  },
  {
   "cell_type": "code",
   "execution_count": 115,
   "id": "3af1b4ec",
   "metadata": {},
   "outputs": [],
   "source": [
    "enet_ratio = np.linspace(.5,1,50)\n",
    "alpha_l = np.linspace(.01,1,50)\n",
    "\n",
    "pipe_enet2 = Pipeline([\n",
    "    ('ss', StandardScaler()),\n",
    "    ('enet', ElasticNet())\n",
    "])\n",
    "\n",
    "pipe_enet2_params = {'enet__alpha': alpha_l,\n",
    "                'enet__l1_ratio': enet_ratio\n",
    "               }"
   ]
  },
  {
   "cell_type": "code",
   "execution_count": 116,
   "id": "f9a4d7b6",
   "metadata": {},
   "outputs": [],
   "source": [
    "cv_ct = 5\n",
    "score = 'neg_root_mean_squared_error'\n",
    "\n",
    "pipe_enet2_gs = GridSearchCV(pipe_enet2,\n",
    "                       pipe_enet2_params,\n",
    "                       cv=cv_ct,\n",
    "                       scoring=score,\n",
    "                       verbose=1\n",
    "                       )"
   ]
  },
  {
   "cell_type": "code",
   "execution_count": 117,
   "id": "2d6ea15a",
   "metadata": {},
   "outputs": [
    {
     "name": "stdout",
     "output_type": "stream",
     "text": [
      "Fitting 5 folds for each of 2500 candidates, totalling 12500 fits\n"
     ]
    },
    {
     "data": {
      "text/plain": [
       "GridSearchCV(cv=5,\n",
       "             estimator=Pipeline(steps=[('ss', StandardScaler()),\n",
       "                                       ('enet', ElasticNet())]),\n",
       "             param_grid={'enet__alpha': array([0.01      , 0.03020408, 0.05040816, 0.07061224, 0.09081633,\n",
       "       0.11102041, 0.13122449, 0.15142857, 0.17163265, 0.19183673,\n",
       "       0.21204082, 0.2322449 , 0.25244898, 0.27265306, 0.29285714,\n",
       "       0.31306122, 0.33326531, 0.35346939, 0.37367347, 0.39387755,\n",
       "       0.41408163, 0...\n",
       "       0.70408163, 0.71428571, 0.7244898 , 0.73469388, 0.74489796,\n",
       "       0.75510204, 0.76530612, 0.7755102 , 0.78571429, 0.79591837,\n",
       "       0.80612245, 0.81632653, 0.82653061, 0.83673469, 0.84693878,\n",
       "       0.85714286, 0.86734694, 0.87755102, 0.8877551 , 0.89795918,\n",
       "       0.90816327, 0.91836735, 0.92857143, 0.93877551, 0.94897959,\n",
       "       0.95918367, 0.96938776, 0.97959184, 0.98979592, 1.        ])},\n",
       "             scoring='neg_root_mean_squared_error', verbose=1)"
      ]
     },
     "execution_count": 117,
     "metadata": {},
     "output_type": "execute_result"
    }
   ],
   "source": [
    "pipe_enet2_gs.fit(grp_X_train,y_train)"
   ]
  },
  {
   "cell_type": "code",
   "execution_count": 118,
   "id": "8abfa0a0",
   "metadata": {
    "scrolled": false
   },
   "outputs": [
    {
     "name": "stdout",
     "output_type": "stream",
     "text": [
      "y_bar rmse: 75639.33151208214\n",
      "Elastic Net train mae: 22644.64861550354\n",
      "Elastic Net test mae: 23116.579566649707\n",
      "Elastic Net train rmse: -31229.047971307307\n",
      "Elastic Net test rmse: -30831.16411527073\n",
      "Elastic Net %_diff rmse: 1.2740825669810532 %\n",
      "Elastic Net Best Params: {'enet__alpha': 0.030204081632653063, 'enet__l1_ratio': 0.5918367346938775}\n"
     ]
    }
   ],
   "source": [
    "y_bar = np.repeat(np.mean(y_train),(len(y_train)))\n",
    "y_bar_rmse = mean_squared_error(y_train, y_bar, squared=False)\n",
    "\n",
    "print(f'y_bar rmse: {y_bar_rmse}')\n",
    "print(f'Elastic Net train mae: {mean_absolute_error(y_train, pipe_enet2_gs.predict(grp_X_train))}')\n",
    "print(f'Elastic Net test mae: {mean_absolute_error(y_test, pipe_enet2_gs.predict(grp_X_test))}')\n",
    "print(f'Elastic Net train rmse: {pipe_enet2_gs.score(grp_X_train, y_train)}')\n",
    "print(f'Elastic Net test rmse: {pipe_enet2_gs.score(grp_X_test, y_test)}')\n",
    "print(f'Elastic Net %_diff rmse: {((pipe_enet2_gs.score(grp_X_train, y_train)-pipe_enet2_gs.score(grp_X_test, y_test))*100)/pipe_enet2_gs.score(grp_X_train, y_train)} %')\n",
    "print(f'Elastic Net Best Params: {pipe_enet2_gs.best_params_}')"
   ]
  },
  {
   "cell_type": "markdown",
   "id": "bde4fe75",
   "metadata": {},
   "source": [
    "Reference **`pipe12_gs`** score metrics:"
   ]
  },
  {
   "cell_type": "raw",
   "id": "9d63e09f",
   "metadata": {},
   "source": [
    "y_bar rmse: 75639.33151208214\n",
    "ElasticNet regression train mae: 22507.44988845677\n",
    "ElasticNet regression test mae: 22909.838005546077\n",
    "ElasticNet regression train rmse: -31259.231762269705\n",
    "ElasticNet regression test rmse: -30717.920879449506\n",
    "ElasticNet regression %_diff rmse: 1.731683257403554 %\n",
    "ElasticNet regression Best Params: {'enet__alpha': 1.0, 'enet__l1_ratio': 0.95}"
   ]
  },
  {
   "cell_type": "markdown",
   "id": "3f5cbfd3",
   "metadata": {},
   "source": [
    "Unfortunately, the fine tuning using just ElasticNet within GridSearchCV did not result in a better MAE score compared to **`pipe12_gs`**. Therefore I will use **`pipe12_gs`** as the model to deploy in the website."
   ]
  },
  {
   "cell_type": "code",
   "execution_count": 119,
   "id": "77b36a09",
   "metadata": {},
   "outputs": [
    {
     "data": {
      "image/png": "[encoded data removed]",
      "text/plain": [
       "<Figure size 360x360 with 1 Axes>"
      ]
     },
     "metadata": {
      "image/png": {
       "height": 338,
       "width": 360
      }
     },
     "output_type": "display_data"
    }
   ],
   "source": [
    "title = 'Group ElasticNet prediction vs actual SalePrice'\n",
    "sns_plt(model=pipe_enet2_gs, x_data=grp_X_train, y_data=y_train, title=title)"
   ]
  },
  {
   "cell_type": "markdown",
   "id": "df50373f",
   "metadata": {},
   "source": [
    "The first model constructed using the common group features still shows poor prediction capability for house `SalePrice` above \\\\$400k."
   ]
  },
  {
   "cell_type": "markdown",
   "id": "aa2b2e19",
   "metadata": {},
   "source": [
    "##### Polynomial feature engineering to see if it makes `pipe12_gs` model more accurate"
   ]
  },
  {
   "cell_type": "code",
   "execution_count": 120,
   "id": "3e0e184b",
   "metadata": {},
   "outputs": [],
   "source": [
    "from sklearn.preprocessing import PolynomialFeatures"
   ]
  },
  {
   "cell_type": "code",
   "execution_count": 121,
   "id": "9d7dafee",
   "metadata": {},
   "outputs": [
    {
     "data": {
      "text/plain": [
       "(1395, 6)"
      ]
     },
     "execution_count": 121,
     "metadata": {},
     "output_type": "execute_result"
    }
   ],
   "source": [
    "grp_X_train.shape"
   ]
  },
  {
   "cell_type": "code",
   "execution_count": 122,
   "id": "fa682ed9",
   "metadata": {},
   "outputs": [
    {
     "data": {
      "text/plain": [
       "(599, 6)"
      ]
     },
     "execution_count": 122,
     "metadata": {},
     "output_type": "execute_result"
    }
   ],
   "source": [
    "grp_X_test.shape"
   ]
  },
  {
   "cell_type": "code",
   "execution_count": 123,
   "id": "a449e92e",
   "metadata": {},
   "outputs": [],
   "source": [
    "y_test.reset_index(drop=True, inplace=True) # to align with grp_X_test indices"
   ]
  },
  {
   "cell_type": "code",
   "execution_count": 124,
   "id": "0f5b2808",
   "metadata": {},
   "outputs": [],
   "source": [
    "# combine data to check for correlation ranking\n",
    "model_train = pd.concat([grp_X_train,y_train], axis=1)\n",
    "model_test = pd.concat([grp_X_test,y_test], axis=1)"
   ]
  },
  {
   "cell_type": "code",
   "execution_count": 125,
   "id": "a4679ab7",
   "metadata": {},
   "outputs": [],
   "source": [
    "model_data = pd.concat([model_train,model_test], axis=0)"
   ]
  },
  {
   "cell_type": "code",
   "execution_count": 126,
   "id": "6d3fcbf6",
   "metadata": {},
   "outputs": [
    {
     "data": {
      "text/plain": [
       "(1994, 7)"
      ]
     },
     "execution_count": 126,
     "metadata": {},
     "output_type": "execute_result"
    }
   ],
   "source": [
    "model_data.shape"
   ]
  },
  {
   "cell_type": "code",
   "execution_count": 127,
   "id": "0999be1e",
   "metadata": {
    "scrolled": true
   },
   "outputs": [
    {
     "data": {
      "text/plain": [
       "SalePrice        1.000000\n",
       "Overall Qual     0.807923\n",
       "Gr Liv Area      0.710122\n",
       "Total Bsmt SF    0.656232\n",
       "Garage Area      0.653884\n",
       "Year Built       0.599428\n",
       "Mas Vnr Area     0.527027\n",
       "Name: SalePrice, dtype: float64"
      ]
     },
     "execution_count": 127,
     "metadata": {},
     "output_type": "execute_result"
    }
   ],
   "source": [
    "# rank correlation\n",
    "model_data.corr().SalePrice.sort_values(ascending=False)"
   ]
  },
  {
   "cell_type": "code",
   "execution_count": 128,
   "id": "a36755d3",
   "metadata": {},
   "outputs": [],
   "source": [
    "# Instantiate PolynomialFeatures\n",
    "poly = PolynomialFeatures(degree=3, include_bias=False)"
   ]
  },
  {
   "cell_type": "code",
   "execution_count": 129,
   "id": "a69ba2a3",
   "metadata": {},
   "outputs": [],
   "source": [
    "# fit and transform data\n",
    "X_poly_train = poly.fit_transform(grp_X_train[['Gr Liv Area']])\n",
    "X_poly_test = poly.transform(grp_X_test[['Gr Liv Area']])"
   ]
  },
  {
   "cell_type": "markdown",
   "id": "d1b65e47",
   "metadata": {},
   "source": [
    "I decided to choose `Gr Liv Area` for polynomial feature engineering because its correlation factor with `SalePrice` is 0.7-0.9 (implies strong relationship). I did not choose `Overall Qual` for polynomial feature engineering because as mentioned [earlier](#Find-common-features-used-in-all-group-members'-models:), this feature would become imputed for future new data entered in the web application, and I do not wish to increase the influence of imputed data fed into the model. <br><br> I also attempted to do polynomial feature engineering for features with correlation strength between 0.6 and 0.7, however it caused the model to become overfitted on the training data, and less generalised. "
   ]
  },
  {
   "cell_type": "code",
   "execution_count": 130,
   "id": "e617d468",
   "metadata": {},
   "outputs": [],
   "source": [
    "# convert to pd.dataframe\n",
    "X_poly_train = pd.DataFrame(X_poly_train, columns=poly.get_feature_names_out(['Gr Liv Area']))\n",
    "X_poly_test = pd.DataFrame(X_poly_test, columns=poly.get_feature_names_out(['Gr Liv Area']))"
   ]
  },
  {
   "cell_type": "code",
   "execution_count": 131,
   "id": "d1b279d5",
   "metadata": {},
   "outputs": [
    {
     "data": {
      "text/html": [
       "<div>\n",
       "<style scoped>\n",
       "    .dataframe tbody tr th:only-of-type {\n",
       "        vertical-align: middle;\n",
       "    }\n",
       "\n",
       "    .dataframe tbody tr th {\n",
       "        vertical-align: top;\n",
       "    }\n",
       "\n",
       "    .dataframe thead th {\n",
       "        text-align: right;\n",
       "    }\n",
       "</style>\n",
       "<table border=\"1\" class=\"dataframe\">\n",
       "  <thead>\n",
       "    <tr style=\"text-align: right;\">\n",
       "      <th></th>\n",
       "      <th>Gr Liv Area</th>\n",
       "      <th>Gr Liv Area^2</th>\n",
       "      <th>Gr Liv Area^3</th>\n",
       "      <th>Gr Liv Area</th>\n",
       "      <th>Overall Qual</th>\n",
       "      <th>Mas Vnr Area</th>\n",
       "      <th>Year Built</th>\n",
       "      <th>Total Bsmt SF</th>\n",
       "      <th>Garage Area</th>\n",
       "    </tr>\n",
       "  </thead>\n",
       "  <tbody>\n",
       "    <tr>\n",
       "      <th>0</th>\n",
       "      <td>1441.0</td>\n",
       "      <td>2076481.0</td>\n",
       "      <td>2.992209e+09</td>\n",
       "      <td>1441.0</td>\n",
       "      <td>8.0</td>\n",
       "      <td>456.0</td>\n",
       "      <td>1999.0</td>\n",
       "      <td>776.0</td>\n",
       "      <td>492.0</td>\n",
       "    </tr>\n",
       "    <tr>\n",
       "      <th>1</th>\n",
       "      <td>1604.0</td>\n",
       "      <td>2572816.0</td>\n",
       "      <td>4.126797e+09</td>\n",
       "      <td>1604.0</td>\n",
       "      <td>5.0</td>\n",
       "      <td>0.0</td>\n",
       "      <td>1958.0</td>\n",
       "      <td>1604.0</td>\n",
       "      <td>576.0</td>\n",
       "    </tr>\n",
       "    <tr>\n",
       "      <th>2</th>\n",
       "      <td>1150.0</td>\n",
       "      <td>1322500.0</td>\n",
       "      <td>1.520875e+09</td>\n",
       "      <td>1150.0</td>\n",
       "      <td>5.0</td>\n",
       "      <td>176.0</td>\n",
       "      <td>1955.0</td>\n",
       "      <td>1078.0</td>\n",
       "      <td>288.0</td>\n",
       "    </tr>\n",
       "  </tbody>\n",
       "</table>\n",
       "</div>"
      ],
      "text/plain": [
       "   Gr Liv Area  Gr Liv Area^2  Gr Liv Area^3  Gr Liv Area  Overall Qual  \\\n",
       "0       1441.0      2076481.0   2.992209e+09       1441.0           8.0   \n",
       "1       1604.0      2572816.0   4.126797e+09       1604.0           5.0   \n",
       "2       1150.0      1322500.0   1.520875e+09       1150.0           5.0   \n",
       "\n",
       "   Mas Vnr Area  Year Built  Total Bsmt SF  Garage Area  \n",
       "0         456.0      1999.0          776.0        492.0  \n",
       "1           0.0      1958.0         1604.0        576.0  \n",
       "2         176.0      1955.0         1078.0        288.0  "
      ]
     },
     "execution_count": 131,
     "metadata": {},
     "output_type": "execute_result"
    }
   ],
   "source": [
    "# join with original dataframe\n",
    "X_poly_train = pd.concat([X_poly_train, grp_X_train], axis=1)\n",
    "X_poly_train.head(3)"
   ]
  },
  {
   "cell_type": "code",
   "execution_count": 132,
   "id": "367fce5f",
   "metadata": {},
   "outputs": [
    {
     "data": {
      "text/html": [
       "<div>\n",
       "<style scoped>\n",
       "    .dataframe tbody tr th:only-of-type {\n",
       "        vertical-align: middle;\n",
       "    }\n",
       "\n",
       "    .dataframe tbody tr th {\n",
       "        vertical-align: top;\n",
       "    }\n",
       "\n",
       "    .dataframe thead th {\n",
       "        text-align: right;\n",
       "    }\n",
       "</style>\n",
       "<table border=\"1\" class=\"dataframe\">\n",
       "  <thead>\n",
       "    <tr style=\"text-align: right;\">\n",
       "      <th></th>\n",
       "      <th>Gr Liv Area</th>\n",
       "      <th>Gr Liv Area^2</th>\n",
       "      <th>Gr Liv Area^3</th>\n",
       "      <th>Gr Liv Area</th>\n",
       "      <th>Overall Qual</th>\n",
       "      <th>Mas Vnr Area</th>\n",
       "      <th>Year Built</th>\n",
       "      <th>Total Bsmt SF</th>\n",
       "      <th>Garage Area</th>\n",
       "    </tr>\n",
       "  </thead>\n",
       "  <tbody>\n",
       "    <tr>\n",
       "      <th>0</th>\n",
       "      <td>1548.0</td>\n",
       "      <td>2396304.0</td>\n",
       "      <td>3.709479e+09</td>\n",
       "      <td>1548.0</td>\n",
       "      <td>7.0</td>\n",
       "      <td>0.0</td>\n",
       "      <td>1925.0</td>\n",
       "      <td>952.0</td>\n",
       "      <td>672.0</td>\n",
       "    </tr>\n",
       "    <tr>\n",
       "      <th>1</th>\n",
       "      <td>672.0</td>\n",
       "      <td>451584.0</td>\n",
       "      <td>3.034644e+08</td>\n",
       "      <td>672.0</td>\n",
       "      <td>4.0</td>\n",
       "      <td>0.0</td>\n",
       "      <td>1941.0</td>\n",
       "      <td>672.0</td>\n",
       "      <td>234.0</td>\n",
       "    </tr>\n",
       "    <tr>\n",
       "      <th>2</th>\n",
       "      <td>1768.0</td>\n",
       "      <td>3125824.0</td>\n",
       "      <td>5.526457e+09</td>\n",
       "      <td>1768.0</td>\n",
       "      <td>5.0</td>\n",
       "      <td>252.0</td>\n",
       "      <td>1937.0</td>\n",
       "      <td>731.0</td>\n",
       "      <td>240.0</td>\n",
       "    </tr>\n",
       "  </tbody>\n",
       "</table>\n",
       "</div>"
      ],
      "text/plain": [
       "   Gr Liv Area  Gr Liv Area^2  Gr Liv Area^3  Gr Liv Area  Overall Qual  \\\n",
       "0       1548.0      2396304.0   3.709479e+09       1548.0           7.0   \n",
       "1        672.0       451584.0   3.034644e+08        672.0           4.0   \n",
       "2       1768.0      3125824.0   5.526457e+09       1768.0           5.0   \n",
       "\n",
       "   Mas Vnr Area  Year Built  Total Bsmt SF  Garage Area  \n",
       "0           0.0      1925.0          952.0        672.0  \n",
       "1           0.0      1941.0          672.0        234.0  \n",
       "2         252.0      1937.0          731.0        240.0  "
      ]
     },
     "execution_count": 132,
     "metadata": {},
     "output_type": "execute_result"
    }
   ],
   "source": [
    "# join with original dataframe\n",
    "X_poly_test = pd.concat([X_poly_test, grp_X_test], axis=1)\n",
    "X_poly_test.head(3)"
   ]
  },
  {
   "cell_type": "code",
   "execution_count": 133,
   "id": "871b60cc",
   "metadata": {
    "scrolled": true
   },
   "outputs": [
    {
     "data": {
      "text/html": [
       "<div>\n",
       "<style scoped>\n",
       "    .dataframe tbody tr th:only-of-type {\n",
       "        vertical-align: middle;\n",
       "    }\n",
       "\n",
       "    .dataframe tbody tr th {\n",
       "        vertical-align: top;\n",
       "    }\n",
       "\n",
       "    .dataframe thead th {\n",
       "        text-align: right;\n",
       "    }\n",
       "</style>\n",
       "<table border=\"1\" class=\"dataframe\">\n",
       "  <thead>\n",
       "    <tr style=\"text-align: right;\">\n",
       "      <th></th>\n",
       "      <th>Gr Liv Area</th>\n",
       "      <th>Gr Liv Area^2</th>\n",
       "      <th>Gr Liv Area^3</th>\n",
       "      <th>Overall Qual</th>\n",
       "      <th>Mas Vnr Area</th>\n",
       "      <th>Year Built</th>\n",
       "      <th>Total Bsmt SF</th>\n",
       "      <th>Garage Area</th>\n",
       "    </tr>\n",
       "  </thead>\n",
       "  <tbody>\n",
       "    <tr>\n",
       "      <th>0</th>\n",
       "      <td>1441.0</td>\n",
       "      <td>2076481.0</td>\n",
       "      <td>2.992209e+09</td>\n",
       "      <td>8.0</td>\n",
       "      <td>456.0</td>\n",
       "      <td>1999.0</td>\n",
       "      <td>776.0</td>\n",
       "      <td>492.0</td>\n",
       "    </tr>\n",
       "    <tr>\n",
       "      <th>1</th>\n",
       "      <td>1604.0</td>\n",
       "      <td>2572816.0</td>\n",
       "      <td>4.126797e+09</td>\n",
       "      <td>5.0</td>\n",
       "      <td>0.0</td>\n",
       "      <td>1958.0</td>\n",
       "      <td>1604.0</td>\n",
       "      <td>576.0</td>\n",
       "    </tr>\n",
       "    <tr>\n",
       "      <th>2</th>\n",
       "      <td>1150.0</td>\n",
       "      <td>1322500.0</td>\n",
       "      <td>1.520875e+09</td>\n",
       "      <td>5.0</td>\n",
       "      <td>176.0</td>\n",
       "      <td>1955.0</td>\n",
       "      <td>1078.0</td>\n",
       "      <td>288.0</td>\n",
       "    </tr>\n",
       "  </tbody>\n",
       "</table>\n",
       "</div>"
      ],
      "text/plain": [
       "   Gr Liv Area  Gr Liv Area^2  Gr Liv Area^3  Overall Qual  Mas Vnr Area  \\\n",
       "0       1441.0      2076481.0   2.992209e+09           8.0         456.0   \n",
       "1       1604.0      2572816.0   4.126797e+09           5.0           0.0   \n",
       "2       1150.0      1322500.0   1.520875e+09           5.0         176.0   \n",
       "\n",
       "   Year Built  Total Bsmt SF  Garage Area  \n",
       "0      1999.0          776.0        492.0  \n",
       "1      1958.0         1604.0        576.0  \n",
       "2      1955.0         1078.0        288.0  "
      ]
     },
     "execution_count": 133,
     "metadata": {},
     "output_type": "execute_result"
    }
   ],
   "source": [
    "# drop duplicate columns\n",
    "X_drop_train = X_poly_train.T.drop_duplicates().T\n",
    "X_drop_train.head(3)"
   ]
  },
  {
   "cell_type": "code",
   "execution_count": 134,
   "id": "1aa1b2b1",
   "metadata": {},
   "outputs": [
    {
     "data": {
      "text/html": [
       "<div>\n",
       "<style scoped>\n",
       "    .dataframe tbody tr th:only-of-type {\n",
       "        vertical-align: middle;\n",
       "    }\n",
       "\n",
       "    .dataframe tbody tr th {\n",
       "        vertical-align: top;\n",
       "    }\n",
       "\n",
       "    .dataframe thead th {\n",
       "        text-align: right;\n",
       "    }\n",
       "</style>\n",
       "<table border=\"1\" class=\"dataframe\">\n",
       "  <thead>\n",
       "    <tr style=\"text-align: right;\">\n",
       "      <th></th>\n",
       "      <th>Gr Liv Area</th>\n",
       "      <th>Gr Liv Area^2</th>\n",
       "      <th>Gr Liv Area^3</th>\n",
       "      <th>Overall Qual</th>\n",
       "      <th>Mas Vnr Area</th>\n",
       "      <th>Year Built</th>\n",
       "      <th>Total Bsmt SF</th>\n",
       "      <th>Garage Area</th>\n",
       "    </tr>\n",
       "  </thead>\n",
       "  <tbody>\n",
       "    <tr>\n",
       "      <th>0</th>\n",
       "      <td>1548.0</td>\n",
       "      <td>2396304.0</td>\n",
       "      <td>3.709479e+09</td>\n",
       "      <td>7.0</td>\n",
       "      <td>0.0</td>\n",
       "      <td>1925.0</td>\n",
       "      <td>952.0</td>\n",
       "      <td>672.0</td>\n",
       "    </tr>\n",
       "    <tr>\n",
       "      <th>1</th>\n",
       "      <td>672.0</td>\n",
       "      <td>451584.0</td>\n",
       "      <td>3.034644e+08</td>\n",
       "      <td>4.0</td>\n",
       "      <td>0.0</td>\n",
       "      <td>1941.0</td>\n",
       "      <td>672.0</td>\n",
       "      <td>234.0</td>\n",
       "    </tr>\n",
       "    <tr>\n",
       "      <th>2</th>\n",
       "      <td>1768.0</td>\n",
       "      <td>3125824.0</td>\n",
       "      <td>5.526457e+09</td>\n",
       "      <td>5.0</td>\n",
       "      <td>252.0</td>\n",
       "      <td>1937.0</td>\n",
       "      <td>731.0</td>\n",
       "      <td>240.0</td>\n",
       "    </tr>\n",
       "  </tbody>\n",
       "</table>\n",
       "</div>"
      ],
      "text/plain": [
       "   Gr Liv Area  Gr Liv Area^2  Gr Liv Area^3  Overall Qual  Mas Vnr Area  \\\n",
       "0       1548.0      2396304.0   3.709479e+09           7.0           0.0   \n",
       "1        672.0       451584.0   3.034644e+08           4.0           0.0   \n",
       "2       1768.0      3125824.0   5.526457e+09           5.0         252.0   \n",
       "\n",
       "   Year Built  Total Bsmt SF  Garage Area  \n",
       "0      1925.0          952.0        672.0  \n",
       "1      1941.0          672.0        234.0  \n",
       "2      1937.0          731.0        240.0  "
      ]
     },
     "execution_count": 134,
     "metadata": {},
     "output_type": "execute_result"
    }
   ],
   "source": [
    "# drop duplicate columns\n",
    "X_drop_test = X_poly_test.T.drop_duplicates().T\n",
    "X_drop_test.head(3)"
   ]
  },
  {
   "cell_type": "code",
   "execution_count": 135,
   "id": "6d3a73ea",
   "metadata": {
    "scrolled": true
   },
   "outputs": [
    {
     "name": "stdout",
     "output_type": "stream",
     "text": [
      "Fitting 5 folds for each of 20 candidates, totalling 100 fits\n"
     ]
    },
    {
     "data": {
      "text/plain": [
       "GridSearchCV(cv=5,\n",
       "             estimator=Pipeline(steps=[('ss', StandardScaler()),\n",
       "                                       ('enet', ElasticNet())]),\n",
       "             param_grid={'enet__alpha': [1.0, 10.0, 100.0, 500.0, 1000.0],\n",
       "                         'enet__l1_ratio': [0.5, 0.8, 0.9, 0.95]},\n",
       "             scoring='neg_root_mean_squared_error', verbose=1)"
      ]
     },
     "execution_count": 135,
     "metadata": {},
     "output_type": "execute_result"
    }
   ],
   "source": [
    "# fit model on data with polynomial feature\n",
    "pipe12_gs.fit(X_drop_train,y_train)"
   ]
  },
  {
   "cell_type": "markdown",
   "id": "cb117076",
   "metadata": {},
   "source": [
    "#### Evaluate model performance for deployment:"
   ]
  },
  {
   "cell_type": "code",
   "execution_count": 136,
   "id": "6e4d260d",
   "metadata": {
    "scrolled": false
   },
   "outputs": [
    {
     "name": "stdout",
     "output_type": "stream",
     "text": [
      "y_bar rmse: 75639.33151208214\n",
      "Elastic Net train mae: 21742.951154233422\n",
      "Elastic Net test mae: 22177.43826328292\n",
      "Elastic Net train rmse: -30443.152021805177\n",
      "Elastic Net test rmse: -29884.316516303406\n",
      "Elastic Net %_diff rmse: 1.8356690039897974 %\n",
      "Elastic Net Best Params: {'enet__alpha': 1.0, 'enet__l1_ratio': 0.95}\n"
     ]
    }
   ],
   "source": [
    "y_bar = np.repeat(np.mean(y_train),(len(y_train)))\n",
    "y_bar_rmse = mean_squared_error(y_train, y_bar, squared=False)\n",
    "\n",
    "print(f'y_bar rmse: {y_bar_rmse}')\n",
    "print(f'Elastic Net train mae: {mean_absolute_error(y_train, pipe12_gs.predict(X_drop_train))}')\n",
    "print(f'Elastic Net test mae: {mean_absolute_error(y_test, pipe12_gs.predict(X_drop_test))}')\n",
    "print(f'Elastic Net train rmse: {pipe12_gs.score(X_drop_train, y_train)}')\n",
    "print(f'Elastic Net test rmse: {pipe12_gs.score(X_drop_test, y_test)}')\n",
    "print(f'Elastic Net %_diff rmse: {((pipe12_gs.score(X_drop_train, y_train)-pipe12_gs.score(X_drop_test, y_test))*100)/pipe12_gs.score(X_drop_train, y_train)} %')\n",
    "print(f'Elastic Net Best Params: {pipe12_gs.best_params_}')"
   ]
  },
  {
   "cell_type": "markdown",
   "id": "d7ab11bc",
   "metadata": {},
   "source": [
    "Reference  metrics from **`pipe12_gs`** model performance on grp_X_train, y_train data:"
   ]
  },
  {
   "cell_type": "raw",
   "id": "b609d4ba",
   "metadata": {},
   "source": [
    "y_bar rmse: 75639.33151208214\n",
    "ElasticNet regression train mae: 22507.44988845677\n",
    "ElasticNet regression test mae: 22909.838005546077\n",
    "ElasticNet regression train rmse: -31259.231762269705\n",
    "ElasticNet regression test rmse: -30717.920879449506\n",
    "ElasticNet regression %_diff rmse: 1.731683257403554 %\n",
    "ElasticNet regression Best Params: {'enet__alpha': 1.0, 'enet__l1_ratio': 0.95}"
   ]
  },
  {
   "cell_type": "markdown",
   "id": "58a07be6",
   "metadata": {},
   "source": [
    "There is slight overall improvement, without significant reduction in generalisation. Therefore I will use the data with polynomial `Gr Liv Area` features for deployment on my web application."
   ]
  },
  {
   "cell_type": "code",
   "execution_count": 137,
   "id": "64c71202",
   "metadata": {},
   "outputs": [
    {
     "data": {
      "image/png": "[encoded data removed]",
      "text/plain": [
       "<Figure size 360x360 with 1 Axes>"
      ]
     },
     "metadata": {
      "image/png": {
       "height": 338,
       "width": 356
      }
     },
     "output_type": "display_data"
    }
   ],
   "source": [
    "title = 'Poly_ElasticNet prediction vs actual SalePrice'\n",
    "sns_plt(model=pipe12_gs, x_data=X_drop_train, y_data=y_train, title=title)"
   ]
  },
  {
   "cell_type": "markdown",
   "id": "9874b7c6",
   "metadata": {},
   "source": [
    "Deployed model is only reliable for house `SalePrice` recommendations that are \\\\$400k and below. I also noted that the model prediction has an outlying **negative** value, for an actual `SalePrice` value of about \\$50k. This would need further investigation."
   ]
  },
  {
   "cell_type": "markdown",
   "id": "69093dcf",
   "metadata": {},
   "source": [
    "#### Evaluate for Multicollinearity:"
   ]
  },
  {
   "cell_type": "code",
   "execution_count": 138,
   "id": "abdfc5fa",
   "metadata": {},
   "outputs": [
    {
     "data": {
      "image/png": "[encoded data removed]",
      "text/plain": [
       "<Figure size 360x144 with 2 Axes>"
      ]
     },
     "metadata": {
      "image/png": {
       "height": 215,
       "width": 359
      }
     },
     "output_type": "display_data"
    }
   ],
   "source": [
    "corr_heatmap(df=X_drop_train, size=(5,2))"
   ]
  },
  {
   "cell_type": "markdown",
   "id": "80ba8079",
   "metadata": {},
   "source": [
    "There is some moderate multicollinearity between the features used for the deployed model for house `SalePrice` recommendation. Understandably, there is strong correlation between polynomial features and the root feature(`Gr Liv Area`)"
   ]
  },
  {
   "cell_type": "code",
   "execution_count": 139,
   "id": "78f3cd1a",
   "metadata": {},
   "outputs": [],
   "source": [
    "vif_df2 = vif_scores(X_drop_train)"
   ]
  },
  {
   "cell_type": "code",
   "execution_count": 140,
   "id": "5ffe972d",
   "metadata": {},
   "outputs": [
    {
     "name": "stdout",
     "output_type": "stream",
     "text": [
      "         feature          vif\n",
      "0    Gr Liv Area  7614.642484\n",
      "1  Gr Liv Area^2  1466.996976\n",
      "2  Gr Liv Area^3   412.389725\n",
      "3   Overall Qual   366.169154\n",
      "4   Mas Vnr Area     2.499063\n",
      "5     Year Built     1.823990\n",
      "6  Total Bsmt SF     1.701031\n",
      "7    Garage Area     1.549491\n",
      "8          const     1.314962\n"
     ]
    }
   ],
   "source": [
    "print(vif_df2)"
   ]
  },
  {
   "cell_type": "markdown",
   "id": "82225d17",
   "metadata": {},
   "source": [
    "The VIF scores are reasonable, given that `Overall Qual` was already known to share multicollinearity with other features in the earlier evaluations. `Gr Liv Area` is the feature chosen for polynomial engineering, so multicollinearity is expected. "
   ]
  },
  {
   "cell_type": "markdown",
   "id": "586da3ae",
   "metadata": {},
   "source": [
    "##### Set up data file for model training in Streamlit web application: "
   ]
  },
  {
   "cell_type": "code",
   "execution_count": 141,
   "id": "f289f2de",
   "metadata": {},
   "outputs": [],
   "source": [
    "# join grp_X_train with y_train to provide data to model in streamlit \n",
    "# join grp_X_test with y_test to st_data\n",
    "st_train = pd.concat([X_drop_train, y_train], axis=1)\n",
    "st_test = pd.concat([X_drop_test, y_test], axis=1)"
   ]
  },
  {
   "cell_type": "code",
   "execution_count": 142,
   "id": "55a9ce46",
   "metadata": {},
   "outputs": [],
   "source": [
    "st_data = pd.concat([st_train, st_test], axis=0)"
   ]
  },
  {
   "cell_type": "code",
   "execution_count": 143,
   "id": "50942be9",
   "metadata": {
    "scrolled": true
   },
   "outputs": [
    {
     "data": {
      "text/plain": [
       "(1994, 9)"
      ]
     },
     "execution_count": 143,
     "metadata": {},
     "output_type": "execute_result"
    }
   ],
   "source": [
    "st_data.shape"
   ]
  },
  {
   "cell_type": "code",
   "execution_count": 144,
   "id": "a2993397",
   "metadata": {},
   "outputs": [],
   "source": [
    "st_data.to_csv('./local_app/streamlit_data.csv', index=False)"
   ]
  },
  {
   "cell_type": "markdown",
   "id": "39c64192",
   "metadata": {},
   "source": [
    "##### Set up data file for imputation fitting in Streamlit website: "
   ]
  },
  {
   "cell_type": "code",
   "execution_count": 145,
   "id": "1f994048",
   "metadata": {},
   "outputs": [
    {
     "data": {
      "text/plain": [
       "(1994, 8)"
      ]
     },
     "execution_count": 145,
     "metadata": {},
     "output_type": "execute_result"
    }
   ],
   "source": [
    "st_imp = pd.concat([X_drop_train, X_drop_test], axis=0)\n",
    "st_imp.shape"
   ]
  },
  {
   "cell_type": "code",
   "execution_count": 146,
   "id": "f96a5c90",
   "metadata": {},
   "outputs": [],
   "source": [
    "st_imp.to_csv('./local_app/streamlit_imp_data.csv', index=False)"
   ]
  },
  {
   "cell_type": "markdown",
   "id": "78f73e0c",
   "metadata": {},
   "source": [
    "_**Preview predictions vs. actual `SalePrice`**_"
   ]
  },
  {
   "cell_type": "code",
   "execution_count": 147,
   "id": "685b2b96",
   "metadata": {},
   "outputs": [],
   "source": [
    "# predicted SalePrice\n",
    "pred_arr = pipe12_gs.predict(X_drop_train).round(2)"
   ]
  },
  {
   "cell_type": "code",
   "execution_count": 148,
   "id": "78384e98",
   "metadata": {},
   "outputs": [
    {
     "name": "stdout",
     "output_type": "stream",
     "text": [
      "Predicted Saleprice: 225399.46\n",
      "True Saleprice: 174000\n",
      "\n",
      "Predicted Saleprice: 176284.69\n",
      "True Saleprice: 135000\n",
      "\n",
      "Predicted Saleprice: 133652.76\n",
      "True Saleprice: 144000\n",
      "\n",
      "Predicted Saleprice: 316073.74\n",
      "True Saleprice: 320000\n",
      "\n",
      "Predicted Saleprice: 86293.36\n",
      "True Saleprice: 108500\n",
      "\n"
     ]
    }
   ],
   "source": [
    "for i in range(5):\n",
    "    print(f'Predicted Saleprice: {pred_arr[i]}')\n",
    "    print(f'True Saleprice: {y_train[i]}')\n",
    "    print()"
   ]
  },
  {
   "cell_type": "code",
   "execution_count": 158,
   "id": "1c35abdb",
   "metadata": {},
   "outputs": [
    {
     "name": "stdout",
     "output_type": "stream",
     "text": [
      "39300\n"
     ]
    }
   ],
   "source": [
    "# to find the outlying negative predicted `SalePrice` value\n",
    "for i in range(len(pred_arr)):\n",
    "    if (pred_arr[i])<0:\n",
    "        print(y_train[i])"
   ]
  },
  {
   "cell_type": "markdown",
   "id": "161edac7",
   "metadata": {},
   "source": [
    "The actual `SalePrice` value \\$39,300 was predicted negative by the deployed model. More investigation into the feature values that constitute this data point is required to find out why the deployed model would generate a **negative** `SalePrice` prediction for this particular data point."
   ]
  },
  {
   "cell_type": "markdown",
   "id": "0bf2c743",
   "metadata": {},
   "source": [
    "## Limitations, Recommendations and Conclusion\n",
    "---"
   ]
  },
  {
   "cell_type": "markdown",
   "id": "5199694b",
   "metadata": {},
   "source": [
    "__Limitations:__\n",
    "1. The linear model that I chose as my final model for deployment is unable to predict accurately for house `SalePrices` above \\$400k. \n",
    "1. The training data is outdated (collected 2006-2010), which may not reflect the current housing saleprice trends\n",
    "1. The model does not account for external factors not related to property attributes but are closely associated with housing saleprices e.g. economic outlook, housing loan interest rates, unemployment rates, natural disaster, inflation, government incentives etc.\n",
    "1. Part of the data was collected during the 2008 financial crisis, which could have pushed housing saleprices low.\n",
    "1. The target variable `SalePrice` violates the line assumption. There is heteroscedasticity with variation increasing with `SalePrice`\n",
    "\n",
    "__Recommendations:__\n",
    "1. Target feature `SalePrice` has a right skewed distribution, which makes it difficult for the model to learn well on predicting houses with high `SalePrice`. We need more data of houses with saleprices above \\\\$400k to help the model predict better of houses that may be associated with high `SalePrice`. \n",
    "1. To optimise the model performance: \n",
    "    * I would like to take a more granular approach in identifying and excluding outliers. \n",
    "    * I would also prefer to collect a more complete set of data, more data or more recent training data e.g. 2020s.\n",
    "    * I would get domain expert opinion on what features are well known to influence housing `SalePrice`. \n",
    "    * I would like to use other types of model, other than linear models for this data set. \n",
    "\n",
    "__Conclusion:__\n",
    "1. Linear models may not be the best type of model for this data and target variable. I would like to use different models to get better `RMSE` performance and thus, more accurate house `SalePrice` recommendations. \n",
    "1. I would also like to consider other features that were not included in the provided data, to help resolve the multicollinearity problem. \n",
    "\n",
    "__Comments:__\n",
    "1. I did not choose to use log transformation for any features as none seemed to show spread of data points suitable for log transformation."
   ]
  },
  {
   "cell_type": "code",
   "execution_count": null,
   "id": "f067330a",
   "metadata": {},
   "outputs": [],
   "source": []
  }
 ],
 "metadata": {
  "kernelspec": {
   "display_name": "Python 3 (ipykernel)",
   "language": "python",
   "name": "python3"
  },
  "language_info": {
   "codemirror_mode": {
    "name": "ipython",
    "version": 3
   },
   "file_extension": ".py",
   "mimetype": "text/x-python",
   "name": "python",
   "nbconvert_exporter": "python",
   "pygments_lexer": "ipython3",
   "version": "3.9.12"
  }
 },
 "nbformat": 4,
 "nbformat_minor": 5
}
