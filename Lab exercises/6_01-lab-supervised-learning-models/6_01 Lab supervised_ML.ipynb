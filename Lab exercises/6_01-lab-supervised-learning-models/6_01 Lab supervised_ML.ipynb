{
 "cells": [
  {
   "cell_type": "markdown",
   "metadata": {},
   "source": [
    "## 6.01 - Supervised Learning Model Comparison\n",
    "\n",
    "Recall the \"data science process.\"\n",
    "\n",
    "1. Define the problem.\n",
    "2. Gather the data.\n",
    "3. Explore the data.\n",
    "4. Model the data.\n",
    "5. Evaluate the model.\n",
    "6. Answer the problem.\n",
    "\n",
    "In this lab, we're going to focus mostly on creating (and then comparing) many regression and classification models. Thus, we'll define the problem and gather the data for you.\n",
    "Most of the questions requiring a written response can be written in 2-3 sentences."
   ]
  },
  {
   "cell_type": "markdown",
   "metadata": {},
   "source": [
    "### Step 1: Define the problem.\n",
    "\n",
    "You are a data scientist with a financial services company. Specifically, you want to leverage data in order to identify potential customers.\n",
    "\n",
    "If you are unfamiliar with \"401(k)s\" or \"IRAs,\" these are two types of retirement accounts. Very broadly speaking:\n",
    "- You can put money for retirement into both of these accounts.\n",
    "- The money in these accounts gets invested and hopefully has a lot more money in it when you retire.\n",
    "- These are a little different from regular bank accounts in that there are certain tax benefits to these accounts. Also, employers frequently match money that you put into a 401k.\n",
    "- If you want to learn more about them, check out [this site](https://www.nerdwallet.com/article/ira-vs-401k-retirement-accounts).\n",
    "\n",
    "We will tackle one regression problem and one classification problem today.\n",
    "- Regression: What features best predict one's income?\n",
    "- Classification: Predict whether or not one is eligible for a 401k.\n",
    "\n",
    "Check out the data dictionary [here](http://fmwww.bc.edu/ec-p/data/wooldridge2k/401KSUBS.DES).\n",
    "\n",
    "### NOTE: When predicting `inc`, you should pretend as though you do not have access to the `e401k`, the `p401k` variable, and the `pira` variable. When predicting `e401k`, you may use the entire dataframe if you wish."
   ]
  },
  {
   "cell_type": "markdown",
   "metadata": {},
   "source": [
    "### Step 2: Gather the data.\n",
    "\n",
    "##### 1. Read in the data from the repository."
   ]
  },
  {
   "cell_type": "code",
   "execution_count": 1,
   "metadata": {},
   "outputs": [],
   "source": [
    "import numpy as np\n",
    "import pandas as pd"
   ]
  },
  {
   "cell_type": "code",
   "execution_count": 2,
   "metadata": {
    "scrolled": true
   },
   "outputs": [
    {
     "data": {
      "text/html": [
       "<div>\n",
       "<style scoped>\n",
       "    .dataframe tbody tr th:only-of-type {\n",
       "        vertical-align: middle;\n",
       "    }\n",
       "\n",
       "    .dataframe tbody tr th {\n",
       "        vertical-align: top;\n",
       "    }\n",
       "\n",
       "    .dataframe thead th {\n",
       "        text-align: right;\n",
       "    }\n",
       "</style>\n",
       "<table border=\"1\" class=\"dataframe\">\n",
       "  <thead>\n",
       "    <tr style=\"text-align: right;\">\n",
       "      <th></th>\n",
       "      <th>e401k</th>\n",
       "      <th>inc</th>\n",
       "      <th>marr</th>\n",
       "      <th>male</th>\n",
       "      <th>age</th>\n",
       "      <th>fsize</th>\n",
       "      <th>nettfa</th>\n",
       "      <th>p401k</th>\n",
       "      <th>pira</th>\n",
       "      <th>incsq</th>\n",
       "      <th>agesq</th>\n",
       "    </tr>\n",
       "  </thead>\n",
       "  <tbody>\n",
       "    <tr>\n",
       "      <th>0</th>\n",
       "      <td>0</td>\n",
       "      <td>13.170</td>\n",
       "      <td>0</td>\n",
       "      <td>0</td>\n",
       "      <td>40</td>\n",
       "      <td>1</td>\n",
       "      <td>4.575</td>\n",
       "      <td>0</td>\n",
       "      <td>1</td>\n",
       "      <td>173.4489</td>\n",
       "      <td>1600</td>\n",
       "    </tr>\n",
       "    <tr>\n",
       "      <th>1</th>\n",
       "      <td>1</td>\n",
       "      <td>61.230</td>\n",
       "      <td>0</td>\n",
       "      <td>1</td>\n",
       "      <td>35</td>\n",
       "      <td>1</td>\n",
       "      <td>154.000</td>\n",
       "      <td>1</td>\n",
       "      <td>0</td>\n",
       "      <td>3749.1130</td>\n",
       "      <td>1225</td>\n",
       "    </tr>\n",
       "    <tr>\n",
       "      <th>2</th>\n",
       "      <td>0</td>\n",
       "      <td>12.858</td>\n",
       "      <td>1</td>\n",
       "      <td>0</td>\n",
       "      <td>44</td>\n",
       "      <td>2</td>\n",
       "      <td>0.000</td>\n",
       "      <td>0</td>\n",
       "      <td>0</td>\n",
       "      <td>165.3282</td>\n",
       "      <td>1936</td>\n",
       "    </tr>\n",
       "  </tbody>\n",
       "</table>\n",
       "</div>"
      ],
      "text/plain": [
       "   e401k     inc  marr  male  age  fsize   nettfa  p401k  pira      incsq  \\\n",
       "0      0  13.170     0     0   40      1    4.575      0     1   173.4489   \n",
       "1      1  61.230     0     1   35      1  154.000      1     0  3749.1130   \n",
       "2      0  12.858     1     0   44      2    0.000      0     0   165.3282   \n",
       "\n",
       "   agesq  \n",
       "0   1600  \n",
       "1   1225  \n",
       "2   1936  "
      ]
     },
     "execution_count": 2,
     "metadata": {},
     "output_type": "execute_result"
    }
   ],
   "source": [
    "df = pd.read_csv('./401ksubs.csv')\n",
    "df.head(3)"
   ]
  },
  {
   "cell_type": "code",
   "execution_count": 3,
   "metadata": {},
   "outputs": [
    {
     "name": "stdout",
     "output_type": "stream",
     "text": [
      "<class 'pandas.core.frame.DataFrame'>\n",
      "RangeIndex: 9275 entries, 0 to 9274\n",
      "Data columns (total 11 columns):\n",
      " #   Column  Non-Null Count  Dtype  \n",
      "---  ------  --------------  -----  \n",
      " 0   e401k   9275 non-null   int64  \n",
      " 1   inc     9275 non-null   float64\n",
      " 2   marr    9275 non-null   int64  \n",
      " 3   male    9275 non-null   int64  \n",
      " 4   age     9275 non-null   int64  \n",
      " 5   fsize   9275 non-null   int64  \n",
      " 6   nettfa  9275 non-null   float64\n",
      " 7   p401k   9275 non-null   int64  \n",
      " 8   pira    9275 non-null   int64  \n",
      " 9   incsq   9275 non-null   float64\n",
      " 10  agesq   9275 non-null   int64  \n",
      "dtypes: float64(3), int64(8)\n",
      "memory usage: 797.2 KB\n"
     ]
    }
   ],
   "source": [
    "df.info()\n",
    "# no null values"
   ]
  },
  {
   "cell_type": "code",
   "execution_count": 4,
   "metadata": {},
   "outputs": [
    {
     "data": {
      "text/html": [
       "<div>\n",
       "<style scoped>\n",
       "    .dataframe tbody tr th:only-of-type {\n",
       "        vertical-align: middle;\n",
       "    }\n",
       "\n",
       "    .dataframe tbody tr th {\n",
       "        vertical-align: top;\n",
       "    }\n",
       "\n",
       "    .dataframe thead th {\n",
       "        text-align: right;\n",
       "    }\n",
       "</style>\n",
       "<table border=\"1\" class=\"dataframe\">\n",
       "  <thead>\n",
       "    <tr style=\"text-align: right;\">\n",
       "      <th></th>\n",
       "      <th>e401k</th>\n",
       "      <th>inc</th>\n",
       "      <th>marr</th>\n",
       "      <th>male</th>\n",
       "      <th>age</th>\n",
       "      <th>fsize</th>\n",
       "      <th>nettfa</th>\n",
       "      <th>p401k</th>\n",
       "      <th>pira</th>\n",
       "      <th>incsq</th>\n",
       "      <th>agesq</th>\n",
       "    </tr>\n",
       "  </thead>\n",
       "  <tbody>\n",
       "    <tr>\n",
       "      <th>count</th>\n",
       "      <td>9275.000000</td>\n",
       "      <td>9275.000000</td>\n",
       "      <td>9275.000000</td>\n",
       "      <td>9275.000000</td>\n",
       "      <td>9275.000000</td>\n",
       "      <td>9275.000000</td>\n",
       "      <td>9275.000000</td>\n",
       "      <td>9275.000000</td>\n",
       "      <td>9275.000000</td>\n",
       "      <td>9275.000000</td>\n",
       "      <td>9275.000000</td>\n",
       "    </tr>\n",
       "    <tr>\n",
       "      <th>mean</th>\n",
       "      <td>0.392129</td>\n",
       "      <td>39.254641</td>\n",
       "      <td>0.628571</td>\n",
       "      <td>0.204420</td>\n",
       "      <td>41.080216</td>\n",
       "      <td>2.885067</td>\n",
       "      <td>19.071675</td>\n",
       "      <td>0.276226</td>\n",
       "      <td>0.254340</td>\n",
       "      <td>2121.192483</td>\n",
       "      <td>1793.652722</td>\n",
       "    </tr>\n",
       "    <tr>\n",
       "      <th>std</th>\n",
       "      <td>0.488252</td>\n",
       "      <td>24.090002</td>\n",
       "      <td>0.483213</td>\n",
       "      <td>0.403299</td>\n",
       "      <td>10.299517</td>\n",
       "      <td>1.525835</td>\n",
       "      <td>63.963838</td>\n",
       "      <td>0.447154</td>\n",
       "      <td>0.435513</td>\n",
       "      <td>3001.469424</td>\n",
       "      <td>895.648841</td>\n",
       "    </tr>\n",
       "    <tr>\n",
       "      <th>min</th>\n",
       "      <td>0.000000</td>\n",
       "      <td>10.008000</td>\n",
       "      <td>0.000000</td>\n",
       "      <td>0.000000</td>\n",
       "      <td>25.000000</td>\n",
       "      <td>1.000000</td>\n",
       "      <td>-502.302000</td>\n",
       "      <td>0.000000</td>\n",
       "      <td>0.000000</td>\n",
       "      <td>100.160100</td>\n",
       "      <td>625.000000</td>\n",
       "    </tr>\n",
       "    <tr>\n",
       "      <th>25%</th>\n",
       "      <td>0.000000</td>\n",
       "      <td>21.660000</td>\n",
       "      <td>0.000000</td>\n",
       "      <td>0.000000</td>\n",
       "      <td>33.000000</td>\n",
       "      <td>2.000000</td>\n",
       "      <td>-0.500000</td>\n",
       "      <td>0.000000</td>\n",
       "      <td>0.000000</td>\n",
       "      <td>469.155600</td>\n",
       "      <td>1089.000000</td>\n",
       "    </tr>\n",
       "    <tr>\n",
       "      <th>50%</th>\n",
       "      <td>0.000000</td>\n",
       "      <td>33.288000</td>\n",
       "      <td>1.000000</td>\n",
       "      <td>0.000000</td>\n",
       "      <td>40.000000</td>\n",
       "      <td>3.000000</td>\n",
       "      <td>2.000000</td>\n",
       "      <td>0.000000</td>\n",
       "      <td>0.000000</td>\n",
       "      <td>1108.091000</td>\n",
       "      <td>1600.000000</td>\n",
       "    </tr>\n",
       "    <tr>\n",
       "      <th>75%</th>\n",
       "      <td>1.000000</td>\n",
       "      <td>50.160000</td>\n",
       "      <td>1.000000</td>\n",
       "      <td>0.000000</td>\n",
       "      <td>48.000000</td>\n",
       "      <td>4.000000</td>\n",
       "      <td>18.449500</td>\n",
       "      <td>1.000000</td>\n",
       "      <td>1.000000</td>\n",
       "      <td>2516.025500</td>\n",
       "      <td>2304.000000</td>\n",
       "    </tr>\n",
       "    <tr>\n",
       "      <th>max</th>\n",
       "      <td>1.000000</td>\n",
       "      <td>199.041000</td>\n",
       "      <td>1.000000</td>\n",
       "      <td>1.000000</td>\n",
       "      <td>64.000000</td>\n",
       "      <td>13.000000</td>\n",
       "      <td>1536.798000</td>\n",
       "      <td>1.000000</td>\n",
       "      <td>1.000000</td>\n",
       "      <td>39617.320000</td>\n",
       "      <td>4096.000000</td>\n",
       "    </tr>\n",
       "  </tbody>\n",
       "</table>\n",
       "</div>"
      ],
      "text/plain": [
       "             e401k          inc         marr         male          age  \\\n",
       "count  9275.000000  9275.000000  9275.000000  9275.000000  9275.000000   \n",
       "mean      0.392129    39.254641     0.628571     0.204420    41.080216   \n",
       "std       0.488252    24.090002     0.483213     0.403299    10.299517   \n",
       "min       0.000000    10.008000     0.000000     0.000000    25.000000   \n",
       "25%       0.000000    21.660000     0.000000     0.000000    33.000000   \n",
       "50%       0.000000    33.288000     1.000000     0.000000    40.000000   \n",
       "75%       1.000000    50.160000     1.000000     0.000000    48.000000   \n",
       "max       1.000000   199.041000     1.000000     1.000000    64.000000   \n",
       "\n",
       "             fsize       nettfa        p401k         pira         incsq  \\\n",
       "count  9275.000000  9275.000000  9275.000000  9275.000000   9275.000000   \n",
       "mean      2.885067    19.071675     0.276226     0.254340   2121.192483   \n",
       "std       1.525835    63.963838     0.447154     0.435513   3001.469424   \n",
       "min       1.000000  -502.302000     0.000000     0.000000    100.160100   \n",
       "25%       2.000000    -0.500000     0.000000     0.000000    469.155600   \n",
       "50%       3.000000     2.000000     0.000000     0.000000   1108.091000   \n",
       "75%       4.000000    18.449500     1.000000     1.000000   2516.025500   \n",
       "max      13.000000  1536.798000     1.000000     1.000000  39617.320000   \n",
       "\n",
       "             agesq  \n",
       "count  9275.000000  \n",
       "mean   1793.652722  \n",
       "std     895.648841  \n",
       "min     625.000000  \n",
       "25%    1089.000000  \n",
       "50%    1600.000000  \n",
       "75%    2304.000000  \n",
       "max    4096.000000  "
      ]
     },
     "execution_count": 4,
     "metadata": {},
     "output_type": "execute_result"
    }
   ],
   "source": [
    "df.describe()"
   ]
  },
  {
   "cell_type": "markdown",
   "metadata": {},
   "source": [
    "##### 2. What are 2-3 other variables that, if available, would be helpful to have?"
   ]
  },
  {
   "cell_type": "markdown",
   "metadata": {
    "collapsed": true
   },
   "source": [
    "##### Answer:\n",
    "\n",
    "Other variables that may influence customers to purchase a new investment product are:\n",
    "* disposible income \n",
    "* already have other investment products \n",
    "* property value\n",
    "* shopping habits (saver or spender), \n",
    "* whether have monthly saving habit"
   ]
  },
  {
   "cell_type": "markdown",
   "metadata": {},
   "source": [
    "##### 3. Suppose a peer recommended putting `race` into your model in order to better predict who to target when advertising IRAs and 401(k)s. Why would this be an unethical decision?"
   ]
  },
  {
   "cell_type": "markdown",
   "metadata": {
    "collapsed": true
   },
   "source": [
    "##### Answer:\n",
    "Because that would be discriminating based on race, which is a sensitive issue"
   ]
  },
  {
   "cell_type": "markdown",
   "metadata": {},
   "source": [
    "## Step 3: Explore the data.\n",
    "\n",
    "##### 4. When attempting to predict income, which feature(s) would we reasonably not use? Why?"
   ]
  },
  {
   "cell_type": "markdown",
   "metadata": {
    "collapsed": true
   },
   "source": [
    "##### Answer:\n",
    "\n",
    "Features such as `e401k`, `p401k`, `pira` would not be used because they are outcomes of having an income, would not be realistic contributing factors to **income**."
   ]
  },
  {
   "cell_type": "code",
   "execution_count": 137,
   "metadata": {},
   "outputs": [],
   "source": [
    "import matplotlib.pyplot as plt\n",
    "import seaborn as sns\n",
    "\n",
    "%matplotlib inline"
   ]
  },
  {
   "cell_type": "code",
   "execution_count": 41,
   "metadata": {},
   "outputs": [
    {
     "data": {
      "image/png": "[encoded data removed]",
      "text/plain": [
       "<Figure size 432x180 with 2 Axes>"
      ]
     },
     "metadata": {
      "needs_background": "light"
     },
     "output_type": "display_data"
    }
   ],
   "source": [
    "# multicollinearity check\n",
    "\n",
    "plt.figure(figsize = (6,2.5))\n",
    "\n",
    "# Get correlation of variables.\n",
    "corr_df = df.drop(columns=['e401k','p401k','pira','incsq','inc','agesq']).corr()\n",
    "corr = corr_df[abs(corr_df)>=.5] # show only correlations greater than .5\n",
    "\n",
    "# Set up mask to be \"True\" in the upper triangle.\n",
    "mask = np.zeros_like(corr)\n",
    "mask[np.triu_indices_from(mask)] = True\n",
    "\n",
    "sns.heatmap(corr, \n",
    "            cmap='Blues', \n",
    "            mask=mask, \n",
    "            annot = True,\n",
    "            vmin=0\n",
    "           )\n",
    "plt.title('Correlation Heatmap of 401(k) Dataset', fontsize=13);"
   ]
  },
  {
   "cell_type": "code",
   "execution_count": 45,
   "metadata": {},
   "outputs": [
    {
     "data": {
      "text/plain": [
       "inc       1.000000\n",
       "nettfa    0.376586\n",
       "marr      0.362008\n",
       "fsize     0.110170\n",
       "age       0.105638\n",
       "male     -0.069871\n",
       "Name: inc, dtype: float64"
      ]
     },
     "execution_count": 45,
     "metadata": {},
     "output_type": "execute_result"
    }
   ],
   "source": [
    "corr_mat = df.drop(columns=['e401k','p401k','pira','incsq','agesq']).corr().inc.sort_values(ascending=False)\n",
    "corr_mat.head(10)"
   ]
  },
  {
   "cell_type": "markdown",
   "metadata": {},
   "source": [
    "There are no strong correlating factors that predicts income."
   ]
  },
  {
   "cell_type": "markdown",
   "metadata": {},
   "source": [
    "##### 5. What two variables have already been created for us through feature engineering? Come up with a hypothesis as to why subject-matter experts may have done this.\n",
    "> This need not be a \"statistical hypothesis.\" Just brainstorm why SMEs might have done this!"
   ]
  },
  {
   "cell_type": "markdown",
   "metadata": {
    "collapsed": true
   },
   "source": [
    "##### Answer:\n",
    "The 2 variables that have been created through feature engineering are polynomial features of `income` and `age`. \n",
    "\n",
    "Subject-matter experts on identifying potential customers for investment products might have believed that income and age are highly correlated with interest and buying potential of investment products"
   ]
  },
  {
   "cell_type": "markdown",
   "metadata": {},
   "source": [
    "##### 6. Looking at the data dictionary, one variable description appears to be an error. What is this error, and what do you think the correct value would be?"
   ]
  },
  {
   "cell_type": "markdown",
   "metadata": {
    "collapsed": true
   },
   "source": [
    "##### Answer:\n",
    "There are 2 variable descriptions that appear to have errors. They are `inc` and `age`. They share the same labels as their polynomial of 2 degree counterparts. \n",
    "\n",
    "Correct values should be `income` and `age` respectively."
   ]
  },
  {
   "cell_type": "markdown",
   "metadata": {},
   "source": [
    "## Step 4: Model the data. (Part 1: Regression Problem)\n",
    "\n",
    "Recall:\n",
    "- Problem: What features best predict one's income?\n",
    "- When predicting `inc`, you should pretend as though you do not have access to the `e401k`, the `p401k` variable, and the `pira` variable.\n",
    "\n",
    "##### 7. List all modeling tactics we've learned that could be used to solve a regression problem (as of Wednesday afternoon of Week 6). For each tactic, identify whether it is or is not appropriate for solving this specific regression problem and explain why or why not."
   ]
  },
  {
   "cell_type": "markdown",
   "metadata": {
    "collapsed": true
   },
   "source": [
    "##### Answer:\n",
    "\n",
    "Regression models that I have learnt are:\n",
    "1. Linear models - Linear regression, Ridge regression, Lasso regression, ElasticNet regression\n",
    "<details>This is appropriate for our problem because the coefficients can be elicited and the predictions are continuous values </details>\n",
    "1. Random Forest regressor \n",
    "<details>This is not appropriate because the coefficients are not easy to understand.</details>\n",
    "1. Generalised linear models e.g Poisson regression, Gamma regression\n",
    "<details>This is not appropriate because for Poisson, it predicts discrete $Y$ variable, while Gamma is more appropriate for waiting time predictions."
   ]
  },
  {
   "cell_type": "markdown",
   "metadata": {},
   "source": [
    "##### 8. Regardless of your answer to number 7, fit at least one of each of the following models to attempt to solve the regression problem above:\n",
    "    - a multiple linear regression model\n",
    "    - a k-nearest neighbors model\n",
    "    - a decision tree\n",
    "    - a set of bagged decision trees\n",
    "    - a random forest\n",
    "    - an Adaboost model\n",
    "    - a support vector regressor\n",
    "    \n",
    "> As always, be sure to do a train/test split! In order to compare modeling techniques, you should use the same train-test split on each. I recommend setting a random seed here.\n",
    "\n",
    "> You may find it helpful to set up a pipeline to try each modeling technique, but you are not required to do so!"
   ]
  },
  {
   "cell_type": "markdown",
   "metadata": {},
   "source": [
    "##### Regression: What features best predict one's income?"
   ]
  },
  {
   "cell_type": "code",
   "execution_count": 5,
   "metadata": {},
   "outputs": [],
   "source": [
    "# define X and y\n",
    "X = df.drop(columns=['e401k','p401k','pira','inc','incsq'])\n",
    "y = df['inc']"
   ]
  },
  {
   "cell_type": "code",
   "execution_count": 6,
   "metadata": {},
   "outputs": [],
   "source": [
    "# train test split\n",
    "from sklearn.model_selection import train_test_split\n",
    "\n",
    "X_train, X_test, y_train, y_test = train_test_split(X, y, \n",
    "                                                    test_size=.3, #9275 obs\n",
    "                                                    random_state=42)"
   ]
  },
  {
   "cell_type": "code",
   "execution_count": 8,
   "metadata": {},
   "outputs": [
    {
     "name": "stdout",
     "output_type": "stream",
     "text": [
      "X_train shape: (6492, 6)\n",
      "y_train shape: (6492,)\n"
     ]
    }
   ],
   "source": [
    "print('X_train shape:' , X_train.shape)\n",
    "print('y_train shape:', y_train.shape)"
   ]
  },
  {
   "cell_type": "code",
   "execution_count": 10,
   "metadata": {},
   "outputs": [],
   "source": [
    "# initiate pipeline to test multiple models\n",
    "# built-in min max scaler\n",
    "from sklearn.model_selection import GridSearchCV \n",
    "from sklearn.pipeline import Pipeline\n",
    "\n",
    "# import minmaxscaler\n",
    "from sklearn.preprocessing import MinMaxScaler # chosen for feature interaction explainability\n",
    "\n",
    "# import models\n",
    "from sklearn.linear_model import ElasticNet # no CV because will be done by GridSearchCV\n",
    "from sklearn.neighbors import KNeighborsRegressor\n",
    "from sklearn.tree import DecisionTreeRegressor\n",
    "from sklearn.ensemble import BaggingRegressor # for bagging decision trees\n",
    "from sklearn.ensemble import RandomForestRegressor\n",
    "from sklearn.ensemble import AdaBoostRegressor\n",
    "from sklearn.linear_model import SGDRegressor # to use in adaboost\n",
    "from sklearn.svm import SVR"
   ]
  },
  {
   "cell_type": "markdown",
   "metadata": {},
   "source": [
    "##### Instantiate Pipelines and GridSearchCV\n",
    "[GridSearch + Pipeline multiple models reference](https://ryan-reilly.medium.com/gridsearch-pipelines-of-multiple-models-on-multiclass-classification-e9124b6ea2e3)"
   ]
  },
  {
   "cell_type": "code",
   "execution_count": 11,
   "metadata": {},
   "outputs": [],
   "source": [
    "# construct pipelines\n",
    "enet_pipe = Pipeline([\n",
    "    ('mms', MinMaxScaler()),\n",
    "    ('enet', ElasticNet())\n",
    "])\n",
    "\n",
    "knr_pipe = Pipeline([\n",
    "    ('mms', MinMaxScaler()),\n",
    "    ('knr', KNeighborsRegressor())\n",
    "])\n",
    "\n",
    "dt_pipe = Pipeline([\n",
    "    ('mms', MinMaxScaler()),\n",
    "    ('dtr', DecisionTreeRegressor())\n",
    "])\n",
    "\n",
    "bag_pipe = Pipeline([\n",
    "    ('mms', MinMaxScaler()),\n",
    "    ('bag', BaggingRegressor()) # check if default is decision trees\n",
    "])\n",
    "\n",
    "rf_pipe = Pipeline([\n",
    "    ('mms', MinMaxScaler()),\n",
    "    ('rf', RandomForestRegressor())\n",
    "])\n",
    "\n",
    "abr_pipe = Pipeline([\n",
    "    ('mms', MinMaxScaler()),\n",
    "    ('abr', AdaBoostRegressor())\n",
    "])\n",
    "\n",
    "svr_pipe = Pipeline([\n",
    "    ('mms', MinMaxScaler()),\n",
    "    ('svr', SVR())\n",
    "])"
   ]
  },
  {
   "cell_type": "code",
   "execution_count": 21,
   "metadata": {},
   "outputs": [],
   "source": [
    "# define pipeline parameters\n",
    "seeds=[1,2,3]\n",
    "\n",
    "enet_params = [{\n",
    "    'enet__alpha':[.5,.7,1.],\n",
    "    'enet__l1_ratio':[.5,.7,.9]\n",
    "}]\n",
    "\n",
    "knr_params = [{\n",
    "    'knr__n_neighbors':[3,5,9],\n",
    "    'knr__weights':['uniform','distance']\n",
    "}]\n",
    "\n",
    "dt_params = [{\n",
    "    'dtr__random_state':seeds,\n",
    "    'dtr__splitter':['random','best'],\n",
    "    'dtr__max_depth':[None,3,5]\n",
    "}]\n",
    "\n",
    "bag_params = [{\n",
    "    'bag__random_state':seeds,\n",
    "    'bag__n_estimators':[5,10]\n",
    "}]\n",
    "\n",
    "rf_params = [{\n",
    "    'rf__random_state':seeds,\n",
    "    'rf__n_estimators':[100,150,200],\n",
    "    'rf__max_depth':[None,3,5]\n",
    "}]\n",
    "\n",
    "abr_params = [{\n",
    "    'abr__base_estimator':[SGDRegressor()],\n",
    "    'abr__learning_rate':[.5,1.],\n",
    "    'abr__random_state':seeds,\n",
    "    'abr__loss':['linear','square','exponential']\n",
    "}]\n",
    "\n",
    "svr_params = [{\n",
    "    'svr__C':[1.,10.,100.],\n",
    "    'svr__max_iter':[20_000,40_000]\n",
    "}]"
   ]
  },
  {
   "cell_type": "code",
   "execution_count": 22,
   "metadata": {},
   "outputs": [],
   "source": [
    "enet_gs = GridSearchCV(enet_pipe,\n",
    "                       enet_params,\n",
    "                       scoring='neg_root_mean_squared_error',\n",
    "                       cv=5,\n",
    "                       verbose=1)\n",
    "\n",
    "knr_gs = GridSearchCV(knr_pipe,\n",
    "                      knr_params,\n",
    "                      scoring='neg_root_mean_squared_error',\n",
    "                      cv=5,\n",
    "                      verbose=1)\n",
    "\n",
    "dt_gs = GridSearchCV(dt_pipe,\n",
    "                     dt_params,\n",
    "                     scoring='neg_root_mean_squared_error',\n",
    "                     cv=5,\n",
    "                     verbose=1)\n",
    "\n",
    "bag_gs = GridSearchCV(bag_pipe,\n",
    "                      bag_params,\n",
    "                      scoring='neg_root_mean_squared_error',\n",
    "                      cv=5,\n",
    "                      verbose=1)\n",
    "\n",
    "rf_gs = GridSearchCV(rf_pipe,\n",
    "                     rf_params,\n",
    "                     scoring='neg_root_mean_squared_error',\n",
    "                     cv=5,\n",
    "                     verbose=1)\n",
    "\n",
    "abr_gs = GridSearchCV(abr_pipe,\n",
    "                      abr_params,\n",
    "                      scoring='neg_root_mean_squared_error',\n",
    "                      cv=5,\n",
    "                      verbose=1)\n",
    "\n",
    "svr_gs = GridSearchCV(svr_pipe,\n",
    "                      svr_params,\n",
    "                      scoring='neg_root_mean_squared_error',\n",
    "                      cv=5,\n",
    "                      verbose=2)"
   ]
  },
  {
   "cell_type": "code",
   "execution_count": 23,
   "metadata": {},
   "outputs": [
    {
     "name": "stdout",
     "output_type": "stream",
     "text": [
      "start time: 02/08/2022, 14:57\n",
      "Fitting 5 folds for each of 9 candidates, totalling 45 fits\n",
      "Fitting 5 folds for each of 6 candidates, totalling 30 fits\n",
      "Fitting 5 folds for each of 18 candidates, totalling 90 fits\n",
      "Fitting 5 folds for each of 6 candidates, totalling 30 fits\n",
      "Fitting 5 folds for each of 27 candidates, totalling 135 fits\n",
      "Fitting 5 folds for each of 18 candidates, totalling 90 fits\n",
      "Fitting 5 folds for each of 6 candidates, totalling 30 fits\n",
      "CPU times: total: 17min 45s\n",
      "Wall time: 7min 16s\n"
     ]
    }
   ],
   "source": [
    "%%time\n",
    "\n",
    "import time\n",
    "named_tuple = time.localtime() # get start_time\n",
    "time_string = time.strftime(\"%d/%m/%Y, %H:%M\", named_tuple) # format time print\n",
    "print(f'start time: {time_string}')\n",
    "\n",
    "# fit models\n",
    "grids = [enet_gs, knr_gs, dt_gs, bag_gs, rf_gs, abr_gs, svr_gs]\n",
    "for pipe in grids:\n",
    "    pipe.fit(X_train, y_train)"
   ]
  },
  {
   "cell_type": "code",
   "execution_count": 24,
   "metadata": {
    "scrolled": false
   },
   "outputs": [
    {
     "name": "stdout",
     "output_type": "stream",
     "text": [
      "y_bar rmse: 23.87504286627291\n",
      "Elastic Net train rmse: -22.30602858487258\n",
      "Elastic Net test rmse: -23.08709162981089\n",
      "Elastic Net %_diff rmse: -3.501578248079575 %\n",
      "Elastic Net Best Params: {'enet__alpha': 0.5, 'enet__l1_ratio': 0.9}\n",
      "\n",
      "y_bar rmse: 23.87504286627291\n",
      "K-Neighbors train rmse: -17.976878251026275\n",
      "K-Neighbors test rmse: -20.70924699598627\n",
      "K-Neighbors %_diff rmse: -15.199350559121733 %\n",
      "K-Neighbors Best Params: {'knr__n_neighbors': 9, 'knr__weights': 'uniform'}\n",
      "\n",
      "y_bar rmse: 23.87504286627291\n",
      "Decision Tree train rmse: -18.12669591446635\n",
      "Decision Tree test rmse: -19.428925746939772\n",
      "Decision Tree %_diff rmse: -7.184044122647599 %\n",
      "Decision Tree Best Params: {'dtr__max_depth': 5, 'dtr__random_state': 1, 'dtr__splitter': 'best'}\n",
      "\n",
      "y_bar rmse: 23.87504286627291\n",
      "Bagged Decision Trees train rmse: -8.77753858636459\n",
      "Bagged Decision Trees test rmse: -21.079412501068443\n",
      "Bagged Decision Trees %_diff rmse: -140.15174976062332 %\n",
      "Bagged Decision Trees Best Params: {'bag__n_estimators': 10, 'bag__random_state': 2}\n",
      "\n",
      "y_bar rmse: 23.87504286627291\n",
      "Random Forest train rmse: -17.923709661216055\n",
      "Random Forest test rmse: -19.17695530000992\n",
      "Random Forest %_diff rmse: -6.992110798947386 %\n",
      "Random Forest Best Params: {'rf__max_depth': 5, 'rf__n_estimators': 100, 'rf__random_state': 2}\n",
      "\n",
      "y_bar rmse: 23.87504286627291\n",
      "AdaBoost train rmse: -20.379655479386884\n",
      "AdaBoost test rmse: -21.394838350923177\n",
      "AdaBoost %_diff rmse: -4.981354432429466 %\n",
      "AdaBoost Best Params: {'abr__base_estimator': SGDRegressor(), 'abr__learning_rate': 1.0, 'abr__loss': 'linear', 'abr__random_state': 1}\n",
      "\n",
      "y_bar rmse: 23.87504286627291\n",
      "Support Vector regressor train rmse: -19.689750483393574\n",
      "Support Vector regressor test rmse: -20.773610443075317\n",
      "Support Vector regressor %_diff rmse: -5.504691187406742 %\n",
      "Support Vector regressor Best Params: {'svr__C': 100.0, 'svr__max_iter': 20000}\n",
      "\n"
     ]
    }
   ],
   "source": [
    "from sklearn.metrics import mean_squared_error\n",
    "\n",
    "y_bar = np.repeat(np.mean(y_train),(len(y_train)))\n",
    "y_bar_rmse = mean_squared_error(y_train, y_bar, squared=False)\n",
    "\n",
    "grid_dict = {0: 'Elastic Net', 1: 'K-Neighbors',\n",
    "            2: 'Decision Tree', 3: 'Bagged Decision Trees',\n",
    "            4: 'Random Forest', 5: 'AdaBoost',\n",
    "            6: 'Support Vector regressor'}\n",
    "\n",
    "for i, model in enumerate(grids):\n",
    "    print(f'y_bar rmse: {y_bar_rmse}')\n",
    "    print(f'{grid_dict[i]} train rmse: {model.score(X_train, y_train)}')\n",
    "    print(f'{grid_dict[i]} test rmse: {model.score(X_test, y_test)}')\n",
    "    print(f'{grid_dict[i]} %_diff rmse: {((model.score(X_train, y_train)-model.score(X_test, y_test))*100)/model.score(X_train, y_train)} %')\n",
    "    print(f'{grid_dict[i]} Best Params: {model.best_params_}')\n",
    "    print()"
   ]
  },
  {
   "cell_type": "markdown",
   "metadata": {},
   "source": [
    "All of my models currently have poor performance, not significantly better than baseline model. The best performing one (`Random Forest regressor`) is overfitted. I would need to do more hyperparameter tuning, maybe reduce features to reduce noise, do polynomial feature engineering of the more stronger correlating features such as `marr` or `nettfa`, maybe get data of other features not yet considered in this dataset.\n",
    "\n",
    "Based on `Random Forest regressor`, I will attempt to distill the predictive features for one's income."
   ]
  },
  {
   "cell_type": "markdown",
   "metadata": {},
   "source": [
    "[Pipeline object attribute distillation](https://stackoverflow.com/questions/69945795/scikit-learn-gridsearchcv-with-pipeline-as-estimator-how-to-get-the-attributes)"
   ]
  },
  {
   "cell_type": "code",
   "execution_count": 50,
   "metadata": {},
   "outputs": [
    {
     "data": {
      "text/plain": [
       "array([0.2303284 , 0.0068539 , 0.0231272 , 0.00379621, 0.71184085,\n",
       "       0.02405346])"
      ]
     },
     "execution_count": 50,
     "metadata": {},
     "output_type": "execute_result"
    }
   ],
   "source": [
    "importances = rf_gs.best_estimator_.named_steps['rf'].feature_importances_\n",
    "importances"
   ]
  },
  {
   "cell_type": "code",
   "execution_count": 51,
   "metadata": {},
   "outputs": [],
   "source": [
    "order_of_import = np.argsort(importances)[::-1]"
   ]
  },
  {
   "cell_type": "code",
   "execution_count": 52,
   "metadata": {},
   "outputs": [],
   "source": [
    "def barh(title, y, x, dec, limit):  \n",
    "    fig, ax = plt.subplots() \n",
    "    plt.title(f'{title} Feature Importance', fontsize=13) # title\n",
    "\n",
    "    hbars = plt.barh(y=y[::-1], # to arrange highest to lowest\n",
    "                 width=x[::-1], # to arrange highest to lowest\n",
    "                 align='center')\n",
    "\n",
    "    ax.bar_label(hbars, fmt=dec, padding=2) # annotate each horizontal bar as subplot\n",
    "    plt.xlim([0, limit]) # expand figure to fit annotations\n",
    "    plt.xticks(rotation=45);"
   ]
  },
  {
   "cell_type": "code",
   "execution_count": 53,
   "metadata": {},
   "outputs": [
    {
     "data": {
      "image/png": "[encoded data removed]",
      "text/plain": [
       "<Figure size 432x288 with 1 Axes>"
      ]
     },
     "metadata": {
      "needs_background": "light"
     },
     "output_type": "display_data"
    }
   ],
   "source": [
    "barh(title='Random Forest classifier', \n",
    "     y=X_train.columns[order_of_import],\n",
    "     x=importances[order_of_import],\n",
    "     dec='%.4f',\n",
    "     limit=0.8)"
   ]
  },
  {
   "cell_type": "markdown",
   "metadata": {},
   "source": [
    "The `Random Forest Classifier` also agrees that `nettfa` and `marr` are the 2 most important features for predicting income. `nettfa` more so than `marr`. "
   ]
  },
  {
   "cell_type": "markdown",
   "metadata": {},
   "source": [
    "##### 9. What is bootstrapping?"
   ]
  },
  {
   "cell_type": "markdown",
   "metadata": {
    "collapsed": true
   },
   "source": [
    "##### Answer:\n",
    "\n",
    "The bootstrap method is a resampling technique used to estimate statistics on a population by sampling a dataset with replacement.\n",
    "\n",
    "[Reference](https://machinelearningmastery.com/a-gentle-introduction-to-the-bootstrap-method/)"
   ]
  },
  {
   "cell_type": "markdown",
   "metadata": {},
   "source": [
    "##### 10. What is the difference between a decision tree and a set of bagged decision trees? Be specific and precise!"
   ]
  },
  {
   "cell_type": "markdown",
   "metadata": {
    "collapsed": true
   },
   "source": [
    "##### Answer:\n",
    "\n",
    "decision tree is a single machine learning estimator\n",
    "\n",
    "while bagged decision trees means bootstrapping the dataset to generate multiple random subsets, and fitting a decision tree for each subset to generate models of variable performance. then using averaging or voting of each model predictions to give final prediction. "
   ]
  },
  {
   "cell_type": "markdown",
   "metadata": {},
   "source": [
    "##### 11. What is the difference between a set of bagged decision trees and a random forest? Be specific and precise!"
   ]
  },
  {
   "cell_type": "markdown",
   "metadata": {
    "collapsed": true
   },
   "source": [
    "##### Answer:\n",
    "\n",
    "Bagging is an ensemble algorithm that fits multiple models on different subsets of a training dataset, then combines the predictions from all models.\n",
    "\n",
    "Random forest is an extension of bagging that also randomly selects **subsets of features** used in each data sample."
   ]
  },
  {
   "cell_type": "markdown",
   "metadata": {},
   "source": [
    "##### 12. Why might a random forest be superior to a set of bagged decision trees?\n",
    "> Hint: Consider the bias-variance tradeoff."
   ]
  },
  {
   "cell_type": "markdown",
   "metadata": {
    "collapsed": true
   },
   "source": [
    "##### Answer:\n",
    "\n",
    "Random forests are usually superior to bagged decision trees, as, not only is bagging occurring, but random selection of a subset of features at every node is occurring, and, in practice, this reduces the correlation between trees, which improves the effectiveness of the final averaging step.\n",
    "\n",
    "[Reference](https://stats.stackexchange.com/questions/365437/what-are-advantages-of-random-forests-vs-using-bagging-with-other-classifiers#:~:text=Random%20forests%20are%20actually%20usually,of%20the%20final%20averaging%20step.)"
   ]
  },
  {
   "cell_type": "markdown",
   "metadata": {},
   "source": [
    "## Step 5: Evaluate the model. (Part 1: Regression Problem)\n",
    "\n",
    "##### 13. Using RMSE, evaluate each of the models you fit on both the training and testing data."
   ]
  },
  {
   "cell_type": "code",
   "execution_count": 24,
   "metadata": {
    "scrolled": false
   },
   "outputs": [
    {
     "name": "stdout",
     "output_type": "stream",
     "text": [
      "y_bar rmse: 23.87504286627291\n",
      "Elastic Net train rmse: -22.30602858487258\n",
      "Elastic Net test rmse: -23.08709162981089\n",
      "Elastic Net %_diff rmse: -3.501578248079575 %\n",
      "Elastic Net Best Params: {'enet__alpha': 0.5, 'enet__l1_ratio': 0.9}\n",
      "\n",
      "y_bar rmse: 23.87504286627291\n",
      "K-Neighbors train rmse: -17.976878251026275\n",
      "K-Neighbors test rmse: -20.70924699598627\n",
      "K-Neighbors %_diff rmse: -15.199350559121733 %\n",
      "K-Neighbors Best Params: {'knr__n_neighbors': 9, 'knr__weights': 'uniform'}\n",
      "\n",
      "y_bar rmse: 23.87504286627291\n",
      "Decision Tree train rmse: -18.12669591446635\n",
      "Decision Tree test rmse: -19.428925746939772\n",
      "Decision Tree %_diff rmse: -7.184044122647599 %\n",
      "Decision Tree Best Params: {'dtr__max_depth': 5, 'dtr__random_state': 1, 'dtr__splitter': 'best'}\n",
      "\n",
      "y_bar rmse: 23.87504286627291\n",
      "Bagged Decision Trees train rmse: -8.77753858636459\n",
      "Bagged Decision Trees test rmse: -21.079412501068443\n",
      "Bagged Decision Trees %_diff rmse: -140.15174976062332 %\n",
      "Bagged Decision Trees Best Params: {'bag__n_estimators': 10, 'bag__random_state': 2}\n",
      "\n",
      "y_bar rmse: 23.87504286627291\n",
      "Random Forest train rmse: -17.923709661216055\n",
      "Random Forest test rmse: -19.17695530000992\n",
      "Random Forest %_diff rmse: -6.992110798947386 %\n",
      "Random Forest Best Params: {'rf__max_depth': 5, 'rf__n_estimators': 100, 'rf__random_state': 2}\n",
      "\n",
      "y_bar rmse: 23.87504286627291\n",
      "AdaBoost train rmse: -20.379655479386884\n",
      "AdaBoost test rmse: -21.394838350923177\n",
      "AdaBoost %_diff rmse: -4.981354432429466 %\n",
      "AdaBoost Best Params: {'abr__base_estimator': SGDRegressor(), 'abr__learning_rate': 1.0, 'abr__loss': 'linear', 'abr__random_state': 1}\n",
      "\n",
      "y_bar rmse: 23.87504286627291\n",
      "Support Vector regressor train rmse: -19.689750483393574\n",
      "Support Vector regressor test rmse: -20.773610443075317\n",
      "Support Vector regressor %_diff rmse: -5.504691187406742 %\n",
      "Support Vector regressor Best Params: {'svr__C': 100.0, 'svr__max_iter': 20000}\n",
      "\n"
     ]
    }
   ],
   "source": [
    "from sklearn.metrics import mean_squared_error\n",
    "\n",
    "y_bar = np.repeat(np.mean(y_train),(len(y_train)))\n",
    "y_bar_rmse = mean_squared_error(y_train, y_bar, squared=False)\n",
    "\n",
    "grid_dict = {0: 'Elastic Net', 1: 'K-Neighbors',\n",
    "            2: 'Decision Tree', 3: 'Bagged Decision Trees',\n",
    "            4: 'Random Forest', 5: 'AdaBoost',\n",
    "            6: 'Support Vector regressor'}\n",
    "\n",
    "for i, model in enumerate(grids):\n",
    "    print(f'y_bar rmse: {y_bar_rmse}')\n",
    "    print(f'{grid_dict[i]} train rmse: {model.score(X_train, y_train)}')\n",
    "    print(f'{grid_dict[i]} test rmse: {model.score(X_test, y_test)}')\n",
    "    print(f'{grid_dict[i]} %_diff rmse: {((model.score(X_train, y_train)-model.score(X_test, y_test))*100)/model.score(X_train, y_train)} %')\n",
    "    print(f'{grid_dict[i]} Best Params: {model.best_params_}')\n",
    "    print()"
   ]
  },
  {
   "cell_type": "markdown",
   "metadata": {},
   "source": [
    "All of my models currently have poor performance, not significantly better than baseline model. The best performing one (`Random Forest regressor`) is overfitted. I would need to do more hyperparameter tuning, maybe reduce features to reduce noise, do polynomial feature engineering of the more stronger correlating features such as `marr` or `nettfa`, maybe get data of other features not yet considered in this dataset."
   ]
  },
  {
   "cell_type": "markdown",
   "metadata": {},
   "source": [
    "##### 14. Based on training RMSE and testing RMSE, is there evidence of overfitting in any of your models? Which ones?"
   ]
  },
  {
   "cell_type": "markdown",
   "metadata": {
    "collapsed": true
   },
   "source": [
    "##### Answers:\n",
    "\n",
    "There is overfitting in `K-Neighbors`, `Decision Tree`, `Bagged Decision Trees`, `Random Forest` and `SVR` models. "
   ]
  },
  {
   "cell_type": "markdown",
   "metadata": {},
   "source": [
    "##### 15. Based on everything we've covered so far, if you had to pick just one model as your final model to use to answer the problem in front of you, which one model would you pick? Defend your choice."
   ]
  },
  {
   "cell_type": "markdown",
   "metadata": {
    "collapsed": true
   },
   "source": [
    "I picked `Random Forest` despite overfitting because it has the best test RMSE score out of the other models. "
   ]
  },
  {
   "cell_type": "markdown",
   "metadata": {},
   "source": [
    "##### 16. Suppose you wanted to improve the performance of your final model. Brainstorm 2-3 things that, if you had more time, you would attempt."
   ]
  },
  {
   "cell_type": "markdown",
   "metadata": {
    "collapsed": true
   },
   "source": [
    "I would need to do more hyperparameter tuning, maybe reduce features to reduce noise, do polynomial feature engineering of the more stronger correlating features such as `marr` or `nettfa`, maybe get data of other features not yet considered in this dataset. Try other models. "
   ]
  },
  {
   "cell_type": "markdown",
   "metadata": {},
   "source": [
    "## Step 4: Model the data. (Part 2: Classification Problem)\n",
    "\n",
    "Recall:\n",
    "- Problem: Predict whether or not one is eligible for a 401k.\n",
    "- When predicting `e401k`, you may use the entire dataframe if you wish.\n",
    "\n",
    "##### 17. While you're allowed to use every variable in your dataframe, mention at least one disadvantage of using `p401k` in your model."
   ]
  },
  {
   "cell_type": "markdown",
   "metadata": {
    "collapsed": true
   },
   "source": [
    "##### Answer:\n",
    "\n",
    "Not sure."
   ]
  },
  {
   "cell_type": "markdown",
   "metadata": {},
   "source": [
    "##### 18. List all modeling tactics we've learned that could be used to solve a classification problem (as of Wednesday afternoon of Week 6). For each tactic, identify whether it is or is not appropriate for solving this specific classification problem and explain why or why not."
   ]
  },
  {
   "cell_type": "markdown",
   "metadata": {
    "collapsed": true
   },
   "source": [
    "##### Answer:\n",
    "\n",
    "1. Logistic regression\n",
    "1. Naive Bayes \n",
    "1. K-Nearest Neighbors\n",
    "1. Decision trees\n",
    "1. Random Forest\n",
    "1. Support Vector machines\n",
    "\n",
    "Unable to identify why any of the techniques above is not suitable for solving this specific classification problem. "
   ]
  },
  {
   "cell_type": "markdown",
   "metadata": {},
   "source": [
    "##### 19. Regardless of your answer to number 18, fit at least one of each of the following models to attempt to solve the classification problem above:\n",
    "    - a logistic regression model\n",
    "    - a k-nearest neighbors model\n",
    "    - a decision tree\n",
    "    - a set of bagged decision trees\n",
    "    - a random forest\n",
    "    - an Adaboost model\n",
    "    - a support vector classifier\n",
    "    \n",
    "> As always, be sure to do a train/test split! In order to compare modeling techniques, you should use the same train-test split on each. I recommend using a random seed here.\n",
    "\n",
    "> You may find it helpful to set up a pipeline to try each modeling technique, but you are not required to do so!"
   ]
  },
  {
   "cell_type": "code",
   "execution_count": 131,
   "metadata": {},
   "outputs": [],
   "source": [
    "# define X and y\n",
    "X = df.drop(columns=['e401k','p401k','agesq','incsq'])\n",
    "y = df['e401k']"
   ]
  },
  {
   "cell_type": "code",
   "execution_count": 132,
   "metadata": {},
   "outputs": [],
   "source": [
    "# train test split\n",
    "from sklearn.model_selection import train_test_split\n",
    "\n",
    "X_train, X_test, y_train, y_test = train_test_split(X, y, \n",
    "                                                    test_size=.3, #9275 obs\n",
    "                                                    stratify=y,\n",
    "                                                    random_state=42)"
   ]
  },
  {
   "cell_type": "code",
   "execution_count": 133,
   "metadata": {},
   "outputs": [
    {
     "name": "stdout",
     "output_type": "stream",
     "text": [
      "X_train shape: (6492, 7)\n",
      "y_train shape: (6492,)\n"
     ]
    }
   ],
   "source": [
    "print('X_train shape:' , X_train.shape)\n",
    "print('y_train shape:', y_train.shape)"
   ]
  },
  {
   "cell_type": "code",
   "execution_count": 134,
   "metadata": {},
   "outputs": [
    {
     "data": {
      "text/plain": [
       "'y_train:'"
      ]
     },
     "metadata": {},
     "output_type": "display_data"
    },
    {
     "data": {
      "text/plain": [
       "0    3946\n",
       "1    2546\n",
       "Name: e401k, dtype: int64"
      ]
     },
     "metadata": {},
     "output_type": "display_data"
    },
    {
     "data": {
      "text/plain": [
       "'y_test:'"
      ]
     },
     "metadata": {},
     "output_type": "display_data"
    },
    {
     "data": {
      "text/plain": [
       "0    1692\n",
       "1    1091\n",
       "Name: e401k, dtype: int64"
      ]
     },
     "metadata": {},
     "output_type": "display_data"
    }
   ],
   "source": [
    "display('y_train:', y_train.value_counts())\n",
    "display('y_test:', y_test.value_counts())"
   ]
  },
  {
   "cell_type": "markdown",
   "metadata": {},
   "source": [
    "There is some imbalance in target variable `e401k`."
   ]
  },
  {
   "cell_type": "code",
   "execution_count": 113,
   "metadata": {},
   "outputs": [],
   "source": [
    "# import models\n",
    "from sklearn.linear_model import LogisticRegression \n",
    "from sklearn.neighbors import KNeighborsClassifier\n",
    "from sklearn.tree import DecisionTreeClassifier\n",
    "from sklearn.ensemble import BaggingClassifier # for bagging decision trees\n",
    "from sklearn.ensemble import RandomForestClassifier\n",
    "from sklearn.ensemble import AdaBoostClassifier\n",
    "from sklearn.naive_bayes import MultinomialNB # to use in adaboost\n",
    "from sklearn.svm import SVC"
   ]
  },
  {
   "cell_type": "markdown",
   "metadata": {},
   "source": [
    "##### Instantiate Pipelines and GridSearchCV\n",
    "[GridSearch + Pipeline multiple models reference](https://ryan-reilly.medium.com/gridsearch-pipelines-of-multiple-models-on-multiclass-classification-e9124b6ea2e3)"
   ]
  },
  {
   "cell_type": "code",
   "execution_count": 124,
   "metadata": {},
   "outputs": [],
   "source": [
    "# construct pipelines\n",
    "logr_pipe = Pipeline([\n",
    "    ('mms', MinMaxScaler()),\n",
    "    ('logr', LogisticRegression())\n",
    "])\n",
    "\n",
    "knc_pipe = Pipeline([\n",
    "    ('mms', MinMaxScaler()),\n",
    "    ('knc', KNeighborsClassifier())\n",
    "])\n",
    "\n",
    "dtc_pipe = Pipeline([\n",
    "    ('mms', MinMaxScaler()),\n",
    "    ('dtc', DecisionTreeClassifier())\n",
    "])\n",
    "\n",
    "bagc_pipe = Pipeline([\n",
    "    ('mms', MinMaxScaler()),\n",
    "    ('bagc', BaggingClassifier()) # check if default is decision trees\n",
    "])\n",
    "\n",
    "rfc_pipe = Pipeline([\n",
    "    ('mms', MinMaxScaler()),\n",
    "    ('rfc', RandomForestClassifier())\n",
    "])\n",
    "\n",
    "abc_pipe = Pipeline([\n",
    "    ('mms', MinMaxScaler()),\n",
    "    ('abc', AdaBoostClassifier()) # use with Extra Trees\n",
    "])\n",
    "\n",
    "svc_pipe = Pipeline([\n",
    "    ('mms', MinMaxScaler()),\n",
    "    ('svc', SVC())\n",
    "])"
   ]
  },
  {
   "cell_type": "code",
   "execution_count": 125,
   "metadata": {},
   "outputs": [],
   "source": [
    "# define pipeline parameters\n",
    "seeds=[1,2,3]\n",
    "\n",
    "logr_params = [{\n",
    "    'logr__class_weight':['balanced', {1:1.24, 0:0.8}],\n",
    "    'logr__solver':['liblinear', 'saga'],\n",
    "    'logr__penalty': ['l1','l2'],\n",
    "    'logr__C': [.1, .5, 1.],\n",
    "    'logr__random_state': seeds\n",
    "    #'logr__max_iter':[1_000, 5_000] # default=100\n",
    "}]\n",
    "\n",
    "knc_params = [{\n",
    "    'knc__n_neighbors':[3,5,9],\n",
    "    'knc__weights':['uniform','distance']\n",
    "}]\n",
    "\n",
    "dtc_params = [{\n",
    "    'dtc__random_state':seeds,\n",
    "    'dtc__splitter':['random','best'],\n",
    "    'dtc__max_depth':[None,3,5]\n",
    "}]\n",
    "\n",
    "bagc_params = [{\n",
    "    'bagc__random_state':seeds,\n",
    "    'bagc__n_estimators':[5,10]\n",
    "}]\n",
    "\n",
    "rfc_params = [{\n",
    "    'rfc__random_state':seeds,\n",
    "    'rfc__n_estimators':[100,150,200],\n",
    "    'rfc__max_depth':[None,3,5]\n",
    "}]\n",
    "\n",
    "abc_params = [{\n",
    "    'abc__base_estimator':[MultinomialNB()],\n",
    "    'abc__learning_rate':[1.,2.],\n",
    "    'abc__random_state':seeds\n",
    "}]\n",
    "\n",
    "svc_params = [{\n",
    "    'svc__C':[.01,.1,.5],\n",
    "    'svc__max_iter':[80_000, 100_000],\n",
    "    'svc__probability':[True],\n",
    "    'svc__random_state':seeds\n",
    "}]\n",
    "\n",
    "# cannot use standard scaler due to presence of negative values, \n",
    "# multinomialNB cannot accept negative values"
   ]
  },
  {
   "cell_type": "code",
   "execution_count": 126,
   "metadata": {},
   "outputs": [],
   "source": [
    "score = 'accuracy'\n",
    "\n",
    "logr_gs = GridSearchCV(logr_pipe,\n",
    "                       logr_params,\n",
    "                       scoring=score,\n",
    "                       cv=5,\n",
    "                       verbose=1)\n",
    "\n",
    "knc_gs = GridSearchCV(knc_pipe,\n",
    "                      knc_params,\n",
    "                      scoring=score,\n",
    "                      cv=5,\n",
    "                      verbose=1)\n",
    "\n",
    "dtc_gs = GridSearchCV(dtc_pipe,\n",
    "                      dtc_params,\n",
    "                      scoring=score,\n",
    "                      cv=5,\n",
    "                      verbose=1)\n",
    "\n",
    "bagc_gs = GridSearchCV(bagc_pipe,\n",
    "                       bagc_params,\n",
    "                       scoring=score,\n",
    "                       cv=5,\n",
    "                       verbose=1)\n",
    "\n",
    "rfc_gs = GridSearchCV(rfc_pipe,\n",
    "                      rfc_params,\n",
    "                      scoring=score,\n",
    "                      cv=5,\n",
    "                      verbose=1)\n",
    "\n",
    "abc_gs = GridSearchCV(abc_pipe,\n",
    "                      abc_params,\n",
    "                      scoring=score,\n",
    "                      cv=5,\n",
    "                      verbose=1)\n",
    "\n",
    "svc_gs = GridSearchCV(svc_pipe,\n",
    "                      svc_params,\n",
    "                      scoring=score,\n",
    "                      cv=5,\n",
    "                      verbose=1)"
   ]
  },
  {
   "cell_type": "code",
   "execution_count": 135,
   "metadata": {},
   "outputs": [
    {
     "name": "stdout",
     "output_type": "stream",
     "text": [
      "start time: 04/08/2022, 14:45\n",
      "Fitting 5 folds for each of 72 candidates, totalling 360 fits\n",
      "Fitting 5 folds for each of 6 candidates, totalling 30 fits\n",
      "Fitting 5 folds for each of 18 candidates, totalling 90 fits\n",
      "Fitting 5 folds for each of 6 candidates, totalling 30 fits\n",
      "Fitting 5 folds for each of 27 candidates, totalling 135 fits\n",
      "Fitting 5 folds for each of 6 candidates, totalling 30 fits\n",
      "Fitting 5 folds for each of 18 candidates, totalling 90 fits\n",
      "CPU times: total: 14min 15s\n",
      "Wall time: 13min 55s\n"
     ]
    }
   ],
   "source": [
    "%%time\n",
    "\n",
    "import time\n",
    "named_tuple = time.localtime() # get start_time\n",
    "time_string = time.strftime(\"%d/%m/%Y, %H:%M\", named_tuple) # format time print\n",
    "print(f'start time: {time_string}')\n",
    "\n",
    "# fit models\n",
    "grids = [logr_gs, knc_gs, dtc_gs, bagc_gs, rfc_gs, abc_gs, svc_gs]\n",
    "for pipe in grids:\n",
    "    pipe.fit(X_train, y_train)"
   ]
  },
  {
   "cell_type": "code",
   "execution_count": 104,
   "metadata": {},
   "outputs": [],
   "source": [
    "from sklearn.metrics import (confusion_matrix, roc_auc_score, accuracy_score, \n",
    "                             recall_score, precision_score, f1_score)"
   ]
  },
  {
   "cell_type": "code",
   "execution_count": 136,
   "metadata": {
    "scrolled": false
   },
   "outputs": [
    {
     "name": "stdout",
     "output_type": "stream",
     "text": [
      "baseline accuracy: 0.6078250154035736\n",
      "Elastic Net confusion matrix: \n",
      " [[1220  472]\n",
      " [ 502  589]]\n",
      "Elastic Net train accuracy: 0.646\n",
      "Elastic Net test accuracy: 0.650\n",
      "Elastic Net precision: 0.555\n",
      "Elastic Net recall: 0.540\n",
      "Elastic Net f1 score: 0.547\n",
      "Elastic Net specificity: 0.721\n",
      "Elastic Net ROC AUC: 0.693\n",
      "Elastic Net accuracy generalisation: -0.594 %\n",
      "Elastic Net Best Params: {'logr__C': 1.0, 'logr__class_weight': 'balanced', 'logr__penalty': 'l1', 'logr__random_state': 1, 'logr__solver': 'saga'}\n",
      "\n",
      "baseline accuracy: 0.6078250154035736\n",
      "K-Neighbors confusion matrix: \n",
      " [[1296  396]\n",
      " [ 643  448]]\n",
      "K-Neighbors train accuracy: 0.717\n",
      "K-Neighbors test accuracy: 0.627\n",
      "K-Neighbors precision: 0.531\n",
      "K-Neighbors recall: 0.411\n",
      "K-Neighbors f1 score: 0.463\n",
      "K-Neighbors specificity: 0.766\n",
      "K-Neighbors ROC AUC: 0.624\n",
      "K-Neighbors accuracy generalisation: 12.660 %\n",
      "K-Neighbors Best Params: {'knc__n_neighbors': 9, 'knc__weights': 'uniform'}\n",
      "\n",
      "baseline accuracy: 0.6078250154035736\n",
      "Decision Tree confusion matrix: \n",
      " [[1255  437]\n",
      " [ 454  637]]\n",
      "Decision Tree train accuracy: 0.696\n",
      "Decision Tree test accuracy: 0.680\n",
      "Decision Tree precision: 0.593\n",
      "Decision Tree recall: 0.584\n",
      "Decision Tree f1 score: 0.588\n",
      "Decision Tree specificity: 0.742\n",
      "Decision Tree ROC AUC: 0.717\n",
      "Decision Tree accuracy generalisation: 2.312 %\n",
      "Decision Tree Best Params: {'dtc__max_depth': 5, 'dtc__random_state': 1, 'dtc__splitter': 'best'}\n",
      "\n",
      "baseline accuracy: 0.6078250154035736\n",
      "Bagged Decision Trees confusion matrix: \n",
      " [[1342  350]\n",
      " [ 629  462]]\n",
      "Bagged Decision Trees train accuracy: 0.975\n",
      "Bagged Decision Trees test accuracy: 0.648\n",
      "Bagged Decision Trees precision: 0.569\n",
      "Bagged Decision Trees recall: 0.423\n",
      "Bagged Decision Trees f1 score: 0.486\n",
      "Bagged Decision Trees specificity: 0.793\n",
      "Bagged Decision Trees ROC AUC: 0.651\n",
      "Bagged Decision Trees accuracy generalisation: 33.508 %\n",
      "Bagged Decision Trees Best Params: {'bagc__n_estimators': 10, 'bagc__random_state': 1}\n",
      "\n",
      "baseline accuracy: 0.6078250154035736\n",
      "Random Forest confusion matrix: \n",
      " [[1394  298]\n",
      " [ 563  528]]\n",
      "Random Forest train accuracy: 0.700\n",
      "Random Forest test accuracy: 0.691\n",
      "Random Forest precision: 0.639\n",
      "Random Forest recall: 0.484\n",
      "Random Forest f1 score: 0.551\n",
      "Random Forest specificity: 0.824\n",
      "Random Forest ROC AUC: 0.724\n",
      "Random Forest accuracy generalisation: 1.309 %\n",
      "Random Forest Best Params: {'rfc__max_depth': 5, 'rfc__n_estimators': 150, 'rfc__random_state': 1}\n",
      "\n",
      "baseline accuracy: 0.6078250154035736\n",
      "AdaBoost confusion matrix: \n",
      " [[1622   70]\n",
      " [ 983  108]]\n",
      "AdaBoost train accuracy: 0.621\n",
      "AdaBoost test accuracy: 0.622\n",
      "AdaBoost precision: 0.607\n",
      "AdaBoost recall: 0.099\n",
      "AdaBoost f1 score: 0.170\n",
      "AdaBoost specificity: 0.959\n",
      "AdaBoost ROC AUC: 0.617\n",
      "AdaBoost accuracy generalisation: -0.140 %\n",
      "AdaBoost Best Params: {'abc__base_estimator': MultinomialNB(), 'abc__learning_rate': 1.0, 'abc__random_state': 1}\n",
      "\n",
      "baseline accuracy: 0.6078250154035736\n",
      "Support Vector regressor confusion matrix: \n",
      " [[1526  166]\n",
      " [ 836  255]]\n",
      "Support Vector regressor train accuracy: 0.648\n",
      "Support Vector regressor test accuracy: 0.640\n",
      "Support Vector regressor precision: 0.606\n",
      "Support Vector regressor recall: 0.234\n",
      "Support Vector regressor f1 score: 0.337\n",
      "Support Vector regressor specificity: 0.902\n",
      "Support Vector regressor ROC AUC: 0.674\n",
      "Support Vector regressor accuracy generalisation: 1.292 %\n",
      "Support Vector regressor Best Params: {'svc__C': 0.5, 'svc__max_iter': 80000, 'svc__probability': True, 'svc__random_state': 1}\n",
      "\n"
     ]
    }
   ],
   "source": [
    "baseline = 3946/(2546+3946) # majority class is '0'\n",
    "\n",
    "grid_dict = {0: 'Elastic Net', 1: 'K-Neighbors',\n",
    "            2: 'Decision Tree', 3: 'Bagged Decision Trees',\n",
    "            4: 'Random Forest', 5: 'AdaBoost',\n",
    "            6: 'Support Vector regressor'}\n",
    "\n",
    "for i, model in enumerate(grids):\n",
    "    preds = model.predict(X_test)\n",
    "    tn, fp, fn, tp = confusion_matrix(y_test, preds).ravel()\n",
    "    print(f'baseline accuracy: {baseline}')\n",
    "    print(f'{grid_dict[i]} confusion matrix: \\n {confusion_matrix(y_test, preds)}')\n",
    "    print(f'{grid_dict[i]} train accuracy: {model.score(X_train,y_train):.3f}')\n",
    "    print(f'{grid_dict[i]} test accuracy: {model.score(X_test,y_test):.3f}') # accuracy score\n",
    "    print(f'{grid_dict[i]} precision: {precision_score(y_test, preds):.3f}') #(tp / (tp + fp))\n",
    "    print(f'{grid_dict[i]} recall: {recall_score(y_test, preds):.3f}') # sensitivity (tp / (tp + fn))\n",
    "    print(f'{grid_dict[i]} f1 score: {f1_score(y_test, preds):.3f}') # aim precision = recall\n",
    "    print(f'{grid_dict[i]} specificity: {(tn / (tn + fp)):.3f}')\n",
    "    print(f'{grid_dict[i]} ROC AUC: {roc_auc_score(y_test, model.predict_proba(X_test)[:,1]):.3f}')\n",
    "    print(f'{grid_dict[i]} accuracy generalisation: {(((model.score(X_train,y_train)-model.score(X_test,y_test))*100)/model.score(X_train,y_train)):.3f} %')\n",
    "    print(f'{grid_dict[i]} Best Params: {model.best_params_}')\n",
    "    print()"
   ]
  },
  {
   "cell_type": "markdown",
   "metadata": {
    "collapsed": true
   },
   "source": [
    "The best classifier based on ROC AUC score is `Random Forest classifier`. It also has good generalisation of 1.309 %."
   ]
  },
  {
   "cell_type": "markdown",
   "metadata": {},
   "source": [
    "## Step 5: Evaluate the model. (Part 2: Classfication Problem)\n",
    "\n",
    "##### 20. Suppose our \"positive\" class is that someone is eligible for a 401(k). What are our false positives? What are our false negatives?"
   ]
  },
  {
   "cell_type": "code",
   "execution_count": 138,
   "metadata": {},
   "outputs": [],
   "source": [
    "from sklearn.metrics import ConfusionMatrixDisplay"
   ]
  },
  {
   "cell_type": "code",
   "execution_count": 142,
   "metadata": {},
   "outputs": [
    {
     "data": {
      "image/png": "[encoded data removed]",
      "text/plain": [
       "<Figure size 432x288 with 2 Axes>"
      ]
     },
     "metadata": {
      "needs_background": "light"
     },
     "output_type": "display_data"
    }
   ],
   "source": [
    "confusion_mat = confusion_matrix(y_test, rfc_gs.predict(X_test))\n",
    "ConfusionMatrixDisplay(confusion_mat, display_labels=['not_eligible','eligible']).plot(cmap=plt.cm.Blues)\n",
    "plt.xlabel('Predicted values')\n",
    "plt.ylabel('True values');    "
   ]
  },
  {
   "cell_type": "markdown",
   "metadata": {},
   "source": [
    "##### Answer:\n",
    "**False positives** are values that are predicted as eligible but actually not eligible.\n",
    "\n",
    "**False negatives** are values that are predicted as not eligible but actually eligible."
   ]
  },
  {
   "cell_type": "markdown",
   "metadata": {},
   "source": [
    "##### 21. In this specific case, would we rather minimize false positives or minimize false negatives? Defend your choice."
   ]
  },
  {
   "cell_type": "markdown",
   "metadata": {
    "collapsed": true
   },
   "source": [
    "##### Answer:\n",
    "\n",
    "For this situation, it is important to ensure that all who are eligible for 401k are flagged, and not missed, because that would be missed business opportunities. \n",
    "So this would mean I would rather minimise false negatives."
   ]
  },
  {
   "cell_type": "markdown",
   "metadata": {},
   "source": [
    "##### 22. Suppose we wanted to optimize for the answer you provided in problem 21. Which metric would we optimize in this case?"
   ]
  },
  {
   "cell_type": "markdown",
   "metadata": {
    "collapsed": true
   },
   "source": [
    "##### Answer:\n",
    "I would optimise specificity "
   ]
  },
  {
   "cell_type": "markdown",
   "metadata": {},
   "source": [
    "##### 23. Suppose that instead of optimizing for the metric in problem 21, we wanted to balance our false positives and false negatives using `f1-score`. Why might [f1-score](https://en.wikipedia.org/wiki/F1_score) be an appropriate metric to use here?"
   ]
  },
  {
   "cell_type": "markdown",
   "metadata": {
    "collapsed": true
   },
   "source": [
    "##### Answer: \n",
    "f1 score is a weighted average of precision and recall scores. \n",
    "\n",
    "Precision measures true positives out of all the predicted positives(includes false positives), and recall measures predicted positives out of all the positives(includes false negatives), so in a way, f1 score can be inferred if false positives and false negatives are balanced."
   ]
  },
  {
   "cell_type": "markdown",
   "metadata": {},
   "source": [
    "##### 24. Using f1-score, evaluate each of the models you fit on both the training and testing data."
   ]
  },
  {
   "cell_type": "code",
   "execution_count": 143,
   "metadata": {},
   "outputs": [
    {
     "name": "stdout",
     "output_type": "stream",
     "text": [
      "Elastic Net train f1 score: 0.539\n",
      "Elastic Net test f1 score: 0.547\n",
      "\n",
      "K-Neighbors train f1 score: 0.595\n",
      "K-Neighbors test f1 score: 0.463\n",
      "\n",
      "Decision Tree train f1 score: 0.605\n",
      "Decision Tree test f1 score: 0.588\n",
      "\n",
      "Bagged Decision Trees train f1 score: 0.967\n",
      "Bagged Decision Trees test f1 score: 0.486\n",
      "\n",
      "Random Forest train f1 score: 0.565\n",
      "Random Forest test f1 score: 0.551\n",
      "\n",
      "AdaBoost train f1 score: 0.191\n",
      "AdaBoost test f1 score: 0.170\n",
      "\n",
      "Support Vector regressor train f1 score: 0.363\n",
      "Support Vector regressor test f1 score: 0.337\n",
      "\n"
     ]
    }
   ],
   "source": [
    "for i, model in enumerate(grids):\n",
    "    trn_preds = model.predict(X_train)\n",
    "    tst_preds = model.predict(X_test)\n",
    "    print(f'{grid_dict[i]} train f1 score: {f1_score(y_train, trn_preds):.3f}')\n",
    "    print(f'{grid_dict[i]} test f1 score: {f1_score(y_test, tst_preds):.3f}')\n",
    "    print()"
   ]
  },
  {
   "cell_type": "markdown",
   "metadata": {},
   "source": [
    "##### 25. Based on training f1-score and testing f1-score, is there evidence of overfitting in any of your models? Which ones?"
   ]
  },
  {
   "cell_type": "markdown",
   "metadata": {
    "collapsed": true
   },
   "source": [
    "##### Answer:\n",
    "Based on training f1-score and testing f1-score, there is evidence of overfitting for K-Neighbors, Bagged Decision Trees, AdaBoost models"
   ]
  },
  {
   "cell_type": "markdown",
   "metadata": {},
   "source": [
    "##### 26. Based on everything we've covered so far, if you had to pick just one model as your final model to use to answer the problem in front of you, which one model would you pick? Defend your choice."
   ]
  },
  {
   "cell_type": "markdown",
   "metadata": {
    "collapsed": true
   },
   "source": [
    "I pick `Random Forest classifier` as my final model based on best ROC AUC score among models. It also has good generalisation of 1.309 %."
   ]
  },
  {
   "cell_type": "markdown",
   "metadata": {},
   "source": [
    "##### 27. Suppose you wanted to improve the performance of your final model. Brainstorm 2-3 things that, if you had more time, you would attempt."
   ]
  },
  {
   "cell_type": "markdown",
   "metadata": {
    "collapsed": true
   },
   "source": [
    "##### Answer:\n",
    "\n",
    "For classification problem, if I had more time, I would \n",
    "* explore other models\n",
    "* explore different feature selection / combinations\n",
    "* explore feature engineering by feature interaction\n",
    "* explore new features (get data of new features) that may have more predictive value\n",
    "* explore hyperparameter fine tuning"
   ]
  },
  {
   "cell_type": "markdown",
   "metadata": {},
   "source": [
    "## Step 6: Answer the problem.\n",
    "\n",
    "##### BONUS: Briefly summarize your answers to the regression and classification problems. Be sure to include any limitations or hesitations in your answer.\n",
    "\n",
    "- Regression: What features best predict one's income?\n",
    "- Classification: Predict whether or not one is eligible for a 401k."
   ]
  },
  {
   "cell_type": "code",
   "execution_count": null,
   "metadata": {
    "collapsed": true
   },
   "outputs": [],
   "source": []
  }
 ],
 "metadata": {
  "kernelspec": {
   "display_name": "Python 3 (ipykernel)",
   "language": "python",
   "name": "python3"
  },
  "language_info": {
   "codemirror_mode": {
    "name": "ipython",
    "version": 3
   },
   "file_extension": ".py",
   "mimetype": "text/x-python",
   "name": "python",
   "nbconvert_exporter": "python",
   "pygments_lexer": "ipython3",
   "version": "3.9.12"
  }
 },
 "nbformat": 4,
 "nbformat_minor": 2
}
